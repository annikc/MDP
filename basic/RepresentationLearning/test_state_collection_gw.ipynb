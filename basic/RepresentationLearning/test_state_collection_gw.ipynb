{
 "cells": [
  {
   "cell_type": "code",
   "execution_count": 1,
   "metadata": {},
   "outputs": [],
   "source": [
    "import gym\n",
    "import numpy as np\n",
    "import torch\n",
    "import torch.nn as nn \n",
    "import torch.nn.functional as F\n",
    "\n",
    "import sys\n",
    "# insert at 1, 0 is the script path (or '' in REPL)\n",
    "sys.path.insert(1, '../Envs/gym-grid/gym_grid/envs/')\n",
    "\n",
    "import gridworld as GW\n",
    "from importlib import reload\n",
    "\n",
    "import matplotlib.pyplot as plt"
   ]
  },
  {
   "cell_type": "code",
   "execution_count": 2,
   "metadata": {},
   "outputs": [
    {
     "data": {
      "image/png": "[encoded data removed]",
      "text/plain": [
       "<Figure size 504x504 with 1 Axes>"
      ]
     },
     "metadata": {},
     "output_type": "display_data"
    }
   ],
   "source": [
    "reload(GW)\n",
    "env = GW.GridWorld4()\n",
    "#env = gym.make('gym_grid:gridworld-v1')\n",
    "data_col = [[],[],[]]\n",
    "\n",
    "# check functions of gridworld gym env\n",
    "env.reset()\n",
    "\n",
    "def get_action(s):\n",
    "    return np.random.choice(len(env.action_list))"
   ]
  },
  {
   "cell_type": "code",
   "execution_count": 4,
   "metadata": {},
   "outputs": [],
   "source": [
    "def get_samples(maxsteps):\n",
    "    data_col = [[],[],[]]\n",
    "\n",
    "    for step in range(maxsteps):\n",
    "        s = env.get_state()\n",
    "        state = env.get_observation()\n",
    "\n",
    "\n",
    "        action = get_action(s)\n",
    "\n",
    "        s_prime, r, done, __ = env.step(action)\n",
    "        next_state = env.get_observation()\n",
    "\n",
    "        data_col[0].append(state*10)\n",
    "        data_col[1].append(action)\n",
    "        data_col[2].append(next_state*10)\n",
    "\n",
    "        #env.render(0.05)\n",
    "\n",
    "        if step == maxsteps-1 or done:\n",
    "            #plt.show(block=True)\n",
    "            pass\n",
    "\n",
    "        if done:\n",
    "            env.reset()\n",
    "            #break\n",
    "    return data_col\n",
    "\n",
    "class SRNet(nn.Module):\n",
    "    def __init__(self):\n",
    "        super(SRNet, self).__init__()\n",
    "        \n",
    "        self.rep_layer_dims = 400\n",
    "        hidden_units_sr=(self.rep_layer_dims*4,)\n",
    "        in_channels = 3\n",
    "        \n",
    "        self.conv1 = nn.Conv2d(in_channels, 32, kernel_size=4, stride=2)\n",
    "        self.conv2 = nn.Conv2d(32, 32, kernel_size=4, stride=1)\n",
    "        self.conv3 = nn.Conv2d(32, 32, kernel_size=2, stride=1)\n",
    "        self.rep   = nn.Linear(5*5*32,self.rep_layer_dims)\n",
    "        \n",
    "        self.lin1  = nn.Linear(self.rep_layer_dims, 5*5*32)\n",
    "        self.dconv1= nn.ConvTranspose2d(32,32, kernel_size=2, stride=1)\n",
    "        self.dconv2= nn.ConvTranspose2d(32,32, kernel_size=4, stride=1)\n",
    "        self.dconv3= nn.ConvTranspose2d(32,in_channels, kernel_size=4, stride=2)\n",
    "        \n",
    "        \n",
    "        self.sr    = nn.Linear(self.rep_layer_dims, self.rep_layer_dims)\n",
    "        \n",
    "    def forward(self, state, action):\n",
    "        action = torch.unsqueeze(torch.Tensor(action),1)\n",
    "        x = torch.Tensor(state)\n",
    "        batch_size = x.shape[0]\n",
    "        \n",
    "        # encode\n",
    "        x = F.relu(self.conv1(x))\n",
    "        \n",
    "        x = F.relu(self.conv2(x))\n",
    "        \n",
    "        x = F.relu(self.conv3(x))\n",
    "        \n",
    "        \n",
    "        # cast x into correct shape\n",
    "        x = x.view(batch_size,32*5*5)\n",
    "        \n",
    "        \n",
    "        # get latent representation\n",
    "        phi = F.relu(self.rep(x))\n",
    "        \n",
    "        # get SR\n",
    "        psi = F.relu(self.sr(phi)) ## no relu \n",
    "        \n",
    "        x = torch.cat((phi, action), 1)\n",
    "        x = F.relu(self.lin1(phi))\n",
    "        \n",
    "        # cast x into correct shape \n",
    "        x = x.view(batch_size, 32, 5, 5)\n",
    "        \n",
    "        # decode\n",
    "        x = F.relu(self.dconv1(x))\n",
    "        \n",
    "        x = F.relu(self.dconv2(x))\n",
    "        \n",
    "        reconstruct = F.relu(self.dconv3(x))\n",
    "        \n",
    "        return phi, psi, reconstruct"
   ]
  },
  {
   "cell_type": "code",
   "execution_count": 5,
   "metadata": {},
   "outputs": [],
   "source": [
    "def plot_phi(phi):\n",
    "    data = phi[0].detach().numpy()\n",
    "    print(data.shape)\n",
    "    plt.imshow(data, aspect='auto')\n",
    "    plt.show()"
   ]
  },
  {
   "cell_type": "code",
   "execution_count": 6,
   "metadata": {},
   "outputs": [],
   "source": [
    "testsr = SRNet()\n",
    "loss = nn.MSELoss(reduction='mean')\n",
    "#print(testsr)\n",
    "loss_tracker = []\n"
   ]
  },
  {
   "cell_type": "code",
   "execution_count": 7,
   "metadata": {},
   "outputs": [
    {
     "name": "stdout",
     "output_type": "stream",
     "text": [
      "(1, 400)\n"
     ]
    },
    {
     "data": {
      "image/png": "[encoded data removed]",
      "text/plain": [
       "<Figure size 432x288 with 1 Axes>"
      ]
     },
     "metadata": {
      "needs_background": "light"
     },
     "output_type": "display_data"
    },
    {
     "name": "stderr",
     "output_type": "stream",
     "text": [
      "/home/annik/.local/lib/python3.8/site-packages/torch/autograd/__init__.py:130: UserWarning: CUDA initialization: Found no NVIDIA driver on your system. Please check that you have an NVIDIA GPU and installed a driver from http://www.nvidia.com/Download/index.aspx (Triggered internally at  /pytorch/c10/cuda/CUDAFunctions.cpp:100.)\n",
      "  Variable._execution_engine.run_backward(\n"
     ]
    },
    {
     "name": "stdout",
     "output_type": "stream",
     "text": [
      "Training Cycle:0 Loss:0.16784171760082245\n",
      "Training Cycle:1 Loss:0.1676836907863617\n",
      "Training Cycle:2 Loss:0.1674201339483261\n",
      "Training Cycle:3 Loss:0.16725227236747742\n",
      "Training Cycle:4 Loss:0.16700336337089539\n",
      "Training Cycle:5 Loss:0.16688382625579834\n",
      "Training Cycle:6 Loss:0.16683104634284973\n",
      "Training Cycle:7 Loss:0.16669771075248718\n",
      "Training Cycle:8 Loss:0.16682855784893036\n",
      "Training Cycle:9 Loss:0.1659303605556488\n",
      "Training Cycle:10 Loss:0.16441340744495392\n",
      "Training Cycle:11 Loss:0.16162896156311035\n",
      "Training Cycle:12 Loss:0.1572999209165573\n",
      "Training Cycle:13 Loss:0.15014208853244781\n",
      "Training Cycle:14 Loss:0.14168857038021088\n",
      "Training Cycle:15 Loss:0.1302669495344162\n",
      "Training Cycle:16 Loss:0.11931036412715912\n",
      "Training Cycle:17 Loss:0.10967501252889633\n",
      "Training Cycle:18 Loss:0.09885303676128387\n",
      "Training Cycle:19 Loss:0.09265509247779846\n",
      "Training Cycle:20 Loss:0.08881160616874695\n",
      "Training Cycle:21 Loss:0.08669687062501907\n",
      "Training Cycle:22 Loss:0.08611464500427246\n",
      "Training Cycle:23 Loss:0.08624056726694107\n",
      "Training Cycle:24 Loss:0.08710868656635284\n",
      "Training Cycle:25 Loss:0.08735248446464539\n",
      "Training Cycle:26 Loss:0.08543902635574341\n",
      "Training Cycle:27 Loss:0.08438105136156082\n",
      "Training Cycle:28 Loss:0.08387533575296402\n",
      "Training Cycle:29 Loss:0.08495012670755386\n",
      "Training Cycle:30 Loss:0.08433683961629868\n",
      "Training Cycle:31 Loss:0.08471706509590149\n",
      "Training Cycle:32 Loss:0.0849907249212265\n",
      "Training Cycle:33 Loss:0.08359567075967789\n",
      "Training Cycle:34 Loss:0.08591776341199875\n",
      "Training Cycle:35 Loss:0.08498479425907135\n",
      "Training Cycle:36 Loss:0.08479467779397964\n",
      "Training Cycle:37 Loss:0.08580562472343445\n",
      "Training Cycle:38 Loss:0.0843849778175354\n",
      "Training Cycle:39 Loss:0.0849464014172554\n",
      "Training Cycle:40 Loss:0.0844978392124176\n",
      "Training Cycle:41 Loss:0.08353915065526962\n",
      "Training Cycle:42 Loss:0.08367190510034561\n",
      "Training Cycle:43 Loss:0.08444756269454956\n",
      "Training Cycle:44 Loss:0.08388102054595947\n",
      "Training Cycle:45 Loss:0.08343719691038132\n",
      "Training Cycle:46 Loss:0.08401314169168472\n",
      "Training Cycle:47 Loss:0.0837155431509018\n",
      "Training Cycle:48 Loss:0.08341134339570999\n",
      "Training Cycle:49 Loss:0.08378041535615921\n",
      "Training Cycle:50 Loss:0.0837651938199997\n",
      "Training Cycle:51 Loss:0.08344049751758575\n",
      "Training Cycle:52 Loss:0.08343247324228287\n",
      "Training Cycle:53 Loss:0.08401476591825485\n",
      "Training Cycle:54 Loss:0.08344443887472153\n",
      "Training Cycle:55 Loss:0.08345328271389008\n",
      "Training Cycle:56 Loss:0.08356726914644241\n",
      "Training Cycle:57 Loss:0.08347099274396896\n",
      "Training Cycle:58 Loss:0.08339712023735046\n",
      "Training Cycle:59 Loss:0.08363012969493866\n",
      "Training Cycle:60 Loss:0.08358123153448105\n",
      "Training Cycle:61 Loss:0.08340924233198166\n",
      "Training Cycle:62 Loss:0.08352363109588623\n",
      "Training Cycle:63 Loss:0.08350685238838196\n",
      "Training Cycle:64 Loss:0.08334121108055115\n",
      "Training Cycle:65 Loss:0.08340851962566376\n",
      "Training Cycle:66 Loss:0.08340249955654144\n",
      "Training Cycle:67 Loss:0.08333101123571396\n",
      "Training Cycle:68 Loss:0.08328858017921448\n",
      "Training Cycle:69 Loss:0.08348316699266434\n",
      "Training Cycle:70 Loss:0.0834311842918396\n",
      "Training Cycle:71 Loss:0.08339638262987137\n",
      "Training Cycle:72 Loss:0.08341874182224274\n",
      "Training Cycle:73 Loss:0.0834958627820015\n",
      "Training Cycle:74 Loss:0.08328092098236084\n",
      "Training Cycle:75 Loss:0.08331560343503952\n",
      "Training Cycle:76 Loss:0.08338423073291779\n",
      "Training Cycle:77 Loss:0.08336371183395386\n",
      "Training Cycle:78 Loss:0.08340347558259964\n",
      "Training Cycle:79 Loss:0.08340626955032349\n",
      "Training Cycle:80 Loss:0.08338373899459839\n",
      "Training Cycle:81 Loss:0.08332570642232895\n",
      "Training Cycle:82 Loss:0.08337979018688202\n",
      "Training Cycle:83 Loss:0.08333677053451538\n",
      "Training Cycle:84 Loss:0.08336430042982101\n",
      "Training Cycle:85 Loss:0.08332662284374237\n",
      "Training Cycle:86 Loss:0.08339002728462219\n",
      "Training Cycle:87 Loss:0.08332715183496475\n",
      "Training Cycle:88 Loss:0.0833897590637207\n",
      "Training Cycle:89 Loss:0.0833127424120903\n",
      "Training Cycle:90 Loss:0.08326391875743866\n",
      "Training Cycle:91 Loss:0.083380788564682\n",
      "Training Cycle:92 Loss:0.0833808109164238\n",
      "Training Cycle:93 Loss:0.08327826857566833\n",
      "Training Cycle:94 Loss:0.08333110809326172\n",
      "Training Cycle:95 Loss:0.08333998918533325\n",
      "Training Cycle:96 Loss:0.08336373418569565\n",
      "Training Cycle:97 Loss:0.08332134038209915\n",
      "Training Cycle:98 Loss:0.08323826640844345\n",
      "Training Cycle:99 Loss:0.08332105726003647\n",
      "Training Cycle:100 Loss:0.08335667848587036\n",
      "Training Cycle:101 Loss:0.08338408917188644\n",
      "Training Cycle:102 Loss:0.08337529003620148\n",
      "Training Cycle:103 Loss:0.08322731405496597\n",
      "Training Cycle:104 Loss:0.08337996155023575\n",
      "Training Cycle:105 Loss:0.08330788463354111\n",
      "Training Cycle:106 Loss:0.08337428420782089\n",
      "Training Cycle:107 Loss:0.08332663774490356\n",
      "Training Cycle:108 Loss:0.08336470276117325\n",
      "Training Cycle:109 Loss:0.08333627134561539\n",
      "Training Cycle:110 Loss:0.08334846049547195\n",
      "Training Cycle:111 Loss:0.08334171026945114\n",
      "Training Cycle:112 Loss:0.0833577960729599\n",
      "Training Cycle:113 Loss:0.08336334675550461\n",
      "Training Cycle:114 Loss:0.08336865901947021\n",
      "Training Cycle:115 Loss:0.08332964777946472\n",
      "Training Cycle:116 Loss:0.08326142281293869\n",
      "Training Cycle:117 Loss:0.08330689370632172\n",
      "Training Cycle:118 Loss:0.08336736261844635\n",
      "Training Cycle:119 Loss:0.08325827121734619\n",
      "Training Cycle:120 Loss:0.08337243646383286\n",
      "Training Cycle:121 Loss:0.08330584317445755\n",
      "Training Cycle:122 Loss:0.08330044150352478\n",
      "Training Cycle:123 Loss:0.0833095833659172\n",
      "Training Cycle:124 Loss:0.0833766907453537\n",
      "Training Cycle:125 Loss:0.08329837769269943\n",
      "Training Cycle:126 Loss:0.08334732055664062\n",
      "Training Cycle:127 Loss:0.08336296677589417\n",
      "Training Cycle:128 Loss:0.08336953818798065\n",
      "Training Cycle:129 Loss:0.0833684653043747\n",
      "Training Cycle:130 Loss:0.08326855301856995\n",
      "Training Cycle:131 Loss:0.08335839956998825\n",
      "Training Cycle:132 Loss:0.08335460722446442\n",
      "Training Cycle:133 Loss:0.08336475491523743\n",
      "Training Cycle:134 Loss:0.08329121768474579\n",
      "Training Cycle:135 Loss:0.08336210250854492\n",
      "Training Cycle:136 Loss:0.08328568935394287\n",
      "Training Cycle:137 Loss:0.08332785218954086\n",
      "Training Cycle:138 Loss:0.0833340734243393\n",
      "Training Cycle:139 Loss:0.08337312191724777\n",
      "Training Cycle:140 Loss:0.08330337703227997\n",
      "Training Cycle:141 Loss:0.08329490572214127\n",
      "Training Cycle:142 Loss:0.08331236988306046\n",
      "Training Cycle:143 Loss:0.08333241194486618\n",
      "Training Cycle:144 Loss:0.08326484262943268\n",
      "Training Cycle:145 Loss:0.08334019780158997\n",
      "Training Cycle:146 Loss:0.08336357772350311\n",
      "Training Cycle:147 Loss:0.08335591107606888\n",
      "Training Cycle:148 Loss:0.0833592563867569\n",
      "Training Cycle:149 Loss:0.08336520195007324\n",
      "Training Cycle:150 Loss:0.08337210863828659\n",
      "Training Cycle:151 Loss:0.08333586156368256\n",
      "Training Cycle:152 Loss:0.08337663859128952\n",
      "Training Cycle:153 Loss:0.08333908766508102\n",
      "Training Cycle:154 Loss:0.0833187848329544\n",
      "Training Cycle:155 Loss:0.08330096304416656\n",
      "Training Cycle:156 Loss:0.08331193029880524\n",
      "Training Cycle:157 Loss:0.08332983404397964\n",
      "Training Cycle:158 Loss:0.08334463834762573\n",
      "Training Cycle:159 Loss:0.08336258679628372\n",
      "Training Cycle:160 Loss:0.08332818001508713\n",
      "Training Cycle:161 Loss:0.08327760547399521\n",
      "Training Cycle:162 Loss:0.08326900750398636\n",
      "Training Cycle:163 Loss:0.08327727019786835\n",
      "Training Cycle:164 Loss:0.08325403928756714\n",
      "Training Cycle:165 Loss:0.08337179571390152\n",
      "Training Cycle:166 Loss:0.08324535191059113\n",
      "Training Cycle:167 Loss:0.08329686522483826\n",
      "Training Cycle:168 Loss:0.08317846059799194\n",
      "Training Cycle:169 Loss:0.0833890289068222\n",
      "Training Cycle:170 Loss:0.08336826413869858\n",
      "Training Cycle:171 Loss:0.08328644186258316\n",
      "Training Cycle:172 Loss:0.08324547857046127\n",
      "Training Cycle:173 Loss:0.08341610431671143\n",
      "Training Cycle:174 Loss:0.08323540538549423\n",
      "Training Cycle:175 Loss:0.0833294540643692\n",
      "Training Cycle:176 Loss:0.08337761461734772\n",
      "Training Cycle:177 Loss:0.08323162794113159\n",
      "Training Cycle:178 Loss:0.08339375257492065\n",
      "Training Cycle:179 Loss:0.08341879397630692\n",
      "Training Cycle:180 Loss:0.08338424563407898\n",
      "Training Cycle:181 Loss:0.08339309692382812\n",
      "Training Cycle:182 Loss:0.08337029069662094\n",
      "Training Cycle:183 Loss:0.08328403532505035\n",
      "Training Cycle:184 Loss:0.08333070576190948\n",
      "Training Cycle:185 Loss:0.08315817266702652\n",
      "Training Cycle:186 Loss:0.08328386396169662\n",
      "Training Cycle:187 Loss:0.08333621174097061\n",
      "Training Cycle:188 Loss:0.08335234969854355\n",
      "Training Cycle:189 Loss:0.08331858366727829\n"
     ]
    },
    {
     "name": "stdout",
     "output_type": "stream",
     "text": [
      "Training Cycle:190 Loss:0.08322122693061829\n",
      "Training Cycle:191 Loss:0.08328019827604294\n",
      "Training Cycle:192 Loss:0.08333657681941986\n",
      "Training Cycle:193 Loss:0.08337095379829407\n",
      "Training Cycle:194 Loss:0.08337362855672836\n",
      "Training Cycle:195 Loss:0.08335472643375397\n",
      "Training Cycle:196 Loss:0.08329428732395172\n",
      "Training Cycle:197 Loss:0.0833236426115036\n",
      "Training Cycle:198 Loss:0.08338513970375061\n",
      "Training Cycle:199 Loss:0.08322006464004517\n",
      "Training Cycle:200 Loss:0.08334910124540329\n",
      "Training Cycle:201 Loss:0.08315712213516235\n",
      "Training Cycle:202 Loss:0.08328733593225479\n",
      "Training Cycle:203 Loss:0.08322803676128387\n",
      "Training Cycle:204 Loss:0.08325652033090591\n",
      "Training Cycle:205 Loss:0.08336131274700165\n",
      "Training Cycle:206 Loss:0.08337508141994476\n",
      "Training Cycle:207 Loss:0.08334379643201828\n",
      "Training Cycle:208 Loss:0.0833403617143631\n",
      "Training Cycle:209 Loss:0.08326905965805054\n",
      "Training Cycle:210 Loss:0.08330743759870529\n",
      "Training Cycle:211 Loss:0.08338577300310135\n",
      "Training Cycle:212 Loss:0.08326071500778198\n",
      "Training Cycle:213 Loss:0.08331058919429779\n",
      "Training Cycle:214 Loss:0.08326813578605652\n",
      "Training Cycle:215 Loss:0.08331017196178436\n",
      "Training Cycle:216 Loss:0.0832153707742691\n",
      "Training Cycle:217 Loss:0.08324049413204193\n",
      "Training Cycle:218 Loss:0.0832514688372612\n",
      "Training Cycle:219 Loss:0.08327891677618027\n",
      "Training Cycle:220 Loss:0.08331949263811111\n",
      "Training Cycle:221 Loss:0.0833093523979187\n",
      "Training Cycle:222 Loss:0.08326932787895203\n",
      "Training Cycle:223 Loss:0.08324364572763443\n",
      "Training Cycle:224 Loss:0.08334189653396606\n",
      "Training Cycle:225 Loss:0.08326613157987595\n",
      "Training Cycle:226 Loss:0.08339600265026093\n",
      "Training Cycle:227 Loss:0.08326143026351929\n",
      "Training Cycle:228 Loss:0.08314119279384613\n",
      "Training Cycle:229 Loss:0.08327516168355942\n",
      "Training Cycle:230 Loss:0.08338574320077896\n",
      "Training Cycle:231 Loss:0.08321519196033478\n",
      "Training Cycle:232 Loss:0.08311088383197784\n",
      "Training Cycle:233 Loss:0.08316653966903687\n",
      "Training Cycle:234 Loss:0.08333215862512589\n",
      "Training Cycle:235 Loss:0.08336372673511505\n",
      "Training Cycle:236 Loss:0.08328773826360703\n",
      "Training Cycle:237 Loss:0.08327481895685196\n",
      "Training Cycle:238 Loss:0.08331750333309174\n",
      "Training Cycle:239 Loss:0.08336186408996582\n",
      "Training Cycle:240 Loss:0.0833233967423439\n",
      "Training Cycle:241 Loss:0.08322038501501083\n",
      "Training Cycle:242 Loss:0.0831063762307167\n",
      "Training Cycle:243 Loss:0.08330930024385452\n",
      "Training Cycle:244 Loss:0.08321813493967056\n",
      "Training Cycle:245 Loss:0.08328887075185776\n",
      "Training Cycle:246 Loss:0.08340398222208023\n",
      "Training Cycle:247 Loss:0.08324971050024033\n",
      "Training Cycle:248 Loss:0.08325622230768204\n",
      "Training Cycle:249 Loss:0.08334077149629593\n",
      "(1, 400)\n"
     ]
    },
    {
     "data": {
      "image/png": "[encoded data removed]",
      "text/plain": [
       "<Figure size 432x288 with 1 Axes>"
      ]
     },
     "metadata": {
      "needs_background": "light"
     },
     "output_type": "display_data"
    }
   ],
   "source": [
    "optimizer = torch.optim.Adam(testsr.parameters(), lr = 0.001)\n",
    "training_cycles = 250\n",
    "\n",
    "s = np.expand_dims(env.get_observation(agtlocation=(5,5)), axis=0)\n",
    "p = testsr(s,[0])\n",
    "plot_phi(p)\n",
    "\n",
    "for train in range(training_cycles):\n",
    "    \n",
    "    # get samples from env\n",
    "    [states, actions, n_states] = get_samples(1000)\n",
    "    # get guesses from network \n",
    "    phi, psi, reconst = testsr(states, actions)\n",
    "\n",
    "    # compute loss\n",
    "    optimizer.zero_grad()\n",
    "    output = loss(reconst, torch.Tensor(n_states))\n",
    "    loss_tracker.append(output)\n",
    "    output.backward()\n",
    "    optimizer.step()\n",
    "    \n",
    "    print(f'Training Cycle:{train} Loss:{output}')\n",
    "    \n",
    "p = testsr(s,[0])\n",
    "plot_phi(p)"
   ]
  },
  {
   "cell_type": "code",
   "execution_count": 8,
   "metadata": {},
   "outputs": [
    {
     "data": {
      "text/plain": [
       "[<matplotlib.lines.Line2D at 0x7f95fc3d4790>]"
      ]
     },
     "execution_count": 8,
     "metadata": {},
     "output_type": "execute_result"
    },
    {
     "data": {
      "image/png": "[encoded data removed]",
      "text/plain": [
       "<Figure size 432x288 with 1 Axes>"
      ]
     },
     "metadata": {
      "needs_background": "light"
     },
     "output_type": "display_data"
    }
   ],
   "source": [
    "plt.plot(loss_tracker)"
   ]
  },
  {
   "cell_type": "code",
   "execution_count": null,
   "metadata": {},
   "outputs": [],
   "source": []
  },
  {
   "cell_type": "code",
   "execution_count": 9,
   "metadata": {},
   "outputs": [],
   "source": [
    "def plot_frames(obsr):\n",
    "    obs = obsr[0]\n",
    "    fig, ax = plt.subplots(1,3, sharey = True)\n",
    "    print(obs[0].shape)\n",
    "    cmap = 'bone_r'\n",
    "    ax[0].pcolor(obs[0],cmap=cmap)\n",
    "    ax[0].set_title('Grid')\n",
    "    ax[1].pcolor(obs[1],cmap=cmap)\n",
    "    ax[1].set_title('Reward')\n",
    "    ax[2].pcolor(obs[2],cmap=cmap)\n",
    "    ax[2].set_title('Agent')\n",
    "    for i in range(3):\n",
    "        ax[i].invert_yaxis()\n",
    "        ax[i].set_aspect('equal')\n",
    "    \n",
    "    plt.show()"
   ]
  },
  {
   "cell_type": "code",
   "execution_count": 10,
   "metadata": {},
   "outputs": [
    {
     "name": "stdout",
     "output_type": "stream",
     "text": [
      "(20, 20)\n"
     ]
    },
    {
     "data": {
      "image/png": "[encoded data removed]",
      "text/plain": [
       "<Figure size 432x288 with 3 Axes>"
      ]
     },
     "metadata": {
      "needs_background": "light"
     },
     "output_type": "display_data"
    },
    {
     "name": "stdout",
     "output_type": "stream",
     "text": [
      "(20, 20)\n"
     ]
    },
    {
     "data": {
      "image/png": "[encoded data removed]",
      "text/plain": [
       "<Figure size 432x288 with 3 Axes>"
      ]
     },
     "metadata": {
      "needs_background": "light"
     },
     "output_type": "display_data"
    }
   ],
   "source": [
    "def plot_state(state):\n",
    "    if state.detach().numpy().shape[0] == 1:\n",
    "        numpy_state = state.detach().numpy()[0]\n",
    "    else:\n",
    "        numpy_state = state.detach().numpy()\n",
    "        \n",
    "    print(numpy_state.shape)\n",
    "    grid = numpy_state[0]\n",
    "    reward_loc = numpy_state[1]\n",
    "    agent_loc = numpy_state[2]\n",
    "    r_r, r_c = np.where(reward_loc==1)\n",
    "    \n",
    "    print(reward_loc)\n",
    "    #plot_world(env, numpy_state, scale=0.3)\n",
    "    \n",
    "    \n",
    "    \n",
    "test_s, test_a, test_sprime = get_samples(1)\n",
    "phi, psi, test_reconst = testsr(test_s, [0])\n",
    "\n",
    "x = torch.Tensor(test_sprime)\n",
    "y = test_reconst\n",
    "\n",
    "plot_frames(test_sprime)\n",
    "plot_frames(test_reconst.detach().numpy())\n"
   ]
  },
  {
   "cell_type": "code",
   "execution_count": null,
   "metadata": {},
   "outputs": [],
   "source": []
  },
  {
   "cell_type": "code",
   "execution_count": null,
   "metadata": {},
   "outputs": [],
   "source": []
  },
  {
   "cell_type": "code",
   "execution_count": null,
   "metadata": {},
   "outputs": [],
   "source": []
  },
  {
   "cell_type": "code",
   "execution_count": null,
   "metadata": {},
   "outputs": [],
   "source": []
  },
  {
   "cell_type": "code",
   "execution_count": null,
   "metadata": {},
   "outputs": [],
   "source": []
  },
  {
   "cell_type": "code",
   "execution_count": null,
   "metadata": {},
   "outputs": [],
   "source": []
  },
  {
   "cell_type": "code",
   "execution_count": null,
   "metadata": {},
   "outputs": [],
   "source": []
  },
  {
   "cell_type": "code",
   "execution_count": null,
   "metadata": {},
   "outputs": [],
   "source": []
  },
  {
   "cell_type": "code",
   "execution_count": null,
   "metadata": {},
   "outputs": [],
   "source": []
  },
  {
   "cell_type": "code",
   "execution_count": null,
   "metadata": {},
   "outputs": [],
   "source": []
  },
  {
   "cell_type": "code",
   "execution_count": null,
   "metadata": {},
   "outputs": [],
   "source": []
  },
  {
   "cell_type": "code",
   "execution_count": null,
   "metadata": {},
   "outputs": [],
   "source": []
  },
  {
   "cell_type": "code",
   "execution_count": null,
   "metadata": {},
   "outputs": [],
   "source": []
  },
  {
   "cell_type": "code",
   "execution_count": null,
   "metadata": {},
   "outputs": [],
   "source": []
  },
  {
   "cell_type": "code",
   "execution_count": null,
   "metadata": {},
   "outputs": [],
   "source": []
  }
 ],
 "metadata": {
  "kernelspec": {
   "display_name": "Python 3",
   "language": "python",
   "name": "python3"
  },
  "language_info": {
   "codemirror_mode": {
    "name": "ipython",
    "version": 3
   },
   "file_extension": ".py",
   "mimetype": "text/x-python",
   "name": "python",
   "nbconvert_exporter": "python",
   "pygments_lexer": "ipython3",
   "version": "3.8.5"
  }
 },
 "nbformat": 4,
 "nbformat_minor": 4
}
