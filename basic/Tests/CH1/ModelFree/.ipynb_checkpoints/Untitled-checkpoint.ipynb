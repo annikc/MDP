{
 "cells": [
  {
   "cell_type": "code",
   "execution_count": 4,
   "metadata": {},
   "outputs": [],
   "source": [
    "import torch\n",
    "import gym\n",
    "import numpy as np\n",
    "import matplotlib.pyplot as plt\n",
    "import sys\n",
    "sys.path.append('../../../modules/')\n",
    "from Agents.RepresentationLearning import PlaceCells\n",
    "from Agents import DQ_agent"
   ]
  },
  {
   "cell_type": "code",
   "execution_count": 6,
   "metadata": {},
   "outputs": [],
   "source": [
    "def one_hot_state(state):\n",
    "    vec = np.zeros(env.nstates)\n",
    "    vec[state] = 1\n",
    "    return vec\n",
    "\n",
    "def onehot_state_collection(env):\n",
    "    collection = []\n",
    "    for state in range(env.nstates):\n",
    "        vec = one_hot_state(state)\n",
    "        collection.append(vec)\n",
    "    return collection\n",
    "\n",
    "def twoD_states(env):\n",
    "    twods = []\n",
    "    for state in range(env.nstates):\n",
    "        twod = env.oneD2twoD(state)\n",
    "        twods.append(twod)\n",
    "    return twods\n",
    "\n",
    "def plot_some_place_fields(env, list_of_coords, place_cells):\n",
    "    states = np.asarray(list_of_coords)\n",
    "    gridworld_pc_reps = place_cells.get_activities(list_of_coords)\n",
    "\n",
    "    num_pc_view = 9\n",
    "    get_rand_cells = np.random.choice(env.nstates,num_pc_view,replace=False)\n",
    "\n",
    "    fig, axes = plt.subplots(3,3)\n",
    "\n",
    "    for i, ax in enumerate(axes.flat):\n",
    "        # for every state, get what the place cell activity is\n",
    "        ax.scatter(states[:,0],states[:,1], c =gridworld_pc_reps[:,get_rand_cells[i]])\n",
    "        cell_center = np.round(np.multiply(place_cells.cell_centres[get_rand_cells[i]],env.shape),1)\n",
    "        print(cell_center)\n",
    "        ax.set_title(f'{cell_center}')\n",
    "        ax.set_yticks([])\n",
    "        ax.set_xticks([])\n",
    "    plt.show()\n"
   ]
  },
  {
   "cell_type": "code",
   "execution_count": 7,
   "metadata": {},
   "outputs": [
    {
     "data": {
      "image/png": "[encoded data removed]",
      "text/plain": [
       "<Figure size 504x504 with 1 Axes>"
      ]
     },
     "metadata": {},
     "output_type": "display_data"
    }
   ],
   "source": [
    "env = gym.make('gym_grid:gridworld-v1')"
   ]
  },
  {
   "cell_type": "code",
   "execution_count": 8,
   "metadata": {},
   "outputs": [],
   "source": [
    "# get onehot activity vectors \n",
    "gridworld_onehots = onehot_state_collection(env)\n",
    "\n",
    "# get place cell activity vectors \n",
    "# make a collection of place cells\n",
    "place_cells       = PlaceCells(env.shape,env.nstates, field_size=1/env.shape[0])\n",
    "\n",
    "two_d_states = twoD_states(env) # get all states as coords\n",
    "# get activities for each state\n",
    "gridworld_pc_reps = place_cells.get_activities(two_d_states)"
   ]
  },
  {
   "cell_type": "code",
   "execution_count": 20,
   "metadata": {},
   "outputs": [
    {
     "name": "stdout",
     "output_type": "stream",
     "text": [
      "State Reps for state 25:(1, 5)\n"
     ]
    },
    {
     "data": {
      "image/png": "[encoded data removed]",
      "text/plain": [
       "<Figure size 432x288 with 2 Axes>"
      ]
     },
     "metadata": {
      "needs_background": "light"
     },
     "output_type": "display_data"
    }
   ],
   "source": [
    "# print onehot activity vector and place cell activity vector for a given state\n",
    "test_state = 25\n",
    "print(f'State Reps for state {test_state}:{two_d_states[test_state]}')\n",
    "fig, ax = plt.subplots(2,1,sharex=True)\n",
    "ax[0].imshow([gridworld_onehots[test_state]])\n",
    "ax[0].set_aspect('auto')\n",
    "ax[0].set_title('Onehot Rep')\n",
    "ax[1].imshow([gridworld_pc_reps[test_state]])\n",
    "ax[1].set_aspect('auto')\n",
    "ax[1].set_title('Place Cell Rep')\n",
    "plt.show()"
   ]
  },
  {
   "cell_type": "code",
   "execution_count": 21,
   "metadata": {},
   "outputs": [],
   "source": [
    "# set up agent parameters\n",
    "INPUT_DIMS = [env.nstates]\n",
    "N_ACTIONS  = env.action_space.n\n",
    "BATCH_SIZE = 64\n",
    "GAMMA      = 0.98\n",
    "EPSILON    = 1.0\n",
    "LR         = 0.03\n",
    "\n",
    "onehot_agent = DQ_agent(gamma=GAMMA, epsilon=EPSILON, lr=LR,\n",
    "                       input_dims=INPUT_DIMS, batch_size=BATCH_SIZE,\n",
    "                       n_actions=N_ACTIONS)\n",
    "placecell_agent = DQ_agent(gamma=GAMMA, epsilon=EPSILON, lr=LR,\n",
    "                       input_dims=INPUT_DIMS, batch_size=BATCH_SIZE,\n",
    "                       n_actions=N_ACTIONS)"
   ]
  },
  {
   "cell_type": "code",
   "execution_count": 24,
   "metadata": {},
   "outputs": [],
   "source": [
    "def run_expt(ntrials, nsteps, obs_container, agent):\n",
    "    scores, eps_history = [],[]\n",
    "    for trial in range(ntrials):\n",
    "        score = 0 \n",
    "        done  = False\n",
    "        state_id = env.reset()\n",
    "        observation = obs_container[state_id]\n",
    "        \n",
    "        for step in range(nsteps):\n",
    "            action = agent.choose_action(observation)\n",
    "            state_id, reward, done, info = env.step(action)\n",
    "            observation_ = obs_container[state_id]\n",
    "            score += reward\n",
    "            agent.store_transition(observation,action,reward,observation_,done)\n",
    "            agent.learn()\n",
    "            observation = observation_\n",
    "            if done:\n",
    "                break\n",
    "        scores.append(score)\n",
    "        eps_history.append(agent.epsilon)\n",
    "        \n",
    "        avg_score = np.mean(scores[-100:])\n",
    "        print(f'episode:{i}, score: {score}, avg:{ avg_score}, epsilon: {agent.epsilon}')\n",
    "    return scores, eps_history"
   ]
  },
  {
   "cell_type": "code",
   "execution_count": null,
   "metadata": {},
   "outputs": [],
   "source": [
    "env = gym.make('LunarLander-v2')\n",
    "eps_decay = 5e-4\n",
    "agent = DQ_agent_notarget(gamma=0.99, epsilon=1.0,batch_size=64, n_actions=4,\n",
    "                  eps_end=0.01, input_dims=[8], lr=0.003, eps_decay = eps_decay)\n",
    "scores, eps_history = [], []\n",
    "n_games = 500\n",
    "\n",
    "\n",
    "for i in range(n_games):\n",
    "    score = 0\n",
    "    done  = False\n",
    "    observation = env.reset()\n",
    "\n",
    "    while not done:\n",
    "        action = agent.choose_action(observation)\n",
    "        observation_, reward, done, __ = env.step(action)\n",
    "        score += reward\n",
    "        agent.store_transition(observation, action,reward,observation_,done)\n",
    "        agent.learn()\n",
    "        observation = observation_\n",
    "    scores.append(score)\n",
    "    eps_history.append(agent.epsilon)\n",
    "\n",
    "    avg_score = np.mean(scores[-100:])\n",
    "    print(f'episode:{i}, score: {score}, avg:{ avg_score}, epsilon: {agent.epsilon}')"
   ]
  }
 ],
 "metadata": {
  "kernelspec": {
   "display_name": "Python 3",
   "language": "python",
   "name": "python3"
  },
  "language_info": {
   "codemirror_mode": {
    "name": "ipython",
    "version": 3
   },
   "file_extension": ".py",
   "mimetype": "text/x-python",
   "name": "python",
   "nbconvert_exporter": "python",
   "pygments_lexer": "ipython3",
   "version": "3.8.5"
  }
 },
 "nbformat": 4,
 "nbformat_minor": 4
}
