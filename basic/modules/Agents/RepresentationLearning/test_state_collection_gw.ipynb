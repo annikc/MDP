{
 "cells": [
  {
   "cell_type": "code",
   "execution_count": 2,
   "metadata": {},
   "outputs": [],
   "source": [
    "import gym\n",
    "import numpy as np\n",
    "import torch\n",
    "import torch.nn as nn \n",
    "import torch.nn.functional as F\n",
    "from torch.distributions import Categorical\n",
    "\n",
    "import sys\n",
    "# insert at 1, 0 is the script path (or '' in REPL)\n",
    "sys.path.insert(1, '../../Envs/gym-grid/gym_grid/envs/')\n",
    "\n",
    "import gridworld as GW\n",
    "from importlib import reload\n",
    "\n",
    "import matplotlib.pyplot as plt"
   ]
  },
  {
   "cell_type": "code",
   "execution_count": 3,
   "metadata": {},
   "outputs": [
    {
     "data": {
      "image/png": "[encoded data removed]",
      "text/plain": [
       "<Figure size 504x504 with 1 Axes>"
      ]
     },
     "metadata": {},
     "output_type": "display_data"
    }
   ],
   "source": [
    "reload(GW)\n",
    "env = GW.GridWorld4()\n",
    "#env = gym.make('gym_grid:gridworld-v1')\n",
    "data_col = [[],[],[]]\n",
    "\n",
    "# check functions of gridworld gym env\n",
    "env.reset()\n",
    "\n",
    "def get_action(s):\n",
    "    return np.random.choice(len(env.action_list))"
   ]
  },
  {
   "cell_type": "code",
   "execution_count": 5,
   "metadata": {},
   "outputs": [],
   "source": [
    "def get_samples(maxsteps):\n",
    "    data_col = [[],[],[]]\n",
    "    onehot_a = np.zeros(env.action_space.n)\n",
    "    env.reset()\n",
    "    for step in range(maxsteps):\n",
    "        s = env.get_state()\n",
    "        state = env.get_observation()\n",
    "\n",
    "        \n",
    "        action = get_action(s)\n",
    "        \n",
    "        onehot_a[:]=0\n",
    "        onehot_a[action] = 1\n",
    "    \n",
    "        s_prime, r, done, __ = env.step(action)\n",
    "        next_state = env.get_observation()\n",
    "\n",
    "        data_col[0].append(state)\n",
    "        data_col[1].append(onehot_a.copy())\n",
    "        data_col[2].append(next_state)\n",
    "\n",
    "        #env.render(0.05)\n",
    "\n",
    "        if step == maxsteps-1 or done:\n",
    "            #plt.show(block=True)\n",
    "            pass\n",
    "\n",
    "        if done:\n",
    "            env.reset()\n",
    "            #break\n",
    "    return data_col\n",
    "\n",
    "class SRNet(nn.Module):\n",
    "    def __init__(self):\n",
    "        super(SRNet, self).__init__()\n",
    "        \n",
    "        self.rep_layer_dims = 400\n",
    "        hidden_units_sr=(self.rep_layer_dims*4,)\n",
    "        in_channels = 3\n",
    "        num_actions = 4\n",
    "        \n",
    "        self.conv1 = nn.Conv2d(in_channels, 32, kernel_size=4, stride=2)\n",
    "        self.conv2 = nn.Conv2d(32, 32, kernel_size=4, stride=1)\n",
    "        self.conv3 = nn.Conv2d(32, 32, kernel_size=2, stride=1)\n",
    "        self.rep   = nn.Linear(5*5*32,self.rep_layer_dims)\n",
    "        \n",
    "        self.lin1  = nn.Linear(self.rep_layer_dims+num_actions, 5*5*32)\n",
    "        #self.lin2  = nn.Linear(5*5*32, 5*5*32)\n",
    "        self.dconv1= nn.ConvTranspose2d(32,32, kernel_size=2, stride=1)\n",
    "        self.dconv2= nn.ConvTranspose2d(32,32, kernel_size=4, stride=1)\n",
    "        self.dconv3= nn.ConvTranspose2d(32,in_channels, kernel_size=4, stride=2)\n",
    "        \n",
    "        \n",
    "        self.sr    = nn.Linear(self.rep_layer_dims, self.rep_layer_dims)\n",
    "        \n",
    "    def forward(self, state, action):\n",
    "        action = torch.Tensor(action)#torch.unsqueeze(torch.Tensor(action),-1)\n",
    "        x = torch.Tensor(state)\n",
    "        batch_size = x.shape[0]\n",
    "        \n",
    "        # encode\n",
    "        x = F.relu(self.conv1(x))\n",
    "        \n",
    "        x = F.relu(self.conv2(x))\n",
    "        \n",
    "        x = F.relu(self.conv3(x))\n",
    "        \n",
    "        \n",
    "        # cast x into correct shape\n",
    "        x = x.view(batch_size,32*5*5)\n",
    "        \n",
    "        \n",
    "        # get latent representation\n",
    "        phi = F.relu(self.rep(x))\n",
    "        \n",
    "        # get SR\n",
    "        psi = F.relu(self.sr(phi)) ## no relu \n",
    "        \n",
    "        x = torch.cat((phi, action), 1)\n",
    "        x = F.relu(self.lin1(x))\n",
    "        \n",
    "        #x = F.relu(self.lin2(x))\n",
    "        \n",
    "        # cast x into correct shape \n",
    "        x = x.view(batch_size, 32, 5, 5)\n",
    "        \n",
    "        # decode\n",
    "        x = F.relu(self.dconv1(x))\n",
    "        \n",
    "        x = F.relu(self.dconv2(x))\n",
    "        \n",
    "        reconstruct = F.tanh(self.dconv3(x))\n",
    "        \n",
    "        return phi, psi, reconstruct\n",
    "    \n",
    "\n",
    "class FCNet(nn.Module):\n",
    "    def __init__(self):\n",
    "        super(FCNet, self).__init__()\n",
    "        num_actions = 4\n",
    "        self.lin1 = nn.Linear(400, 300)\n",
    "        self.lin2 = nn.Linear(300, 200)\n",
    "        self.lin3 = nn.Linear(200, 100)\n",
    "        self.rep  = nn.Linear(100, 400)\n",
    "        \n",
    "        self.rlin1= nn.Linear(400+num_actions,200)\n",
    "        self.rlin2= nn.Linear(200,300)\n",
    "        self.rlin3= nn.Linear(300,400)\n",
    "        \n",
    "        \n",
    "        self.sr    = nn.Linear(400,400)\n",
    "    \n",
    "    def forward(self, state, action):\n",
    "        a = torch.Tensor(action)\n",
    "        x = torch.Tensor(state)\n",
    "        \n",
    "        x = F.relu(self.lin1(x))\n",
    "        \n",
    "        x = F.relu(self.lin2(x))\n",
    "        \n",
    "        x = F.relu(self.lin3(x))\n",
    "        \n",
    "        phi = F.relu(self.rep(x))\n",
    "        \n",
    "        psi = F.relu(self.sr(phi))\n",
    "        \n",
    "        x = torch.cat((phi, a), -1)\n",
    "        x = F.relu(self.rlin1(x))\n",
    "        \n",
    "        x = F.relu(self.rlin2(x))\n",
    "        \n",
    "        reconst = F.tanh(self.rlin3(x))\n",
    "        \n",
    "        return phi, psi, reconst\n",
    "    \n",
    "\n",
    "def plot_phi(phi):\n",
    "    data = phi[0].detach().numpy()\n",
    "    print(data.shape)\n",
    "    plt.imshow(data, aspect='auto')\n",
    "    plt.show()\n",
    "    \n",
    "def plot_frames(obsr):\n",
    "    obs = obsr[0]\n",
    "    \n",
    "    fig, axs = plt.subplots(1,3, sharey = True)\n",
    "    cmap = 'bone_r'\n",
    "    titles = ['Grid', 'Reward', 'Agent']\n",
    "    for i in range(3):\n",
    "        ax = axs[i]\n",
    "        pcm = ax.pcolor(obs[i], cmap=cmap, vmin=0, vmax=1)\n",
    "        fig.colorbar(pcm, ax=ax, shrink=0.4)\n",
    "        ax.set_title(titles[i])\n",
    "        ax.invert_yaxis()\n",
    "        ax.set_aspect('equal')\n",
    "        ax.get_xaxis().set_ticks([])\n",
    "        ax.get_yaxis().set_ticks([])\n",
    "    \n",
    "    plt.show()"
   ]
  },
  {
   "cell_type": "markdown",
   "metadata": {},
   "source": [
    "## Conv AutoEncoder"
   ]
  },
  {
   "cell_type": "code",
   "execution_count": 6,
   "metadata": {},
   "outputs": [
    {
     "name": "stderr",
     "output_type": "stream",
     "text": [
      "/home/annik/.local/lib/python3.8/site-packages/torch/nn/functional.py:1628: UserWarning: nn.functional.tanh is deprecated. Use torch.tanh instead.\n",
      "  warnings.warn(\"nn.functional.tanh is deprecated. Use torch.tanh instead.\")\n",
      "/home/annik/.local/lib/python3.8/site-packages/torch/autograd/__init__.py:130: UserWarning: CUDA initialization: Found no NVIDIA driver on your system. Please check that you have an NVIDIA GPU and installed a driver from http://www.nvidia.com/Download/index.aspx (Triggered internally at  /pytorch/c10/cuda/CUDAFunctions.cpp:100.)\n",
      "  Variable._execution_engine.run_backward(\n"
     ]
    },
    {
     "name": "stdout",
     "output_type": "stream",
     "text": [
      "Training Cycle:0 Loss:0.009250921197235584\n",
      "Training Cycle:1 Loss:0.020168082788586617\n",
      "Training Cycle:2 Loss:0.005544543266296387\n",
      "Training Cycle:3 Loss:0.005316335242241621\n",
      "Training Cycle:4 Loss:0.004904261324554682\n",
      "Training Cycle:5 Loss:0.00421525863930583\n",
      "Training Cycle:6 Loss:0.003424354363232851\n",
      "Training Cycle:7 Loss:0.0027610668912529945\n",
      "Training Cycle:8 Loss:0.002277134219184518\n",
      "Training Cycle:9 Loss:0.00207565538585186\n",
      "Training Cycle:10 Loss:0.0019762865267693996\n",
      "Training Cycle:11 Loss:0.0019091838039457798\n",
      "Training Cycle:12 Loss:0.0018578021554276347\n",
      "Training Cycle:13 Loss:0.0017779022455215454\n",
      "Training Cycle:14 Loss:0.0016729967901483178\n",
      "Training Cycle:15 Loss:0.001600651885382831\n",
      "Training Cycle:16 Loss:0.001526429201476276\n",
      "Training Cycle:17 Loss:0.0014269381063058972\n",
      "Training Cycle:18 Loss:0.0013533297460526228\n",
      "Training Cycle:19 Loss:0.0012859331909567118\n",
      "Training Cycle:20 Loss:0.0012228984851390123\n",
      "Training Cycle:21 Loss:0.0011665570782497525\n",
      "Training Cycle:22 Loss:0.0011201960733160377\n",
      "Training Cycle:23 Loss:0.001077288412488997\n",
      "Training Cycle:24 Loss:0.0010451411362737417\n",
      "Training Cycle:25 Loss:0.0010153441689908504\n",
      "Training Cycle:26 Loss:0.000989989610388875\n",
      "Training Cycle:27 Loss:0.0009689866565167904\n",
      "Training Cycle:28 Loss:0.0009492902318015695\n",
      "Training Cycle:29 Loss:0.000931030313950032\n",
      "Training Cycle:30 Loss:0.0009156442247331142\n",
      "Training Cycle:31 Loss:0.0009042691672220826\n",
      "Training Cycle:32 Loss:0.0008952853386290371\n",
      "Training Cycle:33 Loss:0.0008894763886928558\n",
      "Training Cycle:34 Loss:0.0008854316547513008\n",
      "Training Cycle:35 Loss:0.0008809994324110448\n",
      "Training Cycle:36 Loss:0.0008758698240853846\n",
      "Training Cycle:37 Loss:0.000869403185788542\n",
      "Training Cycle:38 Loss:0.0008627499919384718\n",
      "Training Cycle:39 Loss:0.0008560040732845664\n",
      "Training Cycle:40 Loss:0.0008500884869135916\n",
      "Training Cycle:41 Loss:0.0008456421783193946\n",
      "Training Cycle:42 Loss:0.0008433274342678487\n",
      "Training Cycle:43 Loss:0.0008426510030403733\n",
      "Training Cycle:44 Loss:0.0008424140396527946\n",
      "Training Cycle:45 Loss:0.0008422005921602249\n",
      "Training Cycle:46 Loss:0.0008414113544858992\n",
      "Training Cycle:47 Loss:0.0008393388707190752\n",
      "Training Cycle:48 Loss:0.0008363741799257696\n",
      "Training Cycle:49 Loss:0.000833616591989994\n",
      "Training Cycle:50 Loss:0.0008318807231262326\n",
      "Training Cycle:51 Loss:0.0008313035359606147\n",
      "Training Cycle:52 Loss:0.0008310074917972088\n",
      "Training Cycle:53 Loss:0.0008300321642309427\n",
      "Training Cycle:54 Loss:0.0008285901276394725\n",
      "Training Cycle:55 Loss:0.0008274546125903726\n",
      "Training Cycle:56 Loss:0.000826959207188338\n",
      "Training Cycle:57 Loss:0.0008266366203315556\n",
      "Training Cycle:58 Loss:0.0008258441230282187\n",
      "Training Cycle:59 Loss:0.0008245341014117002\n",
      "Training Cycle:60 Loss:0.0008236390422098339\n",
      "Training Cycle:61 Loss:0.0008235546993091702\n",
      "Training Cycle:62 Loss:0.0008237583097070456\n",
      "Training Cycle:63 Loss:0.0008235201239585876\n",
      "Training Cycle:64 Loss:0.0008227954967878759\n",
      "Training Cycle:65 Loss:0.0008219237788580358\n",
      "Training Cycle:66 Loss:0.0008215681882575154\n",
      "Training Cycle:67 Loss:0.0008215724374167621\n",
      "Training Cycle:68 Loss:0.000821479014120996\n",
      "Training Cycle:69 Loss:0.0008212383254431188\n",
      "Training Cycle:70 Loss:0.00082086690235883\n",
      "Training Cycle:71 Loss:0.0008205234771594405\n",
      "Training Cycle:72 Loss:0.0008203668985515833\n",
      "Training Cycle:73 Loss:0.0008202583994716406\n",
      "Training Cycle:74 Loss:0.0008200634620152414\n"
     ]
    },
    {
     "ename": "KeyboardInterrupt",
     "evalue": "",
     "output_type": "error",
     "traceback": [
      "\u001b[0;31m---------------------------------------------------------------------------\u001b[0m",
      "\u001b[0;31mKeyboardInterrupt\u001b[0m                         Traceback (most recent call last)",
      "\u001b[0;32m<ipython-input-6-9bccc34229d8>\u001b[0m in \u001b[0;36m<module>\u001b[0;34m\u001b[0m\n\u001b[1;32m     18\u001b[0m     \u001b[0moutput\u001b[0m \u001b[0;34m=\u001b[0m \u001b[0mloss\u001b[0m\u001b[0;34m(\u001b[0m\u001b[0mreconst\u001b[0m\u001b[0;34m,\u001b[0m \u001b[0mtorch\u001b[0m\u001b[0;34m.\u001b[0m\u001b[0mTensor\u001b[0m\u001b[0;34m(\u001b[0m\u001b[0mn_states\u001b[0m\u001b[0;34m)\u001b[0m\u001b[0;34m)\u001b[0m\u001b[0;34m\u001b[0m\u001b[0;34m\u001b[0m\u001b[0m\n\u001b[1;32m     19\u001b[0m     \u001b[0mloss_tracker\u001b[0m\u001b[0;34m.\u001b[0m\u001b[0mappend\u001b[0m\u001b[0;34m(\u001b[0m\u001b[0moutput\u001b[0m\u001b[0;34m)\u001b[0m\u001b[0;34m\u001b[0m\u001b[0;34m\u001b[0m\u001b[0m\n\u001b[0;32m---> 20\u001b[0;31m     \u001b[0moutput\u001b[0m\u001b[0;34m.\u001b[0m\u001b[0mbackward\u001b[0m\u001b[0;34m(\u001b[0m\u001b[0;34m)\u001b[0m\u001b[0;34m\u001b[0m\u001b[0;34m\u001b[0m\u001b[0m\n\u001b[0m\u001b[1;32m     21\u001b[0m     \u001b[0moptimizer\u001b[0m\u001b[0;34m.\u001b[0m\u001b[0mstep\u001b[0m\u001b[0;34m(\u001b[0m\u001b[0;34m)\u001b[0m\u001b[0;34m\u001b[0m\u001b[0;34m\u001b[0m\u001b[0m\n\u001b[1;32m     22\u001b[0m \u001b[0;34m\u001b[0m\u001b[0m\n",
      "\u001b[0;32m~/.local/lib/python3.8/site-packages/torch/tensor.py\u001b[0m in \u001b[0;36mbackward\u001b[0;34m(self, gradient, retain_graph, create_graph)\u001b[0m\n\u001b[1;32m    219\u001b[0m                 \u001b[0mretain_graph\u001b[0m\u001b[0;34m=\u001b[0m\u001b[0mretain_graph\u001b[0m\u001b[0;34m,\u001b[0m\u001b[0;34m\u001b[0m\u001b[0;34m\u001b[0m\u001b[0m\n\u001b[1;32m    220\u001b[0m                 create_graph=create_graph)\n\u001b[0;32m--> 221\u001b[0;31m         \u001b[0mtorch\u001b[0m\u001b[0;34m.\u001b[0m\u001b[0mautograd\u001b[0m\u001b[0;34m.\u001b[0m\u001b[0mbackward\u001b[0m\u001b[0;34m(\u001b[0m\u001b[0mself\u001b[0m\u001b[0;34m,\u001b[0m \u001b[0mgradient\u001b[0m\u001b[0;34m,\u001b[0m \u001b[0mretain_graph\u001b[0m\u001b[0;34m,\u001b[0m \u001b[0mcreate_graph\u001b[0m\u001b[0;34m)\u001b[0m\u001b[0;34m\u001b[0m\u001b[0;34m\u001b[0m\u001b[0m\n\u001b[0m\u001b[1;32m    222\u001b[0m \u001b[0;34m\u001b[0m\u001b[0m\n\u001b[1;32m    223\u001b[0m     \u001b[0;32mdef\u001b[0m \u001b[0mregister_hook\u001b[0m\u001b[0;34m(\u001b[0m\u001b[0mself\u001b[0m\u001b[0;34m,\u001b[0m \u001b[0mhook\u001b[0m\u001b[0;34m)\u001b[0m\u001b[0;34m:\u001b[0m\u001b[0;34m\u001b[0m\u001b[0;34m\u001b[0m\u001b[0m\n",
      "\u001b[0;32m~/.local/lib/python3.8/site-packages/torch/autograd/__init__.py\u001b[0m in \u001b[0;36mbackward\u001b[0;34m(tensors, grad_tensors, retain_graph, create_graph, grad_variables)\u001b[0m\n\u001b[1;32m    128\u001b[0m         \u001b[0mretain_graph\u001b[0m \u001b[0;34m=\u001b[0m \u001b[0mcreate_graph\u001b[0m\u001b[0;34m\u001b[0m\u001b[0;34m\u001b[0m\u001b[0m\n\u001b[1;32m    129\u001b[0m \u001b[0;34m\u001b[0m\u001b[0m\n\u001b[0;32m--> 130\u001b[0;31m     Variable._execution_engine.run_backward(\n\u001b[0m\u001b[1;32m    131\u001b[0m         \u001b[0mtensors\u001b[0m\u001b[0;34m,\u001b[0m \u001b[0mgrad_tensors_\u001b[0m\u001b[0;34m,\u001b[0m \u001b[0mretain_graph\u001b[0m\u001b[0;34m,\u001b[0m \u001b[0mcreate_graph\u001b[0m\u001b[0;34m,\u001b[0m\u001b[0;34m\u001b[0m\u001b[0;34m\u001b[0m\u001b[0m\n\u001b[1;32m    132\u001b[0m         allow_unreachable=True)  # allow_unreachable flag\n",
      "\u001b[0;31mKeyboardInterrupt\u001b[0m: "
     ]
    }
   ],
   "source": [
    "testsr = SRNet()\n",
    "loss = nn.MSELoss(reduction='mean')\n",
    "#print(testsr)\n",
    "loss_tracker = []\n",
    "\n",
    "optimizer = torch.optim.Adam(testsr.parameters(), lr = 0.01)\n",
    "training_cycles = 300\n",
    "# get samples from env\n",
    "[states, actions, n_states] = get_samples(100)\n",
    "\n",
    "for train in range(training_cycles):\n",
    "    \n",
    "    # get guesses from network \n",
    "    phi, psi, reconst = testsr(states, actions)\n",
    "\n",
    "    # compute loss\n",
    "    optimizer.zero_grad()\n",
    "    output = loss(reconst, torch.Tensor(n_states))\n",
    "    loss_tracker.append(output)\n",
    "    output.backward()\n",
    "    optimizer.step()\n",
    "    \n",
    "    print(f'Training Cycle:{train} Loss:{output}')"
   ]
  },
  {
   "cell_type": "code",
   "execution_count": null,
   "metadata": {},
   "outputs": [],
   "source": [
    "plt.plot(loss_tracker)"
   ]
  },
  {
   "cell_type": "code",
   "execution_count": null,
   "metadata": {},
   "outputs": [],
   "source": [
    "test_s, test_a, test_sprime = get_samples(1)\n",
    "\n",
    "\n",
    "print(np.where(test_s[0][2]==1))\n",
    "print(np.where(test_sprime[0][2]==1))\n",
    "phi, psi, test_reconst = testsr(test_s, test_a)\n",
    "\n",
    "\n",
    "plot_frames(test_sprime)\n",
    "plot_frames(test_reconst.detach().numpy())"
   ]
  },
  {
   "cell_type": "code",
   "execution_count": null,
   "metadata": {},
   "outputs": [],
   "source": [
    "print(np.where(test_sprime[0][2]==1))\n",
    "print(np.where(test_reconst.detach().numpy()[0][2] == np.amax(test_reconst.detach().numpy()[0][2])))\n",
    "print((test_reconst.detach().numpy()[0][2][4,2]))"
   ]
  },
  {
   "cell_type": "markdown",
   "metadata": {},
   "source": [
    "## FC Autoencoder"
   ]
  },
  {
   "cell_type": "code",
   "execution_count": 7,
   "metadata": {},
   "outputs": [],
   "source": [
    "def get_onehot_samples(maxsteps):\n",
    "    data_col =  [[],[],[]]\n",
    "    onehot_a = np.zeros(env.action_space.n)\n",
    "    env.reset()\n",
    "    \n",
    "    for step in range(maxsteps):\n",
    "        s = env.get_state\n",
    "        state = env.get_observation(onehot=True)[0]\n",
    "        \n",
    "        action = get_action(s)\n",
    "        onehot_a[:] = 0\n",
    "        onehot_a[action] = 1\n",
    "        \n",
    "        s_prime, r, done, _ = env.step(action)\n",
    "        next_state = env.get_observation(onehot=True)[0]\n",
    "        \n",
    "        \n",
    "        data_col[0].append(state)\n",
    "        data_col[1].append(np.expand_dims(onehot_a.copy(),0))\n",
    "        data_col[2].append(next_state)\n",
    "        \n",
    "        if done:\n",
    "            env.reset()\n",
    "\n",
    "    return data_col"
   ]
  },
  {
   "cell_type": "code",
   "execution_count": 8,
   "metadata": {},
   "outputs": [],
   "source": [
    "test_onehot = get_onehot_samples(10)"
   ]
  },
  {
   "cell_type": "code",
   "execution_count": 9,
   "metadata": {},
   "outputs": [],
   "source": [
    "fc = FCNet()\n",
    "loss = nn.MSELoss(reduction='mean')\n",
    "optimizer = torch.optim.Adam(fc.parameters(), lr = 0.001)#0.0005\n",
    "#print(testsr)\n",
    "loss_tracker = []\n",
    "# get samples from env\n",
    "[states, actions, n_states] = get_onehot_samples(100)\n"
   ]
  },
  {
   "cell_type": "code",
   "execution_count": 10,
   "metadata": {},
   "outputs": [],
   "source": [
    "for pg in optimizer.param_groups:\n",
    "    pg['lr'] = 0.0005"
   ]
  },
  {
   "cell_type": "code",
   "execution_count": 14,
   "metadata": {},
   "outputs": [
    {
     "name": "stdout",
     "output_type": "stream",
     "text": [
      "Training Cycle:0 Loss:0.0010020009940490127\n",
      "Training Cycle:100 Loss:0.0009971699910238385\n",
      "Training Cycle:200 Loss:0.0009866156615316868\n",
      "Training Cycle:300 Loss:0.000979794654995203\n",
      "Training Cycle:400 Loss:0.0009762346162460744\n",
      "Training Cycle:500 Loss:0.0009735973435454071\n",
      "Training Cycle:600 Loss:0.000967815809417516\n",
      "Training Cycle:700 Loss:0.0009695648332126439\n",
      "Training Cycle:800 Loss:0.0009660879150032997\n",
      "Training Cycle:900 Loss:0.0009610218112356961\n"
     ]
    }
   ],
   "source": [
    "states = []\n",
    "\n",
    "for i in range(env.nstates):\n",
    "    env.set_state(i)\n",
    "    state = env.get_observation(onehot=True, agtlocation=i)[0]\n",
    "    states.append(state)\n",
    "dummy_action = [np.expand_dims(np.array([1,0,0,0]),0) for x in range(len(states))]\n",
    "\n",
    "training_cycles = 1000\n",
    "\n",
    "for train in range(training_cycles):   \n",
    "    \n",
    "    \n",
    "    # get guesses from network \n",
    "    phi, psi, reconst = fc(states, dummy_action)\n",
    "\n",
    "    # compute loss\n",
    "    optimizer.zero_grad()\n",
    "    output = loss(reconst, torch.Tensor(states))\n",
    "    loss_tracker.append(output)\n",
    "    output.backward()\n",
    "    optimizer.step()\n",
    "    \n",
    "    if train%100==0:\n",
    "        print(f'Training Cycle:{train} Loss:{output}')"
   ]
  },
  {
   "cell_type": "code",
   "execution_count": 15,
   "metadata": {},
   "outputs": [
    {
     "data": {
      "text/plain": [
       "[<matplotlib.lines.Line2D at 0x7fbeb82b88b0>]"
      ]
     },
     "execution_count": 15,
     "metadata": {},
     "output_type": "execute_result"
    },
    {
     "data": {
      "image/png": "[encoded data removed]",
      "text/plain": [
       "<Figure size 432x288 with 1 Axes>"
      ]
     },
     "metadata": {
      "needs_background": "light"
     },
     "output_type": "display_data"
    }
   ],
   "source": [
    "plt.plot(loss_tracker)"
   ]
  },
  {
   "cell_type": "code",
   "execution_count": 21,
   "metadata": {},
   "outputs": [
    {
     "name": "stdout",
     "output_type": "stream",
     "text": [
      "i:76 state is 76, action is Right, next state is 17\n",
      "fc predicts next state to be 76\n"
     ]
    },
    {
     "data": {
      "image/png": "[encoded data removed]",
      "text/plain": [
       "<Figure size 432x288 with 4 Axes>"
      ]
     },
     "metadata": {
      "needs_background": "light"
     },
     "output_type": "display_data"
    }
   ],
   "source": [
    "for x in range(1):\n",
    "    index = np.random.choice(1)\n",
    "    state = states[index]\n",
    "    action = actions[index]\n",
    "    n_state = n_states[index]\n",
    "\n",
    "    phi, __, rec = fc(state,action)\n",
    "\n",
    "\n",
    "    fig, ax = plt.subplots(2,1,sharex=True)\n",
    "    p = ax[0].imshow(n_state, aspect='auto')\n",
    "    fig.colorbar(p, ax=ax[0])\n",
    "    \n",
    "    phi = phi.detach().numpy()\n",
    "    \n",
    "    n_pred = rec.detach().numpy()\n",
    "    q = ax[1].imshow(n_pred, aspect='auto')\n",
    "    fig.colorbar(q, ax=ax[1])\n",
    "\n",
    "    print(f'i:{index} state is {np.where(state==1)[1][0]}, action is {env.action_list[np.where(action==1)[1][0]]}, next state is {np.where(n_state==1)[1][0]}')\n",
    "    print(f'fc predicts next state to be {np.where(n_pred == np.amax(n_pred))[1][0]}')\n",
    "    plt.show()"
   ]
  },
  {
   "cell_type": "code",
   "execution_count": 66,
   "metadata": {},
   "outputs": [],
   "source": [
    "class ACNet(nn.Module):\n",
    "    def __init__(self):\n",
    "        super(ACNet, self).__init__()\n",
    "        num_actions = 4\n",
    "        self.l1 = nn.Linear(400, 200)\n",
    "        self.l2 = nn.Linear(200, 100)\n",
    "        self.actor = nn.Linear(100,num_actions)\n",
    "        self.critic = nn.Linear(100, 1)\n",
    "        \n",
    "        self.saved_logprob = []\n",
    "        self.saved_values  = []\n",
    "        self.saved_rewards = []\n",
    "        \n",
    "        self.optimizer = torch.optim.Adam(self.parameters(), lr=1e-2)\n",
    "        \n",
    "    def forward(self, state):\n",
    "        x = torch.Tensor(state)\n",
    "        \n",
    "        x = F.relu(self.l1(x))\n",
    "        \n",
    "        x = F.relu(self.l2(x))\n",
    "        \n",
    "        pol = F.softmax(self.actor(x), 1)\n",
    "        val = self.critic(x)\n",
    "        \n",
    "        return pol, val\n",
    "    \n",
    "    def discount_rwds(self, r, gamma = 0.99):\n",
    "        disc_rwds = np.zeros_like(r)\n",
    "        running_add = 0\n",
    "        for t in reversed(range(0, r.size)):\n",
    "            running_add = running_add*gamma + r[t]\n",
    "            disc_rwds[t] = running_add\n",
    "        return disc_rwds\n",
    "    \n",
    "    def finish_trial(self):\n",
    "        returns = self.discount_rwds(np.asarray(self.saved_rewards))\n",
    "        values = self.saved_values\n",
    "        log_probs = self.saved_logprob\n",
    "        \n",
    "        pol_loss = 0\n",
    "        val_loss = 0\n",
    "          \n",
    "        for G, V, P  in zip(returns, values, log_probs):\n",
    "            G_t = G\n",
    "            V_t = V\n",
    "            log_prob = P\n",
    "            \n",
    "            delta = G_t - V_t.item()\n",
    "            pol_loss += -log_prob * delta\n",
    "            G_t = torch.Tensor([G_t])\n",
    "            v_loss = torch.nn.L1Loss()(V_t, G_t)\n",
    "            val_loss += v_loss\n",
    "            \n",
    "        self.optimizer.zero_grad()\n",
    "        total_loss = pol_loss + val_loss\n",
    "        total_loss.backward()\n",
    "        self.optimizer.step()\n",
    "        \n",
    "        del self.saved_logprob[:]\n",
    "        del self.saved_values[:]\n",
    "        del self.saved_rewards[:]\n",
    "        \n",
    "        return pol_loss, val_loss"
   ]
  },
  {
   "cell_type": "code",
   "execution_count": 67,
   "metadata": {},
   "outputs": [],
   "source": [
    "ac = ACNet()\n",
    "r_track = []\n",
    "l_track = [[],[]]"
   ]
  },
  {
   "cell_type": "code",
   "execution_count": 68,
   "metadata": {
    "scrolled": true
   },
   "outputs": [
    {
     "name": "stdout",
     "output_type": "stream",
     "text": [
      "Trial: 0 Total Reward:9.209999999999999\n",
      "Trial: 10 Total Reward:9.24\n",
      "Trial: 20 Total Reward:-2.4999999999999907\n",
      "Trial: 30 Total Reward:-2.4999999999999907\n",
      "Trial: 40 Total Reward:9.34\n"
     ]
    },
    {
     "ename": "KeyboardInterrupt",
     "evalue": "",
     "output_type": "error",
     "traceback": [
      "\u001b[0;31m---------------------------------------------------------------------------\u001b[0m",
      "\u001b[0;31mKeyboardInterrupt\u001b[0m                         Traceback (most recent call last)",
      "\u001b[0;32m<ipython-input-68-6ed4e2efe409>\u001b[0m in \u001b[0;36m<module>\u001b[0;34m\u001b[0m\n\u001b[1;32m     11\u001b[0m         \u001b[0;31m# pass states to fc to get state representation\u001b[0m\u001b[0;34m\u001b[0m\u001b[0;34m\u001b[0m\u001b[0;34m\u001b[0m\u001b[0m\n\u001b[1;32m     12\u001b[0m         \u001b[0mdummy_action\u001b[0m \u001b[0;34m=\u001b[0m \u001b[0mnp\u001b[0m\u001b[0;34m.\u001b[0m\u001b[0mexpand_dims\u001b[0m\u001b[0;34m(\u001b[0m\u001b[0mnp\u001b[0m\u001b[0;34m.\u001b[0m\u001b[0marray\u001b[0m\u001b[0;34m(\u001b[0m\u001b[0;34m[\u001b[0m\u001b[0;36m1\u001b[0m\u001b[0;34m,\u001b[0m\u001b[0;36m0\u001b[0m\u001b[0;34m,\u001b[0m\u001b[0;36m0\u001b[0m\u001b[0;34m,\u001b[0m\u001b[0;36m0\u001b[0m\u001b[0;34m]\u001b[0m\u001b[0;34m)\u001b[0m\u001b[0;34m,\u001b[0m\u001b[0;36m0\u001b[0m\u001b[0;34m)\u001b[0m\u001b[0;34m\u001b[0m\u001b[0;34m\u001b[0m\u001b[0m\n\u001b[0;32m---> 13\u001b[0;31m         \u001b[0mphi\u001b[0m\u001b[0;34m,\u001b[0m \u001b[0m_\u001b[0m\u001b[0;34m,\u001b[0m \u001b[0m__\u001b[0m \u001b[0;34m=\u001b[0m \u001b[0mfc\u001b[0m\u001b[0;34m(\u001b[0m\u001b[0mstate\u001b[0m\u001b[0;34m,\u001b[0m \u001b[0mdummy_action\u001b[0m\u001b[0;34m)\u001b[0m\u001b[0;34m\u001b[0m\u001b[0;34m\u001b[0m\u001b[0m\n\u001b[0m\u001b[1;32m     14\u001b[0m         \u001b[0;31m# pass representation to ac\u001b[0m\u001b[0;34m\u001b[0m\u001b[0;34m\u001b[0m\u001b[0;34m\u001b[0m\u001b[0m\n\u001b[1;32m     15\u001b[0m         \u001b[0mpol\u001b[0m\u001b[0;34m,\u001b[0m \u001b[0mval\u001b[0m \u001b[0;34m=\u001b[0m \u001b[0mac\u001b[0m\u001b[0;34m(\u001b[0m\u001b[0mphi\u001b[0m\u001b[0;34m)\u001b[0m\u001b[0;34m\u001b[0m\u001b[0;34m\u001b[0m\u001b[0m\n",
      "\u001b[0;32m~/.local/lib/python3.8/site-packages/torch/nn/modules/module.py\u001b[0m in \u001b[0;36m_call_impl\u001b[0;34m(self, *input, **kwargs)\u001b[0m\n\u001b[1;32m    725\u001b[0m             \u001b[0mresult\u001b[0m \u001b[0;34m=\u001b[0m \u001b[0mself\u001b[0m\u001b[0;34m.\u001b[0m\u001b[0m_slow_forward\u001b[0m\u001b[0;34m(\u001b[0m\u001b[0;34m*\u001b[0m\u001b[0minput\u001b[0m\u001b[0;34m,\u001b[0m \u001b[0;34m**\u001b[0m\u001b[0mkwargs\u001b[0m\u001b[0;34m)\u001b[0m\u001b[0;34m\u001b[0m\u001b[0;34m\u001b[0m\u001b[0m\n\u001b[1;32m    726\u001b[0m         \u001b[0;32melse\u001b[0m\u001b[0;34m:\u001b[0m\u001b[0;34m\u001b[0m\u001b[0;34m\u001b[0m\u001b[0m\n\u001b[0;32m--> 727\u001b[0;31m             \u001b[0mresult\u001b[0m \u001b[0;34m=\u001b[0m \u001b[0mself\u001b[0m\u001b[0;34m.\u001b[0m\u001b[0mforward\u001b[0m\u001b[0;34m(\u001b[0m\u001b[0;34m*\u001b[0m\u001b[0minput\u001b[0m\u001b[0;34m,\u001b[0m \u001b[0;34m**\u001b[0m\u001b[0mkwargs\u001b[0m\u001b[0;34m)\u001b[0m\u001b[0;34m\u001b[0m\u001b[0;34m\u001b[0m\u001b[0m\n\u001b[0m\u001b[1;32m    728\u001b[0m         for hook in itertools.chain(\n\u001b[1;32m    729\u001b[0m                 \u001b[0m_global_forward_hooks\u001b[0m\u001b[0;34m.\u001b[0m\u001b[0mvalues\u001b[0m\u001b[0;34m(\u001b[0m\u001b[0;34m)\u001b[0m\u001b[0;34m,\u001b[0m\u001b[0;34m\u001b[0m\u001b[0;34m\u001b[0m\u001b[0m\n",
      "\u001b[0;32m<ipython-input-3-5c1ca0fb2a47>\u001b[0m in \u001b[0;36mforward\u001b[0;34m(self, state, action)\u001b[0m\n\u001b[1;32m    126\u001b[0m \u001b[0;34m\u001b[0m\u001b[0m\n\u001b[1;32m    127\u001b[0m         \u001b[0mx\u001b[0m \u001b[0;34m=\u001b[0m \u001b[0mtorch\u001b[0m\u001b[0;34m.\u001b[0m\u001b[0mcat\u001b[0m\u001b[0;34m(\u001b[0m\u001b[0;34m(\u001b[0m\u001b[0mphi\u001b[0m\u001b[0;34m,\u001b[0m \u001b[0ma\u001b[0m\u001b[0;34m)\u001b[0m\u001b[0;34m,\u001b[0m \u001b[0;34m-\u001b[0m\u001b[0;36m1\u001b[0m\u001b[0;34m)\u001b[0m\u001b[0;34m\u001b[0m\u001b[0;34m\u001b[0m\u001b[0m\n\u001b[0;32m--> 128\u001b[0;31m         \u001b[0mx\u001b[0m \u001b[0;34m=\u001b[0m \u001b[0mF\u001b[0m\u001b[0;34m.\u001b[0m\u001b[0mrelu\u001b[0m\u001b[0;34m(\u001b[0m\u001b[0mself\u001b[0m\u001b[0;34m.\u001b[0m\u001b[0mrlin1\u001b[0m\u001b[0;34m(\u001b[0m\u001b[0mx\u001b[0m\u001b[0;34m)\u001b[0m\u001b[0;34m)\u001b[0m\u001b[0;34m\u001b[0m\u001b[0;34m\u001b[0m\u001b[0m\n\u001b[0m\u001b[1;32m    129\u001b[0m \u001b[0;34m\u001b[0m\u001b[0m\n\u001b[1;32m    130\u001b[0m         \u001b[0mx\u001b[0m \u001b[0;34m=\u001b[0m \u001b[0mF\u001b[0m\u001b[0;34m.\u001b[0m\u001b[0mrelu\u001b[0m\u001b[0;34m(\u001b[0m\u001b[0mself\u001b[0m\u001b[0;34m.\u001b[0m\u001b[0mrlin2\u001b[0m\u001b[0;34m(\u001b[0m\u001b[0mx\u001b[0m\u001b[0;34m)\u001b[0m\u001b[0;34m)\u001b[0m\u001b[0;34m\u001b[0m\u001b[0;34m\u001b[0m\u001b[0m\n",
      "\u001b[0;32m~/.local/lib/python3.8/site-packages/torch/nn/modules/module.py\u001b[0m in \u001b[0;36m_call_impl\u001b[0;34m(self, *input, **kwargs)\u001b[0m\n\u001b[1;32m    725\u001b[0m             \u001b[0mresult\u001b[0m \u001b[0;34m=\u001b[0m \u001b[0mself\u001b[0m\u001b[0;34m.\u001b[0m\u001b[0m_slow_forward\u001b[0m\u001b[0;34m(\u001b[0m\u001b[0;34m*\u001b[0m\u001b[0minput\u001b[0m\u001b[0;34m,\u001b[0m \u001b[0;34m**\u001b[0m\u001b[0mkwargs\u001b[0m\u001b[0;34m)\u001b[0m\u001b[0;34m\u001b[0m\u001b[0;34m\u001b[0m\u001b[0m\n\u001b[1;32m    726\u001b[0m         \u001b[0;32melse\u001b[0m\u001b[0;34m:\u001b[0m\u001b[0;34m\u001b[0m\u001b[0;34m\u001b[0m\u001b[0m\n\u001b[0;32m--> 727\u001b[0;31m             \u001b[0mresult\u001b[0m \u001b[0;34m=\u001b[0m \u001b[0mself\u001b[0m\u001b[0;34m.\u001b[0m\u001b[0mforward\u001b[0m\u001b[0;34m(\u001b[0m\u001b[0;34m*\u001b[0m\u001b[0minput\u001b[0m\u001b[0;34m,\u001b[0m \u001b[0;34m**\u001b[0m\u001b[0mkwargs\u001b[0m\u001b[0;34m)\u001b[0m\u001b[0;34m\u001b[0m\u001b[0;34m\u001b[0m\u001b[0m\n\u001b[0m\u001b[1;32m    728\u001b[0m         for hook in itertools.chain(\n\u001b[1;32m    729\u001b[0m                 \u001b[0m_global_forward_hooks\u001b[0m\u001b[0;34m.\u001b[0m\u001b[0mvalues\u001b[0m\u001b[0;34m(\u001b[0m\u001b[0;34m)\u001b[0m\u001b[0;34m,\u001b[0m\u001b[0;34m\u001b[0m\u001b[0;34m\u001b[0m\u001b[0m\n",
      "\u001b[0;32m~/.local/lib/python3.8/site-packages/torch/nn/modules/linear.py\u001b[0m in \u001b[0;36mforward\u001b[0;34m(self, input)\u001b[0m\n\u001b[1;32m     91\u001b[0m \u001b[0;34m\u001b[0m\u001b[0m\n\u001b[1;32m     92\u001b[0m     \u001b[0;32mdef\u001b[0m \u001b[0mforward\u001b[0m\u001b[0;34m(\u001b[0m\u001b[0mself\u001b[0m\u001b[0;34m,\u001b[0m \u001b[0minput\u001b[0m\u001b[0;34m:\u001b[0m \u001b[0mTensor\u001b[0m\u001b[0;34m)\u001b[0m \u001b[0;34m->\u001b[0m \u001b[0mTensor\u001b[0m\u001b[0;34m:\u001b[0m\u001b[0;34m\u001b[0m\u001b[0;34m\u001b[0m\u001b[0m\n\u001b[0;32m---> 93\u001b[0;31m         \u001b[0;32mreturn\u001b[0m \u001b[0mF\u001b[0m\u001b[0;34m.\u001b[0m\u001b[0mlinear\u001b[0m\u001b[0;34m(\u001b[0m\u001b[0minput\u001b[0m\u001b[0;34m,\u001b[0m \u001b[0mself\u001b[0m\u001b[0;34m.\u001b[0m\u001b[0mweight\u001b[0m\u001b[0;34m,\u001b[0m \u001b[0mself\u001b[0m\u001b[0;34m.\u001b[0m\u001b[0mbias\u001b[0m\u001b[0;34m)\u001b[0m\u001b[0;34m\u001b[0m\u001b[0;34m\u001b[0m\u001b[0m\n\u001b[0m\u001b[1;32m     94\u001b[0m \u001b[0;34m\u001b[0m\u001b[0m\n\u001b[1;32m     95\u001b[0m     \u001b[0;32mdef\u001b[0m \u001b[0mextra_repr\u001b[0m\u001b[0;34m(\u001b[0m\u001b[0mself\u001b[0m\u001b[0;34m)\u001b[0m \u001b[0;34m->\u001b[0m \u001b[0mstr\u001b[0m\u001b[0;34m:\u001b[0m\u001b[0;34m\u001b[0m\u001b[0;34m\u001b[0m\u001b[0m\n",
      "\u001b[0;32m~/.local/lib/python3.8/site-packages/torch/nn/functional.py\u001b[0m in \u001b[0;36mlinear\u001b[0;34m(input, weight, bias)\u001b[0m\n\u001b[1;32m   1688\u001b[0m     \u001b[0;32mif\u001b[0m \u001b[0minput\u001b[0m\u001b[0;34m.\u001b[0m\u001b[0mdim\u001b[0m\u001b[0;34m(\u001b[0m\u001b[0;34m)\u001b[0m \u001b[0;34m==\u001b[0m \u001b[0;36m2\u001b[0m \u001b[0;32mand\u001b[0m \u001b[0mbias\u001b[0m \u001b[0;32mis\u001b[0m \u001b[0;32mnot\u001b[0m \u001b[0;32mNone\u001b[0m\u001b[0;34m:\u001b[0m\u001b[0;34m\u001b[0m\u001b[0;34m\u001b[0m\u001b[0m\n\u001b[1;32m   1689\u001b[0m         \u001b[0;31m# fused op is marginally faster\u001b[0m\u001b[0;34m\u001b[0m\u001b[0;34m\u001b[0m\u001b[0;34m\u001b[0m\u001b[0m\n\u001b[0;32m-> 1690\u001b[0;31m         \u001b[0mret\u001b[0m \u001b[0;34m=\u001b[0m \u001b[0mtorch\u001b[0m\u001b[0;34m.\u001b[0m\u001b[0maddmm\u001b[0m\u001b[0;34m(\u001b[0m\u001b[0mbias\u001b[0m\u001b[0;34m,\u001b[0m \u001b[0minput\u001b[0m\u001b[0;34m,\u001b[0m \u001b[0mweight\u001b[0m\u001b[0;34m.\u001b[0m\u001b[0mt\u001b[0m\u001b[0;34m(\u001b[0m\u001b[0;34m)\u001b[0m\u001b[0;34m)\u001b[0m\u001b[0;34m\u001b[0m\u001b[0;34m\u001b[0m\u001b[0m\n\u001b[0m\u001b[1;32m   1691\u001b[0m     \u001b[0;32melse\u001b[0m\u001b[0;34m:\u001b[0m\u001b[0;34m\u001b[0m\u001b[0;34m\u001b[0m\u001b[0m\n\u001b[1;32m   1692\u001b[0m         \u001b[0moutput\u001b[0m \u001b[0;34m=\u001b[0m \u001b[0minput\u001b[0m\u001b[0;34m.\u001b[0m\u001b[0mmatmul\u001b[0m\u001b[0;34m(\u001b[0m\u001b[0mweight\u001b[0m\u001b[0;34m.\u001b[0m\u001b[0mt\u001b[0m\u001b[0;34m(\u001b[0m\u001b[0;34m)\u001b[0m\u001b[0;34m)\u001b[0m\u001b[0;34m\u001b[0m\u001b[0;34m\u001b[0m\u001b[0m\n",
      "\u001b[0;31mKeyboardInterrupt\u001b[0m: "
     ]
    }
   ],
   "source": [
    "N_TRIALS = 1000\n",
    "N_EVENTS = 250\n",
    "\n",
    "for trial in range(N_TRIALS):\n",
    "    env.reset()\n",
    "    total_reward = 0\n",
    "\n",
    "    for event in range(N_EVENTS):\n",
    "        # get state\n",
    "        state = env.get_observation(onehot=True)[0]\n",
    "        # pass states to fc to get state representation\n",
    "        dummy_action = np.expand_dims(np.array([1,0,0,0]),0)\n",
    "        phi, _, __ = fc(state, dummy_action)\n",
    "        # pass representation to ac\n",
    "        pol, val = ac(phi)\n",
    "\n",
    "        # get actions from ac policy\n",
    "        a = Categorical(pol)\n",
    "        action = a.sample()\n",
    "        logprob = a.log_prob(action)\n",
    "        value = val.view(-1)\n",
    "        # step in the environment\n",
    "        next_state, reward, done, info = env.step(action)\n",
    "        # save reward, log prob, value \n",
    "        ac.saved_logprob.append(logprob)\n",
    "        ac.saved_values.append(value)\n",
    "        ac.saved_rewards.append(reward)\n",
    "\n",
    "        total_reward += reward\n",
    "\n",
    "        if done:\n",
    "            break\n",
    "    # end of trial, compute returns, compute loss, perform update \n",
    "    p, v = ac.finish_trial()\n",
    "    r_track.append(total_reward)\n",
    "    l_track[0].append(p)\n",
    "    l_track[1].append(v)\n",
    "    \n",
    "    if trial%10==0: \n",
    "        print(f'Trial: {trial} Total Reward:{total_reward}')"
   ]
  },
  {
   "cell_type": "code",
   "execution_count": 69,
   "metadata": {},
   "outputs": [
    {
     "data": {
      "text/plain": [
       "<matplotlib.legend.Legend at 0x7fb41d2e8dc0>"
      ]
     },
     "execution_count": 69,
     "metadata": {},
     "output_type": "execute_result"
    },
    {
     "data": {
      "image/png": "[encoded data removed]",
      "text/plain": [
       "<Figure size 432x288 with 2 Axes>"
      ]
     },
     "metadata": {
      "needs_background": "light"
     },
     "output_type": "display_data"
    }
   ],
   "source": [
    "fig, ax = plt.subplots(2,1,sharex=True)\n",
    "ax[0].plot(r_track)\n",
    "ax[1].plot(l_track[0], label='p')\n",
    "ax[1].plot(l_track[1], label='v')\n",
    "ax[1].legend(bbox_to_anchor=(1.05,0.95))"
   ]
  },
  {
   "cell_type": "code",
   "execution_count": 84,
   "metadata": {},
   "outputs": [],
   "source": [
    "states = []\n",
    "\n",
    "for i in range(env.nstates):\n",
    "    env.set_state(i)\n",
    "    state = env.get_observation(onehot=True, agtlocation=i)[0]\n",
    "    states.append(state)"
   ]
  },
  {
   "cell_type": "code",
   "execution_count": 85,
   "metadata": {},
   "outputs": [],
   "source": [
    "phis = []\n",
    "dummy_action = [np.expand_dims(np.array([1,0,0,0]),0) for x in range(len(states))]\n",
    "phi, _, __ = fc(states, dummy_action)"
   ]
  },
  {
   "cell_type": "code",
   "execution_count": 86,
   "metadata": {},
   "outputs": [],
   "source": [
    "d = np.zeros((env.nstates, env.nstates))\n",
    "for i, p in enumerate(phi):\n",
    "    a = p.detach().numpy()[0]\n",
    "    for j, q in enumerate(phi):\n",
    "        b = q.detach().numpy()[0]\n",
    "        dist = np.linalg.norm(a-b)\n",
    "        d[i,j] = dist\n",
    "        "
   ]
  },
  {
   "cell_type": "code",
   "execution_count": 87,
   "metadata": {},
   "outputs": [
    {
     "data": {
      "image/png": "[encoded data removed]",
      "text/plain": [
       "<Figure size 432x288 with 2 Axes>"
      ]
     },
     "metadata": {
      "needs_background": "light"
     },
     "output_type": "display_data"
    }
   ],
   "source": [
    "fig, ax = plt.subplots(1,1)\n",
    "p = ax.imshow([d[0]], aspect='auto')\n",
    "fig.colorbar(p, ax=ax)\n",
    "plt.show()"
   ]
  },
  {
   "cell_type": "code",
   "execution_count": 90,
   "metadata": {},
   "outputs": [
    {
     "data": {
      "text/plain": [
       "<matplotlib.image.AxesImage at 0x7fb40e2c7400>"
      ]
     },
     "execution_count": 90,
     "metadata": {},
     "output_type": "execute_result"
    },
    {
     "data": {
      "image/png": "[encoded data removed]",
      "text/plain": [
       "<Figure size 432x288 with 1 Axes>"
      ]
     },
     "metadata": {
      "needs_background": "light"
     },
     "output_type": "display_data"
    }
   ],
   "source": [
    "index_of_interest = 2\n",
    "asgrid = np.zeros((env.r, env.c))\n",
    "for i, item in enumerate(d[index_of_interest]):\n",
    "    s_c, s_r = env.oneD2twoD(i)\n",
    "    asgrid[s_c, s_r] = item\n",
    "    \n",
    "plt.imshow(asgrid)"
   ]
  },
  {
   "cell_type": "code",
   "execution_count": null,
   "metadata": {},
   "outputs": [],
   "source": []
  },
  {
   "cell_type": "code",
   "execution_count": null,
   "metadata": {},
   "outputs": [],
   "source": []
  }
 ],
 "metadata": {
  "kernelspec": {
   "display_name": "Python 3",
   "language": "python",
   "name": "python3"
  },
  "language_info": {
   "codemirror_mode": {
    "name": "ipython",
    "version": 3
   },
   "file_extension": ".py",
   "mimetype": "text/x-python",
   "name": "python",
   "nbconvert_exporter": "python",
   "pygments_lexer": "ipython3",
   "version": "3.8.5"
  }
 },
 "nbformat": 4,
 "nbformat_minor": 4
}
