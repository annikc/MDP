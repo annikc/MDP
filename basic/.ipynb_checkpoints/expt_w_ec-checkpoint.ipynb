{
 "cells": [
  {
   "cell_type": "code",
   "execution_count": 3,
   "metadata": {},
   "outputs": [
    {
     "ename": "ModuleNotFoundError",
     "evalue": "No module named 'basic'",
     "output_type": "error",
     "traceback": [
      "\u001b[0;31m---------------------------------------------------------------------------\u001b[0m",
      "\u001b[0;31mModuleNotFoundError\u001b[0m                       Traceback (most recent call last)",
      "\u001b[0;32m<ipython-input-3-eb8152d3c7ba>\u001b[0m in \u001b[0;36m<module>\u001b[0;34m\u001b[0m\n\u001b[1;32m      4\u001b[0m \u001b[0;32mfrom\u001b[0m \u001b[0mUtils\u001b[0m \u001b[0;32mimport\u001b[0m \u001b[0mbasic_agent_params\u001b[0m\u001b[0;34m\u001b[0m\u001b[0;34m\u001b[0m\u001b[0m\n\u001b[1;32m      5\u001b[0m \u001b[0;34m\u001b[0m\u001b[0m\n\u001b[0;32m----> 6\u001b[0;31m \u001b[0;32mimport\u001b[0m \u001b[0mAgents\u001b[0m\u001b[0;34m.\u001b[0m\u001b[0mNetworks\u001b[0m \u001b[0;32mas\u001b[0m \u001b[0mnets\u001b[0m\u001b[0;34m\u001b[0m\u001b[0;34m\u001b[0m\u001b[0m\n\u001b[0m\u001b[1;32m      7\u001b[0m \u001b[0;32mfrom\u001b[0m \u001b[0mAgents\u001b[0m\u001b[0;34m.\u001b[0m\u001b[0mEpisodicMemory\u001b[0m \u001b[0;32mimport\u001b[0m \u001b[0mEpisodicMemory\u001b[0m \u001b[0;32mas\u001b[0m \u001b[0mMemory\u001b[0m\u001b[0;34m\u001b[0m\u001b[0;34m\u001b[0m\u001b[0m\n\u001b[1;32m      8\u001b[0m \u001b[0;32mfrom\u001b[0m \u001b[0mAgents\u001b[0m \u001b[0;32mimport\u001b[0m \u001b[0mAgent\u001b[0m\u001b[0;34m\u001b[0m\u001b[0;34m\u001b[0m\u001b[0m\n",
      "\u001b[0;32m~/Dropbox/LINC Lab Documents/Code/MEMRL/basic/Agents/__init__.py\u001b[0m in \u001b[0;36m<module>\u001b[0;34m\u001b[0m\n\u001b[1;32m     10\u001b[0m \u001b[0;32mfrom\u001b[0m \u001b[0mtorch\u001b[0m\u001b[0;34m.\u001b[0m\u001b[0mdistributions\u001b[0m \u001b[0;32mimport\u001b[0m \u001b[0mCategorical\u001b[0m\u001b[0;34m\u001b[0m\u001b[0;34m\u001b[0m\u001b[0m\n\u001b[1;32m     11\u001b[0m \u001b[0;34m\u001b[0m\u001b[0m\n\u001b[0;32m---> 12\u001b[0;31m \u001b[0;32mfrom\u001b[0m \u001b[0mbasic\u001b[0m\u001b[0;34m.\u001b[0m\u001b[0mAgents\u001b[0m\u001b[0;34m.\u001b[0m\u001b[0mTransition_Cache\u001b[0m \u001b[0;32mimport\u001b[0m \u001b[0mTransition_Cache\u001b[0m\u001b[0;34m\u001b[0m\u001b[0;34m\u001b[0m\u001b[0m\n\u001b[0m\u001b[1;32m     13\u001b[0m \u001b[0;34m\u001b[0m\u001b[0m\n\u001b[1;32m     14\u001b[0m \u001b[0;34m\u001b[0m\u001b[0m\n",
      "\u001b[0;31mModuleNotFoundError\u001b[0m: No module named 'basic'"
     ]
    }
   ],
   "source": [
    "## test experiment class\n",
    "# using gridworld and actor critic network architecture\n",
    "import gym\n",
    "\n",
    "import sys \n",
    "sys.path.append(\"./\").\n",
    "\n",
    "from Utils import basic_agent_params\n",
    "\n",
    "import Agents.Networks as nets\n",
    "from Agents.EpisodicMemory import EpisodicMemory as Memory\n",
    "from Agents import Agent\n",
    "from Experiments import Experiment as ex\n",
    "\n",
    "import matplotlib.pyplot as plt"
   ]
  },
  {
   "cell_type": "code",
   "execution_count": null,
   "metadata": {},
   "outputs": [],
   "source": [
    "# Make Environment to Test Agent in\n",
    "env = gym.make('gym_grid:gridworld-v1')\n",
    "\n",
    "params = basic_agent_params(env)\n",
    "network = nets.ActorCritic(params)\n",
    "memory = Memory(entry_size=params.action_dims, cache_limit=400)\n",
    "agent = Agent(network, memory=memory)\n",
    "agent.get_action = agent.EC_action\n",
    "\n",
    "run = ex(agent,env)"
   ]
  },
  {
   "cell_type": "code",
   "execution_count": null,
   "metadata": {},
   "outputs": [],
   "source": [
    "run.run(100,100, printfreq=10, render=True)\n",
    "\n",
    "fig, ax = plt.subplots(2,1,sharex=True)\n",
    "ax[0].plot(run.data['total_reward'])\n",
    "ax[1].plot(run.data['loss'][0], label='p')\n",
    "ax[1].plot(run.data['loss'][1], label='v')\n",
    "ax[1].legend(bbox_to_anchor=(1.05, 0.95))\n",
    "plt.show()"
   ]
  }
 ],
 "metadata": {
  "kernelspec": {
   "display_name": "Python 3",
   "language": "python",
   "name": "python3"
  },
  "language_info": {
   "codemirror_mode": {
    "name": "ipython",
    "version": 3
   },
   "file_extension": ".py",
   "mimetype": "text/x-python",
   "name": "python",
   "nbconvert_exporter": "python",
   "pygments_lexer": "ipython3",
   "version": "3.8.5"
  }
 },
 "nbformat": 4,
 "nbformat_minor": 4
}
