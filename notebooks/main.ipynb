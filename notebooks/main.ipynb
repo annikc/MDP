{
 "cells": [
  {
   "cell_type": "code",
   "execution_count": 1,
   "metadata": {},
   "outputs": [],
   "source": [
    "import sys\n",
    "import numpy as np\n",
    "import matplotlib.pyplot as plt\n",
    "from importlib import reload\n",
    "sys.path.insert(0,'../rl_network/'); import ac\n",
    "sys.path.insert(0,'../memory/'); import episodic as ec\n",
    "sys.path.insert(0,'../environments/'); import gw; import gridworld_plotting as gp"
   ]
  },
  {
   "cell_type": "code",
   "execution_count": 2,
   "metadata": {},
   "outputs": [],
   "source": [
    "import experiment as expt\n",
    "import torch\n",
    "import uuid\n",
    "import csv\n",
    "import pickle \n",
    "\n",
    "def log_experiments(save_id, experiment_type, env, agent, mem = None, **kwargs):\n",
    "    load = kwargs.get('load', ' ')\n",
    "    arch_type = kwargs.get('arch', 'B')\n",
    "    save_flag = kwargs.get('save_flag', False)\n",
    "    if experiment_type == 0 or save_flag:\n",
    "        save = f'../data/outputs/gridworld/weights/{save_id}.pt'\n",
    "        ac.torch.save(agent,save)\n",
    "    else:\n",
    "        save = kwargs.get('save', ' ')\n",
    "    \n",
    "    pvals = kwargs.get('pvals', False)\n",
    "    \n",
    "    \n",
    "    expt_log = [save_id, experiment_type, load, save]\n",
    "    # add environment parameters\n",
    "    if env.maze_type == None:\n",
    "        maze_type = 'Openfield'\n",
    "    else:\n",
    "        maze_type = env.maze_type\n",
    "    expt_log.append(maze_type)\n",
    "    expt_log.append(env.shape)\n",
    "    expt_log.append(len(env.action_list))\n",
    "    if env.rwd_action == None:\n",
    "        rwd_action = 'None'\n",
    "    else:\n",
    "        rwd_action = env.rwd_action\n",
    "    expt_log.append(rwd_action)\n",
    "    expt_log.append(env.rewards)\n",
    "    expt_log.append(env.step_penalization)\n",
    "    expt_log.append(env.rho)\n",
    "    \n",
    "    # add agent parameters\n",
    "    expt_log.append(arch_type)\n",
    "    \n",
    "    if mem is not None: \n",
    "        expt_log.append(mem.mem_temp)\n",
    "        expt_log.append(pvals)\n",
    "        expt_log.append(mem.memory_envelope)\n",
    "        pickle.dump(mem.cache_list, open(f'../data/outputs/gridworld/episodic_cache/{save_id}_EC.p', 'wb'))\n",
    "    else:\n",
    "        expt_log.append(-1) # mem_temp = EC_entropy\n",
    "        expt_log.append(pvals)\n",
    "        expt_log.append(-1) # Mem_decay\n",
    "    \n",
    "    \n",
    "    \n",
    "    with open('../data/outputs/gridworld/experiments.csv', 'a+', newline='') as file:\n",
    "        writer = csv.writer(file)\n",
    "        if experiment_type is not None:\n",
    "            writer.writerow(expt_log)\n",
    "            experiment_type = None\n",
    "        else:\n",
    "            raise Exception('enter experiment type ')\n",
    "    pickle.dump(data, open(f'../data/outputs/gridworld/results/{save_id}_data.p', 'wb'))"
   ]
  },
  {
   "cell_type": "code",
   "execution_count": 18,
   "metadata": {},
   "outputs": [
    {
     "name": "stdout",
     "output_type": "stream",
     "text": [
      "[(10, 7), (10, 19), (7, 10), (12, 10)]\n"
     ]
    },
    {
     "data": {
      "image/png": "[encoded data removed]",
      "text/plain": [
       "<Figure size 432x432 with 1 Axes>"
      ]
     },
     "metadata": {},
     "output_type": "display_data"
    }
   ],
   "source": [
    "reload(expt)\n",
    "reload(gw)\n",
    "reload(ac)\n",
    "rows, columns = 20,20\n",
    "env_type = 'room'\n",
    "penalty = -0.01 \n",
    "\n",
    "NUM_TRIALS = 50000\n",
    "NUM_EVENTS = 250\n",
    "\n",
    "\n",
    "reward_location = (15,15)\n",
    "env = gw.GridWorld(rows=rows,cols=columns,env_type=env_type,\n",
    "                       rewards = {reward_location:1},\n",
    "                       step_penalization=penalty,\n",
    "                       rho=0.0,\n",
    "                   actionlist = ['Down', 'Up', 'Right', 'Left'],\n",
    "                       rewarded_action=None, barheight=10)\n",
    "    \n",
    "fig = gw.plotWorld(env, scale=0.3, four_actions=True)\n",
    "print(env.doors)"
   ]
  },
  {
   "cell_type": "code",
   "execution_count": 16,
   "metadata": {},
   "outputs": [],
   "source": [
    "training = {\n",
    "    'load_model':  False,\n",
    "    'load_dir':    '',\n",
    "    'freeze_w':    False,\n",
    "\n",
    "    'input_dims':  env.observation.shape,\n",
    "    'action_dims': len(env.action_list),\n",
    "    'hidden_types':['conv','pool','conv', 'pool', 'linear','linear'],\n",
    "    'hidden_dims': [None, None, None, None, 100, 200],\n",
    "    'use_SR':      True,\n",
    "\n",
    "    'rfsize':      5,\n",
    "\n",
    "    'gamma':       0.98,\n",
    "    'eta':         5e-4,\n",
    "\n",
    "    'use_EC':      False,\n",
    "    'EC':          {},\n",
    "    'cachelim':    300\n",
    "    }\n",
    "\n",
    "testing_1 = training.copy()\n",
    "testing_1.update({'load_model':True, 'freeze_w':True})\n",
    "\n",
    "testing_2 = testing_1.copy()\n",
    "testing_2.update({'use_EC':True})\n",
    "\n",
    "testing_4 = testing_1.copy()\n",
    "testing_4.update({'freeze_w':False})\n",
    "\n",
    "testing_5 = testing_4.copy()\n",
    "testing_5.update({'use_EC':True})\n",
    "\n",
    "agent_params = [training, testing_1, testing_2, testing_2, testing_4, testing_5, testing_5]"
   ]
  },
  {
   "cell_type": "code",
   "execution_count": 6,
   "metadata": {},
   "outputs": [
    {
     "data": {
      "image/png": "[encoded data removed]",
      "text/plain": [
       "<Figure size 432x432 with 1 Axes>"
      ]
     },
     "metadata": {},
     "output_type": "display_data"
    }
   ],
   "source": [
    "env.rewards = {(5,15):1}\n",
    "env.buildRewardFunction()\n",
    "fig = gw.plotWorld(env, scale=0.3, four_actions=True)"
   ]
  },
  {
   "cell_type": "code",
   "execution_count": null,
   "metadata": {},
   "outputs": [],
   "source": []
  },
  {
   "cell_type": "code",
   "execution_count": 8,
   "metadata": {
    "scrolled": true
   },
   "outputs": [
    {
     "name": "stdout",
     "output_type": "stream",
     "text": [
      "ActorCritic(\n",
      "  (hidden): ModuleList(\n",
      "    (0): Conv2d(3, 3, kernel_size=(5, 5), stride=(1, 1), padding=(1, 1))\n",
      "    (1): MaxPool2d(kernel_size=5, stride=1, padding=1, dilation=1, ceil_mode=False)\n",
      "    (2): Conv2d(3, 3, kernel_size=(5, 5), stride=(1, 1), padding=(1, 1))\n",
      "    (3): MaxPool2d(kernel_size=5, stride=1, padding=1, dilation=1, ceil_mode=False)\n",
      "    (4): Linear(in_features=432, out_features=100, bias=True)\n",
      "    (5): Linear(in_features=100, out_features=200, bias=True)\n",
      "  )\n",
      "  (output): ModuleList(\n",
      "    (0): Linear(in_features=200, out_features=4, bias=True)\n",
      "    (1): Linear(in_features=200, out_features=1, bias=True)\n",
      "  )\n",
      "  (SR): Linear(in_features=200, out_features=200, bias=True)\n",
      ")\n",
      "0\n",
      "0: -2.4999999999999907 (0.45011067390441895s)\n",
      "1: -2.4999999999999907 (0.4526047706604004s)\n",
      "2: -2.4999999999999907 (0.4578702449798584s)\n",
      "3: -2.4999999999999907 (0.46292901039123535s)\n",
      "4: -2.4999999999999907 (0.47197914123535156s)\n",
      "5: -2.4999999999999907 (0.4722635746002197s)\n",
      "6: 0.04999999999999938 (0.17826151847839355s)\n",
      "7: -0.2700000000000009 (0.24490571022033691s)\n",
      "8: 0.2999999999999996 (0.1360776424407959s)\n",
      "9: -2.4999999999999907 (0.453798770904541s)\n"
     ]
    }
   ],
   "source": [
    "reload(expt)\n",
    "for j in range(1):\n",
    "    # get unique ID tag for this run\n",
    "    save_id = uuid.uuid4()\n",
    "    \n",
    "    experiment_type = 0\n",
    "    if experiment_type is not 0: \n",
    "        agent_params[experiment_type]['load_dir'] = f'../data/outputs/gridworld/weights/8ab3822b-28ad-4751-950f-20f0475507a9.pt',\n",
    "    \n",
    "    # generate agent from given parameters\n",
    "    agent = ac.make_agent(agent_params[experiment_type])\n",
    "    print(agent)\n",
    "    \n",
    "    # initialize data storage\n",
    "    data = {'total_reward': [],\n",
    "            'loss': [[],[],[]],\n",
    "            'trial_length': [],\n",
    "            'trials_run_to_date':0,\n",
    "            'pol_tracking':[],\n",
    "            'val_tracking':[],\n",
    "            'ec_tracking': [],\n",
    "            't': [],\n",
    "            'mfcs':[]\n",
    "           }\n",
    "    \n",
    "    mem_temp = 0.05 \n",
    "    ex = expt.test_expt(agent, env, use_mem=agent_params['use_EC'], mem_temp=mem_temp)\n",
    "    ex.run(10, NUM_EVENTS, data)\n",
    "    \n",
    "    \n",
    "    if agent_params['use_EC']:\n",
    "        mem = ex.episodic\n",
    "    else:\n",
    "        mem = None\n",
    "    if agent.use_SR:\n",
    "        arch = 'B'\n",
    "    else: \n",
    "        arch = 'A'\n",
    "    expt.log_experiments(save_id, experiment_type, \n",
    "                         env, agent, data, mem, \n",
    "                         save_flag = True, \n",
    "                         load=agent_params[experiment_type]['load_dir'], arch = arch)\n",
    "    "
   ]
  },
  {
   "cell_type": "code",
   "execution_count": null,
   "metadata": {},
   "outputs": [],
   "source": [
    "print(save_id)"
   ]
  },
  {
   "cell_type": "code",
   "execution_count": null,
   "metadata": {},
   "outputs": [],
   "source": [
    "smoothing = 50\n",
    "plt.figure()\n",
    "plt.plot(gp.running_mean(data['total_reward'],smoothing),'pink')\n",
    "plt.title('Smoothed Reward Per Trial')\n",
    "plt.show()\n",
    "plt.close()\n",
    "\n",
    "plt.figure()\n",
    "#plt.plot(gp.running_mean(data['loss'][0],smoothing), 'darkgreen', label='$\\pi$')\n",
    "#plt.plot(gp.running_mean(data['loss'][1],smoothing), 'lightgreen', label='v')\n",
    "plt.plot(gp.running_mean(data['loss'][2],smoothing), 'cyan', label='$\\phi$')\n",
    "plt.legend(loc=0)\n",
    "plt.title('Smoothed Loss')\n",
    "plt.show()\n",
    "plt.close()"
   ]
  },
  {
   "cell_type": "code",
   "execution_count": null,
   "metadata": {
    "scrolled": false
   },
   "outputs": [],
   "source": [
    "reload(expt)\n",
    "\n",
    "sample_observations = env.get_sample_obs()\n",
    "pol_grid, val_grid = expt.get_snapshot(sample_observations, env,agent)\n",
    "gp.plot_pref_pol(env, pol_grid, threshold = 0.1, title='ec_pol_new_rwd',upperbound=2)\n",
    "gp.plot_polmap(env, pol_grid, threshold = 0.22)\n",
    "gp.plot_valmap(env, val_grid, v_range = [0,1])"
   ]
  },
  {
   "cell_type": "code",
   "execution_count": null,
   "metadata": {},
   "outputs": [],
   "source": [
    "print(data['trials_run_to_date'])"
   ]
  },
  {
   "cell_type": "code",
   "execution_count": null,
   "metadata": {},
   "outputs": [],
   "source": [
    "save = f'../data/outputs/gridworld/weights/{save_id}.pt'\n",
    "ac.torch.save(agent,save)"
   ]
  },
  {
   "cell_type": "code",
   "execution_count": null,
   "metadata": {},
   "outputs": [],
   "source": [
    "reload(gp)\n",
    "def ec_policies(maze, EC, trial_timestamp,**kwargs):\n",
    "    envelope = kwargs.get('decay', 50)\n",
    "    mem_temp = kwargs.get('mem_temp', 1)\n",
    "    mpol_array = np.zeros(maze.grid.shape, dtype=[(x, 'f8') for x in maze.action_list])\n",
    "    \n",
    "    # cycle through readable states\n",
    "    for key in EC.cache_list.keys():\n",
    "        row, col = EC.cache_list[key][2]\n",
    "        pol = EC.recall_mem(key, timestep = trial_timestamp, mem_temp = mem_temp, print_t=False)\n",
    "        mpol_array[row,col] = tuple(pol)\n",
    "        \n",
    "    return mpol_array\n",
    "        \n",
    "\n",
    "abcd = ec_policies(env,ex.episodic, trial_timestamp = 0, mem_temp = 0.5)\n"
   ]
  },
  {
   "cell_type": "code",
   "execution_count": null,
   "metadata": {},
   "outputs": [],
   "source": [
    "reload(gp)\n",
    "gp.plot_pref_pol(env, abcd, threshold = 0.1, title='ec_pol_new_rwd',upperbound=2)"
   ]
  },
  {
   "cell_type": "code",
   "execution_count": null,
   "metadata": {},
   "outputs": [],
   "source": [
    "state = (4,3)\n",
    "env.set_state(env.twoD2oneD(state))\n",
    "observation = torch.Tensor(np.expand_dims(env.get_observation(), axis=0))\n",
    "policy_, value_, phi_, psi_ = agent(observation)\n",
    "\n",
    "lin_act = tuple(np.round(phi_.data[0].numpy(),4))\n",
    "key, sim = ex.episodic.cosine_sim(lin_act)\n",
    "\n",
    "mem_state = ex.episodic.cache_list[key]"
   ]
  },
  {
   "cell_type": "code",
   "execution_count": null,
   "metadata": {},
   "outputs": [],
   "source": [
    "print(mem_state)\n",
    "print(ex.episodic.recall_mem(lin_act, timestep=0))\n",
    "#print(abcd[state])\n",
    "plt.bar(np.arange(4),ex.episodic.recall_mem(lin_act, timestep=0))\n",
    "#MF_alone = data"
   ]
  },
  {
   "cell_type": "code",
   "execution_count": null,
   "metadata": {},
   "outputs": [],
   "source": [
    "ex.mem_temp"
   ]
  },
  {
   "cell_type": "code",
   "execution_count": null,
   "metadata": {},
   "outputs": [],
   "source": []
  },
  {
   "cell_type": "code",
   "execution_count": null,
   "metadata": {},
   "outputs": [],
   "source": []
  }
 ],
 "metadata": {
  "kernelspec": {
   "display_name": "Python 3",
   "language": "python",
   "name": "python3"
  },
  "language_info": {
   "codemirror_mode": {
    "name": "ipython",
    "version": 3
   },
   "file_extension": ".py",
   "mimetype": "text/x-python",
   "name": "python",
   "nbconvert_exporter": "python",
   "pygments_lexer": "ipython3",
   "version": "3.6.9"
  }
 },
 "nbformat": 4,
 "nbformat_minor": 2
}
