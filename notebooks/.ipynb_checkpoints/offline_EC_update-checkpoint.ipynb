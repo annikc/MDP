{
 "cells": [
  {
   "cell_type": "code",
   "execution_count": 1,
   "metadata": {},
   "outputs": [],
   "source": [
    "from __future__ import division\n",
    "from importlib import reload\n",
    "from modules import * \n",
    "import csv\n",
    "fig_savedir = '../data/figures/'\n",
    "\n",
    "grid_params = {\n",
    "    'y_height':   20,\n",
    "    'x_width':    20,\n",
    "    'walls':      False,\n",
    "    'rho':        0,\n",
    "    'maze_type':  'none',\n",
    "    'port_shift': 'none'\n",
    "}\n",
    "\n",
    "\n",
    "agent_params = {\n",
    "    'load_model':   False,\n",
    "    'load_dir':     '../data/outputs/gridworld/MF{}{}training_rwd15_5.pt'.format(grid_params['x_width'],grid_params['y_height']),\n",
    "    'action_dims':  6, #=len(maze.actionlist)\n",
    "    'lin_dims':     500,\n",
    "    'batch_size':   1,\n",
    "    'gamma':        0.98, #discount factor\n",
    "    'eta':          5e-4,\n",
    "    'temperature':  1,\n",
    "    'use_EC':       False,\n",
    "    'cachelim':     100, # memory limit should be ~75% of #actions x #states\n",
    "    'state_type':   'conv'\n",
    "}\n",
    "\n",
    "run_dict = {\n",
    "    'NUM_EVENTS':   150,\n",
    "    'NUM_TRIALS':   100,\n",
    "    'print_freq':   1/10,\n",
    "    'total_loss':   [[],[]],\n",
    "    'total_reward': [],\n",
    "    'val_maps':     [],\n",
    "    'policies':     [{},{}],\n",
    "    'deltas':       [],\n",
    "    'spots':        [],\n",
    "    'vls':          []\n",
    "}"
   ]
  },
  {
   "cell_type": "code",
   "execution_count": 2,
   "metadata": {
    "scrolled": false
   },
   "outputs": [
    {
     "name": "stdout",
     "output_type": "stream",
     "text": [
      "[(10, 10)]\n"
     ]
    },
    {
     "data": {
      "image/png": "[encoded data removed]",
      "text/plain": [
       "<Figure size 432x288 with 1 Axes>"
      ]
     },
     "metadata": {
      "needs_background": "light"
     },
     "output_type": "display_data"
    }
   ],
   "source": [
    "#make environment\n",
    "maze = eu.gridworld(grid_params)\n",
    "maze.set_rwd([(int(grid_params['y_height']/2),int(grid_params['x_width']/2))])\n",
    "env = eu.gymworld(maze) # openAI-like wrapper \n",
    "\n",
    "#update agent params dictionary with layer sizes appropriate for environment \n",
    "agent_params = sg.gen_input(maze, agent_params)\n",
    "MF,opt = ac.make_agent(agent_params, freeze=False)\n",
    "gp.make_env_plots(maze,env=True)\n",
    "\n",
    "\n",
    "agent_params['cachelim'] = int(0.5*np.prod(maze.grid.shape))\n",
    "\n",
    "EC = ec.ep_mem(MF,agent_params['cachelim']) \n",
    "print(maze.rwd_loc)"
   ]
  },
  {
   "cell_type": "code",
   "execution_count": 3,
   "metadata": {},
   "outputs": [
    {
     "name": "stdout",
     "output_type": "stream",
     "text": [
      "0.0005\n"
     ]
    },
    {
     "data": {
      "text/plain": [
       "0.00075"
      ]
     },
     "execution_count": 3,
     "metadata": {},
     "output_type": "execute_result"
    }
   ],
   "source": [
    "for param_ in opt.param_groups:\n",
    "    print(param_['lr'])\n",
    "1.5*agent_params['eta']"
   ]
  },
  {
   "cell_type": "code",
   "execution_count": 4,
   "metadata": {},
   "outputs": [
    {
     "name": "stdout",
     "output_type": "stream",
     "text": [
      "(20, 20)\n"
     ]
    }
   ],
   "source": [
    "print(maze.grid.shape)"
   ]
  },
  {
   "cell_type": "code",
   "execution_count": 17,
   "metadata": {},
   "outputs": [],
   "source": [
    "# write a function for runs with episodic mem and without -- take use_EC as a param\n",
    "# assume just for conv inputs \n",
    "def run_trials(run_dict, use_EC, **kwargs):\n",
    "    save_data  = kwargs.get('save', True)\n",
    "    NUM_TRIALS = run_dict['NUM_TRIALS']\n",
    "    NUM_EVENTS = run_dict['NUM_EVENTS']\n",
    "    \n",
    "    blocktime = time.time()\n",
    "    \n",
    "    if use_EC:\n",
    "        EC.reset_cache()\n",
    "        run_dict['total_loss'] =  [[],[]]\n",
    "        run_dict['total_reward'] = []\n",
    "        add_mem_dict = {} #dictionary of items which get put into memory cache\n",
    "        timestamp    = 0\n",
    "        ststs = []\n",
    "        tslr = 1\n",
    "        track_cs = [[],[]]\n",
    "        compare_policies = {}\n",
    "        rpe = np.zeros(maze.grid.shape)\n",
    "        reward = 0\n",
    "        \n",
    "        for trial in range(NUM_TRIALS):\n",
    "            trialstart_stamp = timestamp\n",
    "\n",
    "            reward_sum   = 0\n",
    "            v_last       = 0\n",
    "\n",
    "            env.reset() \n",
    "            \n",
    "            state = torch.Tensor(sg.get_frame(maze))\n",
    "            MF.reinit_hid() #reinit recurrent hidden layers\n",
    "\n",
    "            for event in range(NUM_EVENTS):\n",
    "                #compute confidence in MFC\n",
    "                if event in [0,1]:\n",
    "                    MF_cs = EC.make_pvals(tslr,envelope=10)\n",
    "                else: \n",
    "                    MF_cs = EC.make_pvals(tslr,envelope=10, pol_id = pol_flag, mfc=MF_cs)\n",
    "                # pass state through EC module\n",
    "                \n",
    "                policy_, value_, lin_act_ = MF(state, temperature = 1)\n",
    "                lin_act = tuple(np.round(lin_act_.data[0].numpy(),4))\n",
    "                if event is not 0:\n",
    "                    ec_pol = torch.from_numpy(EC.recall_mem(lin_act, timestamp, env=150))\n",
    "                    candidate_policies = [policy_, ec_pol]\n",
    "                    pol_choice = np.random.choice([0,1], p=[MF_cs, 1-MF_cs])\n",
    "                    pol = candidate_policies[pol_choice]\n",
    "                    if pol_choice == 0:\n",
    "                        pol_flag = 'MF'\n",
    "                    else:\n",
    "                        pol_flag = 'EC'\n",
    "                    choice, policy, value = ac.select_ec_action(MF, policy_, value_, pol)\n",
    "                else:\n",
    "                    choice, policy, value = ac.select_action(MF,policy_, value_)\n",
    "                \n",
    "                add_mem_dict['state'] = maze.cur_state\n",
    "                #compute eligibility trace/rpe approximation\n",
    "                delta = reward + agent_params['gamma']*value - v_last  \n",
    "                rpe[maze.cur_state[1]][maze.cur_state[0]] = delta\n",
    "                \n",
    "                \n",
    "                if event < NUM_EVENTS: \n",
    "                    next_state, reward, done, info = env.step(choice)\n",
    "\n",
    "                if event is not 0:\n",
    "                    if reward == 1:\n",
    "                        tslr = 0\n",
    "                    else:\n",
    "                        tslr += 1\n",
    "                    \n",
    "                    track_cs[0].append(tslr)\n",
    "                    track_cs[1].append(MF_cs)\n",
    "                \n",
    "                MF.rewards.append(reward)\n",
    "                \n",
    "                \n",
    "                add_mem_dict['activity']  = lin_act\n",
    "                add_mem_dict['action']    = choice\n",
    "                add_mem_dict['delta']     = delta\n",
    "                add_mem_dict['timestamp'] = timestamp            \n",
    "                \n",
    "                EC.add_mem(add_mem_dict)#add event to memory cache\n",
    "                \n",
    "                # because we need to include batch size of 1 \n",
    "                state = torch.Tensor(sg.get_frame(maze))\n",
    "                reward_sum += reward\n",
    "\n",
    "                v_last = value\n",
    "                timestamp += 1\n",
    "\n",
    "            p_loss, v_loss = ac.finish_trial(MF,agent_params['gamma'],opt)\n",
    "            \n",
    "            if save_data:\n",
    "                #value_map = ac.generate_values(maze,MF)\n",
    "                #run_dict['total_loss'][0].append(p_loss.data[0])\n",
    "                #run_dict['total_loss'][1].append(v_loss.data[0])\n",
    "                run_dict['total_reward'].append(reward_sum)\n",
    "                #run_dict['val_maps'].append(value_map.copy())\n",
    "                #run_dict['deltas'].append(track_deltas)\n",
    "                #run_dict['spots'].append(track_spots)\n",
    "                #run_dict['vls'].append(visited_locs)\n",
    "\n",
    "            if trial ==0 or trial%10==0 or trial == NUM_TRIALS-1:\n",
    "                print(\"[{0}]  Trial {1} TotRew = {2} ({3:.3f}s)\".format(time.strftime(\"%H:%M:%S\", time.localtime()), trial+1, reward_sum,time.time()-blocktime)) #print(\"[{0}]  Trial {1} total reward = {2} (Avg {3:.3f})\".format(time.strftime(\"%H:%M:%S\", time.localtime()), trial, reward_sum, float(reward_sum)/float(NUM_EVENTS)), \"Block took {0:.3f}\".format(time.time()-blocktime)) \n",
    "                blocktime = time.time()\n",
    "        return compare_policies, track_cs, rpe\n",
    "\n",
    "    else:\n",
    "        rpe = np.zeros(maze.grid.shape)\n",
    "        run_dict['total_loss'] =  [[],[]]\n",
    "        run_dict['total_reward'] = []\n",
    "        for trial in range(NUM_TRIALS):\n",
    "            reward_sum   = 0\n",
    "            v_last       = 0\n",
    "            track_deltas = []\n",
    "            track_spots  = []\n",
    "            visited_locs = []\n",
    "\n",
    "            env.reset() \n",
    "            state = torch.Tensor(sg.get_frame(maze))\n",
    "            MF.reinit_hid() #reinit recurrent hidden layers\n",
    "\n",
    "            for event in range(NUM_EVENTS):\n",
    "                policy_, value_ = MF(state, agent_params['temperature'])[0:2]\n",
    "                choice, policy, value = ac.select_action(MF,policy_, value_)\n",
    "\n",
    "                if event < NUM_EVENTS: \n",
    "                    next_state, reward, done, info = env.step(choice)\n",
    "\n",
    "                MF.rewards.append(reward)\n",
    "                #compute eligibility trace/rpe approximation\n",
    "                delta = reward + agent_params['gamma']*value - v_last  \n",
    "                state = torch.Tensor(sg.get_frame(maze))\n",
    "                rpe[maze.cur_state[1]][maze.cur_state[0]] = delta\n",
    "                \n",
    "                reward_sum += reward\n",
    "                v_last = value\n",
    "\n",
    "            p_loss, v_loss = ac.finish_trial(MF,agent_params['gamma'],opt)\n",
    "\n",
    "            if save_data:\n",
    "                #value_map = ac.generate_values(maze,MF)\n",
    "                run_dict['total_loss'][0].append(p_loss.item())\n",
    "                run_dict['total_loss'][1].append(v_loss.item())\n",
    "                run_dict['total_reward'].append(reward_sum)\n",
    "                #run_dict['val_maps'].append(value_map.copy())\n",
    "                #run_dict['deltas'].append(track_deltas)\n",
    "                #run_dict['spots'].append(track_spots)\n",
    "                #run_dict['vls'].append(visited_locs)\n",
    "\n",
    "            if trial ==0 or trial%100==0 or trial == NUM_TRIALS-1:\n",
    "                print(\"[{0}]  Trial {1} TotRew = {2} ({3:.3f}s)\".format(time.strftime(\"%H:%M:%S\", time.localtime()), trial+1, reward_sum,time.time()-blocktime)) #print(\"[{0}]  Trial {1} total reward = {2} (Avg {3:.3f})\".format(time.strftime(\"%H:%M:%S\", time.localtime()), trial, reward_sum, float(reward_sum)/float(NUM_EVENTS)), \"Block took {0:.3f}\".format(time.time()-blocktime)) \n",
    "                blocktime = time.time()\n",
    "        return rpe"
   ]
  },
  {
   "cell_type": "code",
   "execution_count": 18,
   "metadata": {
    "scrolled": false
   },
   "outputs": [
    {
     "name": "stdout",
     "output_type": "stream",
     "text": [
      "[17:07:09]  Trial 1 TotRew = 0 (0.205s)\n",
      "[17:07:27]  Trial 100 TotRew = 0 (17.478s)\n"
     ]
    }
   ],
   "source": [
    "#compare_policies, track_cs, rpe = run_trials(run_dict, True)\n",
    "rpe = run_trials(run_dict, False)"
   ]
  },
  {
   "cell_type": "code",
   "execution_count": null,
   "metadata": {},
   "outputs": [
    {
     "name": "stdout",
     "output_type": "stream",
     "text": [
      "[17:14:21]  Trial 1 TotRew = 0 (0.181s)\n",
      "[17:14:41]  Trial 100 TotRew = 0 (19.744s)\n"
     ]
    },
    {
     "name": "stderr",
     "output_type": "stream",
     "text": [
      "/home/annik/.local/lib/python3.6/site-packages/matplotlib/figure.py:98: MatplotlibDeprecationWarning: \n",
      "Adding an axes using the same arguments as a previous axes currently reuses the earlier instance.  In a future version, a new instance will always be created and returned.  Meanwhile, this warning can be suppressed, and the future behavior ensured, by passing a unique label to each axes instance.\n",
      "  \"Adding an axes using the same arguments as a previous axes \"\n"
     ]
    },
    {
     "name": "stdout",
     "output_type": "stream",
     "text": [
      "[17:14:41]  Trial 1 TotRew = 0 (0.223s)\n",
      "[17:15:04]  Trial 100 TotRew = 0 (22.055s)\n",
      "[17:15:04]  Trial 1 TotRew = 1 (0.298s)\n",
      "[17:15:27]  Trial 100 TotRew = 1 (23.327s)\n",
      "[17:15:27]  Trial 1 TotRew = 0 (0.286s)\n",
      "[17:15:51]  Trial 100 TotRew = 0 (24.006s)\n",
      "[17:15:52]  Trial 1 TotRew = 1 (0.280s)\n",
      "[17:16:15]  Trial 100 TotRew = 1 (23.465s)\n",
      "[17:16:16]  Trial 1 TotRew = 0 (0.269s)\n",
      "[17:16:38]  Trial 100 TotRew = 0 (22.753s)\n",
      "[17:16:39]  Trial 1 TotRew = 0 (0.261s)\n",
      "[17:17:02]  Trial 100 TotRew = 1 (23.590s)\n",
      "[17:17:03]  Trial 1 TotRew = 0 (0.273s)\n",
      "[17:17:25]  Trial 100 TotRew = 0 (22.633s)\n",
      "[17:17:25]  Trial 1 TotRew = 0 (0.284s)\n",
      "[17:17:48]  Trial 100 TotRew = 0 (22.955s)\n",
      "[17:17:49]  Trial 1 TotRew = 0 (0.257s)\n",
      "[17:18:12]  Trial 100 TotRew = 0 (23.215s)\n",
      "[17:18:12]  Trial 1 TotRew = 0 (0.275s)\n",
      "[17:18:36]  Trial 100 TotRew = 0 (23.997s)\n",
      "[17:18:37]  Trial 1 TotRew = 0 (0.278s)\n",
      "[17:19:03]  Trial 100 TotRew = 0 (25.979s)\n",
      "[17:19:03]  Trial 1 TotRew = 0 (0.275s)\n",
      "[17:19:27]  Trial 100 TotRew = 0 (24.427s)\n",
      "[17:19:28]  Trial 1 TotRew = 0 (0.275s)\n",
      "[17:19:53]  Trial 100 TotRew = 0 (25.084s)\n",
      "[17:19:53]  Trial 1 TotRew = 0 (0.363s)\n",
      "[17:20:23]  Trial 100 TotRew = 0 (30.094s)\n",
      "[17:20:23]  Trial 1 TotRew = 0 (0.288s)\n",
      "[17:20:50]  Trial 100 TotRew = 0 (26.509s)\n",
      "[17:20:50]  Trial 1 TotRew = 0 (0.348s)\n",
      "[17:21:18]  Trial 100 TotRew = 0 (27.986s)\n",
      "[17:21:19]  Trial 1 TotRew = 0 (0.447s)\n",
      "[17:21:45]  Trial 100 TotRew = 0 (25.690s)\n",
      "[17:21:45]  Trial 1 TotRew = 0 (0.275s)\n",
      "[17:22:12]  Trial 100 TotRew = 0 (27.078s)\n",
      "[17:22:12]  Trial 1 TotRew = 0 (0.266s)\n",
      "[17:22:36]  Trial 100 TotRew = 0 (23.416s)\n",
      "[17:22:36]  Trial 1 TotRew = 0 (0.289s)\n",
      "[17:23:02]  Trial 100 TotRew = 0 (26.309s)\n",
      "[17:23:03]  Trial 1 TotRew = 0 (0.371s)\n",
      "[17:23:28]  Trial 100 TotRew = 0 (25.729s)\n",
      "[17:23:29]  Trial 1 TotRew = 0 (0.271s)\n",
      "[17:23:51]  Trial 100 TotRew = 0 (22.212s)\n",
      "[17:23:51]  Trial 1 TotRew = 0 (0.254s)\n",
      "[17:24:14]  Trial 100 TotRew = 1 (22.435s)\n",
      "[17:24:14]  Trial 1 TotRew = 0 (0.248s)\n",
      "[17:24:37]  Trial 100 TotRew = 0 (23.268s)\n",
      "[17:24:38]  Trial 1 TotRew = 2 (0.268s)\n",
      "[17:25:09]  Trial 100 TotRew = 0 (31.623s)\n",
      "[17:25:10]  Trial 1 TotRew = 2 (0.395s)\n",
      "[17:25:35]  Trial 100 TotRew = 0 (25.239s)\n",
      "[17:25:35]  Trial 1 TotRew = 0 (0.279s)\n",
      "[17:25:56]  Trial 100 TotRew = 0 (21.300s)\n",
      "[17:25:57]  Trial 1 TotRew = 2 (0.239s)\n",
      "[17:26:18]  Trial 100 TotRew = 0 (21.119s)\n",
      "[17:26:18]  Trial 1 TotRew = 0 (0.208s)\n",
      "[17:26:38]  Trial 100 TotRew = 0 (20.208s)\n",
      "[17:26:39]  Trial 1 TotRew = 0 (0.203s)\n",
      "[17:26:59]  Trial 100 TotRew = 0 (20.653s)\n",
      "[17:26:59]  Trial 1 TotRew = 0 (0.228s)\n",
      "[17:27:20]  Trial 100 TotRew = 0 (20.773s)\n",
      "[17:27:20]  Trial 1 TotRew = 0 (0.221s)\n",
      "[17:27:41]  Trial 100 TotRew = 0 (20.994s)\n",
      "[17:27:42]  Trial 1 TotRew = 0 (0.217s)\n",
      "[17:28:03]  Trial 100 TotRew = 0 (21.020s)\n",
      "[17:28:03]  Trial 1 TotRew = 0 (0.224s)\n",
      "[17:28:23]  Trial 100 TotRew = 0 (20.161s)\n",
      "[17:28:23]  Trial 1 TotRew = 0 (0.222s)\n",
      "[17:28:44]  Trial 100 TotRew = 0 (20.493s)\n",
      "[17:28:44]  Trial 1 TotRew = 0 (0.216s)\n",
      "[17:29:05]  Trial 100 TotRew = 0 (20.577s)\n",
      "[17:29:05]  Trial 1 TotRew = 0 (0.206s)\n",
      "[17:29:26]  Trial 100 TotRew = 0 (20.545s)\n",
      "[17:29:26]  Trial 1 TotRew = 0 (0.202s)\n",
      "[17:29:47]  Trial 100 TotRew = 0 (21.353s)\n",
      "[17:29:47]  Trial 1 TotRew = 0 (0.226s)\n",
      "[17:30:08]  Trial 100 TotRew = 0 (20.649s)\n",
      "[17:30:08]  Trial 1 TotRew = 0 (0.232s)\n",
      "[17:30:30]  Trial 100 TotRew = 0 (21.987s)\n",
      "[17:30:30]  Trial 1 TotRew = 0 (0.214s)\n",
      "[17:30:51]  Trial 100 TotRew = 0 (20.362s)\n",
      "[17:30:51]  Trial 1 TotRew = 0 (0.211s)\n",
      "[17:31:12]  Trial 100 TotRew = 0 (20.541s)\n",
      "[17:31:12]  Trial 1 TotRew = 0 (0.229s)\n",
      "[17:31:33]  Trial 100 TotRew = 0 (20.724s)\n",
      "[17:31:33]  Trial 1 TotRew = 0 (0.218s)\n",
      "[17:31:54]  Trial 100 TotRew = 0 (20.999s)\n",
      "[17:31:54]  Trial 1 TotRew = 0 (0.215s)\n",
      "[17:32:15]  Trial 100 TotRew = 0 (20.972s)\n",
      "[17:32:15]  Trial 1 TotRew = 0 (0.228s)\n",
      "[17:32:37]  Trial 100 TotRew = 0 (21.918s)\n",
      "[17:32:38]  Trial 1 TotRew = 1 (0.217s)\n",
      "[17:32:58]  Trial 100 TotRew = 0 (20.327s)\n",
      "[17:32:58]  Trial 1 TotRew = 0 (0.230s)\n",
      "[17:33:19]  Trial 100 TotRew = 0 (20.400s)\n",
      "[17:33:19]  Trial 1 TotRew = 0 (0.235s)\n",
      "[17:33:40]  Trial 100 TotRew = 0 (20.766s)\n",
      "[17:33:40]  Trial 1 TotRew = 0 (0.220s)\n",
      "[17:34:00]  Trial 100 TotRew = 0 (20.302s)\n",
      "[17:34:00]  Trial 1 TotRew = 0 (0.219s)\n",
      "[17:34:21]  Trial 100 TotRew = 0 (20.861s)\n",
      "[17:34:21]  Trial 1 TotRew = 0 (0.241s)\n",
      "[17:34:43]  Trial 100 TotRew = 0 (21.989s)\n",
      "[17:34:44]  Trial 1 TotRew = 0 (0.227s)\n",
      "[17:35:04]  Trial 100 TotRew = 1 (20.431s)\n",
      "[17:35:04]  Trial 1 TotRew = 0 (0.222s)\n",
      "[17:35:25]  Trial 100 TotRew = 0 (20.510s)\n",
      "[17:35:25]  Trial 1 TotRew = 0 (0.226s)\n",
      "[17:35:45]  Trial 100 TotRew = 1 (19.418s)\n",
      "[17:35:45]  Trial 1 TotRew = 0 (0.239s)\n",
      "[17:36:06]  Trial 100 TotRew = 0 (20.894s)\n",
      "[17:36:06]  Trial 1 TotRew = 0 (0.243s)\n",
      "[17:36:26]  Trial 100 TotRew = 0 (19.973s)\n",
      "[17:36:26]  Trial 1 TotRew = 0 (0.213s)\n",
      "[17:36:47]  Trial 100 TotRew = 0 (21.130s)\n",
      "[17:36:48]  Trial 1 TotRew = 0 (0.235s)\n"
     ]
    }
   ],
   "source": [
    "#### run a bunch of trials to get rwds to average \n",
    "for i in range(100):\n",
    "    MF,opt = ac.make_agent(agent_params, freeze=False)\n",
    "    \n",
    "    agent_params['cachelim'] = int(0.5*np.prod(maze.grid.shape))\n",
    "\n",
    "    EC = ec.ep_mem(MF,agent_params['cachelim']) \n",
    "    \n",
    "    rpe = run_trials(run_dict, False)\n",
    "    with open('early_learn_mf_only.csv', 'a+') as csvFile:\n",
    "        writer = csv.writer(csvFile)\n",
    "        writer.writerows([run_dict['total_reward']])\n",
    "\n",
    "    writeFile.close()"
   ]
  },
  {
   "cell_type": "code",
   "execution_count": 13,
   "metadata": {},
   "outputs": [
    {
     "name": "stdout",
     "output_type": "stream",
     "text": [
      "[0, 0, 0, 0, 0, 0, 0, 0, 0, 0]\n"
     ]
    },
    {
     "data": {
      "image/png": "[encoded data removed]",
      "text/plain": [
       "<Figure size 432x288 with 1 Axes>"
      ]
     },
     "metadata": {
      "needs_background": "light"
     },
     "output_type": "display_data"
    }
   ],
   "source": [
    "plt.plot(run_dict['total_reward'], label='r')\n",
    "#plt.plot(run_dict['total_loss'][0], label='p')\n",
    "#plt.plot(run_dict['total_loss'][1], label='v')\n",
    "plt.legend(bbox_to_anchor=(1.1,1.1))\n",
    "\n",
    "print(run_dict['total_reward'][0:10])"
   ]
  },
  {
   "cell_type": "code",
   "execution_count": 16,
   "metadata": {},
   "outputs": [],
   "source": [
    "#early_learn_mf_only = run_dict['total_reward']\n",
    "#early_learn_w_ec = run_dict['total_reward']\n",
    "#late_learn_mf_only = run_dict['total_reward']\n",
    "#late_learn_w_ec = run_dict['total_reward']"
   ]
  },
  {
   "cell_type": "code",
   "execution_count": null,
   "metadata": {},
   "outputs": [],
   "source": [
    "print(len(run_dict['total_reward']))"
   ]
  },
  {
   "cell_type": "code",
   "execution_count": null,
   "metadata": {},
   "outputs": [],
   "source": [
    "fig, ax = plt.subplots(2,1, sharex = True, sharey=True)\n",
    "ax[0].plot(early_learning_w_ec, 'b', alpha =0.7, label = 'With EC')\n",
    "ax[0].plot(early_learn_mf_only, 'k--', alpha = 0.7, label=\"MF only\")\n",
    "\n",
    "ax[1].plot(late_learn_w_ec, 'r', label='With EC')\n",
    "ax[1].plot(late_learn_mf_only, 'k--', alpha = 0.7, label ='MF only')\n",
    "\n",
    "ax[0].legend(bbox_to_anchor = (1.0,.75))\n",
    "ax[1].legend(bbox_to_anchor = (1.0,.75))\n",
    "fig.savefig('compare.svg', format='svg')"
   ]
  },
  {
   "cell_type": "code",
   "execution_count": null,
   "metadata": {},
   "outputs": [],
   "source": [
    "plt.imshow(rpe) \n",
    "plt.colorbar()\n",
    "plt.show()"
   ]
  },
  {
   "cell_type": "code",
   "execution_count": null,
   "metadata": {},
   "outputs": [],
   "source": [
    "fig = plt.figure(figsize=(18, 16), dpi= 80, facecolor='w', edgecolor='k')\n",
    "cmap = plt.cm.Spectral_r\n",
    "cNorm = colors.Normalize(vmin=0, vmax=1)\n",
    "scalarMap = cmx.ScalarMappable(norm=cNorm, cmap = cmap)\n",
    "\n",
    "ax1 = fig.add_axes([0.04, 0, 0.85, 0.85])\n",
    "axc = fig.add_axes([0.8, 0, 0.05, 0.85])\n",
    "\n",
    "cb1 = colorbar.ColorbarBase(axc, cmap = cmap, norm = cNorm)\n",
    "ax1.imshow(maze.grid, vmin=0, vmax=1, cmap='bone', interpolation='none')\n",
    "ax1.add_patch(patches.Circle(maze.rwd_loc[0], 0.35, fc='w'))\n",
    "\n",
    "for entry in compare_policies.keys():\n",
    "    x = entry[0]\n",
    "    y = entry[1]\n",
    "    \n",
    "    ec_policy = compare_policies[entry][1][0] - compare_policies[entry][0][0]\n",
    "    action = np.argmax(ec_policy)\n",
    "    prob = max(ec_policy)\n",
    "    \n",
    "    dx1, dy1, head_w, head_l = gp.make_arrows(action,prob)\n",
    "    if prob > 1/4:\n",
    "        if (dx1, dy1) == (0,0):\n",
    "            pass\n",
    "        else:\n",
    "            colorVal1 = scalarMap.to_rgba(prob)\n",
    "            ax1.arrow(x,y, dx1, dy1, head_width=0.3, head_length=0.2, color = colorVal1)\n",
    "    else:\n",
    "        pass\n",
    "\n",
    "ax1.invert_yaxis()\n",
    "plt.show()\n",
    "plt.close()"
   ]
  },
  {
   "cell_type": "code",
   "execution_count": null,
   "metadata": {},
   "outputs": [],
   "source": [
    "x = compare_policies[(7,5)][1]\n",
    "for i in range(len(x)):\n",
    "    plt.bar(np.arange(6)+(0.1*i), x[i], width = 0.1, alpha = 0.3)\n",
    "    plt.bar(np.arange(6), np.ones(6)*0.16666667, width =0.1, color='k')\n",
    "plt.show()"
   ]
  },
  {
   "cell_type": "code",
   "execution_count": null,
   "metadata": {},
   "outputs": [],
   "source": [
    "\n",
    "\n"
   ]
  },
  {
   "cell_type": "code",
   "execution_count": null,
   "metadata": {},
   "outputs": [],
   "source": []
  },
  {
   "cell_type": "code",
   "execution_count": null,
   "metadata": {},
   "outputs": [],
   "source": [
    "print(len(DND.cache_list))\n",
    "def cosine_sim(mem_dict, key, **kwargs):\n",
    "    similarity_threshold = kwargs.get('threshold', 0.9)\n",
    "\n",
    "    mem_cache = np.asarray(list(mem_dict.keys()))\n",
    "    print(mem_cache.shape)\n",
    "    entry = np.asarray(key)\n",
    "\n",
    "    mqt = np.dot(mem_cache, entry)\n",
    "    norm = np.linalg.norm(mem_cache, axis=1) * np.linalg.norm(entry)\n",
    "\n",
    "    cosine_similarity = mqt / norm\n",
    "\n",
    "    index = np.argmax(cosine_similarity)\n",
    "    similar_activity = mem_cache[index]\n",
    "    if max(cosine_similarity) >= similarity_threshold:\n",
    "        return similar_activity, index, max(cosine_similarity)\n",
    "\n",
    "    else:\n",
    "        # print('max memory similarity:', max(cosine_similarity))\n",
    "        return [], [], max(cosine_similarity)\n",
    "\n",
    "def make_pvals(p, **kwargs):\n",
    "    envelope = kwargs.get('envelope', 50)\n",
    "    return np.round(1 / np.cosh(p / envelope),8)\n",
    "\n",
    "def softmax(x, T=1):\n",
    "    \"\"\"Compute softmax values for each sets of scores in x.\"\"\"\n",
    "    e_x = np.exp((x - np.max(x))/T)\n",
    "    return e_x / e_x.sum(axis=0) \n"
   ]
  },
  {
   "cell_type": "code",
   "execution_count": null,
   "metadata": {},
   "outputs": [],
   "source": [
    "state_key, ind, max_cs = cosine_sim(DND.cache_list, sts[0])\n",
    "print('sim', max_cs)\n",
    "memory = np.nan_to_num(DND.cache_list[tuple(state_key)][0])\n",
    "deltas = memory[:,0]\n",
    "print(deltas)\n",
    "rec_times = memory[:,1]\n",
    "print(\"rtimes\",rec_times)\n",
    "times        = abs(timestep - memory[:,1])\n",
    "print('tiems', times)\n",
    "pv =make_pvals(times)\n",
    "print(pv)\n",
    "\n",
    "mult = np.multiply(deltas, pv)\n",
    "print(softmax(max_cs*mult))"
   ]
  },
  {
   "cell_type": "code",
   "execution_count": null,
   "metadata": {},
   "outputs": [],
   "source": [
    "\n",
    "for i in sts[0:10]:\n",
    "    timestep = 1000\n",
    "    a = DND.recall_mem(key=i,timestep=timestep,env=100)\n",
    "    print(a,\"----\\n\")"
   ]
  },
  {
   "cell_type": "code",
   "execution_count": null,
   "metadata": {},
   "outputs": [],
   "source": [
    "cs =['r','g','b','c', 'y','pink']\n",
    "'''\n",
    "r = list(self.cache_list.keys())\n",
    "g = [t for e, t in self.cache_list.values()]\n",
    "b = lp = persistence_.index(min(persistence_))\n",
    "c = old_activity = cache_keys[lp]\n",
    "y = del self.cache_list[old_activity]\n",
    "'''\n",
    "plt.figure()\n",
    "for i in range(len(EC.stupid_df)):\n",
    "    xs = np.arange(len(EC.stupid_df[i]))\n",
    "    ys = EC.stupid_df[i]\n",
    "    \n",
    "    plt.scatter(xs, ys, c=cs[i], alpha=0.3)\n",
    "plt.ylim([-0.00002,0.00002])\n",
    "plt.show()"
   ]
  },
  {
   "cell_type": "code",
   "execution_count": null,
   "metadata": {},
   "outputs": [],
   "source": [
    "plt.figure(1)\n",
    "plt.plot(run_dict['total_reward'])\n",
    "plt.ylim([0,run_dict['NUM_EVENTS']])\n",
    " \n",
    "plt.figure(2)\n",
    "plt.plot(run_dict['total_loss'][0], label = 'pol')\n",
    "plt.plot(run_dict['total_loss'][1], label = 'val')\n",
    "plt.legend(loc=0)\n",
    "plt.show()\n",
    "plt.close()\n",
    "#gp.print_value_maps(maze, run_dict['val_maps'], maps=0, val_range=(-1,50), save_dir=fig_savedir, title='Value Map')"
   ]
  },
  {
   "cell_type": "code",
   "execution_count": null,
   "metadata": {},
   "outputs": [],
   "source": [
    "ac.torch.save(MF,agent_params['load_dir'])"
   ]
  },
  {
   "cell_type": "code",
   "execution_count": null,
   "metadata": {},
   "outputs": [],
   "source": []
  }
 ],
 "metadata": {
  "kernelspec": {
   "display_name": "Python 3",
   "language": "python",
   "name": "python3"
  },
  "language_info": {
   "codemirror_mode": {
    "name": "ipython",
    "version": 3
   },
   "file_extension": ".py",
   "mimetype": "text/x-python",
   "name": "python",
   "nbconvert_exporter": "python",
   "pygments_lexer": "ipython3",
   "version": "3.6.8"
  }
 },
 "nbformat": 4,
 "nbformat_minor": 2
}
