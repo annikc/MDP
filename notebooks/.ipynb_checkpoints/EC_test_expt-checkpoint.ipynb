{
 "cells": [
  {
   "cell_type": "code",
   "execution_count": 1,
   "metadata": {},
   "outputs": [],
   "source": [
    "import sys\n",
    "import numpy as np\n",
    "import matplotlib.pyplot as plt\n",
    "from importlib import reload\n",
    "sys.path.insert(0,'../environments/'); import gw\n",
    "sys.path.insert(0,'../environments/'); import gridworld_plotting as gp\n",
    "sys.path.insert(0,'../rl_network/'); import ac\n",
    "sys.path.insert(0,'../memory/'); import episodic as ec\n",
    "\n",
    "import experiment as expt\n",
    "\n",
    "#####\n",
    "import torch\n",
    "import time\n",
    "import math\n",
    "from sklearn.metrics.pairwise import cosine_similarity"
   ]
  },
  {
   "cell_type": "code",
   "execution_count": 2,
   "metadata": {
    "scrolled": false
   },
   "outputs": [],
   "source": [
    "def run_expt(NUM_TRIALS, NUM_EVENTS, env, agent, data,\n",
    "               **kwargs):\n",
    "    \n",
    "    print_freq  = kwargs.get('printfreq', 0.1)\n",
    "    \n",
    "    get_samples = kwargs.get('get_samples', False)\n",
    "    if get_samples:\n",
    "        sample_observations = env.get_sample_obs()\n",
    "    \n",
    "    around_reward = kwargs.get('around_reward', True)\n",
    "    start_radius  = kwargs.get('radius', 5)\n",
    "    \n",
    "    start_locs = kwargs.get('room', None)\n",
    "    \n",
    "    t = time.time()\n",
    "    for trial in range(NUM_TRIALS):\n",
    "        # reset environment, reinitialize agent in environment\n",
    "        env.resetEnvironment(around_rwd=around_reward, radius=start_radius)\n",
    "        \n",
    "        if start_locs is not None:\n",
    "            #st = np.random.choice(len(start_locs))\n",
    "            st = start_locs[trial]\n",
    "            env.set_state(env.twoD2oneD(start_locs[st]))\n",
    "        loc1 = env.oneD2twoD(env.state)\n",
    "        #env.set_state(env.twoD2oneD((19,19)))\n",
    "        # clear hidden layer cache if using lstm or gru cells\n",
    "        agent.reinit_hid()\n",
    "        reward_sum = 0\n",
    "\n",
    "        for event in range(NUM_EVENTS):\n",
    "            #get state observation\n",
    "            observation = torch.Tensor(np.expand_dims(env.get_observation(), axis=0))\n",
    "\n",
    "            #pass observation through network\n",
    "            policy_, value_ = agent(observation)\n",
    "\n",
    "            #select action from policy\n",
    "            choice = agent.select_action(policy_, value_)\n",
    "            action = env.action_list[choice][0]\n",
    "\n",
    "            #take a step in the environment\n",
    "\n",
    "            s_1d, reward, isdone = env.move(action)\n",
    "\n",
    "            agent.saved_rewards.append(reward)\n",
    "            reward_sum += reward\n",
    "            ###optional\n",
    "            #sar.append(env.state, action, reward) ## tracking oneD states\n",
    "            if isdone:\n",
    "                break\n",
    "\n",
    "        p_loss, v_loss = agent.finish_trial()\n",
    "        data['trial_length'].append(event)\n",
    "        data['total_reward'].append(reward_sum)\n",
    "        data['loss'][0].append(p_loss.item())\n",
    "        data['loss'][1].append(v_loss.item())\n",
    "        data['trials_run_to_date'] +=1\n",
    "        if get_samples:\n",
    "            pol_grid, val_grid = expt.get_snapshot(sample_observations, env,agent)\n",
    "            data['pol_tracking'].append(pol_grid)\n",
    "            data['val_tracking'].append(val_grid)\n",
    "            data['t'].append(trial)\n",
    "        \n",
    "        if trial ==0 or trial % int(print_freq*NUM_TRIALS)==0 or trial == NUM_TRIALS-1:\n",
    "            print(f\"{trial}: start at {loc1} {reward_sum} ({time.time()-t}s)\")\n",
    "            \n",
    "            #num_states = len(env.useable)\n",
    "            #cos_sim = np.zeros((num_states,num_states))\n",
    "\n",
    "            #observations = env.get_sample_obs()\n",
    "            #p,v,lin_acts4 = agent(torch.Tensor(observations[0]), lin_act=4)\n",
    "            \n",
    "            #LA4 = lin_acts4.data.numpy()\n",
    "            \n",
    "\n",
    "            #cs4 = cosine_similarity(LA4,LA4)\n",
    "            \n",
    "            #plt.figure(0)\n",
    "            #plt.pcolor(cs4)\n",
    "            #plt.show()\n",
    "            t = time.time()\n",
    "\n",
    "        if around_reward and trial > 0 and trial == int(NUM_TRIALS/2): #np.mean(data['trial_length'][-20:])< 2*start_radius:\n",
    "            print(trial)\n",
    "            #around_reward = False\n",
    "            \n",
    "def run_mem_expt(NUM_TRIALS, NUM_EVENTS, env, agent, episodic, data,\n",
    "               **kwargs):\n",
    "    print_freq  = kwargs.get('printfreq', 0.1)\n",
    "    \n",
    "    get_samples = kwargs.get('get_samples', False)\n",
    "    if get_samples:\n",
    "        sample_observations = env.get_sample_obs()\n",
    "    \n",
    "    around_reward = kwargs.get('around_reward', True)\n",
    "    start_radius  = kwargs.get('radius', 5)\n",
    "    \n",
    "    episodic.reset_cache() ##NEW\n",
    "    ploss_scale = 0 ##NEW\n",
    "    mfc_env     = ec.calc_env(halfmax = 3.12) ##NEW\n",
    "    recency_env = ec.calc_env(halfmax = 2000) ##NEW\n",
    "    mem_entropy = kwargs.get('mem_entropy', 1) ##NEW\n",
    "    timestamp   = 0 ##NEW\n",
    "    \n",
    "    t = time.time()\n",
    "    f_ = False\n",
    "    for trial in range(NUM_TRIALS):\n",
    "        # reset environment, reinitialize agent in environment\n",
    "        env.resetEnvironment(around_rwd=around_reward, radius=start_radius)\n",
    "        \n",
    "        # clear hidden layer cache if using lstm or gru cells\n",
    "        agent.reinit_hid()\n",
    "        reward_sum = 0\n",
    "        \n",
    "        MF_confidence = episodic.make_pvals(ploss_scale, envelope=mfc_env) ##NEW\n",
    "        data['mfcs'].append(MF_confidence)\n",
    "        memory_buffer = [[],[],[],[], trial] ##NEW\n",
    "        \n",
    "        print(trial, \"trial\")\n",
    "\n",
    "        for event in range(NUM_EVENTS):\n",
    "            #get state observation\n",
    "            observation = torch.Tensor(np.expand_dims(env.get_observation(), axis=0))\n",
    "\n",
    "            #pass observation through network\n",
    "            policy_, value_, lin_act_ = agent(observation, lin_act = 2)\n",
    "            lin_act = tuple(np.round(lin_act_.data[0].numpy(), 4)) ##NEW\n",
    "            \n",
    "            #choose which policy to use based on MF confidence\n",
    "            which_pol = np.random.choice(['MF', 'EC'], p = [MF_confidence, 1-MF_confidence])\n",
    "\n",
    "            if which_pol == 'EC':\n",
    "                memory_policy = torch.from_numpy(episodic.recall_mem(lin_act, \n",
    "                                                               timestamp, \n",
    "                                                               env=recency_env, \n",
    "                                                               mem_temp=mem_entropy))\n",
    "                choice = agent.select_ec_action(policy_, value_, memory_policy)\n",
    "            \n",
    "            else:\n",
    "                #select action from policy\n",
    "                choice = agent.select_action(policy_, value_)\n",
    "\n",
    "            action = env.action_list[choice][0]\n",
    "            \n",
    "            memory_buffer[0].append(timestamp)\n",
    "            memory_buffer[1].append(lin_act)\n",
    "            memory_buffer[2].append(choice)\n",
    "            memory_buffer[3].append(env.oneD2twoD(env.state))\n",
    "            \n",
    "            #take a step in the environment\n",
    "            s_1d, reward, isdone = env.move(action)\n",
    "\n",
    "            agent.saved_rewards.append(reward)\n",
    "            reward_sum += reward\n",
    "            \n",
    "            timestamp += 1\n",
    "            print(event,reward)\n",
    "            \n",
    "            if isdone:\n",
    "                f_ = True\n",
    "                break\n",
    "        \n",
    "        p_loss, v_loss = agent.finish_trial_EC(cache=episodic, buffer=memory_buffer)\n",
    "        ploss_scale = abs(p_loss.item())\n",
    "        data['trial_length'].append(event)\n",
    "        data['total_reward'].append(reward_sum)\n",
    "        data['loss'][0].append(p_loss.item())\n",
    "        data['loss'][1].append(v_loss.item())\n",
    "        data['trials_run_to_date'] +=1\n",
    "        if get_samples:\n",
    "            pol_grid, val_grid = expt.get_snapshot(sample_observations, env,agent)\n",
    "            mem_grid = ac.mem_snapshot(env,episodic_memory,trial_timestamp = trial,\n",
    "                                   decay = recency_env, mem_temp = mem_entropy, get_vals= False)\n",
    "            data['ec_tracking'].append(mem_grid)\n",
    "            data['pol_tracking'].append(pol_grid)\n",
    "            data['val_tracking'].append(val_grid)\n",
    "            data['t'].append(trial)\n",
    "        \n",
    "        \n",
    "        if trial ==0 or trial == NUM_TRIALS-1: #or trial % int(print_freq*NUM_TRIALS)==0 \n",
    "            print(f\"{trial}: {reward_sum} ({time.time()-t}s)\")\n",
    "            t = time.time()\n",
    "\n",
    "        if around_reward and trial > 0 and trial == int(NUM_TRIALS/2):#np.mean(data['trial_length'][-20:])< 2*start_radius:\n",
    "            print(trial)\n",
    "            around_reward = False\n",
    "        if f_:\n",
    "            break"
   ]
  },
  {
   "cell_type": "code",
   "execution_count": 38,
   "metadata": {
    "scrolled": false
   },
   "outputs": [
    {
     "name": "stdout",
     "output_type": "stream",
     "text": [
      "rho <class 'float'>\n"
     ]
    }
   ],
   "source": [
    "reload(gw)\n",
    "rerun = False\n",
    "\n",
    "rows, columns = 15, 10\n",
    "env_type = None\n",
    "penalty = -0.01 \n",
    "\n",
    "NUM_TRIALS = 3000\n",
    "NUM_EVENTS = 100\n",
    "\n",
    "\n",
    "if not rerun:\n",
    "    reward_location = (3,3)\n",
    "    env = gw.GridWorld(rows=rows,cols=columns,\n",
    "                       env_type=env_type,\n",
    "                       rewards = {reward_location:1, (10,7):-10},#rewards={(int(rows/2),int(columns/2)):1},#\n",
    "                       step_penalization=penalty,\n",
    "                       rho=0.0,\n",
    "                       rewarded_action = None)\n",
    "    \n",
    "    agent_params = {\n",
    "        'load_model':  False,\n",
    "        'load_dir':    f'../data/outputs/gridworld/openfield{rows}{columns}.pt',\n",
    "        'freeze_w':    False,\n",
    "\n",
    "        'input_dims':  env.observation.shape,\n",
    "        'action_dims': len(env.action_list),\n",
    "        'hidden_types':['conv','pool','conv', 'pool', 'linear','linear'],\n",
    "        'hidden_dims': [None, None, None, None, 100, 200],\n",
    "\n",
    "        'rfsize':      5,\n",
    "        'stride':      1,\n",
    "        'padding':     1,\n",
    "        'dilation':    1,\n",
    "\n",
    "        'gamma':       0.98,\n",
    "        'eta':         5e-4,\n",
    "\n",
    "        'use_EC':      True,\n",
    "        'EC':          {},\n",
    "        'cachelim':    300,\n",
    "        'mem_temp':    1\n",
    "        }\n",
    "    agent = ac.make_agent(agent_params)\n",
    "    episodic_memory = ec.ep_mem(agent, 300)\n",
    "    data = {'total_reward': [],\n",
    "            'loss': [[],[]],\n",
    "            'trial_length': [],\n",
    "            'trials_run_to_date':0,\n",
    "            'pol_tracking':[],\n",
    "            'val_tracking':[],\n",
    "            'ec_tracking': [],\n",
    "            't': [],\n",
    "            'mfcs':[]\n",
    "           }\n",
    "\n",
    "else:\n",
    "    reward_location = (16,3)\n",
    "    env = gw.GridWorld(rows=rows,cols=columns,\n",
    "                       env_type=env_type,\n",
    "                       rewards = {reward_location:1},#rewards={(int(rows/2),int(columns/2)):1},#\n",
    "                       step_penalization=penalty,\n",
    "                       rho=0.0,\n",
    "                       rewarded_action = None)"
   ]
  },
  {
   "cell_type": "code",
   "execution_count": 39,
   "metadata": {},
   "outputs": [
    {
     "data": {
      "image/png": "[encoded data removed]",
      "text/plain": [
       "<Figure size 252x378 with 1 Axes>"
      ]
     },
     "metadata": {},
     "output_type": "display_data"
    }
   ],
   "source": [
    "reload(gw)\n",
    "fig = gw.plotWorld(env,current_state=True,scale=0.35, states=True) \n",
    "rooms = {'1': [], '2':[], '3':[], '4':[]}\n",
    "for i in range(rows):\n",
    "    for j in range(columns):\n",
    "        if (i,j) in env.obstacles_list:\n",
    "            pass\n",
    "        else:\n",
    "            if i < 5:\n",
    "                if j <5:\n",
    "                    rooms['1'].append((i,j))\n",
    "                if j >5:\n",
    "                    rooms['2'].append((i,j))\n",
    "                if j ==5: \n",
    "                    rooms['1'].append((i,j))\n",
    "                    rooms['2'].append((i,j))\n",
    "            if i >5:\n",
    "                if j <5:\n",
    "                    rooms['3'].append((i,j))\n",
    "                if j >5:\n",
    "                    rooms['4'].append((i,j))\n",
    "                if j ==5: \n",
    "                    rooms['3'].append((i,j))\n",
    "                    rooms['4'].append((i,j))\n",
    "\n",
    "            if i == 5:\n",
    "                if j<5:\n",
    "                    rooms['1'].append((i,j))\n",
    "                    rooms['3'].append((i,j))\n",
    "                if j>5: \n",
    "                    rooms['2'].append((i,j))\n",
    "                    rooms['4'].append((i,j))"
   ]
  },
  {
   "cell_type": "code",
   "execution_count": 49,
   "metadata": {},
   "outputs": [
    {
     "name": "stdout",
     "output_type": "stream",
     "text": [
      "[(11, 1), (2, 5), (11, 8), (2, 2), (5, 1), (4, 4), (14, 1), (3, 0), (5, 6), (1, 6), (7, 0), (0, 2), (0, 4), (14, 9), (1, 2), (8, 9), (6, 2), (8, 5), (3, 5), (5, 2), (14, 2), (13, 3), (2, 5), (10, 9), (13, 6), (14, 8), (13, 7), (12, 6), (0, 1), (8, 0), (5, 3), (12, 1), (0, 1), (7, 2), (4, 8), (10, 0), (2, 8), (8, 2), (6, 7), (2, 5), (11, 0), (3, 5), (10, 6), (8, 3), (12, 1), (7, 5), (13, 5), (7, 3), (10, 2), (3, 5), (12, 0), (6, 1), (12, 1), (14, 6), (6, 9), (12, 7), (1, 4), (0, 6), (13, 0), (0, 8), (6, 1), (1, 0), (9, 8), (0, 3), (5, 1), (1, 1), (14, 7), (3, 9), (12, 9), (6, 7), (13, 6), (8, 5), (13, 0), (0, 0), (10, 6), (7, 3), (9, 0), (1, 1), (2, 9), (12, 2), (13, 1), (0, 0), (2, 9), (1, 0), (11, 0), (12, 0), (7, 2), (13, 3), (1, 7), (13, 5), (3, 5), (1, 7), (8, 8), (5, 2), (3, 4), (6, 0), (12, 7), (8, 1), (8, 1), (5, 9), (5, 6), (12, 4), (9, 4), (6, 3), (4, 4), (4, 4), (5, 9), (8, 8), (4, 8), (0, 3), (12, 1), (1, 8), (8, 0), (14, 1), (7, 8), (4, 1), (6, 3), (9, 5), (12, 9), (11, 1), (14, 8), (4, 6), (9, 4), (12, 9), (12, 3), (7, 6), (4, 9), (13, 7), (2, 8), (2, 8), (6, 1), (1, 5), (0, 0), (2, 6), (11, 5), (2, 0), (12, 8), (11, 0), (9, 5), (10, 8), (0, 8), (9, 0), (4, 0), (6, 2), (6, 9), (2, 8), (4, 4), (10, 9), (7, 3), (9, 2), (0, 2), (2, 1), (3, 8), (12, 2), (8, 8), (3, 1), (6, 7), (5, 4), (3, 7), (8, 8), (2, 9), (3, 1), (4, 5), (9, 1), (4, 2), (13, 4), (3, 4), (12, 4), (2, 3), (4, 3), (8, 9), (0, 3), (2, 3), (3, 0), (3, 9), (4, 3), (11, 4), (14, 7), (8, 8), (7, 2), (4, 6), (13, 7), (4, 6), (11, 4), (4, 7), (0, 0), (9, 3), (9, 6), (7, 4), (8, 4), (5, 6), (14, 7), (1, 2), (4, 3), (13, 8), (2, 4), (14, 0), (8, 2), (14, 6), (0, 8), (1, 2), (12, 3), (1, 2), (14, 2), (12, 6), (11, 4), (2, 3), (0, 5), (0, 7), (3, 5), (13, 0), (12, 1), (4, 0), (5, 1), (12, 3), (7, 3), (7, 5), (14, 1), (0, 9), (14, 5), (0, 6), (3, 6), (14, 0), (11, 2), (9, 1), (6, 9), (1, 3), (9, 2), (4, 5), (0, 0), (10, 9), (9, 8), (2, 2), (2, 4), (6, 6), (13, 6), (11, 0), (8, 5), (5, 3), (6, 3), (8, 8), (0, 9), (13, 1), (13, 9), (9, 0), (3, 3), (2, 1), (1, 2), (3, 2), (0, 3), (4, 7), (13, 9), (12, 1), (1, 4), (3, 4), (4, 2), (10, 4), (10, 5), (12, 1), (1, 5), (9, 2), (3, 1), (6, 2), (14, 3), (13, 8), (7, 5), (8, 0), (3, 3), (8, 4), (4, 8), (4, 5), (4, 0), (2, 2), (3, 1), (10, 3), (13, 9), (1, 5), (9, 4), (2, 4), (8, 2), (13, 2), (2, 5), (9, 0), (8, 4), (13, 7), (10, 4), (0, 5), (8, 2), (9, 0), (6, 8), (5, 5), (3, 4), (11, 2), (0, 4), (6, 4), (11, 9), (13, 8), (5, 7), (1, 9), (6, 9), (12, 7), (10, 7), (10, 9), (12, 5), (1, 0), (7, 4), (4, 9), (9, 9), (1, 7), (5, 8), (14, 4), (4, 0), (1, 7), (3, 8), (12, 0), (13, 3), (10, 5), (12, 2), (14, 2), (13, 6), (14, 3), (3, 6), (1, 3), (9, 4), (10, 6), (5, 8), (6, 3), (8, 7), (5, 5), (3, 6), (12, 3), (9, 5), (13, 4), (6, 7), (0, 0), (13, 4), (3, 7), (3, 1), (5, 9), (3, 3), (2, 8), (4, 4), (3, 6), (10, 8), (0, 9), (10, 7), (5, 2), (9, 8), (14, 2), (9, 3), (11, 7), (5, 5), (2, 5), (13, 2), (10, 0), (12, 1), (5, 2), (12, 8), (5, 6), (8, 5), (9, 7), (2, 7), (14, 8), (12, 3), (12, 6), (10, 7), (6, 5), (9, 4), (4, 8), (14, 1), (9, 7), (12, 0), (10, 6), (11, 5), (10, 8), (12, 9), (6, 0), (11, 6), (0, 1), (0, 4), (7, 6), (11, 9), (2, 4), (10, 4), (5, 2), (10, 8), (1, 3), (6, 2), (6, 5), (1, 9), (6, 3), (7, 0), (4, 2), (1, 5), (14, 6), (6, 2), (7, 5), (7, 8), (6, 7), (1, 6), (3, 6), (14, 1), (13, 3), (6, 0), (13, 6), (13, 2), (3, 3), (11, 7), (1, 3), (7, 1), (4, 0), (10, 0), (12, 7), (12, 7), (0, 6), (10, 2), (6, 3), (5, 7), (1, 6), (12, 8), (9, 7), (11, 1), (10, 2), (8, 8), (0, 3), (6, 2), (3, 7), (10, 5), (9, 2), (8, 9), (11, 6), (10, 2), (13, 0), (8, 9), (3, 7), (9, 3), (12, 9), (12, 7), (0, 2), (2, 4), (3, 4), (8, 4), (5, 0), (11, 9), (8, 2), (12, 3), (4, 2), (13, 8), (14, 1), (12, 7), (9, 5), (2, 1), (6, 6), (8, 6), (6, 0), (8, 8), (3, 4), (9, 0), (1, 0), (6, 8), (1, 9), (2, 7), (3, 9), (8, 6), (14, 5), (1, 8), (10, 1), (0, 9), (1, 7), (11, 5), (1, 5), (7, 9), (5, 7), (3, 8), (2, 1), (12, 9), (8, 9), (0, 3), (6, 1), (1, 7), (10, 8), (2, 4), (12, 1), (1, 6), (7, 4), (14, 7), (2, 7), (12, 7), (3, 7), (7, 2), (3, 9), (2, 4), (11, 7), (0, 1), (5, 4), (9, 4), (1, 6), (2, 4), (12, 7), (5, 0), (8, 4), (6, 2), (2, 6), (12, 8), (4, 5), (9, 8), (12, 8), (13, 6), (2, 9), (3, 8), (2, 1), (7, 7), (5, 8), (12, 4), (11, 4), (1, 9), (12, 5), (7, 9), (6, 7), (6, 3), (12, 7), (6, 5), (2, 2), (4, 9), (13, 7), (2, 0), (9, 8), (6, 1), (10, 2), (2, 1), (14, 9), (2, 4), (14, 0), (1, 1), (7, 0), (12, 8), (13, 1), (13, 2), (10, 6), (6, 4), (6, 5), (10, 2), (8, 2), (13, 6), (4, 4), (0, 3), (10, 1), (2, 7), (2, 4), (5, 4), (4, 1), (11, 4), (5, 5), (5, 9), (11, 2), (12, 4), (1, 6), (7, 0), (0, 1), (9, 5), (6, 2), (1, 0), (3, 7), (5, 2), (7, 3), (8, 3), (13, 5), (10, 4), (7, 7), (13, 1), (12, 0), (8, 0), (9, 8), (7, 5), (1, 1), (0, 3), (12, 2), (11, 7), (14, 8), (6, 6), (9, 7), (8, 1), (12, 4), (9, 6), (5, 1), (7, 7), (13, 7), (11, 7), (5, 5), (13, 6), (1, 4), (5, 0), (1, 9), (11, 8), (11, 2), (6, 8), (9, 9), (10, 1), (10, 5), (3, 0), (11, 6), (6, 1), (12, 3), (0, 7), (7, 9), (3, 3), (1, 3), (10, 2), (2, 1), (0, 8), (11, 2), (2, 3), (9, 7), (9, 0), (4, 9), (14, 6), (8, 6), (12, 6), (6, 3), (6, 7), (6, 0), (11, 1), (9, 4), (10, 3), (8, 3), (9, 8), (14, 6), (11, 8), (10, 4), (11, 6), (13, 3), (6, 6), (4, 3), (13, 1), (6, 5), (14, 4), (13, 1), (10, 6), (11, 7), (6, 2), (6, 6), (8, 7), (8, 5), (3, 2), (0, 4), (13, 3), (8, 2), (4, 9), (13, 8), (11, 2), (14, 0), (11, 1), (0, 5), (5, 1), (11, 5), (10, 6), (8, 2), (5, 6), (12, 2), (14, 6), (8, 5), (0, 9), (6, 6), (10, 8), (4, 1), (8, 9), (1, 8), (10, 8), (14, 5), (4, 2), (11, 6), (12, 1), (2, 9), (1, 0), (1, 6), (0, 8), (4, 2), (2, 3), (10, 4), (3, 2), (13, 5), (8, 4), (5, 8), (13, 9), (3, 7), (7, 4), (3, 7), (6, 6), (11, 0), (7, 7), (8, 7), (0, 6), (11, 0), (12, 6), (8, 1), (10, 7), (4, 5), (11, 6), (2, 3), (3, 3), (2, 6), (1, 3), (12, 5), (5, 5), (3, 3), (5, 6), (1, 1), (1, 6), (14, 7), (5, 5), (6, 8), (13, 7), (12, 6), (5, 9), (1, 5), (7, 4), (12, 5), (10, 0), (1, 1), (7, 2), (4, 3), (4, 3), (3, 9), (7, 6), (1, 5), (7, 7), (6, 4), (8, 4), (10, 3), (4, 6), (1, 3), (9, 2), (14, 4), (3, 7), (4, 2), (10, 5), (2, 3), (2, 6), (11, 2), (5, 1), (11, 7), (4, 7), (5, 8), (13, 8), (14, 7), (12, 1), (7, 6), (4, 3), (3, 6), (14, 8), (3, 1), (9, 6), (7, 6), (5, 1), (9, 2), (8, 0), (14, 0), (6, 7), (13, 4), (9, 0), (9, 5), (2, 1), (14, 3), (2, 0), (11, 0), (7, 9), (6, 7), (10, 1), (3, 3), (2, 2), (0, 4), (5, 2), (14, 7), (2, 9), (5, 4), (0, 8), (10, 4), (14, 7), (13, 1), (2, 5), (2, 3), (2, 5), (0, 9), (13, 8), (5, 7), (8, 3), (7, 1), (7, 4), (9, 6), (12, 9), (10, 7), (8, 0), (1, 2), (0, 7), (6, 2), (0, 0), (0, 7), (9, 3), (12, 4), (10, 3), (4, 3), (6, 5), (1, 9), (11, 3), (11, 5), (14, 5), (6, 7), (13, 8), (6, 2), (9, 7), (3, 2), (11, 8), (3, 9), (5, 6), (4, 2), (11, 0), (3, 9), (4, 0), (5, 3), (5, 1), (11, 3), (5, 8), (9, 5), (8, 8), (1, 5), (1, 0), (3, 8), (8, 7), (7, 2), (0, 5), (4, 2), (4, 6), (0, 0), (13, 5), (12, 4), (4, 6), (11, 4), (10, 6), (7, 1), (4, 9), (10, 1), (13, 5), (14, 2), (4, 4), (13, 7), (1, 3), (6, 0), (5, 6), (6, 5), (11, 6), (6, 7), (5, 4), (3, 1), (13, 1), (9, 4), (6, 6), (7, 3), (5, 8), (8, 4), (11, 0), (9, 9), (9, 7), (10, 7), (2, 3), (7, 5), (2, 6), (6, 1), (5, 6), (10, 5), (11, 3), (7, 6), (13, 3), (1, 8), (9, 7), (1, 9), (7, 7), (3, 4), (4, 5), (0, 6), (5, 6), (1, 6), (3, 6), (1, 2), (6, 4), (7, 2), (14, 3), (4, 5), (14, 7), (3, 6), (3, 9), (9, 2), (11, 3), (4, 1), (0, 2), (0, 1), (9, 0), (13, 1), (11, 4), (0, 5), (14, 1), (8, 3), (10, 3), (4, 1), (0, 6), (8, 3), (9, 2), (1, 5), (2, 7), (4, 0), (7, 3), (13, 4), (3, 4), (6, 3), (7, 0), (10, 4), (6, 4), (8, 3), (13, 6), (4, 0), (12, 0), (12, 6), (5, 4), (5, 3), (13, 8), (3, 5), (12, 5), (8, 7), (13, 9), (7, 4), (14, 8), (11, 8), (10, 7), (9, 2), (0, 5), (7, 4), (4, 6), (10, 7), (10, 7), (7, 6), (7, 5), (3, 3), (9, 3), (9, 0), (2, 7), (10, 9), (3, 0), (2, 2), (5, 2), (11, 2), (6, 2), (8, 7), (12, 0), (2, 6), (4, 3), (4, 0), (14, 6), (7, 8), (0, 8), (0, 9), (13, 0), (4, 0), (10, 5), (12, 9), (0, 6), (14, 0), (10, 0), (6, 3), (9, 0), (6, 9), (13, 9), (1, 9), (13, 0), (4, 1), (1, 0), (10, 1), (7, 1), (2, 3), (10, 2), (2, 9), (11, 9), (11, 4), (0, 7), (1, 1), (10, 3), (6, 8), (1, 8), (11, 6), (3, 9), (8, 0), (2, 5), (13, 2), (0, 6), (13, 4), (3, 1), (6, 8), (10, 5), (9, 6), (13, 3), (13, 2), (10, 9), (12, 9), (0, 5), (8, 2), (12, 3), (1, 6), (11, 3), (6, 0), (5, 5), (14, 5), (14, 3), (0, 0), (7, 3), (6, 2), (6, 7), (0, 7), (2, 6), (1, 8), (0, 6), (0, 2), (0, 4), (3, 7), (9, 4), (0, 6), (11, 3), (12, 2), (1, 7), (4, 3), (13, 8), (6, 3), (1, 7), (5, 0), (6, 1), (10, 6), (6, 6), (0, 3), (12, 6), (10, 9), (12, 4), (6, 9), (3, 8), (0, 7), (0, 1), (14, 6), (1, 5), (9, 6), (6, 2), (13, 0), (14, 4), (12, 8), (3, 7), (8, 7), (10, 0), (12, 2), (9, 0), (14, 4), (10, 2), (13, 7), (11, 3), (7, 6), (10, 4), (12, 7), (2, 2), (0, 1), (4, 3), (1, 1), (4, 7), (0, 3), (0, 1), (0, 7), (10, 0), (6, 8), (3, 8), (0, 2), (1, 0), (6, 8), (13, 9), (11, 8), (5, 6), (1, 9), (0, 2), (0, 9), (8, 8), (11, 6), (12, 4), (11, 1), (10, 5), (8, 2), (5, 8), (0, 4), (9, 4), (7, 8), (5, 9), (11, 2), (9, 5), (13, 1), (14, 0), (11, 7), (8, 5), (5, 0), (5, 8), (5, 3), (12, 8), (7, 3), (4, 8), (7, 6), (4, 1), (0, 0), (3, 0), (14, 7), (10, 1), (1, 1), (5, 7), (7, 5), (6, 9), (4, 1), (9, 9), (4, 1), (4, 3), (7, 1), (14, 4), (11, 7), (6, 8), (9, 5), (6, 6), (10, 5), (7, 3), (7, 4), (10, 0), (3, 1), (14, 6), (10, 6), (5, 4), (4, 2), (9, 3), (14, 7), (13, 0), (12, 0), (14, 8), (8, 1), (5, 6), (4, 0), (10, 6), (3, 6), (5, 5), (1, 4), (14, 2), (11, 9), (2, 2), (0, 6), (10, 0), (7, 3), (9, 1), (1, 4), (0, 7), (3, 5), (2, 5), (8, 2), (7, 8), (2, 2), (7, 9), (2, 7), (10, 4), (8, 8), (12, 4), (10, 7), (13, 6), (14, 3), (4, 3), (1, 6), (6, 4), (7, 2), (4, 9), (5, 9), (14, 6), (1, 3), (4, 6), (5, 2), (6, 6), (13, 2), (10, 8), (0, 4), (1, 4), (8, 8), (2, 2), (7, 6), (5, 7), (0, 7), (0, 7), (7, 7), (11, 0), (0, 5), (0, 0), (8, 3), (1, 5), (8, 4), (4, 6), (14, 2), (10, 2), (5, 0), (11, 2), (12, 5), (13, 5), (4, 5), (5, 4), (8, 0), (8, 4), (3, 0), (4, 2), (3, 4), (7, 8), (1, 7), (11, 7), (10, 9), (0, 4), (11, 5), (2, 4), (10, 1), (3, 8), (2, 1), (6, 6), (4, 4), (9, 4), (14, 5), (3, 5), (5, 4), (14, 7), (14, 1), (14, 9), (9, 9), (10, 9), (5, 4), (0, 5), (12, 0), (12, 2), (10, 8), (4, 8), (14, 4), (0, 5), (3, 3), (6, 4), (2, 9), (0, 0), (11, 8), (11, 7), (10, 9), (5, 5), (1, 6), (12, 0), (5, 4), (14, 3), (4, 4), (5, 8), (5, 3), (13, 4), (13, 7), (13, 9), (6, 4), (7, 0), (5, 1), (9, 5), (2, 1), (2, 4), (10, 1), (2, 8), (2, 7), (8, 1), (9, 1), (4, 8), (8, 4), (11, 6), (3, 3), (3, 8), (2, 9), (4, 8), (14, 0), (5, 2), (6, 7), (8, 5), (8, 5), (7, 1), (0, 9), (3, 8), (10, 0), (3, 8), (13, 8), (5, 7), (4, 4), (8, 0), (10, 8), (2, 5), (8, 6), (5, 3), (3, 9), (12, 1), (11, 1), (4, 5), (8, 7), (12, 7), (4, 0), (10, 9), (11, 0), (14, 1), (13, 3), (4, 3), (3, 0), (7, 0), (8, 4), (5, 6), (13, 4), (2, 6), (10, 9), (6, 5), (11, 5), (10, 5), (5, 4), (1, 2), (9, 4), (6, 9), (6, 3), (10, 3), (10, 8), (11, 9), (9, 9), (12, 3), (10, 1), (13, 0), (6, 4), (4, 4), (5, 7), (9, 3), (9, 4), (1, 1), (10, 3), (11, 3), (1, 1), (7, 9), (10, 4), (5, 7), (7, 5), (7, 9), (9, 1), (9, 1), (11, 8), (2, 2), (12, 8), (3, 6), (3, 0), (0, 2), (8, 1), (11, 6), (13, 3), (10, 9), (4, 2), (5, 3), (1, 8), (8, 9), (14, 8), (6, 9), (4, 0), (2, 0), (9, 9), (6, 8), (1, 7), (13, 9), (2, 8), (14, 1), (0, 1), (12, 9), (9, 2), (11, 9), (11, 8), (2, 2), (14, 8), (0, 1), (12, 3), (14, 1), (1, 5), (9, 4), (7, 9), (1, 8), (3, 8), (0, 9), (6, 7), (7, 7), (9, 0), (7, 8), (14, 0), (9, 6), (14, 6), (12, 6), (5, 9), (11, 3), (2, 0), (10, 7), (1, 2), (14, 2), (14, 4), (5, 3), (2, 8), (2, 9), (3, 0), (3, 6), (9, 9), (13, 6), (10, 5), (13, 3), (4, 2), (5, 9), (9, 4), (10, 9), (2, 6), (13, 2), (2, 5), (4, 7), (7, 9), (7, 8), (8, 1), (6, 9), (11, 8), (7, 8), (8, 2), (1, 2), (5, 7), (9, 2), (9, 3), (0, 7), (5, 4), (13, 1), (11, 4), (11, 8), (1, 0), (2, 2), (5, 8), (11, 9), (10, 5), (12, 0), (10, 3), (1, 9), (0, 6), (3, 9), (9, 1), (1, 6), (8, 7), (3, 0), (12, 7), (11, 5), (8, 2), (5, 1), (0, 8), (14, 2), (14, 4), (7, 7), (10, 5), (10, 2), (4, 8), (3, 9), (7, 8), (6, 5), (1, 3), (13, 0), (9, 7), (9, 2), (5, 2), (3, 8), (9, 8), (4, 4), (4, 9), (3, 5), (11, 9), (7, 1), (0, 5), (9, 9), (13, 9), (5, 6), (10, 4), (4, 8), (14, 0), (6, 7), (2, 3), (3, 8), (5, 7), (10, 1), (9, 4), (14, 0), (13, 9), (9, 8), (6, 5), (11, 9), (3, 3), (4, 7), (9, 3), (7, 5), (2, 4), (13, 9), (4, 9), (12, 3), (7, 5), (10, 3), (7, 8), (6, 5), (2, 6), (14, 1), (0, 8), (10, 8), (3, 2), (10, 8), (1, 2), (14, 6), (2, 3), (1, 7), (12, 2), (1, 2), (2, 7), (3, 4), (13, 9), (0, 0), (7, 9), (9, 0), (2, 4), (10, 0), (2, 7), (3, 4), (13, 5), (5, 1), (8, 8), (7, 5), (10, 6), (2, 9), (8, 8), (14, 9), (0, 9), (3, 2), (13, 4), (0, 3), (9, 8), (11, 1), (6, 7), (12, 1), (2, 0), (7, 8), (6, 1), (3, 4), (6, 9), (10, 5), (2, 8), (0, 0), (2, 3), (6, 7), (14, 3), (9, 7), (8, 9), (7, 1), (1, 4), (10, 8), (14, 1), (12, 8), (14, 5), (6, 6), (11, 7), (2, 4), (13, 2), (10, 3), (12, 7), (11, 0), (2, 1), (7, 3), (9, 6), (11, 3), (10, 0), (14, 3), (4, 8), (7, 1), (1, 4), (2, 9), (3, 8), (12, 8), (8, 7), (12, 4), (13, 1), (0, 9), (3, 3), (6, 3), (14, 3), (7, 4), (8, 5), (5, 5), (7, 6), (10, 4), (6, 1), (13, 3), (5, 1), (9, 5), (13, 7), (14, 9), (2, 9), (7, 9), (0, 8), (8, 3), (0, 0), (0, 6), (13, 1), (8, 5), (6, 3), (8, 9), (3, 0), (1, 7), (12, 3), (5, 4), (0, 9), (11, 7), (12, 4), (3, 1), (9, 6), (8, 6), (11, 7), (3, 2), (10, 4), (10, 1), (13, 9), (6, 1), (14, 0), (6, 5), (6, 0), (12, 6), (12, 6), (9, 0), (8, 7), (12, 8), (6, 4), (3, 1), (11, 1), (4, 8), (10, 8), (7, 2), (4, 4), (14, 6), (11, 0), (5, 9), (1, 2), (8, 6), (5, 2), (12, 6), (1, 7), (2, 9), (13, 4), (11, 2), (11, 0), (14, 5), (8, 4), (2, 0), (9, 4), (4, 4), (1, 0), (0, 3), (11, 9), (0, 4), (14, 6), (7, 9), (5, 7), (12, 9), (0, 6), (13, 7), (9, 1), (2, 8), (3, 6), (10, 9), (12, 0), (0, 8), (0, 1), (2, 2), (11, 6), (2, 6), (2, 7), (5, 5), (6, 0), (9, 2), (4, 0), (12, 2), (6, 9), (4, 5), (1, 7), (13, 4), (6, 9), (10, 9), (12, 3), (4, 2), (11, 4), (6, 0), (11, 1), (7, 2), (7, 5), (0, 1), (10, 3), (0, 7), (13, 1), (12, 9), (14, 5), (12, 3), (8, 9), (1, 8), (7, 5), (14, 0), (14, 1), (5, 9), (3, 7), (14, 6), (4, 4), (3, 6), (14, 5), (7, 4), (8, 4), (12, 3), (3, 5), (4, 6), (3, 9), (5, 8), (7, 6), (12, 7), (5, 6), (8, 5), (2, 6), (5, 3), (7, 0), (14, 7), (4, 0), (3, 0), (1, 5), (3, 1), (8, 9), (12, 8), (7, 9), (11, 2), (11, 5), (5, 7), (4, 7), (0, 2), (14, 1), (13, 9), (6, 8), (14, 0), (6, 5), (3, 2), (4, 6), (1, 7), (0, 3), (12, 7), (4, 6), (10, 2), (7, 5), (0, 3), (9, 5), (9, 1), (11, 7), (6, 2), (2, 1), (2, 3), (9, 9), (3, 7), (6, 6), (5, 9), (2, 3), (1, 0), (6, 4), (3, 3), (6, 5), (0, 4), (8, 4), (0, 2), (9, 8), (3, 5), (6, 8), (1, 3), (12, 8), (8, 0), (4, 7), (8, 5), (2, 7), (14, 2), (0, 6), (1, 0), (10, 7), (12, 4), (7, 9), (1, 3), (5, 6), (8, 1), (11, 4), (1, 8), (2, 1), (7, 0), (8, 6), (13, 9), (11, 1), (10, 4), (12, 5), (8, 1), (5, 4), (5, 6), (3, 9), (14, 8), (4, 1), (7, 0), (2, 1), (1, 9), (13, 9), (1, 5), (11, 7), (4, 0), (13, 1), (4, 6), (12, 3), (14, 5), (3, 6), (5, 5), (5, 0), (7, 7), (9, 7), (3, 2), (12, 3), (5, 2), (2, 7), (14, 2), (13, 7), (8, 0), (7, 7), (0, 0), (6, 0), (4, 3), (12, 5), (11, 6), (7, 0), (12, 4), (3, 0), (13, 7), (14, 4), (3, 9), (3, 2), (3, 2), (1, 4), (10, 6), (0, 3), (2, 0), (4, 2), (10, 6), (11, 3), (10, 7), (0, 2), (9, 1), (11, 1), (0, 8), (0, 8), (14, 4), (10, 2), (6, 4), (10, 0), (9, 1), (10, 8), (5, 9), (1, 8), (10, 0), (13, 8), (10, 1), (5, 0), (0, 2), (2, 9), (8, 4), (7, 6), (11, 5), (10, 5), (13, 0), (6, 3), (6, 6), (11, 5), (8, 6), (12, 2), (4, 0), (0, 6), (7, 8), (5, 5), (7, 4), (14, 5), (13, 5), (6, 2), (14, 1), (9, 0), (0, 9), (13, 3), (10, 4), (11, 7), (10, 2), (0, 6), (0, 3), (8, 7), (11, 2), (4, 1), (9, 0), (6, 8), (11, 2), (12, 6), (12, 2), (5, 8), (6, 1), (2, 5), (11, 8), (14, 2), (10, 4), (4, 7), (0, 4), (12, 0), (13, 6), (12, 7), (14, 3), (8, 6), (1, 8), (3, 7), (7, 7), (8, 3), (8, 6), (14, 0), (3, 4), (10, 1), (0, 0), (0, 2), (8, 2), (4, 7), (10, 9), (9, 4), (14, 5), (2, 4), (3, 2), (7, 0), (8, 6), (5, 5), (3, 0), (1, 4), (8, 1), (8, 1), (12, 6), (14, 8), (2, 0), (1, 6), (4, 6), (4, 2), (8, 7), (7, 2), (10, 0), (12, 0), (6, 7), (7, 3), (1, 7), (1, 9), (10, 1), (10, 8), (5, 0), (14, 3), (3, 6), (10, 1), (14, 1), (4, 1), (2, 7), (9, 3), (7, 7), (14, 8), (13, 7), (10, 4), (8, 6), (9, 9), (6, 1), (1, 8), (6, 6), (11, 3), (1, 7), (11, 1), (11, 3), (1, 5), (11, 9), (11, 3), (4, 8), (13, 0), (14, 7), (14, 6), (12, 9), (5, 1), (10, 7), (5, 9), (3, 0), (9, 4), (14, 8), (6, 4), (7, 0), (7, 3), (8, 7), (3, 1), (11, 5), (0, 4), (4, 3), (11, 3), (5, 0), (5, 9), (5, 2), (7, 6), (8, 6), (11, 5), (13, 4), (1, 4), (2, 8), (0, 8), (6, 0), (0, 4), (13, 7), (13, 1), (13, 2), (0, 8), (6, 9), (9, 9), (6, 1), (5, 5), (8, 9), (13, 1), (4, 5), (11, 6), (12, 8), (9, 2), (14, 1), (14, 1), (14, 9), (12, 6), (5, 0), (14, 8), (7, 5), (9, 5), (11, 1), (14, 0), (0, 5), (5, 3), (0, 9), (2, 4), (13, 1), (7, 4), (3, 1), (13, 2), (14, 8), (4, 8), (8, 1), (8, 3), (11, 4), (3, 1), (9, 3), (2, 7), (6, 0), (2, 4), (14, 5), (9, 7), (10, 3), (7, 6), (3, 4), (0, 4), (6, 4), (3, 5), (12, 5), (1, 1), (9, 6), (3, 7), (8, 5), (9, 0), (4, 8), (6, 9), (3, 2), (4, 4), (7, 1), (0, 2), (4, 9), (14, 9), (0, 9), (7, 2), (9, 5), (14, 9), (4, 1), (5, 0), (5, 2), (5, 4), (2, 3), (2, 7), (10, 2), (13, 6), (13, 3), (12, 6), (2, 5), (0, 1), (5, 3), (11, 3), (3, 7), (11, 0), (14, 7), (12, 7), (2, 2), (0, 5), (6, 3), (10, 0), (1, 0), (4, 9), (5, 9), (5, 4), (1, 4), (12, 6), (8, 3), (12, 9), (2, 9), (8, 2), (1, 8), (9, 9), (12, 5), (11, 9), (6, 5), (12, 8), (5, 8), (1, 8), (9, 3), (13, 4), (14, 3), (9, 1), (9, 6), (1, 3), (8, 5), (8, 8), (5, 7), (12, 6), (7, 1), (14, 2), (13, 0), (2, 5), (6, 3), (0, 8), (12, 7), (5, 1), (13, 2), (0, 5), (13, 8), (13, 1), (3, 5), (8, 1), (2, 6), (2, 3), (7, 7), (14, 5), (2, 9), (14, 5), (11, 0), (8, 0), (1, 9), (10, 3), (3, 5), (0, 4), (12, 5), (4, 8), (1, 2), (7, 2), (2, 7), (2, 7), (13, 5), (0, 2), (5, 0), (3, 5), (14, 6), (8, 2), (4, 1), (9, 3), (14, 9), (1, 3), (0, 1), (12, 8), (1, 0), (13, 7), (11, 4), (6, 0), (5, 3), (4, 8), (1, 9), (7, 8), (0, 1), (11, 0), (8, 7), (8, 9), (12, 2), (4, 5), (14, 4), (1, 6), (2, 8), (10, 0), (11, 4), (2, 1), (3, 8), (3, 2), (6, 1), (4, 7), (0, 9), (3, 8), (13, 4), (2, 0), (12, 5), (6, 3), (14, 9), (3, 8), (10, 1), (1, 4), (1, 1), (4, 1), (4, 1), (6, 6), (4, 4), (3, 3), (6, 4), (2, 2), (0, 3), (8, 9), (4, 5), (1, 3), (1, 3), (5, 7), (1, 7), (11, 2), (3, 5), (4, 7), (7, 8), (4, 2), (9, 3), (9, 9), (8, 8), (9, 3), (13, 5), (2, 6), (11, 4), (13, 1), (8, 5), (1, 4), (13, 5), (11, 9), (12, 2), (4, 5), (1, 3), (7, 0), (5, 7), (2, 5), (2, 8), (13, 0), (14, 2), (11, 6), (9, 2), (13, 2), (2, 3), (0, 5), (5, 8), (12, 1), (7, 2), (3, 3), (1, 4), (8, 1), (4, 5), (5, 5), (10, 0), (10, 7), (1, 1), (7, 4), (8, 7), (13, 5), (4, 2), (6, 1), (9, 5), (4, 4), (12, 1), (9, 3), (7, 9), (11, 6), (7, 1), (5, 5), (8, 8), (7, 9), (4, 3), (7, 4), (9, 8), (12, 5), (12, 4), (10, 5), (9, 6), (14, 2), (4, 3), (14, 4), (11, 2), (13, 8), (12, 2), (14, 3), (8, 0), (2, 8), (9, 2), (4, 3), (13, 2), (10, 6), (11, 3), (3, 0), (12, 5), (14, 7), (6, 5), (3, 0), (13, 4), (1, 5), (3, 4), (14, 9), (13, 2), (14, 3), (12, 2), (10, 2), (9, 8), (12, 2), (8, 9), (2, 6), (1, 6), (0, 2), (2, 1), (9, 0), (13, 8), (14, 7), (6, 2), (5, 3), (5, 8), (5, 3), (5, 1), (2, 1), (10, 3), (4, 0), (2, 4), (0, 4), (7, 7), (12, 3), (14, 9), (2, 5), (6, 3), (1, 3), (4, 2), (12, 6), (13, 3), (9, 9), (14, 4), (14, 6), (11, 1), (13, 0), (2, 4), (14, 2), (9, 6), (11, 0), (3, 9), (14, 3), (1, 2), (8, 2), (3, 3), (11, 3), (4, 9), (4, 9), (4, 0), (9, 8), (11, 8), (0, 8), (3, 4), (5, 8), (8, 7), (7, 1), (8, 4), (11, 1), (14, 0), (13, 0), (14, 9), (11, 6), (13, 4), (6, 9), (12, 9), (3, 7), (7, 3), (5, 1), (6, 0), (1, 3), (1, 1), (5, 2), (12, 1), (4, 5), (10, 3), (7, 5), (3, 1), (0, 4), (11, 8), (10, 8), (13, 7), (1, 7), (5, 6), (8, 3), (6, 1), (9, 8), (7, 7), (14, 6), (2, 1), (9, 1), (5, 4), (7, 8), (7, 9), (13, 6), (4, 8), (13, 4), (7, 1), (3, 3), (7, 2), (5, 7), (12, 8), (7, 2), (14, 8), (14, 8), (1, 0), (9, 9), (13, 3), (14, 4), (5, 0), (13, 3), (4, 7), (14, 4), (12, 5), (11, 4), (0, 7), (3, 9), (7, 3), (9, 5), (6, 8), (6, 0), (11, 9), (1, 5), (7, 0), (1, 4), (4, 7), (5, 1), (7, 3), (3, 1), (10, 3), (8, 8), (1, 6), (6, 0), (13, 8), (14, 3), (7, 1), (9, 7), (6, 9), (9, 1), (11, 2), (8, 6), (2, 5), (13, 0), (8, 5), (7, 6), (7, 0), (2, 0), (4, 4), (14, 0), (6, 4), (2, 5), (5, 2), (12, 3), (7, 0), (14, 9), (9, 8), (6, 4), (12, 5), (1, 8), (13, 5), (0, 1), (14, 2), (2, 5), (12, 9), (1, 2), (13, 5), (3, 7), (8, 8), (8, 1), (8, 3), (12, 4), (14, 9), (3, 1), (9, 0), (0, 1), (6, 2), (14, 8), (8, 4), (4, 9), (10, 0), (0, 2), (7, 1), (1, 0), (9, 9), (2, 2), (10, 2), (11, 2), (14, 9), (8, 9), (7, 4), (10, 7), (3, 7), (10, 6), (8, 9), (0, 3), (12, 0), (12, 3), (1, 6), (6, 5), (4, 6), (7, 1), (9, 1), (7, 6), (11, 9), (4, 1), (6, 2), (7, 2), (9, 2), (14, 0), (7, 1), (14, 5), (12, 9), (2, 0), (10, 5), (3, 9), (2, 6), (0, 5), (11, 2), (8, 0), (9, 7), (0, 8), (9, 9), (5, 2), (9, 6), (7, 4), (0, 6), (0, 0), (8, 3), (7, 4), (14, 7), (4, 3), (5, 7), (10, 7), (2, 7), (13, 3), (3, 2), (3, 1), (14, 9), (8, 0), (2, 8), (12, 4), (7, 9), (1, 2), (4, 1), (11, 1), (6, 8), (3, 3), (6, 4), (5, 4), (7, 8), (7, 7), (8, 1), (9, 8), (9, 2), (6, 1), (11, 0), (1, 5), (5, 0), (8, 3), (4, 1), (7, 6), (3, 6), (4, 4), (9, 5), (11, 8), (9, 1), (2, 9), (9, 6), (9, 5), (8, 0), (5, 3), (13, 9), (4, 0), (12, 5), (11, 4), (1, 0), (6, 8), (5, 0), (0, 7), (13, 5), (8, 2), (0, 2), (1, 1), (12, 8), (3, 3), (4, 7), (13, 4), (3, 4), (7, 8), (14, 0), (13, 4), (7, 3), (1, 1), (7, 3), (13, 8), (5, 2), (9, 8), (1, 9), (11, 5), (11, 9), (4, 8), (11, 9), (8, 0), (11, 0), (14, 8), (12, 0), (3, 7), (13, 6), (13, 5), (2, 8), (5, 2), (4, 7), (2, 0), (4, 6), (4, 6), (0, 3), (1, 9), (8, 6), (13, 0), (5, 7), (1, 0), (4, 1), (7, 7), (14, 7), (7, 1), (9, 1), (1, 7), (6, 8), (3, 5), (14, 2), (11, 8), (8, 0), (9, 6), (5, 3), (6, 1), (8, 3), (3, 2), (2, 1), (14, 3), (12, 4), (12, 5), (8, 7), (3, 1), (1, 8), (5, 8), (7, 9), (1, 1), (11, 8), (1, 6), (9, 3), (10, 1), (14, 2), (11, 3), (4, 5), (12, 2), (2, 2), (13, 9), (4, 2), (10, 3), (0, 7), (3, 0), (13, 3), (10, 5), (12, 5), (9, 7), (2, 6), (9, 9), (3, 2), (2, 0), (9, 2), (11, 9), (10, 6), (6, 0), (14, 9), (8, 4), (1, 4), (5, 3), (12, 0), (4, 5), (9, 2), (6, 1), (2, 2), (1, 9), (13, 0), (13, 8), (13, 5), (0, 0), (13, 2), (8, 9), (11, 8), (0, 1), (0, 4), (10, 8), (12, 1), (10, 5), (1, 1), (9, 5), (9, 6), (0, 5), (14, 8), (2, 9), (3, 6), (3, 0), (0, 4), (0, 8), (4, 8), (6, 9), (6, 8), (14, 2), (13, 0), (0, 7), (12, 9), (8, 3), (2, 8), (2, 2), (14, 1), (10, 0), (11, 4), (5, 6), (0, 5), (7, 6), (3, 2), (1, 8), (12, 0), (12, 7), (13, 5), (6, 9), (3, 0), (5, 0), (11, 3), (6, 6), (8, 9), (4, 7), (2, 0), (14, 9), (1, 8), (10, 3), (10, 4), (14, 3), (14, 9), (12, 1), (8, 0), (7, 8), (8, 2), (13, 6), (10, 8), (5, 8), (11, 4), (13, 7), (13, 6), (2, 1), (2, 8), (6, 7), (5, 4), (12, 9), (13, 6), (8, 2), (13, 3), (11, 9), (14, 5), (6, 2), (2, 8), (8, 3), (6, 6), (7, 5), (1, 9), (3, 9), (7, 7), (3, 6), (0, 5), (8, 1), (4, 6), (8, 6), (12, 5), (6, 0), (1, 0), (11, 4), (9, 8), (6, 5), (3, 5), (8, 6), (10, 6), (5, 3), (3, 9), (0, 7), (1, 4), (9, 7), (13, 4), (7, 1), (11, 6), (12, 4), (6, 5), (8, 5), (8, 7), (4, 9), (13, 2), (9, 9), (3, 2), (8, 7), (7, 4), (14, 4), (3, 4), (2, 7), (1, 2), (0, 6), (7, 8), (5, 5), (8, 6), (5, 1), (8, 6), (11, 7), (5, 8), (11, 6), (7, 5), (4, 6), (1, 4), (11, 5), (4, 9), (0, 0), (2, 0), (8, 1), (11, 8), (13, 2), (8, 5), (14, 7), (5, 9), (5, 5), (3, 6), (1, 6), (0, 5), (13, 8), (3, 4), (9, 4), (6, 3), (2, 3), (4, 9), (10, 6), (4, 7), (11, 5), (11, 6), (8, 9), (8, 4), (2, 3), (5, 1), (9, 3), (8, 3), (1, 9), (14, 4), (10, 4), (0, 9), (5, 9), (10, 2), (7, 2), (0, 7), (13, 7), (5, 0), (8, 0), (5, 0), (10, 7), (2, 5), (6, 5), (0, 7), (5, 3), (10, 7), (13, 8), (12, 9), (10, 9), (11, 2), (9, 1), (6, 8), (14, 6), (5, 1), (7, 5), (13, 6), (9, 8), (7, 2), (0, 3), (3, 2), (4, 6), (9, 6), (11, 5), (12, 1), (1, 9), (7, 0), (9, 3), (6, 0), (1, 4), (11, 1), (7, 4), (1, 3), (9, 3), (4, 7), (6, 6), (10, 9), (11, 1), (10, 2), (2, 0), (0, 2), (12, 0), (1, 2), (5, 7), (12, 1), (11, 1), (13, 9), (10, 2), (3, 8), (14, 4), (3, 8), (13, 2), (1, 5), (0, 9), (14, 5), (7, 6), (14, 5), (0, 1), (2, 0), (0, 9), (4, 9), (12, 8), (2, 6), (5, 9), (9, 1), (1, 8), (7, 2), (8, 8), (11, 8), (12, 0), (3, 5), (3, 6), (11, 5), (8, 6), (0, 8), (4, 9), (6, 8), (4, 5), (13, 2), (9, 7), (9, 5), (1, 2), (4, 9), (12, 4), (2, 0), (8, 1), (5, 0), (7, 0), (14, 4), (10, 3), (9, 6), (6, 7), (13, 5), (4, 5), (11, 5), (1, 5), (6, 4), (12, 2), (2, 6), (5, 9), (3, 4), (2, 8), (13, 6), (9, 7), (0, 2), (11, 7), (11, 7), (12, 6), (10, 9), (6, 4), (8, 5), (12, 2), (7, 7), (3, 5), (9, 6), (1, 1), (2, 6), (10, 6), (10, 1), (5, 6), (0, 6), (10, 7), (2, 9), (7, 0), (11, 5), (10, 1), (9, 7), (6, 9), (9, 1), (4, 7), (2, 0), (9, 7), (7, 3), (7, 9), (14, 3)]\n"
     ]
    },
    {
     "data": {
      "image/png": "[encoded data removed]",
      "text/plain": [
       "<Figure size 504x360 with 2 Axes>"
      ]
     },
     "metadata": {
      "needs_background": "light"
     },
     "output_type": "display_data"
    },
    {
     "data": {
      "image/png": "[encoded data removed]",
      "text/plain": [
       "<Figure size 504x360 with 2 Axes>"
      ]
     },
     "metadata": {
      "needs_background": "light"
     },
     "output_type": "display_data"
    }
   ],
   "source": [
    "import random \n",
    "sample_observations = env.get_sample_obs()\n",
    "shuf = 20*(env.useable)\n",
    "random.shuffle(shuf)\n",
    "print(shuf)\n",
    "reload(gp)\n",
    "#run_expt(NUM_TRIALS, NUM_EVENTS, env, agent, data, get_samples=False, printfreq = 0.1, around_reward=False)\n",
    "pol_grid, val_grid = expt.get_snapshot(sample_observations, env,agent)\n",
    "gp.plot_polmap(env, pol_grid, threshold = 0.25)\n",
    "gp.plot_valmap(env, val_grid, v_range = [0,1])\n"
   ]
  },
  {
   "cell_type": "code",
   "execution_count": null,
   "metadata": {},
   "outputs": [],
   "source": [
    "fig, ax = plt.subplots(2,1, sharex=True)\n",
    "#ax[0].plot(data['trial_length'])\n",
    "ax[0].plot(gp.running_mean(data['total_reward'],10))\n",
    "ax[1].plot(data['loss'][0], label='p')\n",
    "ax[1].plot(data['loss'][1], label='v')\n",
    "ax[1].legend(loc=0)\n",
    "ax[0].set_ylim([-1.,1])\n",
    "plt.show()\n",
    "sample_observations = env.get_sample_obs()\n",
    "pol_grid, val_grid = expt.get_snapshot(sample_observations, env,agent)\n",
    "valmin = np.floor(np.min(val_grid))\n",
    "valmax = np.ceil(np.max(val_grid))\n",
    "\n",
    "gp.plot_polmap(env, pol_grid, threshold = 0.25, save=False, directory = './Blake Meeting/', title='p_after reward switch 7500', filetype='svg')\n",
    "gp.plot_valmap(env, val_grid, v_range = [-0.5,1], save=False, directory = './Blake Meeting/', title='v_after reward switch 7500', filetype='svg')"
   ]
  },
  {
   "cell_type": "code",
   "execution_count": null,
   "metadata": {
    "scrolled": true
   },
   "outputs": [],
   "source": [
    "reload(ec)\n",
    "episodic_memory = ec.ep_mem(agent, 300)\n",
    "run_mem_expt(NUM_TRIALS, NUM_EVENTS, env, agent, episodic_memory, data, get_samples=True, printfreq=0.01)"
   ]
  },
  {
   "cell_type": "code",
   "execution_count": null,
   "metadata": {},
   "outputs": [],
   "source": [
    "from sklearn.decomposition import PCA\n",
    "\n",
    "pca = PCA(n_components=2)\n",
    "\n",
    "observations = env.get_sample_obs()\n",
    "states = observations[1]\n",
    "c = np.zeros(len(states))\n",
    "for ind, x in enumerate(states):\n",
    "    if x in rooms['1']:\n",
    "        c[ind] = 1\n",
    "    elif x in rooms['2']:\n",
    "        c[ind] =2\n",
    "    elif x in rooms['3']:\n",
    "        c[ind] = 3\n",
    "    elif x in rooms['4']:\n",
    "        c[ind] = 4\n",
    "p,v,lin_acts4 = agent(torch.Tensor(observations[0]), lin_act=4)\n",
    "\n",
    "LA4 = lin_acts4.data.numpy()\n",
    "\n",
    "k = pca.fit_transform(LA4)\n",
    "plt.scatter(k[:,0],k[:,1],c=c, cmap =plt.cm.get_cmap('Accent_r',5))\n",
    "plt.colorbar(ticks=range(4))\n",
    "plt.show()"
   ]
  },
  {
   "cell_type": "code",
   "execution_count": null,
   "metadata": {},
   "outputs": [],
   "source": [
    "\n",
    "num_states = len(env.useable)\n",
    "cos_sim = np.zeros((num_states,num_states))\n",
    "\n",
    "observations = env.get_sample_obs()\n",
    "p,v,lin_acts4 = agent(torch.Tensor(observations[0]), lin_act=4)\n",
    "p,v,lin_acts5 = agent(torch.Tensor(observations[0]), lin_act=5)\n",
    "\n",
    "LA4 = lin_acts4.data.numpy()\n",
    "LA5 = lin_acts5.data.numpy()\n",
    "\n",
    "cs4 = cosine_similarity(LA4,LA4)\n",
    "cs5 = cosine_similarity(LA5,LA5)\n",
    "\n",
    "plt.figure(0)\n",
    "plt.pcolor(cs4)\n",
    "plt.figure(1)\n",
    "plt.pcolor(cs5)\n",
    "plt.show()"
   ]
  },
  {
   "cell_type": "code",
   "execution_count": null,
   "metadata": {
    "scrolled": false
   },
   "outputs": [],
   "source": [
    "from scipy.stats import pearsonr\n",
    "\n",
    "\n",
    "index =  52\n",
    "ind_state = env.oneD2twoD(index)\n",
    "cos_map4 = cs4[index,:]\n",
    "\n",
    "def euc(x,y):\n",
    "    return math.sqrt(sum([(a - b) ** 2 for a, b in zip(x, y)]))\n",
    "\n",
    "index_map4 = np.zeros((rows,columns))\n",
    "euc4 = [[],[]]\n",
    "for ind, c in enumerate(cos_map4):\n",
    "    coord = env.oneD2twoD(ind)\n",
    "    index_map4[coord[0],coord[1]] = c\n",
    "    euc4[0].append(euc(ind_state,coord))\n",
    "    euc4[1].append(c)\n",
    "    \n",
    "cos_map5 = cs5[index,:]\n",
    "euc5 = [[],[]]\n",
    "index_map5 = np.zeros((rows,columns))\n",
    "for ind, c in enumerate(cos_map5):\n",
    "    coord = env.oneD2twoD(ind)\n",
    "    index_map5[coord[0],coord[1]] = c\n",
    "    \n",
    "    euc5[0].append(euc(ind_state,coord))\n",
    "    euc5[1].append(c)\n",
    "    \n",
    "gp.plot_valmap(env,index_map4, rwds= [env.oneD2twoD(index)],title='Similarity in Layer 4 Representations')\n",
    "gp.plot_valmap(env,index_map5, rwds= [env.oneD2twoD(index)],title='Similarity in Layer 5 Representations')\n",
    "\n",
    "plt.scatter(euc4[0],euc4[1],label = f'R={np.round(pearsonr(euc4[0], euc4[1])[0],4)}')\n",
    "plt.scatter(euc5[0],euc5[1],label = f'R={np.round(pearsonr(euc5[0], euc5[1])[0],4)}')\n",
    "plt.legend(loc=0)"
   ]
  },
  {
   "cell_type": "code",
   "execution_count": null,
   "metadata": {},
   "outputs": [],
   "source": [
    "from scipy.stats import pearsonr\n",
    "corr, _ = pearsonr(data1, data2)"
   ]
  },
  {
   "cell_type": "code",
   "execution_count": null,
   "metadata": {},
   "outputs": [],
   "source": [
    "recency_env = ec.calc_env(halfmax = 20)\n",
    "mem_temp = 0.3\n",
    "state = torch.Tensor([env.get_observation(agtlocation=(9,16))])\n",
    "p_, v_, l_ = agent(state, lin_act=2)\n",
    "lin_act = tuple(np.round(l_.data[0].numpy(), 4))\n",
    "track = []\n",
    "\n",
    "for i in range(0,sum(data['trial_length']),500):\n",
    "    memory_policy = torch.from_numpy(episodic_memory.recall_mem(lin_act, \n",
    "                                                               i, \n",
    "                                                               env=recency_env, mem_temp=mem_temp))\n",
    "    track.append(memory_policy.data.numpy())\n",
    "print(env.action_list)\n",
    "print(memory_policy)"
   ]
  },
  {
   "cell_type": "code",
   "execution_count": null,
   "metadata": {},
   "outputs": [],
   "source": [
    "#mat = np.array(list[episodic_memory.cache_list.keys()])\n",
    "true_key, sim = episodic_memory.cosine_sim(lin_act)\n",
    "entry = episodic_memory.cache_list[true_key]"
   ]
  },
  {
   "cell_type": "code",
   "execution_count": null,
   "metadata": {},
   "outputs": [],
   "source": [
    "for i in range(len(track[0])):\n",
    "    plt.plot(track[i], label=env.action_list[i])\n",
    "plt.xlim([0,10])\n",
    "plt.legend(loc=0)"
   ]
  },
  {
   "cell_type": "code",
   "execution_count": null,
   "metadata": {},
   "outputs": [],
   "source": [
    "\n",
    "#plt.savefig('./Blake Meeting/Total_reward.svg', format='svg')"
   ]
  },
  {
   "cell_type": "code",
   "execution_count": null,
   "metadata": {},
   "outputs": [],
   "source": [
    "print(env.obstacles_list)"
   ]
  },
  {
   "cell_type": "code",
   "execution_count": null,
   "metadata": {},
   "outputs": [],
   "source": []
  },
  {
   "cell_type": "code",
   "execution_count": null,
   "metadata": {},
   "outputs": [],
   "source": [
    "import pickle\n",
    "pickle.dump(data, open('../Blake Meeting/simple_network/MFEC.p', 'wb'))"
   ]
  },
  {
   "cell_type": "code",
   "execution_count": null,
   "metadata": {},
   "outputs": [],
   "source": [
    "savestring = f'../data/outputs/gridworld/4rooms{rows}{columns}.pt'\n",
    "ac.torch.save(agent,savestring)"
   ]
  },
  {
   "cell_type": "code",
   "execution_count": null,
   "metadata": {},
   "outputs": [],
   "source": [
    "reload(ac)\n",
    "for i in range(0,1):\n",
    "    abcd, efgh = ac.mem_snapshot(env, \n",
    "                           episodic_memory, \n",
    "                           trial_timestamp = 3, \n",
    "                           decay           = ec.calc_env(halfmax = 2000), \n",
    "                           mem_temp        = 1,\n",
    "                                get_vals=True)#agent_params['mem_temp'])\n",
    "    gp.plot_polmap(env, abcd,save=False, threshold = 0.22, title='ec_pol_new_rwd')"
   ]
  },
  {
   "cell_type": "code",
   "execution_count": null,
   "metadata": {},
   "outputs": [],
   "source": [
    "pol_grid = np.zeros(env.shape, dtype=[('D', 'f8'), ('U', 'f8'), ('R', 'f8'), ('L', 'f8'), ('J', 'f8'), ('P', 'f8')])\n",
    "for i in range(rows):\n",
    "    for j in range(columns):\n",
    "        obs = torch.Tensor(np.expand_dims(env.get_observation(agtlocation= (i,j)), axis=0))\n",
    "        p,v, lin_act = agent(obs, lin_act=2)\n",
    "        h = tuple(np.round(lin_act.data[0].numpy(),4))\n",
    "        h_mem, sim = episodic_memory.cosine_sim(h)\n",
    "        \n",
    "        infos = episodic_memory.cache_list[h_mem]\n",
    "        \n",
    "        \n",
    "        memory = infos[0]\n",
    "        t = infos[1]\n",
    "        state = infos[2]\n",
    "        \n",
    "        decay = 20\n",
    "        p_val = np.round( 1/ np.cosh((len(data['trial_length'])-t)/decay), 8)\n",
    "        \n",
    "        p_prime = np.nan_to_num(memory[:,0])\n",
    "        policy = tuple(ec.softmax(sim*p_prime))\n",
    "        print(f'({i},{j}) {sim} with {state}:\\n{p_prime}\\n{policy}\\n======')\n",
    "        if sim < 0.8:\n",
    "            pol_grid[i,j] = tuple(ec.softmax([1,1,1,1,1,1]))\n",
    "        else:\n",
    "            pol_grid[i,j] = policy"
   ]
  },
  {
   "cell_type": "code",
   "execution_count": null,
   "metadata": {},
   "outputs": [],
   "source": [
    "print(len(data['trial_length']))\n",
    "gp.plot_polmap(env, pol_grid)"
   ]
  },
  {
   "cell_type": "code",
   "execution_count": null,
   "metadata": {},
   "outputs": [],
   "source": [
    "i,j = (10,2)\n",
    "print(pol_grid[i,j])"
   ]
  },
  {
   "cell_type": "code",
   "execution_count": null,
   "metadata": {},
   "outputs": [],
   "source": [
    "fig, ax = plt.subplots(ncols=3, nrows=2)\n",
    "for x in env.action_list:\n",
    "    gp.plot_valmap(env, efgh[x[0]], v_range = [0,1], title=x)\n"
   ]
  },
  {
   "cell_type": "code",
   "execution_count": null,
   "metadata": {},
   "outputs": [],
   "source": [
    "for x in list(episodic_memory.cache_list.values()):\n",
    "    print(f'=====\\n{x[2]}\\n{x[0]}')"
   ]
  },
  {
   "cell_type": "code",
   "execution_count": null,
   "metadata": {},
   "outputs": [],
   "source": [
    "a = np.zeros((3,6))"
   ]
  },
  {
   "cell_type": "code",
   "execution_count": null,
   "metadata": {},
   "outputs": [],
   "source": []
  },
  {
   "cell_type": "code",
   "execution_count": null,
   "metadata": {},
   "outputs": [],
   "source": []
  },
  {
   "cell_type": "code",
   "execution_count": null,
   "metadata": {},
   "outputs": [],
   "source": []
  },
  {
   "cell_type": "code",
   "execution_count": null,
   "metadata": {},
   "outputs": [],
   "source": [
    "print(env.state, oneD2twoD(env.state, env.shape))\n",
    "fig = plotWorld(env,current_state=False)\n",
    "\n",
    "num_steps = 10\n",
    "moves = True\n",
    "if moves:\n",
    "    for _ in range(num_steps):\n",
    "        if _ == 0:\n",
    "            action_choice = \"\"\n",
    "        start_at = oneD2twoD(env.state, env.shape)\n",
    "        # draw state\n",
    "        agent_y, agent_x = oneD2twoD(env.state, env.shape)\n",
    "        agent_dot = plt.Circle((agent_x + .5, agent_y + .5), 0.35, fc='b')\n",
    "        fig.gca().add_artist(agent_dot)\n",
    "\n",
    "        # select action\n",
    "        action_choice = random_policy(env)\n",
    "        env.move(action_choice)\n",
    "\n",
    "        print(f\"{start_at}:{action_choice} --> {oneD2twoD(env.state, env.shape)}\")\n",
    "        text = plt.gcf().text(0.1, 0.9, f'Agent Chooses: {action_choice}', fontsize=14)\n",
    "\n",
    "        plt.pause(1)\n",
    "        plt.draw()\n",
    "        dx1, dy1, head_w, head_l = make_arrows(env.action_dict[action_choice])\n",
    "        if action_choice == 'P':\n",
    "            arrow = plt.text(agent_x+0.49, agent_y+0.6, \"*\", {'color': 'white', 'fontsize': 24, 'ha': 'center', 'va': 'center'})\n",
    "        else:\n",
    "            arrow = plt.arrow(agent_x+0.5, agent_y+0.5, dx1, dy1, head_width=0.3, head_length=0.2, color=\"cyan\")\n",
    "\n",
    "\n",
    "        plt.pause(.5)\n",
    "        plt.draw()\n",
    "\n",
    "        if _ < num_steps-1:\n",
    "            agent_dot.remove()\n",
    "            arrow.remove()\n",
    "            text.remove()\n",
    "plt.show()"
   ]
  },
  {
   "cell_type": "code",
   "execution_count": null,
   "metadata": {},
   "outputs": [],
   "source": []
  }
 ],
 "metadata": {
  "kernelspec": {
   "display_name": "Python 3",
   "language": "python",
   "name": "python3"
  },
  "language_info": {
   "codemirror_mode": {
    "name": "ipython",
    "version": 3
   },
   "file_extension": ".py",
   "mimetype": "text/x-python",
   "name": "python",
   "nbconvert_exporter": "python",
   "pygments_lexer": "ipython3",
   "version": "3.6.9"
  }
 },
 "nbformat": 4,
 "nbformat_minor": 2
}
