{
 "cells": [
  {
   "cell_type": "code",
   "execution_count": 1,
   "metadata": {},
   "outputs": [],
   "source": [
    "from __future__ import division, print_function\n",
    "import sys \n",
    "sys.path.insert(0,'../rl_network'); import actorcritic as ac;  import stategen as sg\n",
    "sys.path.insert(0,'../environments/'); import gridworld as eu\n",
    "sys.path.insert(0,'../memory/'); import episodic as ec\n",
    "import numpy as np\n",
    "import matplotlib.pyplot as plt\n",
    "import time\n",
    "%matplotlib inline \n",
    "fig_savedir = '../data/figures/'\n",
    "print_freq = 1/10\n",
    "import importlib\n",
    "\n",
    "import matplotlib.pyplot as plt\n",
    "import matplotlib.colors as colors\n",
    "import matplotlib.colorbar as colorbar\n",
    "import matplotlib.cm as cmx\n",
    "import matplotlib.patches as patches\n",
    "from matplotlib.collections import PatchCollection\n",
    "from matplotlib.path import Path"
   ]
  },
  {
   "cell_type": "code",
   "execution_count": 2,
   "metadata": {},
   "outputs": [],
   "source": [
    "# environment parameters \n",
    "y_height = 20\n",
    "x_width = 20\n",
    "\n",
    "walls = False\n",
    "rho = 0\n",
    "maze_type = 'none'\n",
    "port_shift = 'none'\n",
    "\n",
    "#make environment\n",
    "maze = eu.gridworld([y_height, x_width], \n",
    "                    rho = rho, \n",
    "                    maze_type = maze_type, \n",
    "                    port_shift = port_shift, \n",
    "                    walls = walls,\n",
    "                    barheight=int(y_height/2 -1))\n",
    "maze.rwd_loc = [(int(y_height/2),int(x_width/2))]\n",
    "if maze_type is not 'triple_reward':\n",
    "    for i in maze.rwd_loc: \n",
    "        maze.orig_rwd_loc.append(i)\n",
    "\n",
    "\n",
    "## test out gridworld wrapper. \n",
    "env = eu.gymworld(maze)\n",
    "counter = 0 \n",
    "\n",
    "path_length = 40\n",
    "\n",
    "def make_visited_locs(reward, start_loc): \n",
    "    reward_y, reward_x = reward[0], reward[1]\n",
    "    start_y, start_x = start_loc[0], start_loc[1]\n",
    "    cur_loc = start_loc\n",
    "    visited_states = [cur_loc]\n",
    "    \n",
    "    for i in range(path_length):\n",
    "        if cur_loc == reward:\n",
    "            break\n",
    "        elif abs(reward_y-start_y) > 0 or abs(reward_x-start_x) > 0: \n",
    "            if abs(reward_y-cur_loc[0]) == 0: \n",
    "                move_x = 1\n",
    "                move_y = 0\n",
    "            elif abs(reward_x-cur_loc[1]) == 0:\n",
    "                move_x = 0\n",
    "                move_y = 1\n",
    "            else: \n",
    "                move_x = np.random.choice([0,1])\n",
    "                move_y = abs(1-move_x)\n",
    "            \n",
    "            next_loc = (int(cur_loc[0] + move_y*((reward_y-start_y)/abs(reward_y-start_y))), \n",
    "                        int(cur_loc[1] + move_x*((reward_x-start_x)/abs(reward_x-start_x))))\n",
    "            visited_states.append(next_loc)\n",
    "            cur_loc = next_loc\n",
    "            \n",
    "    return visited_states\n",
    "        \n",
    "maze.cur_state = (np.random.choice(np.arange(x_width)), np.random.choice(np.arange(y_height)))       \n",
    "visited_locs = make_visited_locs(maze.rwd_loc[0], maze.cur_state)\n"
   ]
  },
  {
   "cell_type": "code",
   "execution_count": 13,
   "metadata": {},
   "outputs": [
    {
     "data": {
      "text/plain": [
       "<Figure size 432x288 with 0 Axes>"
      ]
     },
     "metadata": {},
     "output_type": "display_data"
    }
   ],
   "source": [
    "num_runs = 5\n",
    "\n",
    "for j in range(num_runs):\n",
    "    maze.cur_state = (np.random.choice(np.arange(x_width)), np.random.choice(np.arange(y_height)))       \n",
    "    if j == 0:\n",
    "        maze.cur_state = (2,17)\n",
    "    visited_locs = make_visited_locs(maze.rwd_loc[0], maze.cur_state)\n",
    "    counter = 0 \n",
    "    states = [] \n",
    "\n",
    "    for current_spot in visited_locs:\n",
    "        maze.cur_state = current_spot\n",
    "        states.append(np.asarray(np.add(maze.cur_state, (0.5,0.5)) ))\n",
    "\n",
    "        grid = maze.grid\n",
    "        useable_grid = maze.useable\n",
    "        agent_loc = maze.cur_state\n",
    "\n",
    "        # plot maze -- agent (blue) and reward (red)\n",
    "        plt.figure('clear')\n",
    "        fig = plt.figure()\n",
    "\n",
    "        axis  = fig.add_axes([0.05, 0.05, .9, .9]) # [left, bottom, width, height]\n",
    "        axis.pcolor(grid, cmap = 'bone', vmax =1, vmin = 0)\n",
    "\n",
    "        ax = fig.gca()\n",
    "\n",
    "        for rwd_loc in maze.rwd_loc:\n",
    "            rwd_v, rwd_h = rwd_loc\n",
    "            ax.add_patch(plt.Circle((3+.5, 16+.5), 0.3, fc='w'))\n",
    "\n",
    "        agent_v, agent_h = agent_loc\n",
    "        ax.add_patch(plt.Circle((agent_v+.5, agent_h+.5), 0.5, fc='r'))\n",
    "\n",
    "        codes = [Path.MOVETO]\n",
    "        for i in range(len(states)-1):\n",
    "            codes.append(Path.LINETO)\n",
    "\n",
    "        path = Path(states, codes)\n",
    "        patch = patches.PathPatch(path, edgecolor='gray', facecolor='none', linestyle=':', lw=2)\n",
    "        ax.add_patch(patch)\n",
    "\n",
    "\n",
    "        ax.invert_yaxis()\n",
    "        ax.set_aspect('equal')\n",
    "        ax.set_xticks([])\n",
    "        ax.set_yticks([])\n",
    "\n",
    "        plt.savefig('./gif/figs/{}_{}.png'.format(j, counter), format='png', pad_inches =2)\n",
    "        counter += 1\n",
    "        plt.close()\n",
    "        #plt.show()"
   ]
  },
  {
   "cell_type": "code",
   "execution_count": 14,
   "metadata": {},
   "outputs": [
    {
     "name": "stdout",
     "output_type": "stream",
     "text": [
      "['./gif/figs/0_0.png', './gif/figs/0_1.png', './gif/figs/0_2.png', './gif/figs/0_3.png', './gif/figs/0_4.png', './gif/figs/0_5.png', './gif/figs/0_6.png', './gif/figs/0_7.png', './gif/figs/0_8.png', './gif/figs/0_9.png', './gif/figs/0_10.png', './gif/figs/0_11.png', './gif/figs/0_12.png', './gif/figs/0_13.png', './gif/figs/0_14.png', './gif/figs/0_15.png']\n",
      "\n",
      "[MoviePy] Building file ./gif/0.gif with imageio\n"
     ]
    },
    {
     "name": "stderr",
     "output_type": "stream",
     "text": [
      " 94%|█████████▍| 16/17 [00:00<00:00, 43.37it/s]\n"
     ]
    },
    {
     "name": "stdout",
     "output_type": "stream",
     "text": [
      "['./gif/figs/1_0.png', './gif/figs/1_1.png', './gif/figs/1_2.png', './gif/figs/1_3.png', './gif/figs/1_4.png', './gif/figs/1_5.png', './gif/figs/1_6.png', './gif/figs/1_7.png', './gif/figs/1_8.png', './gif/figs/1_9.png', './gif/figs/1_10.png', './gif/figs/1_11.png', './gif/figs/1_12.png', './gif/figs/1_13.png', './gif/figs/1_14.png', './gif/figs/1_15.png', './gif/figs/1_16.png', './gif/figs/1_17.png', './gif/figs/1_18.png']\n",
      "\n",
      "[MoviePy] Building file ./gif/1.gif with imageio\n"
     ]
    },
    {
     "name": "stderr",
     "output_type": "stream",
     "text": [
      " 95%|█████████▌| 19/20 [00:00<00:00, 39.95it/s]"
     ]
    },
    {
     "name": "stdout",
     "output_type": "stream",
     "text": [
      "['./gif/figs/2_0.png', './gif/figs/2_1.png', './gif/figs/2_2.png', './gif/figs/2_3.png', './gif/figs/2_4.png', './gif/figs/2_5.png']\n",
      "\n",
      "[MoviePy] Building file ./gif/2.gif with imageio\n"
     ]
    },
    {
     "name": "stderr",
     "output_type": "stream",
     "text": [
      "\n",
      " 86%|████████▌ | 6/7 [00:00<00:00, 35.35it/s]"
     ]
    },
    {
     "name": "stdout",
     "output_type": "stream",
     "text": [
      "['./gif/figs/3_0.png', './gif/figs/3_1.png', './gif/figs/3_2.png', './gif/figs/3_3.png', './gif/figs/3_4.png', './gif/figs/3_5.png', './gif/figs/3_6.png', './gif/figs/3_7.png', './gif/figs/3_8.png', './gif/figs/3_9.png', './gif/figs/3_10.png', './gif/figs/3_11.png', './gif/figs/3_12.png', './gif/figs/3_13.png', './gif/figs/3_14.png', './gif/figs/3_15.png', './gif/figs/3_16.png']\n",
      "\n",
      "[MoviePy] Building file ./gif/3.gif with imageio\n"
     ]
    },
    {
     "name": "stderr",
     "output_type": "stream",
     "text": [
      "\n",
      " 94%|█████████▍| 17/18 [00:00<00:00, 39.07it/s]"
     ]
    },
    {
     "name": "stdout",
     "output_type": "stream",
     "text": [
      "['./gif/figs/4_0.png', './gif/figs/4_1.png', './gif/figs/4_2.png', './gif/figs/4_3.png', './gif/figs/4_4.png', './gif/figs/4_5.png', './gif/figs/4_6.png', './gif/figs/4_7.png', './gif/figs/4_8.png', './gif/figs/4_9.png', './gif/figs/4_10.png', './gif/figs/4_11.png', './gif/figs/4_12.png', './gif/figs/4_13.png']\n",
      "\n",
      "[MoviePy] Building file ./gif/4.gif with imageio\n"
     ]
    },
    {
     "name": "stderr",
     "output_type": "stream",
     "text": [
      "\n",
      " 93%|█████████▎| 14/15 [00:00<00:00, 43.64it/s]\n"
     ]
    }
   ],
   "source": [
    "__author__ = 'Annik'\n",
    "savedir = './gif/'\n",
    "from images2gif import writeGif\n",
    "from PIL import Image\n",
    "import os\n",
    "import moviepy.editor as mpy\n",
    "\n",
    "fps = 2\n",
    "\n",
    "n_lengths = []\n",
    "for i in range(num_runs):\n",
    "    names = sorted((fn for fn in os.listdir('./gif/figs/') if (fn.endswith('.png') and fn[0]==str(i))))\n",
    "    n_lengths.append(len(names))\n",
    "    file_names = []\n",
    "    for j in range(len(names)):\n",
    "        file_names.append('./gif/figs/{}_{}.png'.format(i,j))\n",
    "    print(file_names)\n",
    "    filename = \"{}\".format(i)\n",
    "\n",
    "    \n",
    "    clip = mpy.ImageSequenceClip(file_names, fps=fps)\n",
    "    clip.write_gif(savedir+'{}.gif'.format(filename), fps=fps)\n",
    "#images = [Image.open(savedir+fn) for fn in file_names]\n",
    "\n"
   ]
  },
  {
   "cell_type": "code",
   "execution_count": 15,
   "metadata": {},
   "outputs": [
    {
     "name": "stdout",
     "output_type": "stream",
     "text": [
      "['./gif/figs/0_0.png', './gif/figs/0_1.png', './gif/figs/0_2.png', './gif/figs/0_3.png', './gif/figs/0_4.png', './gif/figs/0_5.png', './gif/figs/0_6.png', './gif/figs/0_7.png', './gif/figs/0_8.png', './gif/figs/0_9.png', './gif/figs/0_10.png', './gif/figs/0_11.png', './gif/figs/0_12.png', './gif/figs/0_13.png', './gif/figs/0_14.png', './gif/figs/0_15.png', './gif/figs/1_0.png', './gif/figs/1_1.png', './gif/figs/1_2.png', './gif/figs/1_3.png', './gif/figs/1_4.png', './gif/figs/1_5.png', './gif/figs/1_6.png', './gif/figs/1_7.png', './gif/figs/1_8.png', './gif/figs/1_9.png', './gif/figs/1_10.png', './gif/figs/1_11.png', './gif/figs/1_12.png', './gif/figs/1_13.png', './gif/figs/1_14.png', './gif/figs/1_15.png', './gif/figs/1_16.png', './gif/figs/1_17.png', './gif/figs/1_18.png', './gif/figs/2_0.png', './gif/figs/2_1.png', './gif/figs/2_2.png', './gif/figs/2_3.png', './gif/figs/2_4.png', './gif/figs/2_5.png', './gif/figs/3_0.png', './gif/figs/3_1.png', './gif/figs/3_2.png', './gif/figs/3_3.png', './gif/figs/3_4.png', './gif/figs/3_5.png', './gif/figs/3_6.png', './gif/figs/3_7.png', './gif/figs/3_8.png', './gif/figs/3_9.png', './gif/figs/3_10.png', './gif/figs/3_11.png', './gif/figs/3_12.png', './gif/figs/3_13.png', './gif/figs/3_14.png', './gif/figs/3_15.png', './gif/figs/3_16.png', './gif/figs/4_0.png', './gif/figs/4_1.png', './gif/figs/4_2.png', './gif/figs/4_3.png', './gif/figs/4_4.png', './gif/figs/4_5.png', './gif/figs/4_6.png', './gif/figs/4_7.png', './gif/figs/4_8.png', './gif/figs/4_9.png', './gif/figs/4_10.png', './gif/figs/4_11.png', './gif/figs/4_12.png', './gif/figs/4_13.png']\n",
      "\n",
      "[MoviePy] Building file ./gif/composite.gif with imageio\n"
     ]
    },
    {
     "name": "stderr",
     "output_type": "stream",
     "text": [
      " 99%|█████████▊| 72/73 [00:01<00:00, 45.68it/s]\n"
     ]
    }
   ],
   "source": [
    "names = sorted((fn for fn in os.listdir('./gif/figs/') if (fn.endswith('.png') and fn[0]==str(i))))\n",
    "file_names = []\n",
    "for i in range(num_runs):\n",
    "    for j in range(n_lengths[i]):\n",
    "        file_names.append('./gif/figs/{}_{}.png'.format(i,j))\n",
    "print(file_names)\n",
    "filename = \"{}\".format(i)\n",
    "\n",
    "\n",
    "clip = mpy.ImageSequenceClip(file_names, fps=fps)\n",
    "clip.write_gif(savedir+'composite.gif'.format(filename), fps=fps)\n",
    "\n"
   ]
  },
  {
   "cell_type": "code",
   "execution_count": null,
   "metadata": {},
   "outputs": [],
   "source": []
  }
 ],
 "metadata": {
  "kernelspec": {
   "display_name": "Python 2",
   "language": "python",
   "name": "python2"
  },
  "language_info": {
   "codemirror_mode": {
    "name": "ipython",
    "version": 2
   },
   "file_extension": ".py",
   "mimetype": "text/x-python",
   "name": "python",
   "nbconvert_exporter": "python",
   "pygments_lexer": "ipython2",
   "version": "2.7.15rc1"
  }
 },
 "nbformat": 4,
 "nbformat_minor": 2
}
