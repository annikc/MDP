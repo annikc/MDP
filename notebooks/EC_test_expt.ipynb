{
 "cells": [
  {
   "cell_type": "code",
   "execution_count": 1,
   "metadata": {},
   "outputs": [],
   "source": [
    "import sys\n",
    "import numpy as np\n",
    "import matplotlib.pyplot as plt\n",
    "from importlib import reload\n",
    "sys.path.insert(0,'../environments/'); import gw\n",
    "sys.path.insert(0,'../environments/'); import gridworld_plotting as gp\n",
    "sys.path.insert(0,'../rl_network/'); import ac\n",
    "sys.path.insert(0,'../memory/'); import episodic as ec\n",
    "\n",
    "import experiment as expt\n",
    "\n",
    "#####\n",
    "import torch\n",
    "import time"
   ]
  },
  {
   "cell_type": "code",
   "execution_count": 36,
   "metadata": {
    "scrolled": false
   },
   "outputs": [
    {
     "data": {
      "image/png": "[encoded data removed]",
      "text/plain": [
       "<Figure size 504x504 with 1 Axes>"
      ]
     },
     "metadata": {
      "needs_background": "light"
     },
     "output_type": "display_data"
    }
   ],
   "source": [
    "reload(gw)\n",
    "rows, columns = 20, 20\n",
    "env = gw.GridWorld(rows=rows,cols=columns,\n",
    "                   rewards = {(10,16):1},#rewards={(int(rows/2),int(columns/2)):1},#\n",
    "                   step_penalization=-0.01,\n",
    "                   rho=0.0,\n",
    "                   rewarded_action = None)\n",
    "fig = gw.plotWorld(env,current_state=True,scale=0.35)\n"
   ]
  },
  {
   "cell_type": "code",
   "execution_count": 5,
   "metadata": {},
   "outputs": [
    {
     "name": "stdout",
     "output_type": "stream",
     "text": [
      "../data/outputs/gridworld/openfield2020_r103.pt\n"
     ]
    }
   ],
   "source": [
    "agent_params = {\n",
    "    'load_model':  False,\n",
    "    'load_dir':     f'../data/outputs/gridworld/openfield{rows}{columns}_r{list(env.rewards.keys())[0][0]}{list(env.rewards.keys())[0][1]}.pt',\n",
    "    'freeze_w':    False,\n",
    "\n",
    "    'input_dims':  env.observation.shape,\n",
    "    'action_dims': len(env.action_list),\n",
    "    'hidden_types':['conv','pool','linear'],\n",
    "    'hidden_dims': [None, None, 500],\n",
    "\n",
    "    'rfsize':      5,\n",
    "    'stride':      1,\n",
    "    'padding':     1,\n",
    "    'dilation':    1,\n",
    "\n",
    "    'gamma':       0.98,\n",
    "    'eta':         5e-4,\n",
    "\n",
    "    'use_EC':      True,\n",
    "    'EC':          {},\n",
    "    'cachelim':    300,\n",
    "    'mem_temp':    0.3\n",
    "}\n",
    "print(agent_params['load_dir'])"
   ]
  },
  {
   "cell_type": "code",
   "execution_count": 6,
   "metadata": {},
   "outputs": [],
   "source": [
    "def run_expt(NUM_TRIALS, NUM_EVENTS, env, agent, data,\n",
    "               **kwargs):\n",
    "    \n",
    "    print_freq  = kwargs.get('printfreq', 0.1)\n",
    "    \n",
    "    get_samples = kwargs.get('get_samples', False)\n",
    "    if get_samples:\n",
    "        sample_observations = env.get_sample_obs()\n",
    "    \n",
    "    around_reward = kwargs.get('around_reward', True)\n",
    "    start_radius  = kwargs.get('radius', 5)\n",
    "    \n",
    "    t = time.time()\n",
    "    for trial in range(NUM_TRIALS):\n",
    "        # reset environment, reinitialize agent in environment\n",
    "        env.resetEnvironment(around_rwd=around_reward, radius=start_radius)\n",
    "        # clear hidden layer cache if using lstm or gru cells\n",
    "        agent.reinit_hid()\n",
    "        reward_sum = 0\n",
    "\n",
    "        for event in range(NUM_EVENTS):\n",
    "            #get state observation\n",
    "            observation = torch.Tensor(np.expand_dims(env.get_observation(), axis=0))\n",
    "\n",
    "            #pass observation through network\n",
    "            policy_, value_ = agent(observation)\n",
    "\n",
    "            #select action from policy\n",
    "            choice = agent.select_action(policy_, value_)\n",
    "            action = env.action_list[choice][0]\n",
    "\n",
    "            #take a step in the environment\n",
    "\n",
    "            s_1d, reward, isdone = env.move(action)\n",
    "\n",
    "            agent.saved_rewards.append(reward)\n",
    "            reward_sum += reward\n",
    "            ###optional\n",
    "            #sar.append(env.state, action, reward) ## tracking oneD states\n",
    "            if isdone:\n",
    "                break\n",
    "\n",
    "        p_loss, v_loss = agent.finish_trial()\n",
    "        data['trial_length'].append(event)\n",
    "        data['total_reward'].append(reward_sum)\n",
    "        data['loss'][0].append(p_loss.item())\n",
    "        data['loss'][1].append(v_loss.item())\n",
    "        data['trials_run_to_date'] +=1\n",
    "        if get_samples:\n",
    "            pol_grid, val_grid = expt.get_snapshot(sample_observations, env,agent)\n",
    "            data['pol_tracking'].append(pol_grid)\n",
    "            data['val_tracking'].append(val_grid)\n",
    "            data['t'].append(trial)\n",
    "        \n",
    "        if trial ==0 or trial % int(print_freq*NUM_TRIALS)==0 or trial == NUM_TRIALS-1:\n",
    "            print(f\"{trial}: {reward_sum} ({time.time()-t}s)\")\n",
    "            t = time.time()\n",
    "\n",
    "        if around_reward and trial > 0 and np.mean(data['trial_length'][-20:])< 2*start_radius:\n",
    "            print(trial)\n",
    "            data['full_map_trial'].append(trial)\n",
    "            around_reward = False"
   ]
  },
  {
   "cell_type": "code",
   "execution_count": 30,
   "metadata": {},
   "outputs": [],
   "source": [
    "def run_mem_expt(NUM_TRIALS, NUM_EVENTS, env, agent, episodic, data,\n",
    "               **kwargs):\n",
    "    \n",
    "    print_freq  = kwargs.get('printfreq', 0.1)\n",
    "    \n",
    "    get_samples = kwargs.get('get_samples', False)\n",
    "    if get_samples:\n",
    "        sample_observations = env.get_sample_obs()\n",
    "    \n",
    "    around_reward = kwargs.get('around_reward', True)\n",
    "    start_radius  = kwargs.get('radius', 5)\n",
    "    \n",
    "    episodic.reset_cache() ##NEW\n",
    "    ploss_scale = 0 ##NEW\n",
    "    mfc_env     = ec.calc_env(halfmax = 3.12) ##NEW\n",
    "    recency_env = ec.calc_env(halfmax = 20) ##NEW\n",
    "    mem_entropy = kwargs.get('mem_entropy', 0.3) ##NEW\n",
    "    timestamp   = 0 ##NEW\n",
    "    \n",
    "    t = time.time()\n",
    "    for trial in range(NUM_TRIALS):\n",
    "        # reset environment, reinitialize agent in environment\n",
    "        env.resetEnvironment(around_rwd=around_reward, radius=start_radius)\n",
    "        # clear hidden layer cache if using lstm or gru cells\n",
    "        agent.reinit_hid()\n",
    "        reward_sum = 0\n",
    "        \n",
    "        MF_confidence = episodic.make_pvals(ploss_scale, envelope=mfc_env) ##NEW\n",
    "        memory_buffer = [[],[],[],[], trial] ##NEW\n",
    "\n",
    "        for event in range(NUM_EVENTS):\n",
    "            #get state observation\n",
    "            observation = torch.Tensor(np.expand_dims(env.get_observation(), axis=0))\n",
    "\n",
    "            #pass observation through network\n",
    "            policy_, value_, lin_act_ = agent(observation, lin_act = 2)\n",
    "            lin_act = tuple(np.round(lin_act_.data[0].numpy(), 4)) ##NEW\n",
    "            \n",
    "            #choose which policy to use based on MF confidence\n",
    "            which_pol = np.random.choice(['MF', 'EC'], p = [MF_confidence, 1-MF_confidence])\n",
    "            if which_pol == 'EC':\n",
    "                memory_policy = torch.from_numpy(episodic.recall_mem(lin_act, \n",
    "                                                               timestamp, \n",
    "                                                               env=recency_env, \n",
    "                                                               mem_temp=mem_entropy))\n",
    "                choice = agent.select_ec_action(policy_, value_, memory_policy)\n",
    "            \n",
    "            else:\n",
    "                #select action from policy\n",
    "                choice = agent.select_action(policy_, value_)\n",
    "\n",
    "            action = env.action_list[choice][0]\n",
    "            \n",
    "            memory_buffer[0].append(timestamp)\n",
    "            memory_buffer[1].append(lin_act)\n",
    "            memory_buffer[2].append(choice)\n",
    "            memory_buffer[3].append(env.oneD2twoD(env.state))\n",
    "            \n",
    "            #take a step in the environment\n",
    "            s_1d, reward, isdone = env.move(action)\n",
    "\n",
    "            agent.saved_rewards.append(reward)\n",
    "            reward_sum += reward\n",
    "            \n",
    "            timestamp += 1\n",
    "            \n",
    "            if isdone:\n",
    "                break\n",
    "\n",
    "        p_loss, v_loss = agent.finish_trial_EC(cache=episodic, buffer=memory_buffer)\n",
    "        \n",
    "        data['trial_length'].append(event)\n",
    "        data['total_reward'].append(reward_sum)\n",
    "        data['loss'][0].append(p_loss.item())\n",
    "        data['loss'][1].append(v_loss.item())\n",
    "        data['trials_run_to_date'] +=1\n",
    "        if get_samples:\n",
    "            pol_grid, val_grid = expt.get_snapshot(sample_observations, env,agent)\n",
    "            mem_grid = ac.mem_snapshot(env,episodic_memory,trial_timestamp = trial,\n",
    "                                   decay = recency_env, mem_temp = mem_entropy, get_vals= False)\n",
    "            data['ec_tracking'].append(mem_grid)\n",
    "            data['pol_tracking'].append(pol_grid)\n",
    "            data['val_tracking'].append(val_grid)\n",
    "            data['t'].append(trial)\n",
    "        \n",
    "        if trial ==0 or trial % int(print_freq*NUM_TRIALS)==0 or trial == NUM_TRIALS-1:\n",
    "            print(f\"{trial}: {reward_sum} ({time.time()-t}s)\")\n",
    "            t = time.time()\n",
    "\n",
    "        if around_reward and trial > 0 and np.mean(data['trial_length'][-20:])< 2*start_radius:\n",
    "            print(trial)\n",
    "            data['full_map_trial'].append(trial)\n",
    "            around_reward = False"
   ]
  },
  {
   "cell_type": "code",
   "execution_count": 31,
   "metadata": {
    "scrolled": true
   },
   "outputs": [],
   "source": [
    "rerun = True\n",
    "NUM_TRIALS = 5000\n",
    "NUM_EVENTS = 300\n",
    "if not rerun:\n",
    "    agent = ac.make_agent(agent_params)\n",
    "    data = {'total_reward': [],\n",
    "            'loss': [[],[]],\n",
    "            'trial_length': [],\n",
    "            'trials_run_to_date':0,\n",
    "            'pol_tracking':[],\n",
    "            'val_tracking':[],\n",
    "            'ec_tracking': [],\n",
    "            't': [],\n",
    "            'full_map_trial': []\n",
    "           }\n",
    "\n",
    "\n",
    "#run_expt(NUM_TRIALS, NUM_EVENTS, env, agent, data, get_samples=True, printfreq = 0.01)"
   ]
  },
  {
   "cell_type": "code",
   "execution_count": 37,
   "metadata": {},
   "outputs": [
    {
     "name": "stdout",
     "output_type": "stream",
     "text": [
      "0: -2.99999999999998 (0.44365358352661133s)\n",
      "50: -2.99999999999998 (22.39472484588623s)\n",
      "100: 0.97 (21.27407193183899s)\n",
      "150: -2.99999999999998 (20.342023611068726s)\n",
      "200: -2.99999999999998 (20.9177143573761s)\n",
      "250: 0.98 (19.31300973892212s)\n",
      "300: -2.99999999999998 (20.896469593048096s)\n",
      "350: 0.5699999999999998 (15.47310185432434s)\n",
      "400: -2.99999999999998 (15.581135034561157s)\n",
      "450: -2.99999999999998 (12.870881795883179s)\n",
      "500: 0.94 (11.626853942871094s)\n",
      "550: 0.97 (12.368452310562134s)\n",
      "600: -2.99999999999998 (13.78244423866272s)\n",
      "650: -2.99999999999998 (14.105616569519043s)\n",
      "700: -2.99999999999998 (10.05590009689331s)\n",
      "750: -2.99999999999998 (12.77377700805664s)\n",
      "800: 0.87 (11.397268295288086s)\n",
      "850: 0.99 (7.7265684604644775s)\n",
      "868\n",
      "900: -2.99999999999998 (12.695719242095947s)\n",
      "950: -2.99999999999998 (16.26985263824463s)\n",
      "1000: -2.99999999999998 (18.716938018798828s)\n",
      "1050: -2.99999999999998 (18.121651887893677s)\n",
      "1100: -2.99999999999998 (17.740865468978882s)\n",
      "1150: 0.89 (13.555938720703125s)\n",
      "1200: -2.99999999999998 (16.373831272125244s)\n",
      "1250: 0.8099999999999999 (14.20835566520691s)\n",
      "1300: 0.8099999999999999 (8.40537405014038s)\n",
      "1350: 0.94 (5.269779682159424s)\n",
      "1400: 0.89 (5.423657655715942s)\n",
      "1450: 0.9 (5.331794500350952s)\n",
      "1500: 0.8099999999999999 (5.227254152297974s)\n",
      "1550: 0.85 (5.2356626987457275s)\n",
      "1600: 0.7899999999999999 (5.248551368713379s)\n",
      "1650: 0.95 (5.326646089553833s)\n",
      "1700: 0.94 (5.387840986251831s)\n",
      "1750: 0.92 (5.332166433334351s)\n",
      "1800: 0.84 (5.395804405212402s)\n",
      "1850: 0.87 (5.378342151641846s)\n",
      "1900: 0.7999999999999999 (5.366184949874878s)\n",
      "1950: 0.9 (5.317185640335083s)\n",
      "2000: 0.83 (5.315739393234253s)\n",
      "2050: 0.83 (5.346173524856567s)\n",
      "2100: 0.7999999999999999 (5.2653491497039795s)\n",
      "2150: 1.0 (5.25912618637085s)\n",
      "2200: 0.88 (5.234329462051392s)\n",
      "2250: 0.84 (5.230608940124512s)\n",
      "2300: 0.85 (5.259566783905029s)\n",
      "2350: 0.7899999999999999 (5.249970197677612s)\n",
      "2400: 0.85 (5.180956125259399s)\n",
      "2450: 0.86 (5.305950880050659s)\n",
      "2500: 0.9299999999999999 (5.228434085845947s)\n",
      "2550: 0.8099999999999999 (5.170592546463013s)\n",
      "2600: 0.8099999999999999 (5.357377767562866s)\n",
      "2650: 1.0 (5.187371015548706s)\n",
      "2700: 0.9 (5.2627716064453125s)\n",
      "2750: 0.88 (5.278366565704346s)\n",
      "2800: 0.95 (5.227419137954712s)\n",
      "2850: 0.9 (5.251574754714966s)\n",
      "2900: 0.89 (5.417973756790161s)\n",
      "2950: 0.88 (5.28390097618103s)\n",
      "3000: 0.83 (5.262816429138184s)\n",
      "3050: 0.92 (5.24332857131958s)\n",
      "3100: 0.84 (5.3224616050720215s)\n",
      "3150: 0.8099999999999999 (5.261962413787842s)\n",
      "3200: 0.88 (5.179346084594727s)\n",
      "3250: 0.96 (5.2471044063568115s)\n",
      "3300: 0.9 (5.338706970214844s)\n",
      "3350: 0.9 (5.28654670715332s)\n",
      "3400: 0.86 (5.377676248550415s)\n",
      "3450: 0.91 (5.362149953842163s)\n",
      "3500: 0.9299999999999999 (5.384746074676514s)\n",
      "3550: 0.85 (5.182445049285889s)\n",
      "3600: 0.91 (5.183147192001343s)\n",
      "3650: 0.9 (5.294651985168457s)\n",
      "3700: 0.9299999999999999 (5.212490797042847s)\n",
      "3750: 0.91 (5.321599245071411s)\n",
      "3800: 1.0 (5.344735145568848s)\n",
      "3850: 0.89 (5.155786514282227s)\n",
      "3900: 0.91 (5.354361534118652s)\n",
      "3950: 0.83 (5.495415925979614s)\n",
      "4000: 0.91 (5.27909517288208s)\n",
      "4050: 0.9 (5.179561138153076s)\n",
      "4100: 0.82 (5.138047933578491s)\n",
      "4150: 0.7899999999999999 (5.2411134243011475s)\n",
      "4200: 0.89 (5.297491788864136s)\n",
      "4250: 0.7999999999999999 (5.340468883514404s)\n",
      "4300: 0.84 (5.3500707149505615s)\n",
      "4350: 0.96 (5.340129613876343s)\n",
      "4400: 0.7799999999999999 (5.428298473358154s)\n",
      "4450: 0.96 (5.232581377029419s)\n",
      "4500: 0.92 (5.2157533168792725s)\n",
      "4550: 0.95 (5.3675642013549805s)\n",
      "4600: 0.7999999999999999 (5.3638975620269775s)\n",
      "4650: 0.84 (5.235239744186401s)\n",
      "4700: 0.9299999999999999 (5.306029319763184s)\n",
      "4750: 0.89 (5.119509220123291s)\n",
      "4800: 0.7699999999999999 (5.343591690063477s)\n",
      "4850: 0.89 (5.3318092823028564s)\n",
      "4900: 0.9 (5.1778669357299805s)\n",
      "4950: 0.98 (5.298031806945801s)\n",
      "4999: 0.92 (5.0438072681427s)\n"
     ]
    }
   ],
   "source": [
    "#reload(ec)\n",
    "#episodic_memory = ec.ep_mem(agent, 300)\n",
    "run_mem_expt(NUM_TRIALS, NUM_EVENTS, env, agent, episodic_memory, data, get_samples=True, printfreq=0.01)"
   ]
  },
  {
   "cell_type": "code",
   "execution_count": 38,
   "metadata": {},
   "outputs": [
    {
     "data": {
      "image/png": "[encoded data removed]",
      "text/plain": [
       "<Figure size 432x288 with 2 Axes>"
      ]
     },
     "metadata": {
      "needs_background": "light"
     },
     "output_type": "display_data"
    }
   ],
   "source": [
    "fig, ax = plt.subplots(2,1, sharex=True)\n",
    "ax[0].plot(data['trial_length'])\n",
    "ax[1].plot(data['loss'][0], label='p')\n",
    "ax[1].plot(data['loss'][1], label='v')\n",
    "ax[1].legend(loc=0)\n",
    "plt.show()\n",
    "#plt.savefig('./Blake Meeting/Total_reward.svg', format='svg')"
   ]
  },
  {
   "cell_type": "code",
   "execution_count": null,
   "metadata": {},
   "outputs": [],
   "source": [
    "reload(gp)\n",
    "sample_observations = env.get_sample_obs()\n",
    "pol_grid, val_grid = expt.get_snapshot(sample_observations, env,agent)\n",
    "valmin = np.floor(np.min(val_grid))\n",
    "valmax = np.ceil(np.max(val_grid))\n",
    "\n",
    "gp.plot_polmap(env, pol_grid, threshold = 0.22, save=False, directory = './Blake Meeting/', title='p_after reward switch 7500', filetype='svg')\n",
    "gp.plot_valmap(env, val_grid, v_range = [-0.5,1], save=False, directory = './Blake Meeting/', title='v_after reward switch 7500', filetype='svg')"
   ]
  },
  {
   "cell_type": "code",
   "execution_count": 39,
   "metadata": {},
   "outputs": [],
   "source": [
    "import pickle\n",
    "pickle.dump(data, open('./Blake Meeting/simple_network/MF_EC.p', 'wb'))"
   ]
  },
  {
   "cell_type": "code",
   "execution_count": 40,
   "metadata": {},
   "outputs": [],
   "source": [
    "ac.torch.save(agent,agent_params['load_dir'])"
   ]
  },
  {
   "cell_type": "code",
   "execution_count": 26,
   "metadata": {},
   "outputs": [
    {
     "data": {
      "image/png": "[encoded data removed]",
      "text/plain": [
       "<Figure size 504x360 with 2 Axes>"
      ]
     },
     "metadata": {
      "needs_background": "light"
     },
     "output_type": "display_data"
    }
   ],
   "source": [
    "abcd, efgh = ac.mem_snapshot(env, \n",
    "                       episodic_memory, \n",
    "                       trial_timestamp = 410, \n",
    "                       decay           = ec.calc_env(halfmax = 20), \n",
    "                       mem_temp        = 0.3,\n",
    "                            get_vals=True)#agent_params['mem_temp'])\n",
    "gp.plot_polmap(env, abcd,save=False, threshold = 0.22, title='ec_pol_new_rwd')"
   ]
  },
  {
   "cell_type": "code",
   "execution_count": null,
   "metadata": {},
   "outputs": [],
   "source": []
  },
  {
   "cell_type": "code",
   "execution_count": null,
   "metadata": {},
   "outputs": [],
   "source": []
  },
  {
   "cell_type": "code",
   "execution_count": null,
   "metadata": {},
   "outputs": [],
   "source": []
  },
  {
   "cell_type": "code",
   "execution_count": null,
   "metadata": {},
   "outputs": [],
   "source": []
  },
  {
   "cell_type": "code",
   "execution_count": null,
   "metadata": {},
   "outputs": [],
   "source": []
  },
  {
   "cell_type": "code",
   "execution_count": null,
   "metadata": {},
   "outputs": [],
   "source": []
  },
  {
   "cell_type": "code",
   "execution_count": null,
   "metadata": {},
   "outputs": [],
   "source": [
    "print(env.state, oneD2twoD(env.state, env.shape))\n",
    "fig = plotWorld(env,current_state=False)\n",
    "\n",
    "num_steps = 10\n",
    "moves = True\n",
    "if moves:\n",
    "    for _ in range(num_steps):\n",
    "        if _ == 0:\n",
    "            action_choice = \"\"\n",
    "        start_at = oneD2twoD(env.state, env.shape)\n",
    "        # draw state\n",
    "        agent_y, agent_x = oneD2twoD(env.state, env.shape)\n",
    "        agent_dot = plt.Circle((agent_x + .5, agent_y + .5), 0.35, fc='b')\n",
    "        fig.gca().add_artist(agent_dot)\n",
    "\n",
    "        # select action\n",
    "        action_choice = random_policy(env)\n",
    "        env.move(action_choice)\n",
    "\n",
    "        print(f\"{start_at}:{action_choice} --> {oneD2twoD(env.state, env.shape)}\")\n",
    "        text = plt.gcf().text(0.1, 0.9, f'Agent Chooses: {action_choice}', fontsize=14)\n",
    "\n",
    "        plt.pause(1)\n",
    "        plt.draw()\n",
    "        dx1, dy1, head_w, head_l = make_arrows(env.action_dict[action_choice])\n",
    "        if action_choice == 'P':\n",
    "            arrow = plt.text(agent_x+0.49, agent_y+0.6, \"*\", {'color': 'white', 'fontsize': 24, 'ha': 'center', 'va': 'center'})\n",
    "        else:\n",
    "            arrow = plt.arrow(agent_x+0.5, agent_y+0.5, dx1, dy1, head_width=0.3, head_length=0.2, color=\"cyan\")\n",
    "\n",
    "\n",
    "        plt.pause(.5)\n",
    "        plt.draw()\n",
    "\n",
    "        if _ < num_steps-1:\n",
    "            agent_dot.remove()\n",
    "            arrow.remove()\n",
    "            text.remove()\n",
    "plt.show()"
   ]
  },
  {
   "cell_type": "code",
   "execution_count": null,
   "metadata": {},
   "outputs": [],
   "source": []
  }
 ],
 "metadata": {
  "kernelspec": {
   "display_name": "Python 3",
   "language": "python",
   "name": "python3"
  },
  "language_info": {
   "codemirror_mode": {
    "name": "ipython",
    "version": 3
   },
   "file_extension": ".py",
   "mimetype": "text/x-python",
   "name": "python",
   "nbconvert_exporter": "python",
   "pygments_lexer": "ipython3",
   "version": "3.6.9"
  }
 },
 "nbformat": 4,
 "nbformat_minor": 2
}
