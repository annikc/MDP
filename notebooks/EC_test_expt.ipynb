{
 "cells": [
  {
   "cell_type": "code",
   "execution_count": 1,
   "metadata": {},
   "outputs": [],
   "source": [
    "import sys\n",
    "import numpy as np\n",
    "import matplotlib.pyplot as plt\n",
    "from importlib import reload\n",
    "sys.path.insert(0,'../environments/'); import gw\n",
    "sys.path.insert(0,'../environments/'); import gridworld_plotting as gp\n",
    "sys.path.insert(0,'../rl_network/'); import ac\n",
    "sys.path.insert(0,'../memory/'); import episodic as ec\n",
    "\n",
    "\n",
    "import experiment as expt\n",
    "\n",
    "#####\n",
    "import torch"
   ]
  },
  {
   "cell_type": "code",
   "execution_count": 2,
   "metadata": {
    "scrolled": false
   },
   "outputs": [
    {
     "data": {
      "image/png": "[encoded data removed]",
      "text/plain": [
       "<Figure size 504x504 with 1 Axes>"
      ]
     },
     "metadata": {
      "needs_background": "light"
     },
     "output_type": "display_data"
    }
   ],
   "source": [
    "rows, columns = 20, 20 \n",
    "env = gw.GridWorld(rows=rows,cols=columns, \n",
    "                   rewards={(int(rows/2),int(columns/2)):1},\n",
    "                   step_penalization=-0.01,\n",
    "                   rho=0.1)\n",
    "fig = gw.plotWorld(env,current_state=True,scale=0.35)"
   ]
  },
  {
   "cell_type": "code",
   "execution_count": 3,
   "metadata": {},
   "outputs": [],
   "source": [
    "agent_params = { \n",
    "    'load_model':  False,\n",
    "    'load_dir':     f'../data/outputs/gridworld/openfield{rows}{columns}.pt',\n",
    "    'freeze_w':    False,\n",
    "    \n",
    "    'input_dims':  env.observation.shape,\n",
    "    'action_dims': len(env.action_list),\n",
    "    'hidden_types':['conv','pool','conv','pool','linear','linear'],\n",
    "    'hidden_dims': [None, None, None, None, 500, 200],\n",
    "                \n",
    "    'rfsize':      5,\n",
    "    'stride':      1,\n",
    "    'padding':     1,\n",
    "    'dilation':    1,\n",
    "    \n",
    "    'gamma':       0.98,\n",
    "    'eta':         5e-4,\n",
    "    \n",
    "    'use_EC':      True,\n",
    "    'EC':          {},\n",
    "    'cachelim':    300,\n",
    "    'mem_temp':    0.3    \n",
    "}"
   ]
  },
  {
   "cell_type": "code",
   "execution_count": 4,
   "metadata": {},
   "outputs": [],
   "source": [
    "def get_snapshot(env, agent):\n",
    "    # get sample observations from all useable spaces in environment\n",
    "    samples, states = env.get_sample_obs()\n",
    "    \n",
    "    # forward pass through network\n",
    "    pols, vals = agent(torch.Tensor(samples))\n",
    "    \n",
    "    # initialize empty data frames\n",
    "    pol_grid = np.zeros(env.shape, dtype=[('N', 'f8'), ('E', 'f8'), ('W', 'f8'), ('S', 'f8'), ('stay', 'f8'), ('poke', 'f8')])\n",
    "    val_grid = np.empty(env.shape)\n",
    "    \n",
    "    # populate with data from network\n",
    "    for s, p, v in zip(states, pols, vals):\n",
    "        pol_grid[s] = p.data[0].numpy()\n",
    "        val_grid[s] = v.item()\n",
    "    \n",
    "    return pol_grid, val_grid\n",
    "\n",
    "def make_agent(agent_params, freeze=False):\n",
    "    if agent_params['load_model']:\n",
    "        # load previously saved model\n",
    "        MF = torch.load(agent_params['load_dir']) \n",
    "    else:\n",
    "        MF = ac.ActorCritic(agent_params)\n",
    "\n",
    "    if freeze:\n",
    "        freeze = []\n",
    "        unfreeze = []\n",
    "        for i, nums in MF.named_parameters():\n",
    "            if i[0:6] == 'output':\n",
    "                unfreeze.append(nums)\n",
    "            else:\n",
    "                freeze.append(nums)\n",
    "        MF.optimizer = optim.Adam([{'params': freeze, 'lr': 0.0}, {'params': unfreeze, 'lr': agent_params['eta']}], lr=0.0)\n",
    "    else:\n",
    "        MF.optimizer = optim.Adam(MF.parameters(), lr= agent_params['eta'])\n",
    "    return MF"
   ]
  },
  {
   "cell_type": "code",
   "execution_count": 5,
   "metadata": {},
   "outputs": [],
   "source": [
    "## Parameters\n",
    "NUM_TRIALS = 2\n",
    "NUM_EVENTS = 3\n",
    "agent = ac.ActorCritic(agent_params)"
   ]
  },
  {
   "cell_type": "code",
   "execution_count": 6,
   "metadata": {},
   "outputs": [],
   "source": [
    "def experiment(NUM_TRIALS, NUM_EVENTS, environment, agent,\n",
    "               **kwargs):\n",
    "        \n",
    "    for trial in range(NUM_TRIALS):\n",
    "        for event in range(NUM_EVENTS): \n",
    "            #get state observation\n",
    "            observation = torch.Tensor(np.expand_dims(env.get_observation(), axis=0))\n",
    "            \n",
    "            #pass observation through network\n",
    "            policy_, value_ = agent(observation)\n",
    "            \n",
    "            #select action from policy\n",
    "            choice = agent.select_action(policy_, value_)\n",
    "            action = env.action_list[choice][0]\n",
    "            \n",
    "            #take a step in the environment\n",
    "            s_1d, reward, __ = env.move(action)\n",
    "            print(s_1d, reward)\n",
    "            \n",
    "            \n",
    "            \n",
    "            "
   ]
  },
  {
   "cell_type": "code",
   "execution_count": 7,
   "metadata": {},
   "outputs": [
    {
     "name": "stdout",
     "output_type": "stream",
     "text": [
      "273 -0.01\n"
     ]
    },
    {
     "ename": "IndexError",
     "evalue": "index 0 is out of bounds for axis 0 with size 0",
     "output_type": "error",
     "traceback": [
      "\u001b[0;31m---------------------------------------------------------------------------\u001b[0m",
      "\u001b[0;31mIndexError\u001b[0m                                Traceback (most recent call last)",
      "\u001b[0;32m<ipython-input-7-85e11e392961>\u001b[0m in \u001b[0;36m<module>\u001b[0;34m\u001b[0m\n\u001b[0;32m----> 1\u001b[0;31m \u001b[0mexperiment\u001b[0m\u001b[0;34m(\u001b[0m\u001b[0mNUM_TRIALS\u001b[0m\u001b[0;34m,\u001b[0m \u001b[0mNUM_EVENTS\u001b[0m\u001b[0;34m,\u001b[0m \u001b[0menv\u001b[0m\u001b[0;34m,\u001b[0m \u001b[0magent\u001b[0m\u001b[0;34m)\u001b[0m\u001b[0;34m\u001b[0m\u001b[0;34m\u001b[0m\u001b[0m\n\u001b[0m",
      "\u001b[0;32m<ipython-input-6-f04459588086>\u001b[0m in \u001b[0;36mexperiment\u001b[0;34m(NUM_TRIALS, NUM_EVENTS, environment, agent, **kwargs)\u001b[0m\n\u001b[1;32m     15\u001b[0m \u001b[0;34m\u001b[0m\u001b[0m\n\u001b[1;32m     16\u001b[0m             \u001b[0;31m#take a step in the environment\u001b[0m\u001b[0;34m\u001b[0m\u001b[0;34m\u001b[0m\u001b[0;34m\u001b[0m\u001b[0m\n\u001b[0;32m---> 17\u001b[0;31m             \u001b[0ms_1d\u001b[0m\u001b[0;34m,\u001b[0m \u001b[0mreward\u001b[0m\u001b[0;34m,\u001b[0m \u001b[0m__\u001b[0m \u001b[0;34m=\u001b[0m \u001b[0menv\u001b[0m\u001b[0;34m.\u001b[0m\u001b[0mmove\u001b[0m\u001b[0;34m(\u001b[0m\u001b[0maction\u001b[0m\u001b[0;34m)\u001b[0m\u001b[0;34m\u001b[0m\u001b[0;34m\u001b[0m\u001b[0m\n\u001b[0m\u001b[1;32m     18\u001b[0m             \u001b[0mprint\u001b[0m\u001b[0;34m(\u001b[0m\u001b[0ms_1d\u001b[0m\u001b[0;34m,\u001b[0m \u001b[0mreward\u001b[0m\u001b[0;34m)\u001b[0m\u001b[0;34m\u001b[0m\u001b[0;34m\u001b[0m\u001b[0m\n\u001b[1;32m     19\u001b[0m \u001b[0;34m\u001b[0m\u001b[0m\n",
      "\u001b[0;32m~/Dropbox/LINC Lab Documents/Code/MEMRL/environments/gw.py\u001b[0m in \u001b[0;36mmove\u001b[0;34m(self, action)\u001b[0m\n\u001b[1;32m    419\u001b[0m         \u001b[0;31m#else:\u001b[0m\u001b[0;34m\u001b[0m\u001b[0;34m\u001b[0m\u001b[0;34m\u001b[0m\u001b[0m\n\u001b[1;32m    420\u001b[0m         \u001b[0mself\u001b[0m\u001b[0;34m.\u001b[0m\u001b[0mtransition_probs\u001b[0m \u001b[0;34m=\u001b[0m \u001b[0mself\u001b[0m\u001b[0;34m.\u001b[0m\u001b[0mP\u001b[0m\u001b[0;34m[\u001b[0m\u001b[0mself\u001b[0m\u001b[0;34m.\u001b[0m\u001b[0maction_dict\u001b[0m\u001b[0;34m[\u001b[0m\u001b[0maction\u001b[0m\u001b[0;34m]\u001b[0m\u001b[0;34m,\u001b[0m \u001b[0mself\u001b[0m\u001b[0;34m.\u001b[0m\u001b[0mstate\u001b[0m\u001b[0;34m,\u001b[0m\u001b[0;34m:\u001b[0m\u001b[0;34m]\u001b[0m\u001b[0;34m\u001b[0m\u001b[0;34m\u001b[0m\u001b[0m\n\u001b[0;32m--> 421\u001b[0;31m         \u001b[0mself\u001b[0m\u001b[0;34m.\u001b[0m\u001b[0mstate\u001b[0m \u001b[0;34m=\u001b[0m \u001b[0mnp\u001b[0m\u001b[0;34m.\u001b[0m\u001b[0mnonzero\u001b[0m\u001b[0;34m(\u001b[0m\u001b[0mself\u001b[0m\u001b[0;34m.\u001b[0m\u001b[0mP\u001b[0m\u001b[0;34m[\u001b[0m\u001b[0mself\u001b[0m\u001b[0;34m.\u001b[0m\u001b[0maction_dict\u001b[0m\u001b[0;34m[\u001b[0m\u001b[0maction\u001b[0m\u001b[0;34m]\u001b[0m\u001b[0;34m,\u001b[0m\u001b[0mself\u001b[0m\u001b[0;34m.\u001b[0m\u001b[0mstate\u001b[0m\u001b[0;34m,\u001b[0m\u001b[0;34m:\u001b[0m\u001b[0;34m]\u001b[0m\u001b[0;34m)\u001b[0m\u001b[0;34m[\u001b[0m\u001b[0;36m0\u001b[0m\u001b[0;34m]\u001b[0m\u001b[0;34m[\u001b[0m\u001b[0;36m0\u001b[0m\u001b[0;34m]\u001b[0m  \u001b[0;31m# update to new state\u001b[0m\u001b[0;34m\u001b[0m\u001b[0;34m\u001b[0m\u001b[0m\n\u001b[0m\u001b[1;32m    422\u001b[0m \u001b[0;34m\u001b[0m\u001b[0m\n\u001b[1;32m    423\u001b[0m         \u001b[0mreward\u001b[0m \u001b[0;34m=\u001b[0m \u001b[0mself\u001b[0m\u001b[0;34m.\u001b[0m\u001b[0mget_reward\u001b[0m\u001b[0;34m(\u001b[0m\u001b[0maction\u001b[0m\u001b[0;34m)\u001b[0m\u001b[0;34m\u001b[0m\u001b[0;34m\u001b[0m\u001b[0m\n",
      "\u001b[0;31mIndexError\u001b[0m: index 0 is out of bounds for axis 0 with size 0"
     ]
    }
   ],
   "source": [
    "experiment(NUM_TRIALS, NUM_EVENTS, env, agent)"
   ]
  },
  {
   "cell_type": "code",
   "execution_count": null,
   "metadata": {},
   "outputs": [],
   "source": []
  },
  {
   "cell_type": "code",
   "execution_count": null,
   "metadata": {},
   "outputs": [],
   "source": []
  },
  {
   "cell_type": "code",
   "execution_count": null,
   "metadata": {},
   "outputs": [],
   "source": [
    "reload(gp)\n",
    "gp.plot_polmap(env, pol_grid, threshold =0)\n",
    "gp.plot_valmap(env, val_grid)"
   ]
  },
  {
   "cell_type": "code",
   "execution_count": null,
   "metadata": {},
   "outputs": [],
   "source": []
  },
  {
   "cell_type": "code",
   "execution_count": null,
   "metadata": {},
   "outputs": [],
   "source": []
  },
  {
   "cell_type": "code",
   "execution_count": null,
   "metadata": {},
   "outputs": [],
   "source": []
  },
  {
   "cell_type": "code",
   "execution_count": null,
   "metadata": {},
   "outputs": [],
   "source": []
  },
  {
   "cell_type": "code",
   "execution_count": null,
   "metadata": {},
   "outputs": [],
   "source": []
  },
  {
   "cell_type": "code",
   "execution_count": null,
   "metadata": {},
   "outputs": [],
   "source": []
  },
  {
   "cell_type": "code",
   "execution_count": null,
   "metadata": {},
   "outputs": [],
   "source": [
    "print(env.state, oneD2twoD(env.state, env.shape))\n",
    "fig = plotWorld(env,current_state=False)\n",
    "\n",
    "num_steps = 10\n",
    "moves = True\n",
    "if moves:\n",
    "    for _ in range(num_steps):\n",
    "        if _ == 0:\n",
    "            action_choice = \"\"\n",
    "        start_at = oneD2twoD(env.state, env.shape)\n",
    "        # draw state\n",
    "        agent_y, agent_x = oneD2twoD(env.state, env.shape)\n",
    "        agent_dot = plt.Circle((agent_x + .5, agent_y + .5), 0.35, fc='b')\n",
    "        fig.gca().add_artist(agent_dot)\n",
    "\n",
    "        # select action\n",
    "        action_choice = random_policy(env)\n",
    "        env.move(action_choice)\n",
    "\n",
    "        print(f\"{start_at}:{action_choice} --> {oneD2twoD(env.state, env.shape)}\")\n",
    "        text = plt.gcf().text(0.1, 0.9, f'Agent Chooses: {action_choice}', fontsize=14)\n",
    "\n",
    "        plt.pause(1)\n",
    "        plt.draw()\n",
    "        dx1, dy1, head_w, head_l = make_arrows(env.action_dict[action_choice])\n",
    "        if action_choice == 'P':\n",
    "            arrow = plt.text(agent_x+0.49, agent_y+0.6, \"*\", {'color': 'white', 'fontsize': 24, 'ha': 'center', 'va': 'center'})\n",
    "        else:\n",
    "            arrow = plt.arrow(agent_x+0.5, agent_y+0.5, dx1, dy1, head_width=0.3, head_length=0.2, color=\"cyan\")\n",
    "\n",
    "\n",
    "        plt.pause(.5)\n",
    "        plt.draw()\n",
    "\n",
    "        if _ < num_steps-1:\n",
    "            agent_dot.remove()\n",
    "            arrow.remove()\n",
    "            text.remove()\n",
    "plt.show()"
   ]
  }
 ],
 "metadata": {
  "kernelspec": {
   "display_name": "Python 3",
   "language": "python",
   "name": "python3"
  },
  "language_info": {
   "codemirror_mode": {
    "name": "ipython",
    "version": 3
   },
   "file_extension": ".py",
   "mimetype": "text/x-python",
   "name": "python",
   "nbconvert_exporter": "python",
   "pygments_lexer": "ipython3",
   "version": "3.6.9"
  }
 },
 "nbformat": 4,
 "nbformat_minor": 2
}
