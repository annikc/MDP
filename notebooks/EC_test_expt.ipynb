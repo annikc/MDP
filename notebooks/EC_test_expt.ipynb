{
 "cells": [
  {
   "cell_type": "code",
   "execution_count": 9,
   "metadata": {},
   "outputs": [],
   "source": [
    "import sys\n",
    "import numpy as np\n",
    "import matplotlib.pyplot as plt\n",
    "from importlib import reload\n",
    "sys.path.insert(0,'../environments/'); import gw\n",
    "#sys.path.insert(0,'../environments/'); import gridworld_plotting as gp\n",
    "sys.path.insert(0,'../rl_network/'); import actorcritic as ac\n",
    "#sys.path.insert(0,'../memory/'); import episodic as ec\n"
   ]
  },
  {
   "cell_type": "code",
   "execution_count": 10,
   "metadata": {
    "scrolled": false
   },
   "outputs": [
    {
     "data": {
      "image/png": "[encoded data removed]",
      "text/plain": [
       "<Figure size 504x504 with 1 Axes>"
      ]
     },
     "metadata": {
      "needs_background": "light"
     },
     "output_type": "display_data"
    }
   ],
   "source": [
    "rows, columns = 20, 20 \n",
    "env = gw.GridWorld(rows=rows,cols=columns, \n",
    "                   rewards={(int(rows/2),int(columns/2)):1},\n",
    "                   step_penalization=-0.01,\n",
    "                   rho=0.1)\n",
    "fig = gw.plotWorld(env,current_state=True,scale=0.35)"
   ]
  },
  {
   "cell_type": "code",
   "execution_count": 12,
   "metadata": {},
   "outputs": [
    {
     "name": "stdout",
     "output_type": "stream",
     "text": [
      "[(18, 18, 3), (16, 16, 3), 500]\n"
     ]
    }
   ],
   "source": [
    "reload(ac)\n",
    "\n",
    "\n",
    "agent_params = { \n",
    "    'load_model':  False,\n",
    "    'load_dir':     f'../data/outputs/gridworld/openfield{rows}{columns}.pt',\n",
    "    'freeze_w':    False,\n",
    "    \n",
    "    'input_dims':  (env.observation.shape[1],env.observation.shape[2],env.observation.shape[0]),\n",
    "    'action_dims': len(env.action_list),\n",
    "    'hid_types':   ['conv', 'pool', 'linear'],\n",
    "    'lin_dims':    [500],\n",
    "    'rfsize':      5,\n",
    "    'stride':      1,\n",
    "    'padding':     1,\n",
    "    'dilation':    1,\n",
    "    \n",
    "    'gamma':       0.98,\n",
    "    'eta':         5e-4,\n",
    "    \n",
    "    'use_EC':      True,\n",
    "    'EC':          {},\n",
    "    'cachelim':    300,\n",
    "    'mem_temp':    0.3    \n",
    "}\n",
    "\n",
    "MF, opt = ac.make_agent(agent_params)\n",
    "\n",
    "run_dict = {\n",
    "    'NUM_EVENTS': 300,\n",
    "    'NUM_TRIALS': 2000,\n",
    "    'environment': env,\n",
    "    'agent': MF,\n",
    "    'optimizer': opt,\n",
    "    'agt_param': agent_params\n",
    "}\n"
   ]
  },
  {
   "cell_type": "code",
   "execution_count": null,
   "metadata": {},
   "outputs": [],
   "source": []
  },
  {
   "cell_type": "code",
   "execution_count": null,
   "metadata": {},
   "outputs": [],
   "source": []
  },
  {
   "cell_type": "code",
   "execution_count": null,
   "metadata": {},
   "outputs": [],
   "source": []
  },
  {
   "cell_type": "code",
   "execution_count": null,
   "metadata": {},
   "outputs": [],
   "source": []
  },
  {
   "cell_type": "code",
   "execution_count": null,
   "metadata": {},
   "outputs": [],
   "source": []
  },
  {
   "cell_type": "code",
   "execution_count": null,
   "metadata": {},
   "outputs": [],
   "source": []
  },
  {
   "cell_type": "code",
   "execution_count": null,
   "metadata": {},
   "outputs": [],
   "source": []
  },
  {
   "cell_type": "code",
   "execution_count": null,
   "metadata": {},
   "outputs": [],
   "source": []
  },
  {
   "cell_type": "code",
   "execution_count": null,
   "metadata": {},
   "outputs": [],
   "source": []
  },
  {
   "cell_type": "code",
   "execution_count": null,
   "metadata": {},
   "outputs": [],
   "source": []
  },
  {
   "cell_type": "code",
   "execution_count": null,
   "metadata": {},
   "outputs": [],
   "source": []
  },
  {
   "cell_type": "code",
   "execution_count": null,
   "metadata": {},
   "outputs": [],
   "source": [
    "print(env.state, oneD2twoD(env.state, env.shape))\n",
    "fig = plotWorld(env,current_state=False)\n",
    "\n",
    "num_steps = 10\n",
    "moves = True\n",
    "if moves:\n",
    "    for _ in range(num_steps):\n",
    "        if _ == 0:\n",
    "            action_choice = \"\"\n",
    "        start_at = oneD2twoD(env.state, env.shape)\n",
    "        # draw state\n",
    "        agent_y, agent_x = oneD2twoD(env.state, env.shape)\n",
    "        agent_dot = plt.Circle((agent_x + .5, agent_y + .5), 0.35, fc='b')\n",
    "        fig.gca().add_artist(agent_dot)\n",
    "\n",
    "        # select action\n",
    "        action_choice = random_policy(env)\n",
    "        env.move(action_choice)\n",
    "\n",
    "        print(f\"{start_at}:{action_choice} --> {oneD2twoD(env.state, env.shape)}\")\n",
    "        text = plt.gcf().text(0.1, 0.9, f'Agent Chooses: {action_choice}', fontsize=14)\n",
    "\n",
    "        plt.pause(1)\n",
    "        plt.draw()\n",
    "        dx1, dy1, head_w, head_l = make_arrows(env.action_dict[action_choice])\n",
    "        if action_choice == 'P':\n",
    "            arrow = plt.text(agent_x+0.49, agent_y+0.6, \"*\", {'color': 'white', 'fontsize': 24, 'ha': 'center', 'va': 'center'})\n",
    "        else:\n",
    "            arrow = plt.arrow(agent_x+0.5, agent_y+0.5, dx1, dy1, head_width=0.3, head_length=0.2, color=\"cyan\")\n",
    "\n",
    "\n",
    "        plt.pause(.5)\n",
    "        plt.draw()\n",
    "\n",
    "        if _ < num_steps-1:\n",
    "            agent_dot.remove()\n",
    "            arrow.remove()\n",
    "            text.remove()\n",
    "plt.show()"
   ]
  }
 ],
 "metadata": {
  "kernelspec": {
   "display_name": "Python 3",
   "language": "python",
   "name": "python3"
  },
  "language_info": {
   "codemirror_mode": {
    "name": "ipython",
    "version": 3
   },
   "file_extension": ".py",
   "mimetype": "text/x-python",
   "name": "python",
   "nbconvert_exporter": "python",
   "pygments_lexer": "ipython3",
   "version": "3.6.9"
  }
 },
 "nbformat": 4,
 "nbformat_minor": 2
}
