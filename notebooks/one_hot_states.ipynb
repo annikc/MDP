{
 "cells": [
  {
   "cell_type": "code",
   "execution_count": 1,
   "metadata": {},
   "outputs": [],
   "source": [
    "import sys\n",
    "import numpy as np\n",
    "import matplotlib.pyplot as plt\n",
    "from importlib import reload\n",
    "sys.path.insert(0,'../rl_network/'); import ac\n",
    "sys.path.insert(0,'../memory/'); import episodic as ec\n",
    "sys.path.insert(0,'../environments/'); import gw; import gridworld_plotting as gp"
   ]
  },
  {
   "cell_type": "code",
   "execution_count": 23,
   "metadata": {},
   "outputs": [
    {
     "data": {
      "image/png": "[encoded data removed]",
      "text/plain": [
       "<Figure size 216x216 with 1 Axes>"
      ]
     },
     "metadata": {},
     "output_type": "display_data"
    }
   ],
   "source": [
    "import experiment as expt\n",
    "import torch\n",
    "import uuid\n",
    "import csv\n",
    "import pickle \n",
    "\n",
    "\n",
    "reload(gw)\n",
    "rows, columns = 10,10\n",
    "env_type = None\n",
    "penalty = -0.01 \n",
    "\n",
    "NUM_TRIALS = 50000\n",
    "NUM_EVENTS = 250\n",
    "\n",
    "\n",
    "reward_location = (5,5)\n",
    "env = gw.GridWorld(rows=rows,cols=columns,env_type=env_type,\n",
    "                       rewards = {reward_location:1},\n",
    "                       step_penalization=penalty,\n",
    "                       rho=0.0,\n",
    "                       rewarded_action=None, barheight=10)\n",
    "    \n",
    "fig = gw.plotWorld(env, scale=0.3, four_actions=True)"
   ]
  },
  {
   "cell_type": "code",
   "execution_count": 42,
   "metadata": {},
   "outputs": [],
   "source": [
    "agent_params = {\n",
    "    'load_model':  False,\n",
    "    'load_dir':    f'../data/outputs/gridworld/weights/8ab3822b-28ad-4751-950f-20f0475507a9.pt',\n",
    "    'freeze_w':    False,\n",
    "\n",
    "    'input_dims':  (1,1, np.prod(env.observation[0].shape)),\n",
    "    'action_dims': len(env.action_list),\n",
    "    'hidden_types':['conv', 'pool', 'conv', 'pool','linear','linear'],\n",
    "    'hidden_dims': [None,None,None, None,100, 400],\n",
    "    'use_SR':      True,\n",
    "\n",
    "    'rfsize':      1,\n",
    "    'padding':     0,\n",
    "\n",
    "    'gamma':       0.98,\n",
    "    'eta':         5e-3,\n",
    "\n",
    "    'use_EC':      False,\n",
    "    'EC':          {},\n",
    "    'cachelim':    300\n",
    "    }"
   ]
  },
  {
   "cell_type": "code",
   "execution_count": 43,
   "metadata": {},
   "outputs": [],
   "source": [
    "agent = ac.make_agent(agent_params)\n",
    "data = {'total_reward': [],\n",
    "        'loss': [[],[],[]],\n",
    "        'trial_length': [],\n",
    "        'trials_run_to_date':0,\n",
    "        'pol_tracking':[],\n",
    "        'val_tracking':[],\n",
    "        'ec_tracking': [],\n",
    "        't': [],\n",
    "        'mfcs':[]\n",
    "       }"
   ]
  },
  {
   "cell_type": "code",
   "execution_count": 44,
   "metadata": {},
   "outputs": [],
   "source": [
    "mem_temp = 0.05 \n",
    "ex = expt.test_expt(agent, env, use_mem=agent_params['use_EC'], mem_temp=mem_temp)"
   ]
  },
  {
   "cell_type": "code",
   "execution_count": 45,
   "metadata": {
    "scrolled": true
   },
   "outputs": [
    {
     "name": "stdout",
     "output_type": "stream",
     "text": [
      "0: -2.4999999999999907 (0.49412107467651367s)\n",
      "100: -0.370000000000001 (37.479950189590454s)\n",
      "200: 0.5699999999999998 (44.224098682403564s)\n",
      "300: -2.4999999999999907 (46.76608920097351s)\n",
      "400: -0.9800000000000015 (38.16697955131531s)\n",
      "500: 0.16999999999999948 (36.580078125s)\n",
      "600: -0.20000000000000084 (39.55856513977051s)\n",
      "700: -1.1699999999999977 (39.089061975479126s)\n",
      "800: 0.09999999999999942 (39.72632837295532s)\n",
      "900: 0.96 (39.57861328125s)\n",
      "999: -2.4999999999999907 (36.75632691383362s)\n"
     ]
    }
   ],
   "source": [
    "ex.run(1000, NUM_EVENTS, data)"
   ]
  },
  {
   "cell_type": "code",
   "execution_count": 41,
   "metadata": {},
   "outputs": [
    {
     "data": {
      "text/plain": [
       "[<matplotlib.lines.Line2D at 0x7fe4b74dbe48>]"
      ]
     },
     "execution_count": 41,
     "metadata": {},
     "output_type": "execute_result"
    },
    {
     "data": {
      "image/png": "[encoded data removed]",
      "text/plain": [
       "<Figure size 432x288 with 1 Axes>"
      ]
     },
     "metadata": {
      "needs_background": "light"
     },
     "output_type": "display_data"
    }
   ],
   "source": [
    "smoothing= 100\n",
    "plt.plot(gp.running_mean(data['loss'][1], smoothing))"
   ]
  },
  {
   "cell_type": "code",
   "execution_count": null,
   "metadata": {},
   "outputs": [],
   "source": []
  },
  {
   "cell_type": "code",
   "execution_count": null,
   "metadata": {},
   "outputs": [],
   "source": []
  },
  {
   "cell_type": "code",
   "execution_count": null,
   "metadata": {},
   "outputs": [],
   "source": []
  }
 ],
 "metadata": {
  "kernelspec": {
   "display_name": "Python 3",
   "language": "python",
   "name": "python3"
  },
  "language_info": {
   "codemirror_mode": {
    "name": "ipython",
    "version": 3
   },
   "file_extension": ".py",
   "mimetype": "text/x-python",
   "name": "python",
   "nbconvert_exporter": "python",
   "pygments_lexer": "ipython3",
   "version": "3.6.9"
  }
 },
 "nbformat": 4,
 "nbformat_minor": 2
}
