{
 "cells": [
  {
   "cell_type": "code",
   "execution_count": 1,
   "metadata": {},
   "outputs": [],
   "source": [
    "import pickle\n",
    "\n",
    "import sys\n",
    "sys.path.insert(0,'../environments/'); import gw\n",
    "sys.path.insert(0,'../environments/'); import gridworld_plotting as gp\n",
    "\n",
    "import imageio\n",
    "from os import listdir\n",
    "from os.path import isfile, join"
   ]
  },
  {
   "cell_type": "code",
   "execution_count": 46,
   "metadata": {},
   "outputs": [],
   "source": [
    "def make_figs(env, figure_data, fig_type, savedir, **kwargs):\n",
    "    start_ind = kwargs.get('start_ind', 0)\n",
    "    last_ind = kwargs.get('last_ind', len(figure_data))\n",
    "    show = kwargs.get('showfig', False)\n",
    "    reward_location = kwargs.get('reward_location', (10,3))\n",
    "    \n",
    "    if fig_type == 'p':\n",
    "        print(last_ind)\n",
    "        threshold = kwargs.get('threshold', 0.2)\n",
    "        for ind, obj in enumerate(figure_data[start_ind:last_ind]):\n",
    "            gp.plot_polmap(env,obj,\n",
    "                           save=True,\n",
    "                           show=show, \n",
    "                           directory=savedir,\n",
    "                           title = f'Policy @ trial {ind}', \n",
    "                           rwds=[reward_location],threshold = threshold)\n",
    "    elif fig_type == 'v':\n",
    "        v_range = kwargs.get('v_range', [0,1])\n",
    "        for ind, obj in enumerate(figure_data[start_ind:last_ind]):\n",
    "            gp.plot_valmap(env,obj,v_range = v_range,\n",
    "                           save=True,\n",
    "                           show=show, \n",
    "                           directory=savedir,\n",
    "                           title = f'Value @ trial {ind}', \n",
    "                           rwds=[reward_location])\n",
    "        \n",
    "\n",
    "def make_gif(source_directory, target_directory, save_title, **kwargs):\n",
    "    ## works with all images in a directory\n",
    "    duration = kwargs.get('dur',0.1)\n",
    "\n",
    "    filenames = [f for f in listdir(source_directory) if isfile(join(source_directory,f))]\n",
    "    \n",
    "    images = []\n",
    "    for filename in filenames:\n",
    "        images.append(imageio.imread(source_directory+filename))\n",
    "    \n",
    "    imageio.mimsave(f'{target_directory}{save_title}.gif', images, duration = duration)"
   ]
  },
  {
   "cell_type": "code",
   "execution_count": 41,
   "metadata": {},
   "outputs": [],
   "source": [
    "# load data \n",
    "load_dir   = '../Blake Meeting/simple_network/'\n",
    "picklename = 'test'\n",
    "data = pickle.load(open(load_dir+picklename+'.p','rb'))"
   ]
  },
  {
   "cell_type": "code",
   "execution_count": 42,
   "metadata": {},
   "outputs": [
    {
     "data": {
      "image/png": "[encoded data removed]",
      "text/plain": [
       "<Figure size 252x252 with 1 Axes>"
      ]
     },
     "metadata": {},
     "output_type": "display_data"
    }
   ],
   "source": [
    "# make environment for plotting\n",
    "rows, columns = data['env']\n",
    "env = gw.GridWorld(rows=rows,cols=columns,rewards = {(3,3):1},step_penalization=-0.01)\n",
    "fig = gw.plotWorld(env,current_state=True,scale=0.35)"
   ]
  },
  {
   "cell_type": "markdown",
   "metadata": {},
   "source": [
    "## Generate Figures"
   ]
  },
  {
   "cell_type": "code",
   "execution_count": 43,
   "metadata": {},
   "outputs": [
    {
     "name": "stdout",
     "output_type": "stream",
     "text": [
      "3\n"
     ]
    }
   ],
   "source": [
    "# collect data to plot\n",
    "figure_data = data['pol_tracking']\n",
    "figtype     = 'p' # valid types: p, v\n",
    "savefig_dir = f'./../Blake Meeting/{figtype}_figs/'\n",
    "\n",
    "make_figs(env, figure_data, fig_type=figtype, savedir=savefig_dir)"
   ]
  },
  {
   "cell_type": "markdown",
   "metadata": {},
   "source": [
    "## Make GIF "
   ]
  },
  {
   "cell_type": "code",
   "execution_count": 44,
   "metadata": {},
   "outputs": [
    {
     "name": "stdout",
     "output_type": "stream",
     "text": [
      "['Policy @ trial 1.png', 'Policy @ trial 0.png', 'Policy @ trial 2.png']\n"
     ]
    }
   ],
   "source": [
    "frame_duration = 0.05\n",
    "savegif_dir = load_dir\n",
    "make_gif(source_directory=savefig_dir, target_directory=savegif_dir, save_title=f'{picklename}_{figtype}_gif')"
   ]
  }
 ],
 "metadata": {
  "kernelspec": {
   "display_name": "Python 3",
   "language": "python",
   "name": "python3"
  },
  "language_info": {
   "codemirror_mode": {
    "name": "ipython",
    "version": 3
   },
   "file_extension": ".py",
   "mimetype": "text/x-python",
   "name": "python",
   "nbconvert_exporter": "python",
   "pygments_lexer": "ipython3",
   "version": "3.6.9"
  }
 },
 "nbformat": 4,
 "nbformat_minor": 2
}
