{
 "cells": [
  {
   "cell_type": "code",
   "execution_count": 1,
   "metadata": {},
   "outputs": [],
   "source": [
    "from __future__ import division\n",
    "from importlib import reload\n",
    "from modules import * \n",
    "import pickle\n",
    "import csv\n",
    "fig_savedir = '../data/figures/'\n",
    "from scipy.stats import entropy\n",
    "\n",
    "\n",
    "#CURRENTLY \n",
    "# - FREEZE WEIGHTS == TRUE\n",
    "# - in maze.reset() around_reward defaults True\n",
    "#don't forget to turn it off before running trials without preloaded weights\n",
    "def normalize_output(img):\n",
    "    img = img - img.min()\n",
    "    img = img / img.max()\n",
    "    return img"
   ]
  },
  {
   "cell_type": "code",
   "execution_count": 2,
   "metadata": {},
   "outputs": [
    {
     "data": {
      "text/plain": [
       "[(2, 2)]"
      ]
     },
     "execution_count": 2,
     "metadata": {},
     "output_type": "execute_result"
    }
   ],
   "source": [
    "reload(eu)\n",
    "grid_params = {\n",
    "    'y_height':     15, \n",
    "    'x_width':      15,\n",
    "    'walls':        False,\n",
    "    'rho':          0,\n",
    "    'maze_type':    'none',\n",
    "    'barheight':    14,\n",
    "    'port_shift':   'none',\n",
    "    'step_penaliz': -0.01,\n",
    "    'rwd_loc':      [(2,2)]\n",
    "}\n",
    "\n",
    "#make environment\n",
    "\n",
    "maze = eu.gridworld(grid_params)\n",
    "maze.rwd_loc\n"
   ]
  },
  {
   "cell_type": "code",
   "execution_count": 32,
   "metadata": {},
   "outputs": [
    {
     "data": {
      "image/png": "[encoded data removed]",
      "text/plain": [
       "<Figure size 432x288 with 1 Axes>"
      ]
     },
     "metadata": {
      "needs_background": "light"
     },
     "output_type": "display_data"
    }
   ],
   "source": [
    "agent_params = {\n",
    "        'load_model':   True,\n",
    "        'load_dir':     '../data/outputs/gridworld/openfield_poke{}{}.pt'.format(grid_params['x_width'],grid_params['y_height']),\n",
    "        'rwd_placement': 'training_loc',\n",
    "        \n",
    "        'state_type':   'conv',\n",
    "        'lin_dims':     500,\n",
    "        'rfsize':       4,\n",
    "        'stride':       1,\n",
    "        'action_dims':  len(maze.actionlist),\n",
    "        'temperature':  1,\n",
    "    \n",
    "        'batch_size':   1,\n",
    "        'gamma':        0.98, #discount factor\n",
    "        'eta':          5e-4,\n",
    "        \n",
    "        'use_EC':       True,\n",
    "        'cachelim':     300, # memory limit should be ~75% of #actions x #states\n",
    "        'EC':           {},\n",
    "        'mem_temp':     0.3\n",
    "        \n",
    "    }\n",
    "run_dict = ac.reset_agt(maze, agent_params, rwd_placement=[(2,2)])\n",
    "\n",
    "\n",
    "if agent_params['use_EC']:\n",
    "    #agent_params['cachelim'] = int(0.5*np.prod(maze.grid.shape))\n",
    "    agent_params['EC'] = ec.ep_mem(run_dict['agent'],agent_params['cachelim'])\n",
    "\n",
    "gp.plot_env(run_dict['environment'])"
   ]
  },
  {
   "cell_type": "code",
   "execution_count": 33,
   "metadata": {},
   "outputs": [],
   "source": [
    "#time_running = 0\n",
    "#tot_reward = []"
   ]
  },
  {
   "cell_type": "code",
   "execution_count": 52,
   "metadata": {
    "scrolled": true
   },
   "outputs": [
    {
     "name": "stdout",
     "output_type": "stream",
     "text": [
      "[(12, 12)]\n",
      "0 2.3690962386006458\n",
      "0.0\n",
      "[15:23:14]  Trial 1 TotRew = -2.99999999999998 (0.380s)\n",
      "[15:32:13]  Trial 101 TotRew = -2.99999999999998 (538.253s)\n",
      "[15:41:35]  Trial 201 TotRew = -2.99999999999998 (562.742s)\n",
      "[15:49:50]  Trial 301 TotRew = -2.99999999999998 (494.855s)\n",
      "[15:59:47]  Trial 401 TotRew = -2.99999999999998 (596.817s)\n",
      "[16:09:23]  Trial 500 TotRew = -0.5700000000000012 (576.216s)\n"
     ]
    }
   ],
   "source": [
    "training = False\n",
    "new_test = True\n",
    "mem_test = True\n",
    "### TRAINING\n",
    "if training:\n",
    "    time_running = 0\n",
    "    tot_reward = []\n",
    "    rwd = [(2,2)]\n",
    "    rec_mem = False\n",
    "    use_ec = False\n",
    "    freeze_weights = False\n",
    "    num_trials = 5000\n",
    "else:\n",
    "    if new_test:\n",
    "        time_running = 3000\n",
    "        tot_reward = tot_reward[0:time_running]\n",
    "        num_trials = 1000\n",
    "    if mem_test:\n",
    "        rec_mem = True\n",
    "        use_ec = True\n",
    "        freeze_weights = False\n",
    "        num_trials = 500\n",
    "    rwd = [(12,12)]\n",
    "\n",
    "reload(expt)\n",
    "maze = eu.gridworld(grid_params, around_reward =True)\n",
    "run_dict = ac.reset_agt(maze, \n",
    "                        agent_params, \n",
    "                        freeze_weights=freeze_weights, rwd_placement = rwd)\n",
    "run_dict['NUM_TRIALS'] = num_trials\n",
    "print(maze.rwd_loc)\n",
    "expt.run(run_dict,full=False, rec_mem=rec_mem, use_EC=use_ec, plots =False) ## by default runs truncated trials with MF only\n",
    "time_running += run_dict['NUM_TRIALS']\n",
    "tot_reward += run_dict['total_reward']\n",
    "#ac.torch.save(run_dict['agent'],agent_params['load_dir'])"
   ]
  },
  {
   "cell_type": "code",
   "execution_count": 67,
   "metadata": {},
   "outputs": [
    {
     "name": "stdout",
     "output_type": "stream",
     "text": [
      "0.6993987975951904\n"
     ]
    },
    {
     "data": {
      "image/png": "[encoded data removed]",
      "text/plain": [
       "<Figure size 432x288 with 1 Axes>"
      ]
     },
     "metadata": {
      "needs_background": "light"
     },
     "output_type": "display_data"
    }
   ],
   "source": [
    "#ac.torch.save(run_dict['agent'],agent_params['load_dir'])\n",
    "tr = tot_reward[3000:-1]\n",
    "plt.plot(tr, 'bo')\n",
    "prop_fail = len([i for i in tr if i < -2.9])/len(tr)\n",
    "print(prop_fail)\n",
    "#pickle.dump(agent_params, open('../data/outputs/gridworld/1515_test/agent_params_MFonly.p', \"wb\"))"
   ]
  },
  {
   "cell_type": "code",
   "execution_count": 76,
   "metadata": {},
   "outputs": [
    {
     "name": "stdout",
     "output_type": "stream",
     "text": [
      "2.6804328739937056\n"
     ]
    }
   ],
   "source": [
    "#plt.imshow(np.vstack(run_dict['pp']).T, aspect='auto', vmin=0, vmax=1,cmap=plt.cm.Spectral_r)\n",
    "#plt.yticks(ticks=np.arange(6), labels = maze.actionlist)\n",
    "#plt.vlines(x=len(training_policy_1212), ymin=-0.5,ymax=5.5, linestyles=':')\n",
    "#plt.colorbar()\n",
    "a = np.array([0.,1. ,0.,0.,0. ,0.])\n",
    "b = np.array([0.,0. ,0.,0.,0. ,1.])\n",
    "c = np.array([0.,0.5,0.,0.,0.5,0.])\n",
    "d = ac.softmax(np.array([1,1,1,1,1,1]))\n",
    "print(entropy(a,d))"
   ]
  },
  {
   "cell_type": "code",
   "execution_count": 54,
   "metadata": {},
   "outputs": [
    {
     "data": {
      "image/png": "[encoded data removed]",
      "text/plain": [
       "<Figure size 504x360 with 2 Axes>"
      ]
     },
     "metadata": {
      "needs_background": "light"
     },
     "output_type": "display_data"
    },
    {
     "data": {
      "image/png": "[encoded data removed]",
      "text/plain": [
       "<Figure size 504x360 with 2 Axes>"
      ]
     },
     "metadata": {
      "needs_background": "light"
     },
     "output_type": "display_data"
    }
   ],
   "source": [
    "policy_loss = run_dict['total_loss'][0]\n",
    "value_loss = run_dict['total_loss'][1]\n",
    "#tot_reward = run_dict['total_reward']\n",
    "#trial_length = run_dict['trial_length']\n",
    "\n",
    "#plt.plot(tot_reward)\n",
    "#plt.show()\n",
    "\n",
    "vv, pp = ac.snapshot(agent=run_dict['agent'], maze =run_dict['environment'])\n",
    "\n",
    "gp.plot_polmap(run_dict['environment'], pp, threshold=0.22)\n",
    "gp.plot_valmap(run_dict['environment'], vv, v_range =[0,1])"
   ]
  },
  {
   "cell_type": "code",
   "execution_count": null,
   "metadata": {},
   "outputs": [],
   "source": [
    "for i in range(10):\n",
    "    gp.plot_valmap(maze, run_dict['pp'][i])"
   ]
  },
  {
   "cell_type": "code",
   "execution_count": null,
   "metadata": {},
   "outputs": [],
   "source": []
  },
  {
   "cell_type": "code",
   "execution_count": null,
   "metadata": {},
   "outputs": [],
   "source": [
    "\n"
   ]
  },
  {
   "cell_type": "code",
   "execution_count": null,
   "metadata": {
    "scrolled": true
   },
   "outputs": [],
   "source": [
    "### TESTING \n",
    "\n",
    "#reload(gp)\n",
    "#reload(expt)\n",
    "num_samples = 1\n",
    "kld_samples = []\n",
    "for sample in range(num_samples):\n",
    "    print(sample)\n",
    "    maze = eu.gridworld(grid_params, around_reward = False)\n",
    "    run_dict = ac.reset_agt(maze, \n",
    "                            agent_params, \n",
    "                            freeze_weights=True)\n",
    "    run_dict['NUM_TRIALS'] = 100\n",
    "\n",
    "    expt.run(run_dict,full=False, rec_mem=True, use_EC=False) ## by default runs truncated trials with MF only\n",
    "    \n",
    "    ec_policies = ac.mem_snapshot(maze, \n",
    "                       agent_params['EC'], \n",
    "                       trial_timestamp = 50, \n",
    "                       decay           = ec.calc_env(halfmax = 20), \n",
    "                       mem_temp        = 0.3)\n",
    "    a = gp.plot_polmap(maze, ec_policies)\n",
    "    __, mf_pols = ac.snapshot(agent=run_dict['agent'], maze =run_dict['environment'])\n",
    "    mf_policies = np.vstack(mf_pols)\n",
    "    \n",
    "    kld = np.zeros(ec_policies.shape)\n",
    "    for i in range(ec_policies.shape[0]):\n",
    "        for j in range(ec_policies.shape[1]):\n",
    "            if sum([e for e in ec_policies[i][j]]) == 0.0:\n",
    "                kld[i][j] = np.nan\n",
    "            else:\n",
    "                mf_pol = ac.softmax([m for m in mf_policies[i][j]])\n",
    "                ec_pol = ac.softmax([e for e in ec_policies[i][j]])\n",
    "                kld[i][j] = entropy(ec_pol,mf_pol)\n",
    "    kld_samples.append(kld)"
   ]
  },
  {
   "cell_type": "code",
   "execution_count": null,
   "metadata": {},
   "outputs": [],
   "source": []
  },
  {
   "cell_type": "code",
   "execution_count": null,
   "metadata": {},
   "outputs": [],
   "source": [
    "# Average kld over 100 samples of 50 trials\n",
    "gp.plot_valmap(run_dict['environment'], np.average(kld_samples, axis=0), v_range = [0,0.12], title=f\"Average KLD over {len(kld_samples)} runs\", save=False)"
   ]
  },
  {
   "cell_type": "code",
   "execution_count": null,
   "metadata": {},
   "outputs": [],
   "source": [
    "import math \n",
    "#kld_samples = pickle.load( open( \"../data/kld_whole_field.p\", \"rb\" ) )\n",
    "rows = 20\n",
    "cols = 20\n",
    "average = np.zeros((rows,cols))\n",
    "num_samples = np.zeros((rows, cols))\n",
    "for i in range(len(kld_samples)):\n",
    "    for j in range(rows):\n",
    "        for k in range(cols):\n",
    "            if not math.isnan(kld_samples[i][j][k]):\n",
    "                average[j][k] += kld_samples[i][j][k]\n",
    "                num_samples[j][k] += 1\n",
    "\n",
    "new_avg = np.zeros_like(average)\n",
    "for i in range(rows):\n",
    "    for j in range(cols):\n",
    "        if num_samples[i][j] == 0.0:\n",
    "            new_avg[i][j] = np.nan\n",
    "        else:\n",
    "            new_avg[i][j] = average[i][j]/num_samples[i][j]\n",
    "\n",
    "\n",
    "#pickle.dump(kld_samples, open('../data/kld_whole_field.p', \"wb\"))"
   ]
  },
  {
   "cell_type": "code",
   "execution_count": null,
   "metadata": {},
   "outputs": [],
   "source": [
    "alphas = num_samples/100\n",
    "\n",
    "vmin, vmax = [0,0.12]\n",
    "fig = plt.figure(figsize=(7,5))\n",
    "ax1 = fig.add_axes([0, 0, 0.85, 0.85])\n",
    "axc = fig.add_axes([0.75, 0, 0.05, 0.85])\n",
    "cmap = plt.cm.Spectral_r\n",
    "cNorm = colors.Normalize(vmin=vmin, vmax=vmax)\n",
    "cb1 = colorbar.ColorbarBase(axc, cmap=cmap, norm=cNorm)\n",
    "imshow_kwargs = {\n",
    "    'vmax': vmax,\n",
    "    'vmin': vmin,\n",
    "    'cmap': cmap,\n",
    "}\n",
    "transparency = colors.Normalize(vmin, vmax, clip=True)(new_avg)\n",
    "transparency = cmap(transparency)\n",
    "transparency[:,:,-1] = alphas+0.5\n",
    "#print(new_avg.shape, (num_samples/100).shape)\n",
    "ax1.imshow(transparency, **imshow_kwargs)\n",
    "ax1.add_patch(plt.Rectangle((maze.rwd_loc[0][0]-0.5, maze.rwd_loc[0][1]-0.5), width=1, height=1, linewidth=1.1, ec='white', fill=False))\n",
    "ax1.invert_yaxis()\n",
    "#plt.savefig('../data/randstartKLD_100_samples.png', format='png',bbox_inches='tight')"
   ]
  },
  {
   "cell_type": "code",
   "execution_count": null,
   "metadata": {},
   "outputs": [],
   "source": []
  },
  {
   "cell_type": "code",
   "execution_count": null,
   "metadata": {},
   "outputs": [],
   "source": []
  },
  {
   "cell_type": "code",
   "execution_count": null,
   "metadata": {},
   "outputs": [],
   "source": [
    "print(pp[0][0])"
   ]
  },
  {
   "cell_type": "code",
   "execution_count": null,
   "metadata": {},
   "outputs": [],
   "source": [
    "ac.torch.save(run_dict['agent'],agent_params['load_dir'])"
   ]
  },
  {
   "cell_type": "code",
   "execution_count": null,
   "metadata": {},
   "outputs": [],
   "source": [
    "# get weights from conv layer and normalize them for visualization\n",
    "weights = run_dict['agent'].hidden[0].weight.data\n",
    "weights = normalize_output(weights)\n",
    "\n",
    "n_filters, ix = 3, 1\n",
    "for i in range(n_filters):\n",
    "    # get filter:\n",
    "    f = weights[i,:,:,:]\n",
    "    for j in range(3):\n",
    "        ax = plt.subplot(n_filters, 3, ix)\n",
    "        ax.set_xticks([])\n",
    "        ax.set_yticks([])\n",
    "        plt.imshow(f[j,:,:], cmap ='gray')\n",
    "        ix+=1\n",
    "plt.show()"
   ]
  },
  {
   "cell_type": "code",
   "execution_count": null,
   "metadata": {},
   "outputs": [],
   "source": [
    "\n",
    "state = torch.Tensor(maze.observation)\n",
    "print(maze.cur_state)\n",
    "policy_, value_, lin_act_ = run_dict['agent'](state)\n",
    "conv = run_dict['agent'].conv.data[0].numpy()\n",
    "print(conv.shape)\n",
    "for i in range(3):\n",
    "    plt.imshow(conv[i,:,:],cmap='gray')\n",
    "    plt.show()"
   ]
  },
  {
   "cell_type": "code",
   "execution_count": 55,
   "metadata": {},
   "outputs": [
    {
     "data": {
      "image/png": "[encoded data removed]",
      "text/plain": [
       "<Figure size 504x360 with 2 Axes>"
      ]
     },
     "metadata": {
      "needs_background": "light"
     },
     "output_type": "display_data"
    },
    {
     "data": {
      "image/png": "[encoded data removed]",
      "text/plain": [
       "<Figure size 504x360 with 2 Axes>"
      ]
     },
     "metadata": {
      "needs_background": "light"
     },
     "output_type": "display_data"
    }
   ],
   "source": [
    "reload(ac)\n",
    "abcd, efgh = ac.mem_snapshot(maze, \n",
    "                       agent_params['EC'], \n",
    "                       trial_timestamp = 500, \n",
    "                       decay           = ec.calc_env(halfmax = 20), \n",
    "                       mem_temp        = 0.3,\n",
    "                            get_vals=True)#agent_params['mem_temp'])\n",
    "gp.plot_polmap(maze, abcd,save=True, threshold = 0.22, title='ec_pol_new_rwd')\n",
    "\n",
    "# KL Divergence\n",
    "ec_policies = abcd\n",
    "mf_policies = np.vstack(pp) \n",
    "\n",
    "kld = np.zeros(ec_policies.shape)\n",
    "for i in range(ec_policies.shape[0]):\n",
    "    for j in range(ec_policies.shape[1]):\n",
    "        if sum([e for e in ec_policies[i][j]]) == 0.0:\n",
    "            kld[i][j] = np.nan\n",
    "      \n",
    "        else:\n",
    "            mf_pol = ac.softmax([m for m in mf_policies[i][j]])\n",
    "            ec_pol = ac.softmax([e for e in ec_policies[i][j]])\n",
    "            kld[i][j] = entropy(ec_pol,mf_pol)\n",
    "gp.plot_valmap(maze, kld, save=True, title='KLD_new_rwd', v_range=[0,.2])\n"
   ]
  },
  {
   "cell_type": "code",
   "execution_count": null,
   "metadata": {},
   "outputs": [],
   "source": [
    "#abcd\n",
    "ec_closeup = []\n",
    "labels = [] \n",
    "radius = 3\n",
    "r,c = maze.rwd_loc[0][1], maze.rwd_loc[0][0]\n",
    "for i in range(radius*2):\n",
    "    ec_closeup.append([])\n",
    "    labels.append([])\n",
    "    for j in range(radius*2):\n",
    "        ec_closeup[i].append(abcd[r-radius+i][c-radius+j])\n",
    "        labels[i].append((r-radius+i, c-radius+j))\n",
    "ec_closeup = np.asarray(ec_closeup)\n",
    "\n",
    "print(type(labels[0][0][0]))"
   ]
  },
  {
   "cell_type": "code",
   "execution_count": null,
   "metadata": {},
   "outputs": [],
   "source": [
    "num_rows = ec_closeup.shape[0]\n",
    "num_cols = ec_closeup.shape[1]\n",
    "\n",
    "fig, ax = plt.subplots(num_rows,num_cols, sharex=True, sharey=True)\n",
    "\n",
    "ax[0,0].set_ylim([0,1])\n",
    "ax[0,0].set_yticks([])\n",
    "ax[0,0].set_xticks([])\n",
    "for k in range(num_rows):\n",
    "    i = num_rows-k-1\n",
    "    for j in range(num_cols):\n",
    "        ec_data = list(ec_closeup[k][j])\n",
    "        ax[i,j].bar(np.arange(6), ec_data)\n",
    "        if labels[k][j] == (maze.rwd_loc[0][1], maze.rwd_loc[0][0]):\n",
    "            ax[i,j].text(s='*', x=2,y=0.5,fontsize=16,color='r')\n",
    "        ax[i,j].text(s=maze.actionlist[np.argmin(ec_data)], x=0.0,y=0.7,fontsize=8)\n",
    "        ax[i,j].text(s=maze.actionlist[np.argmax(ec_data)], x=4,y=0.7,fontsize=8)"
   ]
  },
  {
   "cell_type": "code",
   "execution_count": null,
   "metadata": {},
   "outputs": [],
   "source": [
    "num_rows = ec_closeup.shape[0]\n",
    "num_cols = ec_closeup.shape[1]\n",
    "\n",
    "fig, ax = plt.subplots(num_rows,num_cols, sharex=True, sharey=True)\n",
    "\n",
    "ax[0,0].set_ylim([0,1])\n",
    "ax[0,0].set_yticks([])\n",
    "ax[0,0].set_xticks([])\n",
    "for k in range(num_rows):\n",
    "    i = k\n",
    "    print(k, i)\n",
    "    for j in range(num_cols):\n",
    "        ec_data = list(ec_closeup[i][j])\n",
    "        ax[i,j].bar(np.arange(6), ec_data)\n",
    "        if labels[i][j] == (maze.rwd_loc[0][1], maze.rwd_loc[0][0]):\n",
    "            ax[i,j].text(s='*', x=2,y=0.5,fontsize=16,color='r')\n",
    "        ax[i,j].text(s=maze.actionlist[np.argmin(ec_data)], x=0.0,y=0.7,fontsize=8)\n",
    "        ax[i,j].text(s=maze.actionlist[np.argmax(ec_data)], x=4,y=0.7,fontsize=8)"
   ]
  },
  {
   "cell_type": "code",
   "execution_count": null,
   "metadata": {},
   "outputs": [],
   "source": [
    "# print state action values\n",
    "data_frame = []\n",
    "for i in range(6): # num actions\n",
    "    data_frame.append(np.zeros((maze.y, maze.x)))\n",
    "    for j in range(maze.x): # width\n",
    "        for k in range(maze.y): #height\n",
    "            data_frame[i][k,j] = efgh[k,j][i]\n",
    "    gp.plot_valmap(maze,data_frame[i], title =f\"State Action Value Estimate for = {maze.actionlist[i]}\", v_range = [-1,1])"
   ]
  },
  {
   "cell_type": "code",
   "execution_count": null,
   "metadata": {},
   "outputs": [],
   "source": []
  },
  {
   "cell_type": "code",
   "execution_count": null,
   "metadata": {},
   "outputs": [],
   "source": [
    "#tot_reward += run_dict['total_reward']\n",
    "plt.plot(tot_reward,'bo')\n",
    "plt.show()"
   ]
  },
  {
   "cell_type": "code",
   "execution_count": null,
   "metadata": {},
   "outputs": [],
   "source": [
    "val_tens = [np.zeros((10,10)) for i in range(6)]\n",
    "print(len(val_tens))\n",
    "for index, x in np.ndenumerate(efgh):\n",
    "    for i in range(6):\n",
    "        val_tens[i][index]= x[i]"
   ]
  },
  {
   "cell_type": "code",
   "execution_count": null,
   "metadata": {},
   "outputs": [],
   "source": [
    "acts = run_dict['environment'].actionlist\n",
    "reload(gp)\n",
    "for i in range(6):\n",
    "    gp.plot_valmap(run_dict['environment'],val_tens[i], p_range = [val_tens[i].min(), val_tens[0].max()], title='action='+acts[i])"
   ]
  },
  {
   "cell_type": "code",
   "execution_count": null,
   "metadata": {},
   "outputs": [],
   "source": [
    "#set_aside = abcd\n",
    "### this is for plotting the biggest change in the policy after a single reward is received\n",
    "'''\n",
    "hootenany = np.zeros_like(abcd)\n",
    "for index, x in np.ndenumerate(abcd):\n",
    "    change = np.asarray(list(abcd[index]) - np.asarray(list(set_aside[index])))\n",
    "    hootenany[index] = tuple(change)\n",
    "\n",
    "gp.plot_polmap(maze, hootenany)\n",
    "'''"
   ]
  },
  {
   "cell_type": "code",
   "execution_count": null,
   "metadata": {},
   "outputs": [],
   "source": []
  },
  {
   "cell_type": "code",
   "execution_count": null,
   "metadata": {},
   "outputs": [],
   "source": [
    "policy_loss = run_dict['total_loss'][0]\n",
    "value_loss = run_dict['total_loss'][1]\n",
    "tot_reward = run_dict['total_reward']\n",
    "trial_length = run_dict['trial_length']"
   ]
  },
  {
   "cell_type": "code",
   "execution_count": null,
   "metadata": {},
   "outputs": [],
   "source": [
    "max_ysteps = int(grid_params['y_height']/2)\n",
    "max_xsteps = int(grid_params['x_width']/2)\n",
    "\n",
    "reward_threshold = 1+ grid_params['step_penaliz']*(max_xsteps + max_ysteps)\n",
    "print(reward_threshold)\n",
    "\n",
    "fig, ax = plt.subplots(2,1, sharex=True)\n",
    "ax[0].plot(gp.running_mean(tot_reward,30))\n",
    "ax[0].plot(tot_reward, 'b', alpha = 0.2)\n",
    "ax[0].axhline(reward_threshold)\n",
    "#plt.plot(trial_length)\n",
    "ax[1].plot(policy_loss)\n",
    "plt.show()\n",
    "plt.close()\n",
    "\n",
    "rwd_mean = gp.running_mean(tot_reward,30)\n",
    "plt.figure(1)\n",
    "plt.plot(rwd_mean)\n",
    "plt.plot(tot_reward, 'b', alpha = 0.2)\n",
    "plt.axhline(reward_threshold)\n",
    "plt.savefig('rdtest.svg', format='svg')\n",
    "\n",
    "get_sd =np.where(rwd_mean > reward_threshold)[0]\n",
    "clipped_pol_loss = policy_loss[get_sd:-1]\n",
    "print(np.std(clipped_pol_loss))\n",
    "\n",
    "#pick = [tot_reward, policy_loss, value_loss, trial_length]\n",
    "#pickle.dump(pick, open(\"pickles/initial_training.p\", \"wb\"))"
   ]
  },
  {
   "cell_type": "code",
   "execution_count": null,
   "metadata": {},
   "outputs": [],
   "source": []
  },
  {
   "cell_type": "code",
   "execution_count": null,
   "metadata": {},
   "outputs": [],
   "source": [
    "reload(gp)\n"
   ]
  },
  {
   "cell_type": "code",
   "execution_count": null,
   "metadata": {},
   "outputs": [],
   "source": [
    "ttt = ac.mem_snapshot(run_dict['environment'], agent_params['EC'], trial_timestamp=1, decay=100)\n",
    "gp.plot_polmap(run_dict['environment'],ttt)"
   ]
  },
  {
   "cell_type": "code",
   "execution_count": null,
   "metadata": {},
   "outputs": [],
   "source": [
    "key_ = 0 \n",
    "for k, v in agent_params['EC'].cache_list.items():\n",
    "    if v[2] == (10,10):\n",
    "        key_ = k\n",
    "        print(agent_params['EC'].cache_list[key_][0])\n",
    "\n",
    "plt.figure()\n",
    "plt.bar(np.arange(6), agent_params['EC'].recall_mem(key_, 26))\n",
    "plt.ylim([0,1])"
   ]
  },
  {
   "cell_type": "code",
   "execution_count": null,
   "metadata": {
    "scrolled": false
   },
   "outputs": [],
   "source": [
    "fig,ax = plt.subplots(2,1, sharex=True)\n",
    "ax[0].plot(policy_loss)\n",
    "ax[0].axvline(x = run_dict['NUM_TRIALS'],color='k', linestyle=':', alpha=0.5)\n",
    "ax[0].set_ylabel('Policy Loss')\n",
    "ax[1].plot(value_loss)\n",
    "ax[1].axvline(x = run_dict['NUM_TRIALS'],color='k', linestyle=':', alpha=0.5)\n",
    "ax[1].set_ylabel('Value Loss')\n",
    "\n",
    "#ax[0].arrow(2000, max(policy_loss), 0, -600, head_width=50, head_length=100, fc='k', ec='k')\n",
    "#ax[1].arrow(2000, max(value_loss), 0, -600, head_width=50, head_length=100, fc='k', ec='k')\n",
    "\n",
    "#plt.savefig('../data/figures/loss_after_trunc_training.svg', format='svg')\n",
    "plt.show()\n",
    "plt.close()"
   ]
  },
  {
   "cell_type": "code",
   "execution_count": null,
   "metadata": {},
   "outputs": [],
   "source": []
  },
  {
   "cell_type": "code",
   "execution_count": null,
   "metadata": {},
   "outputs": [],
   "source": [
    "x = -1\n",
    "print(value_loss[x])\n",
    "print(policy_loss[x])"
   ]
  },
  {
   "cell_type": "code",
   "execution_count": null,
   "metadata": {},
   "outputs": [],
   "source": [
    "vv, pp = ac.snapshot(agent=run_dict['agent'], maze =run_dict['environment'])\n",
    "reload(gp)\n",
    "gp.plot_polmap(run_dict['environment'], pp)\n",
    "gp.plot_valmap(run_dict['environment'], vv, p_range=[0,1.5])"
   ]
  },
  {
   "cell_type": "code",
   "execution_count": null,
   "metadata": {},
   "outputs": [],
   "source": [
    "def test_pvals(p, **kwargs):\n",
    "    envelope = kwargs.get('envelope', 50)\n",
    "    mfc      = kwargs.get('conf_score', 1)\n",
    "    return mfc*np.round(1 / np.cosh(p / envelope), 8)"
   ]
  },
  {
   "cell_type": "code",
   "execution_count": null,
   "metadata": {},
   "outputs": [],
   "source": [
    "\n",
    "a = np.linspace(1,200, 100)#np.sort(np.random.randint(1,100,10))\n",
    "b = 10*np.arange(10)+5\n",
    "for i in b:\n",
    "    a_p = test_pvals(a, envelope=i)\n",
    "    plt.plot(a, a_p, '-', label=f'{i}')\n",
    "plt.legend(loc=0)\n",
    "#ax[1].plot(a_p)\n"
   ]
  },
  {
   "cell_type": "code",
   "execution_count": null,
   "metadata": {},
   "outputs": [],
   "source": []
  },
  {
   "cell_type": "code",
   "execution_count": null,
   "metadata": {},
   "outputs": [],
   "source": []
  },
  {
   "cell_type": "code",
   "execution_count": null,
   "metadata": {},
   "outputs": [],
   "source": []
  },
  {
   "cell_type": "code",
   "execution_count": null,
   "metadata": {},
   "outputs": [],
   "source": [
    "EC = agent_params['EC']"
   ]
  },
  {
   "cell_type": "code",
   "execution_count": null,
   "metadata": {},
   "outputs": [],
   "source": [
    "import time\n",
    "meas_time = time.time()\n",
    "x = np.asarray(list(agent_params['EC'].cache_list.keys()))\n",
    "#x = np.asarray([*agent_params['EC'].cache_list.keys()])\n",
    "print(time.time() - meas_time)"
   ]
  },
  {
   "cell_type": "code",
   "execution_count": null,
   "metadata": {},
   "outputs": [],
   "source": [
    "reload(ec)\n",
    "test_case = x[0]+ 0.3*(np.random.randn(500))\n",
    "key, index, sim = EC.cosine_sim(test_case)\n",
    "print(key[0:10], index, sim)\n",
    "EC.recall_mem(key, timestep=1)\n"
   ]
  },
  {
   "cell_type": "code",
   "execution_count": null,
   "metadata": {},
   "outputs": [],
   "source": []
  },
  {
   "cell_type": "code",
   "execution_count": null,
   "metadata": {},
   "outputs": [],
   "source": []
  },
  {
   "cell_type": "code",
   "execution_count": null,
   "metadata": {},
   "outputs": [],
   "source": []
  },
  {
   "cell_type": "code",
   "execution_count": null,
   "metadata": {},
   "outputs": [],
   "source": []
  },
  {
   "cell_type": "code",
   "execution_count": null,
   "metadata": {},
   "outputs": [],
   "source": []
  },
  {
   "cell_type": "code",
   "execution_count": null,
   "metadata": {},
   "outputs": [],
   "source": [
    "import seaborn as sns\n"
   ]
  },
  {
   "cell_type": "code",
   "execution_count": null,
   "metadata": {},
   "outputs": [],
   "source": [
    "def make_pvals(p, envelope):\n",
    "    return np.round(1 / np.cosh(p / envelope), 8)\n",
    "## try to plot relationship of envelope and half max x value \n",
    "bunchadots = np.linspace(0, 1000, 10000)\n",
    "envs = np.arange(50, step = 2)+1\n",
    "\n",
    "cp = sns.color_palette(n_colors=len(envs))\n",
    "\n",
    "tracking = []\n",
    "for ind, i in enumerate(envs):\n",
    "    sech = make_pvals(bunchadots, envelope=i)\n",
    "    plt.plot(bunchadots,sech, color = cp[ind])\n",
    "    xhalfmax = bunchadots[np.where(sech<0.5)[0][0]]\n",
    "    plt.plot(xhalfmax,0.5, color = cp[ind], marker = 'o')\n",
    "    tracking.append((i, xhalfmax))\n",
    "plt.xlim([0,100])"
   ]
  },
  {
   "cell_type": "code",
   "execution_count": null,
   "metadata": {},
   "outputs": [],
   "source": [
    "bunchadots = np.linspace(0, 10, 1000)\n",
    "sech = make_pvals(bunchadots, envelope = 0.78967)\n",
    "plt.plot(bunchadots, sech)\n",
    "plt.xlim([0,5])\n",
    "plt.axhline(0.5, color='r')\n",
    "plt.axvline(1.04, color = 'r')\n",
    "\n",
    "plt.axvline(3.12, color = 'g')\n",
    "plt.axhline(0.04, color = 'g')"
   ]
  },
  {
   "cell_type": "code",
   "execution_count": null,
   "metadata": {},
   "outputs": [],
   "source": []
  },
  {
   "cell_type": "code",
   "execution_count": null,
   "metadata": {},
   "outputs": [],
   "source": [
    "a = np.zeros(5)\n",
    "b = 0.5\n",
    "for i in range(len(a)):\n",
    "    a[i] = b*(b**i)\n",
    "print(a)"
   ]
  },
  {
   "cell_type": "code",
   "execution_count": null,
   "metadata": {},
   "outputs": [],
   "source": []
  },
  {
   "cell_type": "code",
   "execution_count": null,
   "metadata": {},
   "outputs": [],
   "source": []
  },
  {
   "cell_type": "code",
   "execution_count": null,
   "metadata": {},
   "outputs": [],
   "source": []
  },
  {
   "cell_type": "code",
   "execution_count": null,
   "metadata": {},
   "outputs": [],
   "source": [
    "ac.torch.save(run_dict['agent'],agent_params['load_dir'])"
   ]
  },
  {
   "cell_type": "code",
   "execution_count": null,
   "metadata": {},
   "outputs": [],
   "source": []
  }
 ],
 "metadata": {
  "kernelspec": {
   "display_name": "Python 3",
   "language": "python",
   "name": "python3"
  },
  "language_info": {
   "codemirror_mode": {
    "name": "ipython",
    "version": 3
   },
   "file_extension": ".py",
   "mimetype": "text/x-python",
   "name": "python",
   "nbconvert_exporter": "python",
   "pygments_lexer": "ipython3",
   "version": "3.6.9"
  }
 },
 "nbformat": 4,
 "nbformat_minor": 2
}
