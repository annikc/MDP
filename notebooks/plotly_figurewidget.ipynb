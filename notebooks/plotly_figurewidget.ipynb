{
 "cells": [
  {
   "cell_type": "code",
   "execution_count": 20,
   "metadata": {},
   "outputs": [],
   "source": [
    "import plotly.graph_objects as go\n",
    "from plotly.subplots import make_subplots\n",
    "from ipywidgets import HBox, VBox, interactive\n",
    "import numpy as np \n",
    "import pickle\n",
    "import plotly.express as px\n",
    "import matplotlib.colors as mcol\n",
    "from modules import *\n",
    "import matplotlib.pyplot as plt"
   ]
  },
  {
   "cell_type": "code",
   "execution_count": null,
   "metadata": {},
   "outputs": [],
   "source": [
    "cme = pickle.load(open('pickles/mf_run.p', 'rb'))\n",
    "print(cme)\n",
    "gridsize = (10,10)"
   ]
  },
  {
   "cell_type": "code",
   "execution_count": null,
   "metadata": {},
   "outputs": [],
   "source": [
    "policy = []\n",
    "choice = []\n",
    "value  = []\n",
    "coords = np.vstack(cme.keys())\n",
    "print(coords)\n",
    "for i in cme.keys():\n",
    "    policy.append(cme[i][0])\n",
    "    choice.append(cme[i][1])\n",
    "    value.append(cme[i][2])"
   ]
  },
  {
   "cell_type": "code",
   "execution_count": null,
   "metadata": {},
   "outputs": [],
   "source": [
    "fig = go.FigureWidget(\n",
    "    data = go.Scatter(x = coords[:,0], y=coords[:,1], \n",
    "                      mode='markers', \n",
    "                      marker =dict(size =10, \n",
    "                                   color=value, \n",
    "                                   colorbar = dict(title=\"Value\"), \n",
    "                                   colorscale=\"Viridis\")))\n",
    "fig.update_xaxes(range=[-0.5,gridsize[0]-0.5], tickvals = list(np.arange(gridsize[0])))\n",
    "fig.update_yaxes(range=[-0.5,gridsize[1]-0.5], tickvals = list(np.arange(gridsize[1])))\n",
    "\n",
    "fig.data[0].text = value\n",
    "fig.data[0].hoverinfo = 'text'\n",
    "\n",
    "fig.show()"
   ]
  },
  {
   "cell_type": "code",
   "execution_count": null,
   "metadata": {},
   "outputs": [],
   "source": [
    "def set_opacity(opacity, size):\n",
    "    fig.data[0].marker.opacity = opacity\n",
    "    fig.data[0].marker.size = size\n",
    "opacity_slider = interactive(set_opacity,\n",
    "                            opacity = (0.0, 1.0, 0.01),\n",
    "                            size = (1,10,0.25))\n",
    "opacity_slider.children[0].layout.width = '400px'\n",
    "opacity_slider.children[1].layout.width = '400px'\n",
    "\n",
    "#opacity_slider\n",
    "HBox([opacity_slider, fig])\n",
    "import plotly\n",
    "plotly.offline.iplot(fig, opacity_slider)"
   ]
  },
  {
   "cell_type": "code",
   "execution_count": 27,
   "metadata": {
    "scrolled": true
   },
   "outputs": [],
   "source": [
    "trunc = pickle.load(open('miniexpt.p', 'rb'))\n",
    "long = pickle.load(open('miniexpt.p', 'rb'))"
   ]
  },
  {
   "cell_type": "code",
   "execution_count": 32,
   "metadata": {},
   "outputs": [
    {
     "name": "stdout",
     "output_type": "stream",
     "text": [
      "2\n"
     ]
    }
   ],
   "source": [
    "print(len(trunc))\n",
    "wo_pen = trunc[0]\n",
    "w_pen = trunc[1]"
   ]
  },
  {
   "cell_type": "code",
   "execution_count": 31,
   "metadata": {},
   "outputs": [
    {
     "data": {
      "text/plain": [
       "Text(0.5, 0.98, 'Truncated Trials')"
      ]
     },
     "execution_count": 31,
     "metadata": {},
     "output_type": "execute_result"
    },
    {
     "data": {
      "image/png": "[encoded data removed]",
      "text/plain": [
       "<Figure size 432x288 with 6 Axes>"
      ]
     },
     "metadata": {
      "needs_background": "light"
     },
     "output_type": "display_data"
    }
   ],
   "source": [
    "colors = ['tab:blue', 'orange', 'darkgreen']\n",
    "f, ax = plt.subplots(3,2, sharex=True)\n",
    "\n",
    "ax[0,0].plot(gp.running_mean(np.asarray(wo_pen[0]), 20), color=colors[1])\n",
    "ax[0,0].set_ylabel('Total Reward')\n",
    "ax[0,0].set_title('Penalty')\n",
    "#ax[0,0].set_ylim([-5,1])\n",
    "\n",
    "ax[0,1].plot(gp.running_mean(np.asarray(w_pen[0]), 20), color=colors[0])\n",
    "ax[0,1].set_title('No Penalty')\n",
    "#ax[0,1].set_ylim([-5,1])\n",
    "\n",
    "ax[1,0].plot(wo_pen[1][0], color=colors[1])\n",
    "ax[1,0].set_ylabel('Policy Loss')\n",
    "\n",
    "ax[1,1].plot(w_pen[1][0], color=colors[0])\n",
    "\n",
    "ax[2,0].plot(wo_pen[1][1], color=colors[1])\n",
    "ax[2,0].set_ylabel('Value Loss')\n",
    "\n",
    "ax[2,1].plot(w_pen[1][1], color=colors[0])\n",
    "plt.suptitle('Truncated Trials')"
   ]
  },
  {
   "cell_type": "code",
   "execution_count": null,
   "metadata": {},
   "outputs": [],
   "source": [
    "eop = pickle.load(open('pickles/effect_of_penalization_on_learning.p', 'rb'))\n",
    "full = eop[0]\n",
    "short = eop[1]\n",
    "\n",
    "f_ = np.asarray(full)\n",
    "s_ = np.asarray(short)\n",
    "\n",
    "smoothing = 20\n",
    "full_non = gp.running_mean(np.mean(f_[0],axis=0), smoothing)\n",
    "full_pen = gp.running_mean(np.mean(f_[1],axis=0), smoothing)\n",
    "\n",
    "shrt_non = gp.running_mean(np.mean(s_[0],axis=0), smoothing)\n",
    "shrt_pen = gp.running_mean(np.mean(s_[1],axis=0), smoothing)\n",
    "\n",
    "\n",
    "fig, ax = plt.subplots(2,1, sharex=True)\n",
    "ax[0].plot(full_non, label='non')\n",
    "ax[0].plot(full_pen, label='pen')\n",
    "\n",
    "ax[1].plot(shrt_non)\n",
    "ax[1].plot(shrt_pen)\n",
    "\n",
    "ax[0].legend(bbox_to_anchor=(0.85, 0.5))\n",
    "\n",
    "va, pa = ac.snapshot(maze,run_dict['agent'])\n",
    "reload(gp)\n",
    "gp.plot_valmap(maze,va)\n",
    "gp.plot_polmap(maze,pa)"
   ]
  }
 ],
 "metadata": {
  "kernelspec": {
   "display_name": "Python 3",
   "language": "python",
   "name": "python3"
  },
  "language_info": {
   "codemirror_mode": {
    "name": "ipython",
    "version": 3
   },
   "file_extension": ".py",
   "mimetype": "text/x-python",
   "name": "python",
   "nbconvert_exporter": "python",
   "pygments_lexer": "ipython3",
   "version": "3.6.8"
  }
 },
 "nbformat": 4,
 "nbformat_minor": 2
}
