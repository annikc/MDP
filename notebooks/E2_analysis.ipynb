{
 "cells": [
  {
   "cell_type": "code",
   "execution_count": 7,
   "metadata": {},
   "outputs": [],
   "source": [
    "import numpy as np\n",
    "import matplotlib.pyplot as plt\n",
    "import pickle\n",
    "import pandas as pd\n",
    "import torch\n",
    "import sys\n",
    "import analysisE2 as e2\n",
    "\n",
    "sys.path.insert(0,'../rl_network/'); import ac\n",
    "sys.path.insert(0,'../memory/'); import episodic as ec\n",
    "sys.path.insert(0,'../environments/'); import gw; import gp\n",
    "\n",
    "import experiment as expt"
   ]
  },
  {
   "cell_type": "code",
   "execution_count": 8,
   "metadata": {},
   "outputs": [],
   "source": [
    "fields = [\n",
    "    'save_id',          #uuid\n",
    "    'experiment_type',  #int\n",
    "    'load_from',        #str\n",
    "    'num_trials',       #int\n",
    "    'num_events',       #int\n",
    "    'ENVIRONMENT',      #str\n",
    "    'shape',            #tuple\n",
    "    'rho',              #float\n",
    "    'rewards',          #dict\n",
    "    'action_list',      #list\n",
    "    'rwd_action',       #str\n",
    "    'step_penalization',#float\n",
    "    'useable',          #list\n",
    "    'obstacle2D',       #list\n",
    "    'terminal2D',       #list\n",
    "    'jump',             #list or NoneType\n",
    "    'random_start',     #bool\n",
    "    'AGENT',            #arch\n",
    "    'use_SR',           #bool\n",
    "    'freeze_weights',   #bool\n",
    "    'layers',           #list\n",
    "    'hidden_types',     #list\n",
    "    'gamma',            #float\n",
    "    'eta',              #float\n",
    "    'optimizer',        #torch optim. class\n",
    "    'MEMORY', #         # string*\n",
    "    'cache_limit',      #int\n",
    "    'use_pvals',        #bool\n",
    "    'memory_envelope',  #int\n",
    "    'mem_temp',         #float\n",
    "    'alpha',            #float   # memory mixing parameters\n",
    "    'beta'              #int\n",
    "    ]"
   ]
  },
  {
   "cell_type": "code",
   "execution_count": 9,
   "metadata": {},
   "outputs": [],
   "source": [
    "def running_mean(x, N):\n",
    "    cumsum = np.cumsum(np.insert(x, 0, 0))\n",
    "    return (cumsum[N:] - cumsum[:-N]) / float(N)\n",
    "\n",
    "def smoothed_reward(data, smoothing):\n",
    "    smoothed_reward = []\n",
    "    for x in data:\n",
    "        if x is None:\n",
    "            smoothed_reward.append(None)\n",
    "        else: \n",
    "            smoothed_reward.append(running_mean(x.reward_avg, smoothing))\n",
    "    \n",
    "    return smoothed_reward\n",
    "   \n",
    "def ec_recall(EC, key):\n",
    "    # cos sim\n",
    "    key_array = np.asarray(list(EC.keys()))\n",
    "    entry = np.asarray(key)\n",
    "    mqt = np.dot(key_array,entry)\n",
    "    norm = np.linalg.norm(key_array, axis =1) * np.linalg.norm(entry)\n",
    "    cos_sim = mqt/norm\n",
    "    lin_act = tuple(key_array[np.argmax(cos_sim)])\n",
    "    maxcos_sim = max(cos_sim)\n",
    "    \n",
    "    # recall\n",
    "    memory = np.nan_to_num(EC[lin_act][0])\n",
    "    deltas = memory[:,0]\n",
    "    policy = ac.softmax(maxcos_sim * deltas, T=0.05)\n",
    "    return policy\n",
    "    \n",
    "    \n",
    "def ec_policies(maze, EC, trial_timestamp,**kwargs):\n",
    "    envelope = kwargs.get('decay', 50)\n",
    "    mem_temp = kwargs.get('mem_temp', 1)\n",
    "    mpol_array = np.zeros(maze.grid.shape, dtype=[(x, 'f8') for x in maze.action_list])\n",
    "    \n",
    "    \n",
    "    # cycle through readable states\n",
    "    for key in EC.keys():\n",
    "        row, col = EC[key][2]\n",
    "        pol = ec_recall(EC, key)\n",
    "        mpol_array[row,col] = tuple(pol)\n",
    "        \n",
    "    return mpol_array\n",
    "\n",
    "def plot_from_id(run_id, mf=False):\n",
    "    if mf:\n",
    "        agent_dir = f'../data/outputs/gridworld/weights/{run_id}.pt'\n",
    "        agent = torch.load(agent_dir)\n",
    "    mem_dir = f'../data/outputs/gridworld/episodic_cache/{run_id}_EC.p'\n",
    "    mem = pickle.load(open(mem_dir, 'rb'))\n",
    "\n",
    "    ## to do: build grid from csv specs similar to rwd_loc\n",
    "\n",
    "    rwd_loc = df.loc[df['Run_ID'] == run_id, 'Rewards'].item()\n",
    "    r_x = int(rwd_loc[rwd_loc.index('(')+1 : rwd_loc.index(',')])\n",
    "    r_y = int(rwd_loc[rwd_loc.index(',')+2 : rwd_loc.index(')')])\n",
    "\n",
    "    reward_location = (r_x,r_y)\n",
    "\n",
    "    openfield = gw.GridWorld(rows=20, cols=20, env_type=None, rewards={reward_location:1}, step_penalization=-0.01,\n",
    "                            actionlist=['Down','Up','Right','Left'], rewarded_action=None)\n",
    "    \n",
    "    if mf:\n",
    "        obs = openfield.get_sample_obs()\n",
    "        mf_pol, mf_val = expt.get_snapshot(obs, openfield, agent)\n",
    "        gp.plot_pref_pol(openfield,mf_pol, threshold=0.1)\n",
    "\n",
    "\n",
    "    abcd = ec_policies(openfield,mem,trial_timestamp = 0, mem_temp = 0.5)\n",
    "    gp.plot_pref_pol(openfield, abcd, threshold = 0.1, title='ec_pol_new_rwd',upperbound=2)\n",
    "    \n",
    "    \n",
    "def turds(x, alpha, beta):\n",
    "    #alpha = bump size\n",
    "    # beta = number of steps to decay to 0.01\n",
    "    threshold = 0.01\n",
    "    decay = np.power(threshold,1/beta)\n",
    "    a = np.empty_like(x, dtype=float)\n",
    "    \n",
    "    for ind, i in enumerate(x):\n",
    "        if ind == 0:\n",
    "            a[ind] = i*alpha\n",
    "        else:\n",
    "            calc = decay*a[ind-1] + i*alpha\n",
    "            if calc > 1:\n",
    "                calc = 1\n",
    "            a[ind] = calc\n",
    "    return a"
   ]
  },
  {
   "cell_type": "markdown",
   "metadata": {},
   "source": [
    "# Load Data Log"
   ]
  },
  {
   "cell_type": "code",
   "execution_count": 11,
   "metadata": {},
   "outputs": [],
   "source": [
    "# gather all data \n",
    "parent_dir = '../data/outputs/gridworld/E2/'\n",
    "df = pd.read_csv(parent_dir + 'experiments_log.csv')\n",
    "experiment_types = ['Training', \n",
    "                    'MF Only', \n",
    "                    'EC ($\\psi$)', \n",
    "                    'EC ($\\phi$)', \n",
    "                    'MF Only (free)', \n",
    "                    'EC ($\\psi$)(free)', \n",
    "                    'EC ($\\phi$)(free)' ]"
   ]
  },
  {
   "cell_type": "markdown",
   "metadata": {},
   "source": [
    "## Compare Architecture A (no SR) with Architecture B (using SR)\n",
    "Testing phase done with either MF alone or EC alone "
   ]
  },
  {
   "cell_type": "code",
   "execution_count": 19,
   "metadata": {},
   "outputs": [
    {
     "name": "stdout",
     "output_type": "stream",
     "text": [
      "[0 5 2] [0]\n",
      "['None' 'room'] ['None' 'room']\n",
      "['(20, 20)'] ['(20, 20)']\n",
      "[0.  0.1] [0.  0.1]\n",
      "[\"['Down', 'Up', 'Right', 'Left']\"] [\"['Down', 'Up', 'Right', 'Left']\"]\n",
      "['None'] ['None']\n",
      "['A' 'B'] ['A']\n",
      "[False  True] [False  True]\n",
      "[nan False True] [nan False True]\n",
      "[ nan 1.   0.2  0.3  0.5  0.4  0.1  0.05] [ nan 1.   0.2  0.3  0.5  0.4  0.1  0.05]\n",
      "[ nan 0.05] [ nan 0.05]\n",
      "[    nan 1.0e+04 2.5e+01 5.0e+00 5.0e+01 2.5e+02 1.0e+00 1.0e+02 1.0e+01] <class 'numpy.ndarray'>\n",
      "[nan] [nan]\n",
      "5/229 entries match criteria\n",
      "[0 5 2] [2]\n",
      "['None' 'room'] ['None' 'room']\n",
      "['(20, 20)'] ['(20, 20)']\n",
      "[0.  0.1] [0.  0.1]\n",
      "[\"['Down', 'Up', 'Right', 'Left']\"] [\"['Down', 'Up', 'Right', 'Left']\"]\n",
      "['None'] ['None']\n",
      "['A' 'B'] ['A']\n",
      "[False  True] [False  True]\n",
      "[nan False True] [nan False True]\n",
      "[ nan 1.   0.2  0.3  0.5  0.4  0.1  0.05] [ nan 1.   0.2  0.3  0.5  0.4  0.1  0.05]\n",
      "[ nan 0.05] [ nan 0.05]\n",
      "[    nan 1.0e+04 2.5e+01 5.0e+00 5.0e+01 2.5e+02 1.0e+00 1.0e+02 1.0e+01] <class 'numpy.ndarray'>\n",
      "[nan] [nan]\n",
      "193/229 entries match criteria\n",
      "[0 5 2] [5]\n",
      "['None' 'room'] ['None' 'room']\n",
      "['(20, 20)'] ['(20, 20)']\n",
      "[0.  0.1] [0.  0.1]\n",
      "[\"['Down', 'Up', 'Right', 'Left']\"] [\"['Down', 'Up', 'Right', 'Left']\"]\n",
      "['None'] ['None']\n",
      "['A' 'B'] ['A']\n",
      "[False  True] [False  True]\n",
      "[nan False True] [nan False True]\n",
      "[ nan 1.   0.2  0.3  0.5  0.4  0.1  0.05] [ nan 1.   0.2  0.3  0.5  0.4  0.1  0.05]\n",
      "[ nan 0.05] [ nan 0.05]\n",
      "[    nan 1.0e+04 2.5e+01 5.0e+00 5.0e+01 2.5e+02 1.0e+00 1.0e+02 1.0e+01] <class 'numpy.ndarray'>\n",
      "[nan] [nan]\n",
      "3/229 entries match criteria\n",
      "[0 5 2] [0]\n",
      "['None' 'room'] ['None' 'room']\n",
      "['(20, 20)'] ['(20, 20)']\n",
      "[0.  0.1] [0.  0.1]\n",
      "[\"['Down', 'Up', 'Right', 'Left']\"] [\"['Down', 'Up', 'Right', 'Left']\"]\n",
      "['None'] ['None']\n",
      "['A' 'B'] ['B']\n",
      "[False  True] [False  True]\n",
      "[nan False True] [nan False True]\n",
      "[ nan 1.   0.2  0.3  0.5  0.4  0.1  0.05] [ nan 1.   0.2  0.3  0.5  0.4  0.1  0.05]\n",
      "[ nan 0.05] [ nan 0.05]\n",
      "[    nan 1.0e+04 2.5e+01 5.0e+00 5.0e+01 2.5e+02 1.0e+00 1.0e+02 1.0e+01] <class 'numpy.ndarray'>\n",
      "[nan] [nan]\n",
      "5/229 entries match criteria\n",
      "[0 5 2] [2]\n",
      "['None' 'room'] ['None' 'room']\n",
      "['(20, 20)'] ['(20, 20)']\n",
      "[0.  0.1] [0.  0.1]\n",
      "[\"['Down', 'Up', 'Right', 'Left']\"] [\"['Down', 'Up', 'Right', 'Left']\"]\n",
      "['None'] ['None']\n",
      "['A' 'B'] ['B']\n",
      "[False  True] [False  True]\n",
      "[nan False True] [nan False True]\n",
      "[ nan 1.   0.2  0.3  0.5  0.4  0.1  0.05] [ nan 1.   0.2  0.3  0.5  0.4  0.1  0.05]\n",
      "[ nan 0.05] [ nan 0.05]\n",
      "[    nan 1.0e+04 2.5e+01 5.0e+00 5.0e+01 2.5e+02 1.0e+00 1.0e+02 1.0e+01] <class 'numpy.ndarray'>\n",
      "[nan] [nan]\n",
      "20/229 entries match criteria\n",
      "[0 5 2] [5]\n",
      "['None' 'room'] ['None' 'room']\n",
      "['(20, 20)'] ['(20, 20)']\n",
      "[0.  0.1] [0.  0.1]\n",
      "[\"['Down', 'Up', 'Right', 'Left']\"] [\"['Down', 'Up', 'Right', 'Left']\"]\n",
      "['None'] ['None']\n",
      "['A' 'B'] ['B']\n",
      "[False  True] [False  True]\n",
      "[nan False True] [nan False True]\n",
      "[ nan 1.   0.2  0.3  0.5  0.4  0.1  0.05] [ nan 1.   0.2  0.3  0.5  0.4  0.1  0.05]\n",
      "[ nan 0.05] [ nan 0.05]\n",
      "[    nan 1.0e+04 2.5e+01 5.0e+00 5.0e+01 2.5e+02 1.0e+00 1.0e+02 1.0e+01] <class 'numpy.ndarray'>\n",
      "[nan] [nan]\n",
      "3/229 entries match criteria\n"
     ]
    },
    {
     "data": {
      "image/png": "[encoded data removed]",
      "text/plain": [
       "<Figure size 432x288 with 2 Axes>"
      ]
     },
     "metadata": {
      "needs_background": "light"
     },
     "output_type": "display_data"
    }
   ],
   "source": [
    "reload(e2)\n",
    "expts_ = [0,2,5]\n",
    "arch_A = e2.arch_filter(df,'A', expts=expts_)\n",
    "arch_B = e2.arch_filter(df,'B', expts=expts_)\n",
    "\n",
    "smoothing = 100\n",
    "smoothed_reward_A = smoothed_reward(arch_A, smoothing)\n",
    "smoothed_reward_B = smoothed_reward(arch_B, smoothing)\n",
    "\n",
    "fig, ax = plt.subplots(2,1, sharex=True)\n",
    "for ind, i  in enumerate(smoothed_reward_A):\n",
    "    if i is not None:\n",
    "        if ind == 0:\n",
    "            training_length= len(i)\n",
    "            ax[0].plot(i, label=experiment_types[ind]+f'(n={arch_A[ind].info.shape[0]})' )\n",
    "        else:\n",
    "            ax[0].plot(np.arange(len(i))+training_length, i, label=experiment_types[ind]+f'(n={arch_A[ind].info.shape[0]})' )\n",
    "for ind, i  in enumerate(smoothed_reward_B):\n",
    "    if i is not None:\n",
    "        if ind == 0:\n",
    "            training_length= len(i[0:5000])\n",
    "            ax[1].plot(i[0:5000], label=experiment_types[ind]+f'(n={arch_B[ind].info.shape[0]})' )\n",
    "        else:\n",
    "            ax[1].plot(np.arange(len(i))+training_length, i, label=experiment_types[ind]+f'(n={arch_B[ind].info.shape[0]})' )            \n",
    "\n",
    "ax[0].legend(bbox_to_anchor=(1.01,0.95))\n",
    "ax[1].legend(bbox_to_anchor=(1.01,0.95))\n",
    "ax[0].set_ylabel('Architecture A')\n",
    "ax[1].set_ylabel('Architecture B')\n",
    "plt.show()"
   ]
  },
  {
   "cell_type": "code",
   "execution_count": null,
   "metadata": {},
   "outputs": [],
   "source": [
    "# get list of run ids for each type \n",
    "arch_A[2].ids\n",
    "print(arch_B[2].ids)\n",
    "list(arch_B[2].ids)[0]"
   ]
  },
  {
   "cell_type": "code",
   "execution_count": null,
   "metadata": {},
   "outputs": [],
   "source": [
    "plot_from_id(list(arch_A[2].ids)[1])"
   ]
  },
  {
   "cell_type": "markdown",
   "metadata": {},
   "source": [
    "## Observe Testing with MF-EC switching"
   ]
  },
  {
   "cell_type": "code",
   "execution_count": null,
   "metadata": {},
   "outputs": [],
   "source": [
    "alphabet = data_filter(df, alpha=[0.0,0.1,0.2], beta=[1,10,20,30,40])\n",
    "labels = []\n",
    "\n",
    "for i in alphabet.ids:\n",
    "    alpha = alphabet.info.loc[alphabet.info['Run_ID']==i, 'Alpha'].item()\n",
    "    beta = alphabet.info.loc[alphabet.info['Run_ID']==i, 'Beta'].item()\n",
    "    labels.append((alpha,beta))\n",
    "\n",
    "trial_lengths = np.ones(len(labels))*250\n",
    "trial_lengths[-1] = 50\n",
    "\n",
    "colours = ['red','blue','green']\n",
    "for ind, i in enumerate(alphabet.data):\n",
    "    x= int(labels[ind][0]*10)\n",
    "    norm_rwd = i['total_reward']/trial_lengths[ind]\n",
    "    plt.plot(running_mean(norm_rwd, 50), label=labels[ind], color=colours[x])\n",
    "plt.legend(bbox_to_anchor=(1.05,0.95))"
   ]
  },
  {
   "cell_type": "code",
   "execution_count": null,
   "metadata": {},
   "outputs": [],
   "source": [
    "sig = 0.8\n",
    "rewards = np.array([np.random.choice([0,1], p=[sig, 1-sig]) for x in range(100)], dtype=float)\n",
    "rewards[np.where(rewards==0)] = -0.01\n",
    "\n",
    "\n",
    "ind = 3\n",
    "id_no = list(alphabet.ids)[ind]\n",
    "trained_on = alphabet.info.loc[alphabet.info['Run_ID']==id_no, 'Load_Model'].item()[36:-6]\n",
    "#trained_rw = df.loc[df['Run_ID']==trained_on, ]\n",
    "alpha = alphabet.info.loc[alphabet.info['Run_ID']==id_no, 'Alpha'].item()\n",
    "beta = alphabet.info.loc[alphabet.info['Run_ID']==id_no, 'Beta'].item()\n",
    "print(f'alpha={alpha},beta={beta}')\n",
    "pp = turds(rewards,alpha=alpha,beta=beta)\n",
    "plt.title(f'Example Trace alpha={alpha}, beta={beta} (p(reward)={np.round(1-sig,2)})')\n",
    "plt.plot(rewards,'k|')\n",
    "plt.plot(pp)\n",
    "plt.show()\n",
    "plt.close()\n",
    "plot_from_id(list(alphabet.ids)[ind], mf=True)\n"
   ]
  },
  {
   "cell_type": "code",
   "execution_count": null,
   "metadata": {},
   "outputs": [],
   "source": []
  },
  {
   "cell_type": "code",
   "execution_count": null,
   "metadata": {},
   "outputs": [],
   "source": []
  },
  {
   "cell_type": "code",
   "execution_count": null,
   "metadata": {},
   "outputs": [],
   "source": []
  },
  {
   "cell_type": "code",
   "execution_count": null,
   "metadata": {},
   "outputs": [],
   "source": []
  },
  {
   "cell_type": "code",
   "execution_count": null,
   "metadata": {},
   "outputs": [],
   "source": []
  },
  {
   "cell_type": "code",
   "execution_count": null,
   "metadata": {},
   "outputs": [],
   "source": []
  },
  {
   "cell_type": "code",
   "execution_count": null,
   "metadata": {},
   "outputs": [],
   "source": [
    "# load in episodic memory\n",
    "#run_id = input(\"Enter Run ID: \")\n",
    "for xx, run_id in enumerate(alphabet.ids):\n",
    "    print(run_id, labels[xx])\n",
    "    print('----------------------')\n",
    "    agent_dir = f'../data/outputs/gridworld/weights/{run_id}.pt'\n",
    "    mem_dir = f'../data/outputs/gridworld/episodic_cache/{run_id}_EC.p'\n",
    "    \n",
    "    agent = torch.load(agent_dir)\n",
    "    mem = pickle.load(open(mem_dir, 'rb'))\n",
    "    \n",
    "    rwd_loc = df.loc[df['Run_ID'] == run_id, 'Rewards'].item()\n",
    "    r_x = int(rwd_loc[rwd_loc.index('(')+1 : rwd_loc.index(',')])\n",
    "    r_y = int(rwd_loc[rwd_loc.index(',')+2 : rwd_loc.index(')')])\n",
    "\n",
    "    reward_location = (r_x,r_y)\n",
    "\n",
    "    openfield = gw.GridWorld(rows=20, cols=20, env_type=None, rewards={reward_location:1}, step_penalization=-0.01,\n",
    "                        actionlist=['Down','Up','Right','Left'], rewarded_action=None)\n",
    "\n",
    "    #fig = gw.plotWorld(openfield, scale=0.3, four_actions=True)\n",
    "    obs = openfield.get_sample_obs()\n",
    "    mf_pol, mf_val = expt.get_snapshot(obs, openfield, agent)\n",
    "    gp.plot_pref_pol(openfield,mf_pol, threshold=0.1)\n",
    "\n",
    "\n",
    "    abcd = ec_policies(openfield,mem,trial_timestamp = 0, mem_temp = 0.5)\n",
    "    gp.plot_pref_pol(openfield, abcd, title='ec_pol_new_rwd',upperbound=2)"
   ]
  },
  {
   "cell_type": "code",
   "execution_count": null,
   "metadata": {},
   "outputs": [],
   "source": []
  },
  {
   "cell_type": "code",
   "execution_count": null,
   "metadata": {},
   "outputs": [],
   "source": []
  },
  {
   "cell_type": "code",
   "execution_count": null,
   "metadata": {},
   "outputs": [],
   "source": [
    "training_A = data_filter(df, expt_type=[0], arch=['A'])\n",
    "training_B = data_filter(df, expt_type=[0], arch=['B'])\n",
    "\n",
    "plot_traces([training_A.reward_avg, training_B.reward_avg],sd=[training_A.reward_sd, training_B.reward_sd], labels=['A','B'],smoothing=100)"
   ]
  },
  {
   "cell_type": "code",
   "execution_count": null,
   "metadata": {},
   "outputs": [],
   "source": [
    "testing_B1 = data_filter(df, expt_type=[1])\n",
    "#testing_B2 = data_filter(df, expt_type=[2])\n",
    "testing_B3 = data_filter(df, expt_type=[3])\n",
    "_try = [[testing_B1.reward_avg, testing_B3.reward_avg], [testing_B1.reward_sd, testing_B3.reward_sd]]\n",
    "plot_traces(_try[0],sds=_try[1],labels=['MF only','EC_phi'],smoothing=30)"
   ]
  },
  {
   "cell_type": "code",
   "execution_count": null,
   "metadata": {},
   "outputs": [],
   "source": [
    "experiments = ['Training', \n",
    "               'A-MF Only',\n",
    "               'A-EC Only ($\\psi$)',\n",
    "               'A-EC Only ($\\phi$)',\n",
    "               'B-MF Only',\n",
    "               'B-EC Only ($\\psi$)', \n",
    "               'B-EC Only ($\\phi$)'\n",
    "              ]\n"
   ]
  },
  {
   "cell_type": "markdown",
   "metadata": {},
   "source": [
    "## Architecture A -- No SR"
   ]
  },
  {
   "cell_type": "code",
   "execution_count": null,
   "metadata": {},
   "outputs": [],
   "source": [
    "A_runs = df.loc[df['Architecture']=='A']\n",
    "A_training = A_runs.loc[A_runs['Experiment_Type']==0]"
   ]
  },
  {
   "cell_type": "code",
   "execution_count": null,
   "metadata": {},
   "outputs": [],
   "source": [
    "x=A_runs.iloc[0]\n",
    "\n",
    "\n",
    "print(type(x['Rewarded_Action']))"
   ]
  },
  {
   "cell_type": "code",
   "execution_count": null,
   "metadata": {},
   "outputs": [],
   "source": []
  },
  {
   "cell_type": "markdown",
   "metadata": {},
   "source": [
    "## Architecture B - with SR"
   ]
  },
  {
   "cell_type": "code",
   "execution_count": null,
   "metadata": {},
   "outputs": [],
   "source": [
    "B_runs = df.loc[df['Architecture']=='A']\n",
    "B_training = B_runs.loc[(B_runs['Experiment_Type']==0) &(B_runs['Num_Actions']==4)]\n",
    "\n",
    "data = []\n",
    "for id_ in B_training['Run_ID']:\n",
    "    data.append(pickle.load(open(f'../data/outputs/gridworld/results/{id_}_data.p', 'rb')))"
   ]
  },
  {
   "cell_type": "markdown",
   "metadata": {},
   "source": [
    "### Training - MF Alone"
   ]
  },
  {
   "cell_type": "code",
   "execution_count": null,
   "metadata": {},
   "outputs": [],
   "source": [
    "smoothing = 30\n",
    "reward = []\n",
    "for i in data:\n",
    "    reward.append(i['total_reward'][0:5000])\n",
    "\n",
    "average_training_reward = np.mean(np.vstack(reward), axis=0)\n",
    "sd_training_reward      = np.std(np.vstack(reward), axis=0)\n",
    "\n",
    "plt.plot(running_mean(average_training_reward, smoothing))\n",
    "plt.fill_between(np.arange(len(average_training_reward)), average_training_reward-sd_training_reward, average_training_reward+sd_training_reward, alpha=0.2)\n",
    "plt.title(f'Average Total Trial Reward During Training (n={len(reward)})')\n",
    "plt.ylim([-2.6, 1.5])\n",
    "plt.show()"
   ]
  },
  {
   "cell_type": "markdown",
   "metadata": {},
   "source": [
    "### Testing - MF Alone"
   ]
  },
  {
   "cell_type": "code",
   "execution_count": null,
   "metadata": {},
   "outputs": [],
   "source": [
    "B_MF_testing = B_runs.loc[(B_runs['Experiment_Type'].isin([2])) &(B_runs['Num_Actions']==4)]\n",
    "\n",
    "MF_data = []\n",
    "for id_ in B_MF_testing['Run_ID']:\n",
    "    MF_data.append(pickle.load(open(f'../data/outputs/gridworld/results/{id_}_data.p', 'rb')))\n",
    "\n",
    "MF_reward = []\n",
    "for i in MF_data:\n",
    "    MF_reward.append(i['total_reward'][0:2000])\n",
    "\n",
    "average_MF_reward = running_mean(np.mean(np.vstack(MF_reward), axis=0), smoothing)\n",
    "sd_MF_reward      = running_mean(np.std(np.vstack(MF_reward), axis=0),smoothing)"
   ]
  },
  {
   "cell_type": "markdown",
   "metadata": {},
   "source": [
    "### Testing - EC Alone"
   ]
  },
  {
   "cell_type": "code",
   "execution_count": null,
   "metadata": {},
   "outputs": [],
   "source": [
    "B_EC_testing = B_runs.loc[(B_runs['Experiment_Type'].isin([5])) &(B_runs['Num_Actions']==4)]\n",
    "\n",
    "EC_data = []\n",
    "for id_ in B_EC_testing['Run_ID']:\n",
    "    EC_data.append(pickle.load(open(f'../data/outputs/gridworld/results/{id_}_data.p', 'rb')))\n",
    "    \n",
    "EC_reward = []\n",
    "for i in EC_data:\n",
    "    EC_reward.append(i['total_reward'][0:2000])\n",
    "\n",
    "average_EC_reward = running_mean(np.mean(np.vstack(EC_reward), axis=0), smoothing)\n",
    "sd_EC_reward      = running_mean(np.std(np.vstack(EC_reward), axis=0), smoothing)"
   ]
  },
  {
   "cell_type": "code",
   "execution_count": null,
   "metadata": {},
   "outputs": [],
   "source": [
    "plt.figure()\n",
    "plt.plot(average_MF_reward, label = f'Frozen Weights (n={len(MF_reward)})')\n",
    "plt.fill_between(np.arange(len(average_MF_reward)), average_MF_reward-sd_MF_reward, average_MF_reward+sd_MF_reward, alpha=0.2)\n",
    "plt.plot(average_EC_reward, label = f'Unfrozen Weights (n={len(EC_reward)})')\n",
    "plt.fill_between(np.arange(len(average_EC_reward)), average_EC_reward-sd_EC_reward, average_EC_reward+sd_EC_reward, alpha=0.2)\n",
    "#plt.fill_between(np.arange(len(average_reward)), average_reward-sd_reward, average_reward+sd_reward, alpha=0.2)\n",
    "plt.title(f'Average Total Trial Reward During Testing')\n",
    "\n",
    "plt.ylim([-2.6, 1.5])\n",
    "plt.legend(loc = 0)\n",
    "plt.show()"
   ]
  },
  {
   "cell_type": "code",
   "execution_count": null,
   "metadata": {},
   "outputs": [],
   "source": [
    "plt.figure()\n",
    "plt.plot(average_MF_reward, label = f'Frozen Weights (n={len(MF_reward)})')\n",
    "plt.fill_between(np.arange(len(average_MF_reward)), average_MF_reward-sd_MF_reward, average_MF_reward+sd_MF_reward, alpha=0.2)\n",
    "plt.plot(average_EC_reward, label = f'Unfrozen Weights (n={len(EC_reward)})')\n",
    "plt.fill_between(np.arange(len(average_EC_reward)), average_EC_reward-sd_EC_reward, average_EC_reward+sd_EC_reward, alpha=0.2)\n",
    "#plt.fill_between(np.arange(len(average_reward)), average_reward-sd_reward, average_reward+sd_reward, alpha=0.2)\n",
    "plt.title(f'Average Total Trial Reward During Testing')\n",
    "\n",
    "plt.ylim([-2.6, 1.5])\n",
    "plt.legend(loc = 0)\n",
    "plt.show()"
   ]
  },
  {
   "cell_type": "code",
   "execution_count": null,
   "metadata": {},
   "outputs": [],
   "source": []
  },
  {
   "cell_type": "code",
   "execution_count": null,
   "metadata": {},
   "outputs": [],
   "source": []
  },
  {
   "cell_type": "code",
   "execution_count": null,
   "metadata": {},
   "outputs": [],
   "source": []
  },
  {
   "cell_type": "code",
   "execution_count": null,
   "metadata": {},
   "outputs": [],
   "source": []
  },
  {
   "cell_type": "code",
   "execution_count": null,
   "metadata": {},
   "outputs": [],
   "source": []
  },
  {
   "cell_type": "code",
   "execution_count": null,
   "metadata": {},
   "outputs": [],
   "source": []
  },
  {
   "cell_type": "code",
   "execution_count": null,
   "metadata": {},
   "outputs": [],
   "source": []
  },
  {
   "cell_type": "code",
   "execution_count": null,
   "metadata": {},
   "outputs": [],
   "source": []
  },
  {
   "cell_type": "code",
   "execution_count": null,
   "metadata": {},
   "outputs": [],
   "source": []
  },
  {
   "cell_type": "code",
   "execution_count": null,
   "metadata": {},
   "outputs": [],
   "source": []
  },
  {
   "cell_type": "code",
   "execution_count": null,
   "metadata": {},
   "outputs": [],
   "source": [
    "experiment_number = 2\n",
    "infos = df.loc[df['Experiment_Type'] == experiment_number, ['Run_ID', 'Memory_Policy_Entropy']].sort_values(by='Memory_Policy_Entropy')[10:13]\n",
    "print(f'Data for {experiments[experiment_number]}\\n',infos)"
   ]
  },
  {
   "cell_type": "code",
   "execution_count": null,
   "metadata": {},
   "outputs": [],
   "source": [
    "ids = infos.values[0:10,0]\n",
    "entropys = infos.values[0:10,1]"
   ]
  },
  {
   "cell_type": "code",
   "execution_count": null,
   "metadata": {},
   "outputs": [],
   "source": [
    "data = []\n",
    "for id_num in ids:\n",
    "    data.append(pickle.load(open(f'../data/outputs/gridworld/{id_num}_data.p', 'rb')))"
   ]
  },
  {
   "cell_type": "code",
   "execution_count": null,
   "metadata": {},
   "outputs": [],
   "source": [
    "#data3 = data\n",
    "smoothing = 100\n",
    "for i in range(int(len(data))):\n",
    "    index = i\n",
    "    plt.plot(running_mean(data[index]['total_reward'], smoothing), 'r', label = entropys[index])\n",
    "    plt.plot(running_mean(data3[index]['total_reward'], smoothing),'c', label = entropys[index])\n",
    "plt.ylim(0, 1.1)\n",
    "plt.xlim([-50,1850])\n",
    "plt.legend(loc=0)\n",
    "plt.show()\n"
   ]
  },
  {
   "cell_type": "code",
   "execution_count": null,
   "metadata": {},
   "outputs": [],
   "source": [
    "ec_only = data[-1]['total_reward']"
   ]
  },
  {
   "cell_type": "code",
   "execution_count": null,
   "metadata": {},
   "outputs": [],
   "source": [
    "d = []\n",
    "for i in range(len(data)):\n",
    "    d.append(data[i]['total_reward'][0:5000])"
   ]
  },
  {
   "cell_type": "code",
   "execution_count": null,
   "metadata": {},
   "outputs": [],
   "source": [
    "mean_MF = np.mean(np.vstack(d),axis=0)"
   ]
  },
  {
   "cell_type": "code",
   "execution_count": null,
   "metadata": {},
   "outputs": [],
   "source": [
    "smoothing = 30\n",
    "plt.plot(running_mean(mean_MF, smoothing), label = 'MF_only')\n",
    "plt.plot(running_mean(ec_only, smoothing), label = 'EC_only')\n",
    "plt.title(\"Post Training Moved Reward Performance\")\n",
    "plt.legend(loc=0)"
   ]
  },
  {
   "cell_type": "code",
   "execution_count": null,
   "metadata": {},
   "outputs": [],
   "source": []
  }
 ],
 "metadata": {
  "kernelspec": {
   "display_name": "Python 3",
   "language": "python",
   "name": "python3"
  },
  "language_info": {
   "codemirror_mode": {
    "name": "ipython",
    "version": 3
   },
   "file_extension": ".py",
   "mimetype": "text/x-python",
   "name": "python",
   "nbconvert_exporter": "python",
   "pygments_lexer": "ipython3",
   "version": "3.6.9"
  }
 },
 "nbformat": 4,
 "nbformat_minor": 4
}
