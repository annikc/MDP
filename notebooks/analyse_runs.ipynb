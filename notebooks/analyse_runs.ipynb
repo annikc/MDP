{
 "cells": [
  {
   "cell_type": "code",
   "execution_count": 1,
   "metadata": {},
   "outputs": [],
   "source": [
    "import numpy as np\n",
    "import matplotlib.pyplot as plt\n",
    "import pickle\n",
    "import pandas as pd"
   ]
  },
  {
   "cell_type": "code",
   "execution_count": 2,
   "metadata": {},
   "outputs": [],
   "source": [
    "def running_mean(x, N):\n",
    "    cumsum = np.cumsum(np.insert(x, 0, 0))\n",
    "    return (cumsum[N:] - cumsum[:-N]) / float(N)\n",
    "\n",
    "def plot_traces(datas, smoothing=1, **kwargs):\n",
    "    plt.figure()\n",
    "    sds = kwargs.get('sd', None)\n",
    "    labels = kwargs.get('labels', [None]*len(datas))\n",
    "    for i in range(len(datas)):\n",
    "        data = datas[i]\n",
    "        smoothed_data = running_mean(data,smoothing)\n",
    "        plt.plot(smoothed_data, label=labels[i])\n",
    "\n",
    "        if sds is not None:\n",
    "            sd = sds[i]\n",
    "            error = running_mean(sd,smoothing)\n",
    "            plt.fill_between(np.arange(len(smoothed_data)), smoothed_data-error, smoothed_data+error, alpha=0.25)\n",
    "    if labels[0] is not None:\n",
    "        plt.legend(bbox_to_anchor=(1.01,1), loc='upper left', borderaxespad=0.0)\n",
    "    plt.ylim([-3, 1.5])\n",
    "    plt.show()\n",
    "    plt.close()\n",
    "\n",
    "class data_filter(object):\n",
    "    def __init__(self, df, **kwargs):\n",
    "        self.exp_type    = kwargs.get('expt_type',       df['Experiment_Type'].unique()) #list of strings\n",
    "        self.env_type    = kwargs.get('env_type',        ['Openfield']) #df['Env_Type'].unique()) #string\n",
    "        self.dims        = kwargs.get('dims',            df['Dimensions'].unique()) #string\n",
    "        self.num_actions = kwargs.get('num_actions',     [4]) #df['Num_Actions'].unique()) # int\n",
    "        self.rwd_action  = kwargs.get('rewarded_action', ['None']) # df['Rewarded_Action'].unique()) # string\n",
    "        self.rho         = kwargs.get('rho',             df['Rho'].unique()) # float\n",
    "        self.arch        = kwargs.get('arch',            df['Architecture'].unique()) # list of strings\n",
    "        self.ec_entropy  = kwargs.get('ec_entropy',      df['EC_Entropy'].unique()) #string ?!?!?!\n",
    "        self.pvals       = kwargs.get('p_vals',          df['Pvals'].unique()) # bool\n",
    "\n",
    "        self.info = self.filter_df(df)\n",
    "        print(f'{self.info.shape[0]}/{df.shape[0]} entries match criteria')\n",
    "        if self.info.shape[0] == 0:\n",
    "            raise Exception(\"No Data to Collect\")\n",
    "        self.ids = self.info['Run_ID']\n",
    "        self.data = self.get_data()\n",
    "\n",
    "        self.reward_avg, self.reward_sd = self.average('total_reward')\n",
    "\n",
    "    def filter_df(self, df):\n",
    "        idx = np.where((df['Experiment_Type'].isin(self.exp_type))\n",
    "                       & (df['Env_Type'].isin(self.env_type))\n",
    "                       & (df['Dimensions'].isin(self.dims))\n",
    "                       & (df['Num_Actions'].isin(self.num_actions))\n",
    "                       & (df['Rewarded_Action'].isin(self.rwd_action))\n",
    "                       & (df['Rho'].isin(self.rho))\n",
    "                       & (df['Architecture'].isin(self.arch))\n",
    "                       & (df['EC_Entropy'].isin(self.ec_entropy))\n",
    "                       & (df['Pvals'].isin(self.pvals))\n",
    "                      )\n",
    "        filtered_info = df.loc[idx]\n",
    "\n",
    "        return filtered_info\n",
    "\n",
    "    def get_data(self):\n",
    "        data = []\n",
    "        for ii, id_ in enumerate(self.ids):\n",
    "            data.append(pickle.load(open(f'../data/outputs/gridworld/results/{id_}_data.p', 'rb')))\n",
    "        return data\n",
    "\n",
    "    def average(self, data_type='total_reward', **kwargs):\n",
    "        start_ind = kwargs.get('start_ind', 0)\n",
    "        end_ind   = kwargs.get('end_ind', -1)\n",
    "\n",
    "        data_to_average = []\n",
    "        array_lengths = [len(i[data_type]) for i in self.data]\n",
    "        masked_array = np.ma.empty((len(self.data),np.max(array_lengths)))\n",
    "        masked_array.mask = True\n",
    "\n",
    "        for idx, i in enumerate(self.data):\n",
    "            masked_array[idx,:len(i[data_type])] = i[data_type]\n",
    "\n",
    "        return masked_array.mean(axis=0), masked_array.std(axis=0)"
   ]
  },
  {
   "cell_type": "code",
   "execution_count": 3,
   "metadata": {},
   "outputs": [],
   "source": [
    "df = pd.read_csv(\"../data/outputs/gridworld/experiments.csv\")"
   ]
  },
  {
   "cell_type": "code",
   "execution_count": 4,
   "metadata": {},
   "outputs": [
    {
     "name": "stdout",
     "output_type": "stream",
     "text": [
      "13/127 entries match criteria\n",
      "4/127 entries match criteria\n",
      "-----\n",
      "5/127 entries match criteria\n",
      "6/127 entries match criteria\n",
      "7/127 entries match criteria\n"
     ]
    }
   ],
   "source": [
    "B_train = data_filter(df, expt_type=[0], arch=['B'])\n",
    "B_MF    = data_filter(df, expt_type=[1], arch=['B'])\n",
    "print('-----')\n",
    "B_psi   = data_filter(df, expt_type=[2], arch=['B'], ec_entropy=[0.1])\n",
    "#B_phi   = data_filter(df, expt_type=[3], arch=['B'])\n",
    "B_MF_free = data_filter(df, expt_type=[4], arch=['B'])\n",
    "B_psi_free = data_filter(df, expt_type=[5], arch=['B'],ec_entropy=[0.1])\n",
    "#B_phi_free = data_filter(df, expt_type=[6], arch=['B'])"
   ]
  },
  {
   "cell_type": "code",
   "execution_count": 7,
   "metadata": {},
   "outputs": [
    {
     "name": "stdout",
     "output_type": "stream",
     "text": [
      "d0d1fc3c-a4d0-47cc-aaa3-3a7628b48d96\n",
      "25aea97f-8e6d-41db-bf01-7735544926d1\n",
      "aefbcf68-d71c-43c7-96f8-57a8b018e9ec\n",
      "e5f1d2a5-6070-4106-ad68-a766663ecf27\n"
     ]
    }
   ],
   "source": [
    "for i in B_MF.info['Run_ID']:\n",
    "    print(i)"
   ]
  },
  {
   "cell_type": "code",
   "execution_count": 8,
   "metadata": {},
   "outputs": [],
   "source": [
    "smoothing = 100\n",
    "training_data = running_mean(B_train.reward_avg[0:5000], smoothing)\n",
    "test_mf = running_mean(B_MF.reward_avg, smoothing)\n",
    "#test_phi = running_mean(B_phi.reward_avg, smoothing)\n",
    "test_psi = running_mean(B_psi.reward_avg, smoothing)\n",
    "test_mff = running_mean(B_MF_free.reward_avg, smoothing)\n",
    "#test_phif = running_mean(B_phi_free.reward_avg, smoothing)\n",
    "test_psif = running_mean(B_psi_free.reward_avg, smoothing)"
   ]
  },
  {
   "cell_type": "code",
   "execution_count": 9,
   "metadata": {},
   "outputs": [
    {
     "data": {
      "text/plain": [
       "<matplotlib.legend.Legend at 0x7f9ba468af60>"
      ]
     },
     "execution_count": 9,
     "metadata": {},
     "output_type": "execute_result"
    },
    {
     "data": {
      "image/png": "[encoded data removed]",
      "text/plain": [
       "<Figure size 432x288 with 1 Axes>"
      ]
     },
     "metadata": {
      "needs_background": "light"
     },
     "output_type": "display_data"
    }
   ],
   "source": [
    "plt.plot(training_data, 'gray', label=f'MF Only (n={B_train.info.shape[0]})' )\n",
    "plt.axvline(x=len(training_data))\n",
    "\n",
    "plt.plot(len(training_data)+np.arange(len(test_mff)),test_mff,'gray', label=f'MF Only (n={B_MF_free.info.shape[0]})')\n",
    "#plt.plot(len(training_data)+np.arange(len(test_mf)), test_mf, 'green', linestyle=':')\n",
    "\n",
    "#plt.plot(len(training_data)+np.arange(len(test_phi)), test_phif,'red', label='EC ($\\phi$)')\n",
    "#plt.plot(len(training_data)+np.arange(len(test_phi)), test_phi, 'red', linestyle=':')\n",
    "\n",
    "plt.plot(len(training_data)+np.arange(len(test_psi)), test_psif, 'pink', label=f'EC ($\\psi$) free (n={B_psi_free.info.shape[0]})')\n",
    "plt.plot(len(training_data)+np.arange(len(test_psi)), test_psi, 'red', linestyle=':', label=f'EC ($\\psi$) frozen  (n={B_psi.info.shape[0]})')\n",
    "\n",
    "plt.legend(bbox_to_anchor=(1.05,1))\n"
   ]
  },
  {
   "cell_type": "code",
   "execution_count": 14,
   "metadata": {},
   "outputs": [
    {
     "name": "stdout",
     "output_type": "stream",
     "text": [
      "7/114 entries match criteria\n",
      "6/114 entries match criteria\n",
      "3/114 entries match criteria\n",
      "6/114 entries match criteria\n",
      "5/114 entries match criteria\n"
     ]
    }
   ],
   "source": [
    "A_train = data_filter(df, expt_type=[0], arch=['A'])\n",
    "\n",
    "A_MF    = data_filter(df, expt_type=[1], arch=['A'])\n",
    "A_MF_free = data_filter(df, expt_type=[4], arch=['A'])\n",
    "\n",
    "A_h   = data_filter(df, expt_type=[2], arch=['A'], ec_entropy=[0.1])\n",
    "A_h_free = data_filter(df, expt_type=[5], arch=['A'],ec_entropy=[0.1])\n"
   ]
  },
  {
   "cell_type": "code",
   "execution_count": 15,
   "metadata": {},
   "outputs": [],
   "source": [
    "smoothing = 100\n",
    "training_data = running_mean(A_train.reward_avg[0:5000], smoothing)\n",
    "\n",
    "test_mf = running_mean(A_MF.reward_avg, smoothing)\n",
    "test_mff = running_mean(A_MF_free.reward_avg, smoothing)\n",
    "\n",
    "test_h = running_mean(A_h.reward_avg, smoothing)\n",
    "test_hf = running_mean(A_h_free.reward_avg, smoothing)\n"
   ]
  },
  {
   "cell_type": "code",
   "execution_count": 17,
   "metadata": {},
   "outputs": [
    {
     "data": {
      "text/plain": [
       "<matplotlib.legend.Legend at 0x7f26dbe43b00>"
      ]
     },
     "execution_count": 17,
     "metadata": {},
     "output_type": "execute_result"
    },
    {
     "data": {
      "image/png": "[encoded data removed]",
      "text/plain": [
       "<Figure size 432x288 with 1 Axes>"
      ]
     },
     "metadata": {
      "needs_background": "light"
     },
     "output_type": "display_data"
    }
   ],
   "source": [
    "plt.plot(training_data, 'gray', label='MF Only')\n",
    "plt.axvline(x=len(training_data))\n",
    "\n",
    "plt.plot(len(training_data)+np.arange(len(test_mff)),test_mff,'green', label='MF Only')\n",
    "plt.plot(len(training_data)+np.arange(len(test_mf)), test_mf, 'green', linestyle=':')\n",
    "\n",
    "plt.plot(len(training_data)+np.arange(len(test_h)), test_hf, 'pink', label='EC ($\\psi$) free')\n",
    "plt.plot(len(training_data)+np.arange(len(test_h)), test_h, 'red', linestyle=':', label='EC ($\\psi$) frozen')\n",
    "\n",
    "plt.legend(bbox_to_anchor=(1.05,1))"
   ]
  },
  {
   "cell_type": "code",
   "execution_count": null,
   "metadata": {},
   "outputs": [],
   "source": []
  },
  {
   "cell_type": "code",
   "execution_count": null,
   "metadata": {},
   "outputs": [],
   "source": []
  },
  {
   "cell_type": "code",
   "execution_count": null,
   "metadata": {},
   "outputs": [],
   "source": [
    "training_A = data_filter(df, expt_type=[0], arch=['A'])\n",
    "training_B = data_filter(df, expt_type=[0], arch=['B'])\n",
    "\n",
    "plot_traces([training_A.reward_avg, training_B.reward_avg],sd=[training_A.reward_sd, training_B.reward_sd], labels=['A','B'],smoothing=100)"
   ]
  },
  {
   "cell_type": "code",
   "execution_count": null,
   "metadata": {},
   "outputs": [],
   "source": [
    "testing_B1 = data_filter(df, expt_type=[1])\n",
    "#testing_B2 = data_filter(df, expt_type=[2])\n",
    "testing_B3 = data_filter(df, expt_type=[3])\n",
    "_try = [[testing_B1.reward_avg, testing_B3.reward_avg], [testing_B1.reward_sd, testing_B3.reward_sd]]\n",
    "plot_traces(_try[0],sds=_try[1],labels=['MF only','EC_phi'],smoothing=30)"
   ]
  },
  {
   "cell_type": "code",
   "execution_count": null,
   "metadata": {},
   "outputs": [],
   "source": [
    "experiments = ['Training', \n",
    "               'A-MF Only',\n",
    "               'A-EC Only ($\\psi$)',\n",
    "               'A-EC Only ($\\phi$)',\n",
    "               'B-MF Only',\n",
    "               'B-EC Only ($\\psi$)', \n",
    "               'B-EC Only ($\\phi$)'\n",
    "              ]\n"
   ]
  },
  {
   "cell_type": "markdown",
   "metadata": {},
   "source": [
    "## Architecture A -- No SR"
   ]
  },
  {
   "cell_type": "code",
   "execution_count": null,
   "metadata": {},
   "outputs": [],
   "source": [
    "A_runs = df.loc[df['Architecture']=='A']\n",
    "A_training = A_runs.loc[A_runs['Experiment_Type']==0]"
   ]
  },
  {
   "cell_type": "code",
   "execution_count": null,
   "metadata": {},
   "outputs": [],
   "source": [
    "x=A_runs.iloc[0]\n",
    "\n",
    "\n",
    "print(type(x['Rewarded_Action']))"
   ]
  },
  {
   "cell_type": "code",
   "execution_count": null,
   "metadata": {},
   "outputs": [],
   "source": []
  },
  {
   "cell_type": "markdown",
   "metadata": {},
   "source": [
    "## Architecture B - with SR"
   ]
  },
  {
   "cell_type": "code",
   "execution_count": null,
   "metadata": {},
   "outputs": [],
   "source": [
    "B_runs = df.loc[df['Architecture']=='A']\n",
    "B_training = B_runs.loc[(B_runs['Experiment_Type']==0) &(B_runs['Num_Actions']==4)]\n",
    "\n",
    "data = []\n",
    "for id_ in B_training['Run_ID']:\n",
    "    data.append(pickle.load(open(f'../data/outputs/gridworld/results/{id_}_data.p', 'rb')))"
   ]
  },
  {
   "cell_type": "markdown",
   "metadata": {},
   "source": [
    "### Training - MF Alone"
   ]
  },
  {
   "cell_type": "code",
   "execution_count": null,
   "metadata": {},
   "outputs": [],
   "source": [
    "smoothing = 30\n",
    "reward = []\n",
    "for i in data:\n",
    "    reward.append(i['total_reward'][0:5000])\n",
    "\n",
    "average_training_reward = np.mean(np.vstack(reward), axis=0)\n",
    "sd_training_reward      = np.std(np.vstack(reward), axis=0)\n",
    "\n",
    "plt.plot(running_mean(average_training_reward, smoothing))\n",
    "plt.fill_between(np.arange(len(average_training_reward)), average_training_reward-sd_training_reward, average_training_reward+sd_training_reward, alpha=0.2)\n",
    "plt.title(f'Average Total Trial Reward During Training (n={len(reward)})')\n",
    "plt.ylim([-2.6, 1.5])\n",
    "plt.show()"
   ]
  },
  {
   "cell_type": "markdown",
   "metadata": {},
   "source": [
    "### Testing - MF Alone"
   ]
  },
  {
   "cell_type": "code",
   "execution_count": null,
   "metadata": {},
   "outputs": [],
   "source": [
    "B_MF_testing = B_runs.loc[(B_runs['Experiment_Type'].isin([2])) &(B_runs['Num_Actions']==4)]\n",
    "\n",
    "MF_data = []\n",
    "for id_ in B_MF_testing['Run_ID']:\n",
    "    MF_data.append(pickle.load(open(f'../data/outputs/gridworld/results/{id_}_data.p', 'rb')))\n",
    "\n",
    "MF_reward = []\n",
    "for i in MF_data:\n",
    "    MF_reward.append(i['total_reward'][0:2000])\n",
    "\n",
    "average_MF_reward = running_mean(np.mean(np.vstack(MF_reward), axis=0), smoothing)\n",
    "sd_MF_reward      = running_mean(np.std(np.vstack(MF_reward), axis=0),smoothing)"
   ]
  },
  {
   "cell_type": "markdown",
   "metadata": {},
   "source": [
    "### Testing - EC Alone"
   ]
  },
  {
   "cell_type": "code",
   "execution_count": null,
   "metadata": {},
   "outputs": [],
   "source": [
    "B_EC_testing = B_runs.loc[(B_runs['Experiment_Type'].isin([5])) &(B_runs['Num_Actions']==4)]\n",
    "\n",
    "EC_data = []\n",
    "for id_ in B_EC_testing['Run_ID']:\n",
    "    EC_data.append(pickle.load(open(f'../data/outputs/gridworld/results/{id_}_data.p', 'rb')))\n",
    "    \n",
    "EC_reward = []\n",
    "for i in EC_data:\n",
    "    EC_reward.append(i['total_reward'][0:2000])\n",
    "\n",
    "average_EC_reward = running_mean(np.mean(np.vstack(EC_reward), axis=0), smoothing)\n",
    "sd_EC_reward      = running_mean(np.std(np.vstack(EC_reward), axis=0), smoothing)"
   ]
  },
  {
   "cell_type": "code",
   "execution_count": null,
   "metadata": {},
   "outputs": [],
   "source": [
    "plt.figure()\n",
    "plt.plot(average_MF_reward, label = f'Frozen Weights (n={len(MF_reward)})')\n",
    "plt.fill_between(np.arange(len(average_MF_reward)), average_MF_reward-sd_MF_reward, average_MF_reward+sd_MF_reward, alpha=0.2)\n",
    "plt.plot(average_EC_reward, label = f'Unfrozen Weights (n={len(EC_reward)})')\n",
    "plt.fill_between(np.arange(len(average_EC_reward)), average_EC_reward-sd_EC_reward, average_EC_reward+sd_EC_reward, alpha=0.2)\n",
    "#plt.fill_between(np.arange(len(average_reward)), average_reward-sd_reward, average_reward+sd_reward, alpha=0.2)\n",
    "plt.title(f'Average Total Trial Reward During Testing')\n",
    "\n",
    "plt.ylim([-2.6, 1.5])\n",
    "plt.legend(loc = 0)\n",
    "plt.show()"
   ]
  },
  {
   "cell_type": "code",
   "execution_count": null,
   "metadata": {},
   "outputs": [],
   "source": [
    "plt.figure()\n",
    "plt.plot(average_MF_reward, label = f'Frozen Weights (n={len(MF_reward)})')\n",
    "plt.fill_between(np.arange(len(average_MF_reward)), average_MF_reward-sd_MF_reward, average_MF_reward+sd_MF_reward, alpha=0.2)\n",
    "plt.plot(average_EC_reward, label = f'Unfrozen Weights (n={len(EC_reward)})')\n",
    "plt.fill_between(np.arange(len(average_EC_reward)), average_EC_reward-sd_EC_reward, average_EC_reward+sd_EC_reward, alpha=0.2)\n",
    "#plt.fill_between(np.arange(len(average_reward)), average_reward-sd_reward, average_reward+sd_reward, alpha=0.2)\n",
    "plt.title(f'Average Total Trial Reward During Testing')\n",
    "\n",
    "plt.ylim([-2.6, 1.5])\n",
    "plt.legend(loc = 0)\n",
    "plt.show()"
   ]
  },
  {
   "cell_type": "code",
   "execution_count": null,
   "metadata": {},
   "outputs": [],
   "source": []
  },
  {
   "cell_type": "code",
   "execution_count": null,
   "metadata": {},
   "outputs": [],
   "source": []
  },
  {
   "cell_type": "code",
   "execution_count": null,
   "metadata": {},
   "outputs": [],
   "source": []
  },
  {
   "cell_type": "code",
   "execution_count": null,
   "metadata": {},
   "outputs": [],
   "source": []
  },
  {
   "cell_type": "code",
   "execution_count": null,
   "metadata": {},
   "outputs": [],
   "source": []
  },
  {
   "cell_type": "code",
   "execution_count": null,
   "metadata": {},
   "outputs": [],
   "source": []
  },
  {
   "cell_type": "code",
   "execution_count": null,
   "metadata": {},
   "outputs": [],
   "source": []
  },
  {
   "cell_type": "code",
   "execution_count": null,
   "metadata": {},
   "outputs": [],
   "source": []
  },
  {
   "cell_type": "code",
   "execution_count": null,
   "metadata": {},
   "outputs": [],
   "source": []
  },
  {
   "cell_type": "code",
   "execution_count": null,
   "metadata": {},
   "outputs": [],
   "source": []
  },
  {
   "cell_type": "code",
   "execution_count": null,
   "metadata": {},
   "outputs": [],
   "source": [
    "experiment_number = 2\n",
    "infos = df.loc[df['Experiment_Type'] == experiment_number, ['Run_ID', 'Memory_Policy_Entropy']].sort_values(by='Memory_Policy_Entropy')[10:13]\n",
    "print(f'Data for {experiments[experiment_number]}\\n',infos)"
   ]
  },
  {
   "cell_type": "code",
   "execution_count": null,
   "metadata": {},
   "outputs": [],
   "source": [
    "ids = infos.values[0:10,0]\n",
    "entropys = infos.values[0:10,1]"
   ]
  },
  {
   "cell_type": "code",
   "execution_count": null,
   "metadata": {},
   "outputs": [],
   "source": [
    "data = []\n",
    "for id_num in ids:\n",
    "    data.append(pickle.load(open(f'../data/outputs/gridworld/{id_num}_data.p', 'rb')))"
   ]
  },
  {
   "cell_type": "code",
   "execution_count": null,
   "metadata": {},
   "outputs": [],
   "source": [
    "#data3 = data\n",
    "smoothing = 100\n",
    "for i in range(int(len(data))):\n",
    "    index = i\n",
    "    plt.plot(running_mean(data[index]['total_reward'], smoothing), 'r', label = entropys[index])\n",
    "    plt.plot(running_mean(data3[index]['total_reward'], smoothing),'c', label = entropys[index])\n",
    "plt.ylim(0, 1.1)\n",
    "plt.xlim([-50,1850])\n",
    "plt.legend(loc=0)\n",
    "plt.show()\n"
   ]
  },
  {
   "cell_type": "code",
   "execution_count": null,
   "metadata": {},
   "outputs": [],
   "source": [
    "ec_only = data[-1]['total_reward']"
   ]
  },
  {
   "cell_type": "code",
   "execution_count": null,
   "metadata": {},
   "outputs": [],
   "source": [
    "d = []\n",
    "for i in range(len(data)):\n",
    "    d.append(data[i]['total_reward'][0:5000])"
   ]
  },
  {
   "cell_type": "code",
   "execution_count": null,
   "metadata": {},
   "outputs": [],
   "source": [
    "mean_MF = np.mean(np.vstack(d),axis=0)"
   ]
  },
  {
   "cell_type": "code",
   "execution_count": null,
   "metadata": {},
   "outputs": [],
   "source": [
    "smoothing = 30\n",
    "plt.plot(running_mean(mean_MF, smoothing), label = 'MF_only')\n",
    "plt.plot(running_mean(ec_only, smoothing), label = 'EC_only')\n",
    "plt.title(\"Post Training Moved Reward Performance\")\n",
    "plt.legend(loc=0)"
   ]
  },
  {
   "cell_type": "code",
   "execution_count": null,
   "metadata": {},
   "outputs": [],
   "source": [
    "#junkyard\n",
    "#-----------------------------------------\n",
    "# read in experimental ID from CSV file \n",
    "experiments = [[],[],[],[],[],[]]\n",
    "with open(\"../data/outputs/gridworld/experiments.csv\") as csvfile:\n",
    "    reader = csv.reader(csvfile, delimiter =',',quotechar='|', quoting=csv.QUOTE_MINIMAL) \n",
    "    for row in reader:\n",
    "        if row[1]=='Experiment_Type':\n",
    "            pass\n",
    "        else:\n",
    "            experiments[int(row[1])].append(row[0])\n",
    "print(experiments)"
   ]
  }
 ],
 "metadata": {
  "kernelspec": {
   "display_name": "Python 3",
   "language": "python",
   "name": "python3"
  },
  "language_info": {
   "codemirror_mode": {
    "name": "ipython",
    "version": 3
   },
   "file_extension": ".py",
   "mimetype": "text/x-python",
   "name": "python",
   "nbconvert_exporter": "python",
   "pygments_lexer": "ipython3",
   "version": "3.6.9"
  }
 },
 "nbformat": 4,
 "nbformat_minor": 4
}
