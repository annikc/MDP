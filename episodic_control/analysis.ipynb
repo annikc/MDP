{
 "cells": [
  {
   "cell_type": "code",
   "execution_count": 1,
   "metadata": {},
   "outputs": [],
   "source": [
    "import numpy as np\n",
    "import matplotlib.pyplot as plt\n",
    "import pickle\n",
    "import pandas as pd\n",
    "import analysis as e2\n",
    "from fxns import running_mean\n",
    "from importlib import reload"
   ]
  },
  {
   "cell_type": "code",
   "execution_count": 2,
   "metadata": {},
   "outputs": [],
   "source": [
    "colors = plt.cm.Set1.colors\n",
    "\n",
    "def plot_reward(data_collection, labels, expt = 0, smoothing = 100, **kwargs):\n",
    "    '''\n",
    "    data_collection: datafilter class \n",
    "    TODO: need to specify which data --currently only training data\n",
    "    '''\n",
    "    title = kwargs.get('title', ' ')\n",
    "    plt.figure()\n",
    "    for i, sep in enumerate(data_collection):\n",
    "        dat = sep.get_expt_data(expt_type=expt)\n",
    "        for ii, d in enumerate(dat):\n",
    "            if ii == 0:\n",
    "                plt.plot(running_mean(d['total_reward'], smoothing), c=colors[i], label=labels[i])\n",
    "            else:\n",
    "                plt.plot(running_mean(d['total_reward'], smoothing), c=colors[i])\n",
    "    plt.legend(bbox_to_anchor=(1.05,0.95))\n",
    "    plt.title(title)\n",
    "    plt.show()\n",
    "    plt.close()\n",
    "\n",
    "class single_record(object):\n",
    "    def __init__(self, save_id):\n",
    "        parent_dir = './data/'\n",
    "        self.data = pickle.load(open(parent_dir + f'results/{save_id}_data.p', 'rb'))\n",
    "\n",
    "def scale_reward(df_obj):\n",
    "    scaled_r = []\n",
    "    for i in range(len(df_obj.info)):\n",
    "        scaled_r.append([])\n",
    "        target = eval(df_obj.info.iloc[i]['rewards'].strip('{}').split(':')[0])\n",
    "        starts = df_obj.data[i]['starts']\n",
    "        nevents = int(df_obj.info.iloc[i]['num_events'])\n",
    "\n",
    "        for ind, start in enumerate(starts):\n",
    "            steps_from_target = abs(target[0]-start[0]) + abs(target[1]-start[1])\n",
    "            theoretical_max = (nevents-steps_from_target)/2\n",
    "            scaled_r[i].append(df_obj.data[i]['total_reward'][ind]/theoretical_max)\n",
    "    \n",
    "    return scaled_r\n",
    "\n",
    "def scale_reward_single(data_obj, target):\n",
    "    scaled_r = []\n",
    "    starts = data_obj['starts'][0:-2]\n",
    "    for ind, start in enumerate(starts):\n",
    "        nevents = data_obj['trial_length'][ind]\n",
    "        steps_from_target = abs(target[0]-start[0]) + abs(target[1]-start[1])\n",
    "        theoretical_max = (nevents-steps_from_target)/2\n",
    "        scaled_r.append(data_obj['total_reward'][ind]/theoretical_max)\n",
    "\n",
    "    return scaled_r\n",
    "\n",
    "def plot_train_test(ax, training_data, testing_data_set, smooth=False, smoothing=100, **kwargs):\n",
    "    labels = kwargs.get('labels', None)\n",
    "    savetitle = kwargs.get('savetitle', None)\n",
    "    if labels != None:\n",
    "        if len(labels) != len(testing_data_set):\n",
    "            raise Exception('Not Enough Labels For Data')\n",
    "    ## this is a data filter\n",
    "    if smooth:\n",
    "        train = running_mean(training_data, smoothing)\n",
    "    else:\n",
    "        train = training_data\n",
    "    ax.plot(train)\n",
    "\n",
    "    offset = len(training_data)\n",
    "    for ind, testing_data in enumerate(testing_data_set):\n",
    "        testing_reshape = np.zeros(offset + len(testing_data))\n",
    "        testing_reshape[0:offset] = np.nan\n",
    "        if smooth: \n",
    "            test = running_mean(testing_data, smoothing)\n",
    "        else:\n",
    "            test = testing_data\n",
    "        testing_reshape[offset:(offset + len(test))] = test\n",
    "        if labels != None:\n",
    "            ax.plot(testing_reshape, label=labels[ind])\n",
    "        else:\n",
    "            ax.plot(testing_reshape)\n",
    "    ax.legend(bbox_to_anchor = (1.05, 0.95))\n",
    "    ax.set_xlim([0-smoothing,len(testing_reshape)-smoothing-10])"
   ]
  },
  {
   "cell_type": "code",
   "execution_count": 3,
   "metadata": {},
   "outputs": [],
   "source": [
    "train6 = single_record('59b3078f-d50e-4011-93e4-f18d65133ac1')"
   ]
  },
  {
   "cell_type": "code",
   "execution_count": 8,
   "metadata": {},
   "outputs": [
    {
     "name": "stdout",
     "output_type": "stream",
     "text": [
      "7500\n",
      "3\n",
      "7500\n"
     ]
    },
    {
     "ename": "TypeError",
     "evalue": "object of type 'int' has no len()",
     "output_type": "error",
     "traceback": [
      "\u001b[0;31m---------------------------------------------------------------------------\u001b[0m",
      "\u001b[0;31mTypeError\u001b[0m                                 Traceback (most recent call last)",
      "\u001b[0;32m<ipython-input-8-cdb24e983602>\u001b[0m in \u001b[0;36m<module>\u001b[0;34m\u001b[0m\n\u001b[1;32m      1\u001b[0m \u001b[0;32mfor\u001b[0m \u001b[0mi\u001b[0m \u001b[0;32min\u001b[0m \u001b[0mtrain6\u001b[0m\u001b[0;34m.\u001b[0m\u001b[0mdata\u001b[0m\u001b[0;34m.\u001b[0m\u001b[0mkeys\u001b[0m\u001b[0;34m(\u001b[0m\u001b[0;34m)\u001b[0m\u001b[0;34m:\u001b[0m\u001b[0;34m\u001b[0m\u001b[0;34m\u001b[0m\u001b[0m\n\u001b[0;32m----> 2\u001b[0;31m     \u001b[0mprint\u001b[0m\u001b[0;34m(\u001b[0m\u001b[0mlen\u001b[0m\u001b[0;34m(\u001b[0m\u001b[0mtrain6\u001b[0m\u001b[0;34m.\u001b[0m\u001b[0mdata\u001b[0m\u001b[0;34m[\u001b[0m\u001b[0mi\u001b[0m\u001b[0;34m]\u001b[0m\u001b[0;34m)\u001b[0m\u001b[0;34m)\u001b[0m\u001b[0;34m\u001b[0m\u001b[0;34m\u001b[0m\u001b[0m\n\u001b[0m",
      "\u001b[0;31mTypeError\u001b[0m: object of type 'int' has no len()"
     ]
    }
   ],
   "source": [
    "for i in train6.data.keys():\n",
    "    print(len(train6.data[i]))"
   ]
  },
  {
   "cell_type": "code",
   "execution_count": 3,
   "metadata": {},
   "outputs": [],
   "source": [
    "parent_dir = './data/'\n",
    "df = pd.read_csv(parent_dir + 'sep2020.csv')\n",
    "experiment_types = ['Training',\n",
    "                    'MF Only',\n",
    "                    'EC ($\\psi$)',\n",
    "                    'EC ($\\phi$)',\n",
    "                    'MF Only (free)',\n",
    "                    'EC ($\\psi$)(free)',\n",
    "                    'EC ($\\phi$)(free)' ]"
   ]
  },
  {
   "cell_type": "code",
   "execution_count": null,
   "metadata": {},
   "outputs": [],
   "source": [
    "training = e2.DataFilter(df, expt_type=[0], env_type=['None'], arch=['A'], action_list=[\"['Down', 'Up', 'Right', 'Left']\"])"
   ]
  },
  {
   "cell_type": "code",
   "execution_count": null,
   "metadata": {},
   "outputs": [],
   "source": [
    "for ind, x in enumerate(training.data):\n",
    "    dat = running_mean(x['total_reward'],100)\n",
    "    num_actions = len(training.info.iloc[ind]['action_list'].strip('[]').split(','))\n",
    "    plt.plot(dat, label = f'{num_actions} actions' )\n",
    "    \n",
    "plt.legend(bbox_to_anchor=(1.05,0.95))"
   ]
  },
  {
   "cell_type": "code",
   "execution_count": null,
   "metadata": {},
   "outputs": [],
   "source": [
    "act4_training_data = training.data[0]\n",
    "act6_training_data = training.data[1]"
   ]
  },
  {
   "cell_type": "code",
   "execution_count": null,
   "metadata": {},
   "outputs": [],
   "source": [
    "fig, ax = plt.subplots(1,1)\n",
    "ax.plot(act6_training_data['total_reward'])\n",
    "ax.plot(running_mean(act6_training_data_training_data, 100))"
   ]
  },
  {
   "cell_type": "code",
   "execution_count": null,
   "metadata": {},
   "outputs": [],
   "source": [
    "MF_r = e2.DataFilter(df, expt_type=[4], env_type=['None'], arch=['A'])\n",
    "EC_r = e2.DataFilter(df, expt_type=[5], env_type=['None'], arch=['A'])"
   ]
  },
  {
   "cell_type": "code",
   "execution_count": null,
   "metadata": {},
   "outputs": [],
   "source": [
    "MF_r.info"
   ]
  },
  {
   "cell_type": "code",
   "execution_count": null,
   "metadata": {},
   "outputs": [],
   "source": [
    "fig, ax = plt.subplots(2,1,sharex=True)\n",
    "plot_train_test(ax[1], act4_training_data['total_reward'], [MF_r.data[0]['total_reward'], EC_r.data[0]['total_reward']], smooth=True, labels=['MF', 'EC'])"
   ]
  },
  {
   "cell_type": "code",
   "execution_count": null,
   "metadata": {},
   "outputs": [],
   "source": [
    "MF_p = e2.DataFilter(df, expt_type=[14], env_type=['None'], arch=['A'])\n",
    "EC_p = e2.DataFilter(df, expt_type=[15], env_type=['None'], arch=['A'])"
   ]
  },
  {
   "cell_type": "code",
   "execution_count": null,
   "metadata": {},
   "outputs": [],
   "source": [
    "act4"
   ]
  },
  {
   "cell_type": "code",
   "execution_count": null,
   "metadata": {},
   "outputs": [],
   "source": [
    "ind = 0\n",
    "plot_train_test(act6_training_data['total_reward'], [MF_p.data[ind]['total_reward'], EC_p.data[ind]['total_reward']], smooth=True, labels=[MF_p.info.iloc[ind]['save_id'], 'EC'],savetitle='../../../Writing/Presentations/Figs/committee4/act6_pshift')"
   ]
  },
  {
   "cell_type": "code",
   "execution_count": 4,
   "metadata": {},
   "outputs": [
    {
     "data": {
      "text/plain": [
       "[<matplotlib.lines.Line2D at 0x7f7110ef7cf8>]"
      ]
     },
     "execution_count": 4,
     "metadata": {},
     "output_type": "execute_result"
    },
    {
     "data": {
      "image/png": "[encoded data removed]",
      "text/plain": [
       "<Figure size 432x288 with 1 Axes>"
      ]
     },
     "metadata": {
      "needs_background": "light"
     },
     "output_type": "display_data"
    }
   ],
   "source": []
  },
  {
   "cell_type": "code",
   "execution_count": null,
   "metadata": {},
   "outputs": [],
   "source": [
    "training = e2.DataFilter(df, expt_type=[0])\n",
    "MF = e2.DataFilter(df, expt_type=[4])\n",
    "EC = e2.DataFilter(df, expt_type=[5])"
   ]
  },
  {
   "cell_type": "code",
   "execution_count": null,
   "metadata": {},
   "outputs": [],
   "source": [
    "smoothing = 100\n",
    "plt.figure()\n",
    "plt.plot(running_mean(training.data[0]['total_reward'],smoothing), 'gray', label='MF Training')\n",
    "offset = len(training.data[0]['total_reward'])\n",
    "\n",
    "smoothed_MF = running_mean(MF.data[0]['total_reward'][0:5000],smoothing)\n",
    "plt.plot(np.arange(len(smoothed_MF))+offset, smoothed_MF ,label='MF Only')\n",
    "for j in range(2,9,3):\n",
    "    i = j\n",
    "    smoothed_EC = running_mean(EC.data[i]['total_reward'], smoothing)\n",
    "    plt.plot(np.arange(len(smoothed_EC))+offset, smoothed_EC, label=f\"EC (T = {EC.info.iloc[i]['mem_temp']})\", alpha=0.5)\n",
    "plt.legend(bbox_to_anchor=(1.05,0.995))\n",
    "\n",
    "plt.show()\n",
    "plt.close()"
   ]
  },
  {
   "cell_type": "code",
   "execution_count": null,
   "metadata": {},
   "outputs": [],
   "source": [
    "EC_test = single_record('f8e89cf3-a8a8-4b5c-9708-46719d0bb806')"
   ]
  },
  {
   "cell_type": "code",
   "execution_count": null,
   "metadata": {},
   "outputs": [],
   "source": [
    "training = e2.DataFilter(df, expt_type=[0])\n",
    "R_shift_MF_null = e2.DataFilter(df, expt_type=[4], load_from=['0deeec74-183d-4694-a3d2-495d03d20b46'])\n",
    "R_shift_MF_SR   = e2.DataFilter(df, expt_type=[4], load_from=['016375f6-eb4f-46b5-8ce1-80a6ad0ad603'])\n",
    "R_shift_EC_null = e2.DataFilter(df, expt_type=[5], load_from=['0deeec74-183d-4694-a3d2-495d03d20b46'])\n",
    "R_shift_EC_SR   = e2.DataFilter(df, expt_type=[5], load_from=['016375f6-eb4f-46b5-8ce1-80a6ad0ad603'])"
   ]
  },
  {
   "cell_type": "code",
   "execution_count": null,
   "metadata": {},
   "outputs": [],
   "source": [
    "P_shift_MF_null = e2.DataFilter(df, expt_type=[14], load_from=['8f738297-7055-49ef-9cfc-c951d269a48f'])\n",
    "P_shift_MF_SR = e2.DataFilter(df, expt_type=[14], load_from=['59b3078f-d50e-4011-93e4-f18d65133ac1'])\n",
    "P_shift_EC_null = e2.DataFilter(df, expt_type=[15], load_from=['8f738297-7055-49ef-9cfc-c951d269a48f'])\n",
    "P_shift_EC_SR = e2.DataFilter(df, expt_type=[15], load_from=['59b3078f-d50e-4011-93e4-f18d65133ac1'])"
   ]
  },
  {
   "cell_type": "code",
   "execution_count": null,
   "metadata": {},
   "outputs": [],
   "source": [
    "test_data_null = [R_shift_MF_null.data[0]['total_reward'], \n",
    "                  R_shift_EC_null.data[0]['total_reward'],\n",
    "                  P_shift_MF_null.data[0]['total_reward'],\n",
    "                  P_shift_EC_null.data[0]['total_reward']]\n",
    "plot_train_test(training.data[1]['total_reward'], test_data_null, labels=['R - MF', 'R - EC', 'P - MF','P - EC'], smooth=True, savetitle='No SR') # arch A noSR\n",
    "\n",
    "\n",
    "test_data_SR = [R_shift_MF_SR.data[0]['total_reward'][0:5000], \n",
    "                R_shift_EC_SR.data[0]['total_reward'], \n",
    "                P_shift_MF_SR.data[0]['total_reward'], \n",
    "                P_shift_EC_SR.data[0]['total_reward']]\n",
    "\n",
    "plot_train_test(training.data[0]['total_reward'], test_data_SR, labels=['R - MF', 'R - EC', 'P - MF', 'P - EC' ], smooth=True, savetitle='SR') # arch B w SR"
   ]
  },
  {
   "cell_type": "code",
   "execution_count": null,
   "metadata": {},
   "outputs": [],
   "source": []
  },
  {
   "cell_type": "code",
   "execution_count": null,
   "metadata": {},
   "outputs": [],
   "source": [
    "x = e2.DataFilter(df, expt_type=[14], load_from=['59b3078f-d50e-4011-93e4-f18d65133ac1'])\n",
    "print(len(P_shift_MF.data), len(x.data))"
   ]
  },
  {
   "cell_type": "code",
   "execution_count": null,
   "metadata": {},
   "outputs": [],
   "source": [
    "save_id = '7e0a8d56-01b7-4168-9d6c-eae17873cc0e'\n",
    "anim = single_record(save_id)\n",
    "load_env_id = (df.loc[df['save_id']== save_id]['load_from']).item()\n",
    "reward_info = (df.loc[df['save_id']== save_id]['rewards']).item().strip('{}')\n",
    "reward_loc = eval(reward_info.split(':')[0])\n",
    "reward_mag = float(reward_info.split(':')[1])\n",
    "\n",
    "\n",
    "env = pickle.load(open(parent_dir + f'environments/{load_env_id}_env.p', 'rb'))\n",
    "env.rewards = {reward_loc:reward_mag}"
   ]
  },
  {
   "cell_type": "code",
   "execution_count": null,
   "metadata": {},
   "outputs": [],
   "source": [
    "%matplotlib notebook\n",
    "import matplotlib.colors as colors\n",
    "import matplotlib.colorbar as colorbar\n",
    "import matplotlib.cm as cmx\n",
    "import matplotlib.patches as mpatches\n",
    "import matplotlib.animation as animation\n",
    "from scipy.stats import entropy\n",
    "\n",
    "\n",
    "def make_arrows(action, probability):\n",
    "    if probability == 0:\n",
    "        dx, dy = 0, 0\n",
    "        head_w, head_l = 0, 0\n",
    "    else:\n",
    "        dxdy = [(0.0, 0.25),  # D\n",
    "                (0.0, -0.25),  # U\n",
    "                (0.25, 0.0),  # R\n",
    "                (-0.25, 0.0),  # L\n",
    "                (0.1, -0.1),  # points right and up #J\n",
    "                (-0.1, 0.1),  # points left and down # P\n",
    "                ]\n",
    "        dx, dy = dxdy[action]\n",
    "\n",
    "        head_w, head_l = 0.1, 0.1\n",
    "\n",
    "    return dx, dy, head_w, head_l\n",
    "\n",
    "\n",
    "rewards = env.rewards\n",
    "fig = plt.figure(figsize=(5,4))\n",
    "ax1 = fig.add_axes([0, 0, 0.85, 0.85])\n",
    "axc = fig.add_axes([0.85, 0, 0.05, 0.85])\n",
    "\n",
    "ax1.set_aspect('equal')\n",
    "\n",
    "ax1.invert_yaxis()\n",
    "\n",
    "cmap = plt.cm.Spectral_r\n",
    "vmax= 2\n",
    "\n",
    "cNorm = colors.Normalize(vmin=0, vmax=vmax)\n",
    "scalarMap = cmx.ScalarMappable(norm=cNorm, cmap=cmap)\n",
    "cb1 = colorbar.ColorbarBase(axc, cmap=cmap, norm=cNorm)\n",
    "\n",
    "\n",
    "\n",
    "def animate_policy(r):\n",
    "    k = r+2000\n",
    "    ax1.set_title(f\"Trial {k} (Total Reward: {anim.data['total_reward'][k]})\")\n",
    "    # make base grid\n",
    "    ax1.patches = []\n",
    "    ax1.pcolor(env.grid, vmin=0, vmax=vmax, cmap='bone')\n",
    "\n",
    "    # add patch for reward location/s (red)\n",
    "    for rwd_loc in rewards:\n",
    "        rwd_r, rwd_c = rwd_loc\n",
    "        ax1.add_patch(plt.Rectangle((rwd_c, rwd_r), width=0.99, height=1, linewidth=1, ec='white', fill=False))\n",
    "\n",
    "    chance_threshold =0.18\n",
    "    \n",
    "    \n",
    "    policy_array = anim.data['pol_tracking'][k]\n",
    "    for i in range(env.r):\n",
    "        for j in range(env.c):\n",
    "            policy = tuple(policy_array[i, j])\n",
    "\n",
    "            dx, dy = 0.0, 0.0\n",
    "            for ind, k in enumerate(policy):\n",
    "                action = ind\n",
    "                prob = k\n",
    "                if prob < 0.01:\n",
    "                    pass\n",
    "                else:\n",
    "                    dx1, dy1, head_w, head_l = make_arrows(action, prob)\n",
    "                    dx += dx1*prob\n",
    "                    dy += dy1*prob\n",
    "            if dx ==0.0 and dy == 0.0:\n",
    "                pass\n",
    "            else:\n",
    "                colorVal1 = scalarMap.to_rgba(entropy(policy))\n",
    "                x,y = j+0.5, i+0.5\n",
    "                arrow = mpatches.FancyArrow(x,y,dx,dy, color=colorVal1, head_width=0.3, head_length=0.3)\n",
    "                ax1.add_patch(arrow)\n",
    "\n",
    "\n",
    "Writer = animation.writers['pillow']\n",
    "writer = Writer(fps=200, metadata=dict(artist='Me'), bitrate=100)\n",
    "ani = animation.FuncAnimation(fig, animate_policy, frames=100, repeat=True)\n",
    "\n"
   ]
  },
  {
   "cell_type": "code",
   "execution_count": null,
   "metadata": {},
   "outputs": [],
   "source": [
    "trial= 1\n",
    "\n",
    "fig = plt.figure(figsize=(4,4))\n",
    "ax = fig.add_axes([0.1,.3, 0.5, 0.5]) #[left,bottom,width,height] \n",
    "ax2 = fig.add_axes([.65,0.6,0.3, 0.15])\n",
    "ax3 = fig.add_axes([0.65,0.3,0.3, 0.15])\n",
    "ax2.set_title('')\n",
    "ax2.set_ylim([0,1])\n",
    "\n",
    "plt.suptitle(f\"Trial {trial}: Total Reward {anim.data['total_reward'][trial]}\")\n",
    "\n",
    "ax.patches = []\n",
    "ax.pcolor(env.grid, vmin=0, vmax=vmax, cmap='bone')\n",
    "ax.add_patch(plt.Rectangle((15,15), width=0.99, height=1, linewidth=1, ec='white', fill=False))\n",
    "ax.set_aspect('equal')\n",
    "ax.invert_yaxis()\n",
    "\n",
    "\n",
    "trajectory = np.vstack(np.vstack(anim.data['sar'][trial])[:,0])\n",
    "rows = trajectory[:,0]\n",
    "cols = trajectory[:,1]\n",
    "dx, dy = [],[]\n",
    "for ind in range(len(rows)-1):\n",
    "    dx.append(rows[ind+1]-rows[ind])\n",
    "    dy.append(cols[ind+1]-cols[ind])\n",
    "\n",
    "dx=np.asarray(dx)*0.25\n",
    "dy=np.asarray(dy)*0.25\n",
    "\n",
    "def animate_trajectory(i):\n",
    "    if i == 0:\n",
    "        ax.patches = []\n",
    "        ax.add_patch(plt.Rectangle((15,15), width=0.99, height=1, linewidth=1, ec='white', fill=False))\n",
    "\n",
    "    ax.set_title(f\"Event {i}\")\n",
    "    \n",
    "    #ax.pcolor(env.grid, vmin=0, vmax=vmax, cmap='bone')\n",
    "    # make base grid\n",
    "    arrow = mpatches.FancyArrow(rows[i]+0.5,cols[i]+0.5,dx[i],dy[i], head_width=0.2, head_length=0.2, color='white',alpha=0.3)\n",
    "    ax.add_patch(arrow) \n",
    "    ax2.cla()\n",
    "    ax2.set_xticks([0,1,2,3])\n",
    "    ax2.set_xticklabels(['Down','Up','Right','Left'])\n",
    "    ax2.set_yticklabels([0,'',1])\n",
    "    ax2.set_ylim([0,1])\n",
    "    ax2.set_title('EC Policy')\n",
    "    ax2.bar(np.arange(4),np.vstack(np.vstack(anim.data['sar'][trial])[:,1])[i])\n",
    "    \n",
    "    \n",
    "    \n",
    "    ax3.cla()\n",
    "    ax3.set_xticks([0,1,2,3])\n",
    "    ax3.set_yticklabels([0,'',1])\n",
    "    ax3.set_ylim([0,1])\n",
    "    ax3.set_title('MF Policy')\n",
    "    ax3.bar(np.arange(4),list(anim.data['pol_tracking'][trial][rows[i],cols[i]]))\n",
    "    ax3.set_xticklabels(['Down','Up','Right','Left'])\n",
    "\n",
    "    \n",
    "Writer = animation.writers['pillow']\n",
    "writer = Writer(fps=20, metadata=dict(artist='Me'), bitrate=100)\n",
    "ani = animation.FuncAnimation(fig, animate_trajectory, frames=len(trajectory), repeat=True, blit=True)\n",
    "\n",
    "plt.show()"
   ]
  },
  {
   "cell_type": "code",
   "execution_count": null,
   "metadata": {},
   "outputs": [],
   "source": [
    "print(len(anim.data['total_reward']))\n"
   ]
  },
  {
   "cell_type": "code",
   "execution_count": null,
   "metadata": {},
   "outputs": [],
   "source": []
  },
  {
   "cell_type": "code",
   "execution_count": null,
   "metadata": {},
   "outputs": [],
   "source": []
  },
  {
   "cell_type": "code",
   "execution_count": null,
   "metadata": {},
   "outputs": [],
   "source": []
  },
  {
   "cell_type": "code",
   "execution_count": null,
   "metadata": {},
   "outputs": [],
   "source": [
    "training_dat = single_record('59bdc055-56f7-4095-afe6-bc0286f99dff')\n",
    "testing_ec = single_record('0a8db602-9945-4832-b4db-de485a2f82c0')\n",
    "testing_mf = single_record('9e26aadf-780e-49c9-a1dc-d0be3f2f1757')"
   ]
  },
  {
   "cell_type": "code",
   "execution_count": null,
   "metadata": {},
   "outputs": [],
   "source": [
    "frozen_w = e2.DataFilter(df,expt_type=[2], load_from=['59bdc055-56f7-4095-afe6-bc0286f99dff'])\n",
    "\n",
    "unfrozen_w = e2.DataFilter(df,expt_type=[5], load_from=['59bdc055-56f7-4095-afe6-bc0286f99dff'])"
   ]
  },
  {
   "cell_type": "code",
   "execution_count": null,
   "metadata": {},
   "outputs": [],
   "source": [
    "train = training_dat.data['total_reward']\n",
    "smoothing =1\n",
    "ec =scale_reward_single(testing_ec.data, target=(15,15))\n",
    "mf =scale_reward_single(testing_mf.data, target=(15,15))\n",
    "plot_train_test(running_mean(train,smoothing), \n",
    "                [running_mean(ec, smoothing),\n",
    "                 running_mean(mf, smoothing)])"
   ]
  },
  {
   "cell_type": "code",
   "execution_count": null,
   "metadata": {},
   "outputs": [],
   "source": [
    "for i in scaled_r:\n",
    "    plt.plot(running_mean(i,100), alpha=0.3)"
   ]
  },
  {
   "cell_type": "code",
   "execution_count": null,
   "metadata": {},
   "outputs": [],
   "source": []
  },
  {
   "cell_type": "code",
   "execution_count": null,
   "metadata": {},
   "outputs": [],
   "source": []
  },
  {
   "cell_type": "code",
   "execution_count": null,
   "metadata": {},
   "outputs": [],
   "source": []
  },
  {
   "cell_type": "code",
   "execution_count": null,
   "metadata": {},
   "outputs": [],
   "source": []
  },
  {
   "cell_type": "code",
   "execution_count": null,
   "metadata": {},
   "outputs": [],
   "source": []
  },
  {
   "cell_type": "markdown",
   "metadata": {},
   "source": [
    "### Training"
   ]
  },
  {
   "cell_type": "code",
   "execution_count": null,
   "metadata": {},
   "outputs": [],
   "source": [
    "reload(e2)\n",
    "# separate tasks:\n",
    "openfield = e2.DataFilter(df, env_type=['None'], rho=[0.0])\n",
    "obstacles = e2.DataFilter(df, env_type=['None'], rho=[0.1])\n",
    "fourrooms = e2.DataFilter(df, env_type=['room'])\n",
    "envs = [openfield, obstacles,fourrooms]\n",
    "env_names = ['openfield', 'obstacles', '4rooms']\n",
    "# plot \n",
    "plot_reward(envs, env_names, expt = 0 )"
   ]
  },
  {
   "cell_type": "code",
   "execution_count": null,
   "metadata": {},
   "outputs": [],
   "source": [
    "# show training by env type\n",
    "fig, ax = plt.subplots(1,3, sharey=True)\n",
    "smoothing = 100 \n",
    "for j, task in enumerate(envs):\n",
    "    title = env_names[j]\n",
    "    A_ = e2.DataFilter(task.info, arch = ['A'])\n",
    "    B_ = e2.DataFilter(task.info, arch = ['B'])\n",
    "\n",
    "    data_collection = [A_, B_]\n",
    "    labels = ['No SR', 'With SR']\n",
    "    \n",
    "    for i, sep in enumerate(data_collection):\n",
    "        dat = sep.get_expt_data(expt_type=0)\n",
    "        for ii, d in enumerate(dat):\n",
    "            if ii == 0:\n",
    "                ax[j].plot(running_mean(d['total_reward'], smoothing), c=colors[i], label=labels[i])\n",
    "            else:\n",
    "                ax[j].plot(running_mean(d['total_reward'], smoothing), c=colors[i])\n",
    "    \n",
    "    ax[2].legend(bbox_to_anchor=(1.05,0.95))\n",
    "    ax[j].set_title(title)    \n",
    "    \n",
    "    \n",
    "    #plot_reward(arch, ['A', 'B'], title=env_names[j], expt=0)\n",
    "    #plot_reward(arch, ['A', 'B'], title=env_names[i], expt=4)"
   ]
  },
  {
   "cell_type": "markdown",
   "metadata": {},
   "source": [
    "### Testing"
   ]
  },
  {
   "cell_type": "code",
   "execution_count": null,
   "metadata": {},
   "outputs": [],
   "source": [
    "for test_expt in [1,2,4,5]:\n",
    "    print(experiment_types[test_expt])\n",
    "    fig, ax = plt.subplots(1,3, sharey=True)\n",
    "    smoothing = 100 \n",
    "    for j, task in enumerate(envs):\n",
    "        title = env_names[j]\n",
    "        A_ = e2.DataFilter(task.info, arch = ['A'])\n",
    "        B_ = e2.DataFilter(task.info, arch = ['B'])\n",
    "\n",
    "        data_collection = [A_, B_]\n",
    "        labels = ['No SR', 'With SR']\n",
    "\n",
    "        for i, sep in enumerate(data_collection):\n",
    "            dat = sep.get_expt_data(expt_type=test_expt)\n",
    "            for ii, d in enumerate(dat):\n",
    "                if ii == 0 and j ==0:\n",
    "                    ax[j].plot(running_mean(d['total_reward'], smoothing), c=colors[i], label=labels[i])\n",
    "                else:\n",
    "                    ax[j].plot(running_mean(d['total_reward'], smoothing), c=colors[i])\n",
    "\n",
    "        fig.legend(loc='lower center', bbox_to_anchor=(0.5,0), ncol=2)\n",
    "        ax[j].set_title(title)  \n",
    "    plt.show()\n",
    "    plt.close()"
   ]
  },
  {
   "cell_type": "code",
   "execution_count": null,
   "metadata": {},
   "outputs": [],
   "source": [
    "task = openfield\n",
    "\n",
    "mf_only = e2.DataFilter(task.info,arch=['B'],expt_type=[1,4])\n",
    "with_ec = e2.DataFilter(task.info,arch=['B'], expt_type=[2,5])\n",
    "subtask = with_ec\n",
    "\n",
    "\n",
    "lb = -2.5\n",
    "ub = 125\n",
    "smoothing = 100\n",
    "for i in range(len(subtask.data)):\n",
    "    #print(subtask.info.iloc[i])\n",
    "    tag = f\"Forget:{subtask.info.iloc[i]['use_pvals']} | alpha:{subtask.info.iloc[i]['alpha']} | beta:{subtask.info.iloc[i]['beta']}\"\n",
    "    x = running_mean((1/(ub-lb))*(np.asarray(subtask.data[i]['total_reward']) -lb), smoothing)\n",
    "    plt.plot(x, label=tag)\n",
    "#plt.ylim((0,1))\n",
    "plt.legend(bbox_to_anchor=(1.05,0.95))\n",
    "plt.show()"
   ]
  },
  {
   "cell_type": "code",
   "execution_count": null,
   "metadata": {},
   "outputs": [],
   "source": []
  },
  {
   "cell_type": "code",
   "execution_count": null,
   "metadata": {},
   "outputs": [],
   "source": [
    "task = openfield\n",
    "\n",
    "mf_only = e2.DataFilter(task.info, expt_type=[1,4])\n",
    "with_ec = e2.DataFilter(task.info, expt_type=[2,5], beta=['10000'])\n",
    "\n",
    "stuff = [mf_only, with_ec]\n",
    "print(len(mf_only.data))\n",
    "for i in mf_only.data:\n",
    "    \n",
    "    plt.plot(running_mean(i['total_reward'],100))\n",
    "plt.show()\n",
    "plt.close()\n",
    "\n",
    "plt.figure()\n",
    "for ii, i in enumerate(with_ec.data):\n",
    "    \n",
    "    plt.plot(running_mean(i['total_reward'], 100))\n",
    "plt.show()\n",
    "plt.close()"
   ]
  },
  {
   "cell_type": "code",
   "execution_count": null,
   "metadata": {},
   "outputs": [],
   "source": [
    "for j in with_ec.info.columns:\n",
    "    print(j)\n",
    "    for ii in range(len(with_ec.data)):\n",
    "        print(with_ec.info.loc[ii][j])\n",
    "    print('======')"
   ]
  },
  {
   "cell_type": "code",
   "execution_count": null,
   "metadata": {},
   "outputs": [],
   "source": [
    "import sys\n",
    "import environment as gw \n",
    "sys.modules['gw'] = gw\n",
    "import pickle\n",
    "filename = './data/results/65d67225-ad1e-4b47-9d48-e3c1bb893028_data.p'\n",
    "chx = pickle.load(open(filename, 'rb'))"
   ]
  },
  {
   "cell_type": "code",
   "execution_count": null,
   "metadata": {},
   "outputs": [],
   "source": [
    "import matplotlib.pyplot as plt"
   ]
  },
  {
   "cell_type": "code",
   "execution_count": null,
   "metadata": {},
   "outputs": [],
   "source": [
    "plt.plot(chx['total_reward'])\n",
    "print(chx['arbitration_count'][2])"
   ]
  },
  {
   "cell_type": "code",
   "execution_count": null,
   "metadata": {},
   "outputs": [],
   "source": []
  },
  {
   "cell_type": "code",
   "execution_count": null,
   "metadata": {},
   "outputs": [],
   "source": [
    "a = single_record('59bdc055-56f7-4095-afe6-bc0286f99dff')\n",
    "train = single_record('8600f485-3160-4238-a1c7-f070c7ab6c17')"
   ]
  },
  {
   "cell_type": "code",
   "execution_count": null,
   "metadata": {},
   "outputs": [],
   "source": [
    "plt.plot(a.data['total_reward'])"
   ]
  },
  {
   "cell_type": "code",
   "execution_count": null,
   "metadata": {},
   "outputs": [],
   "source": []
  },
  {
   "cell_type": "code",
   "execution_count": null,
   "metadata": {},
   "outputs": [],
   "source": []
  },
  {
   "cell_type": "code",
   "execution_count": null,
   "metadata": {},
   "outputs": [],
   "source": []
  },
  {
   "cell_type": "code",
   "execution_count": null,
   "metadata": {},
   "outputs": [],
   "source": [
    "\n",
    "    "
   ]
  },
  {
   "cell_type": "code",
   "execution_count": null,
   "metadata": {},
   "outputs": [],
   "source": [
    "plot_train_test(train.data['total_reward'], norm_perf)"
   ]
  },
  {
   "cell_type": "code",
   "execution_count": null,
   "metadata": {},
   "outputs": [],
   "source": [
    "ttt = e2.DataFilter(df, env_type=['None'], rho=[0.0], expt_type=[0])\n",
    "print(ttt.data[0].keys())"
   ]
  },
  {
   "cell_type": "code",
   "execution_count": null,
   "metadata": {},
   "outputs": [],
   "source": [
    "print(ttt.info)"
   ]
  },
  {
   "cell_type": "code",
   "execution_count": null,
   "metadata": {},
   "outputs": [],
   "source": [
    "sss = [ttt.data[ind]['total_reward'] for ind in range(len(ttt.data))]\n",
    "datav = running_mean(np.average(sss,axis=0), 30)\n",
    "plt.figure()\n",
    "plt.plot(datav, alpha=1)\n",
    "plt.show()\n",
    "plt.close()\n",
    "\n",
    "plot_train_test(datav, running_mean(a1.data[0]['total_reward'],30))"
   ]
  },
  {
   "cell_type": "code",
   "execution_count": null,
   "metadata": {},
   "outputs": [],
   "source": [
    "alpha = 1\n",
    "beta = 10000\n",
    "threshold = 0.01\n",
    "decay = np.power(threshold, 1/beta)\n",
    "\n",
    "#mfcs = decay*old_mfcs + alpha*last_reward\n",
    "weight = 0.01\n",
    "#some_rewards = [np.random.choice([0,1], p=[1-weight, weight]) for _ in range(100)]\n",
    "def plot_decay(alpha,beta):\n",
    "    threshold = 0.01\n",
    "    decay = np.power(threshold, 1/beta)\n",
    "    \n",
    "    number_ = 500 \n",
    "    #r = np.ones(number_)*(-0.5)\n",
    "    #r[0]=alpha\n",
    "    r = [np.random.choice([-0.01,1], p=[1-weight, weight]) for _ in range(number_)]\n",
    "    mfcs = []\n",
    "    mfcs.append(0)\n",
    "    for num in range(number_):\n",
    "        step = r[num]\n",
    "        if step <0:\n",
    "            step = 0 \n",
    "        cs = decay*mfcs[num] + alpha*step\n",
    "        if cs>1:\n",
    "            cs =1\n",
    "        elif cs<0:\n",
    "            cs=0\n",
    "        mfcs.append(cs)\n",
    "    plt.plot(r,'r|')\n",
    "    plt.plot(mfcs)"
   ]
  },
  {
   "cell_type": "code",
   "execution_count": null,
   "metadata": {},
   "outputs": [],
   "source": [
    "plot_decay(0.5,100000)"
   ]
  },
  {
   "cell_type": "code",
   "execution_count": null,
   "metadata": {},
   "outputs": [],
   "source": []
  }
 ],
 "metadata": {
  "kernelspec": {
   "display_name": "Python 3",
   "language": "python",
   "name": "python3"
  },
  "language_info": {
   "codemirror_mode": {
    "name": "ipython",
    "version": 3
   },
   "file_extension": ".py",
   "mimetype": "text/x-python",
   "name": "python",
   "nbconvert_exporter": "python",
   "pygments_lexer": "ipython3",
   "version": "3.6.9"
  }
 },
 "nbformat": 4,
 "nbformat_minor": 2
}
