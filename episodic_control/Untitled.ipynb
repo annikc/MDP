{
 "cells": [
  {
   "cell_type": "code",
   "execution_count": 1,
   "metadata": {},
   "outputs": [],
   "source": [
    "from importlib import reload\n",
    "import run_experiment as expt\n",
    "import uuid\n",
    "import torch\n",
    "\n",
    "import numpy as np \n",
    "import matplotlib.pyplot as plt\n",
    "\n",
    "\n",
    "\n",
    "### Tensorboard \n",
    "\n",
    "import argparse\n",
    "import gym\n",
    "import numpy as np\n",
    "from itertools import count\n",
    "from collections import namedtuple\n",
    "\n",
    "from torch.distributions import Categorical\n",
    "\n",
    "import torch\n",
    "#import torchvision\n",
    "#import torchvision.transforms as transforms\n",
    "from torch.autograd import Variable\n",
    "\n",
    "import torch.nn as nn\n",
    "import torch.nn.functional as F\n",
    "import torch.optim as optim\n",
    "\n",
    "#from torch.utils.tensorboard import SummaryWriter\n",
    "\n",
    "SavedAction = namedtuple('SavedAction', ['log_prob', 'value'])"
   ]
  },
  {
   "cell_type": "code",
   "execution_count": 2,
   "metadata": {},
   "outputs": [],
   "source": [
    "import actorcritic as ac\n",
    "import environment as gw "
   ]
  },
  {
   "cell_type": "code",
   "execution_count": 6,
   "metadata": {},
   "outputs": [],
   "source": [
    "\n",
    "\n",
    "def select_action(obs):\n",
    "    obs = np.expand_dims(obs, axis=0)\n",
    "    state = torch.Tensor(obs).float()\n",
    "    p, v, _, __ = agent(state)\n",
    "    \n",
    "    m = Categorical(p)\n",
    "    action = m.sample()\n",
    "    \n",
    "    agent.saved_actions.append(SavedAction(m.log_prob(action),v))\n",
    "    return p,v, action.item()\n",
    "\n",
    "\n",
    "def finish_ep():\n",
    "    R = 0\n",
    "    saved_actions = agent.saved_actions\n",
    "    p_loss = []\n",
    "    v_loss = []\n",
    "    \n",
    "    returns = []\n",
    "    for r in agent.rewards[::-1]:\n",
    "        R = r+ agent.gamma*R\n",
    "        returns.insert(0,R)\n",
    "        \n",
    "    returns = torch.tensor(returns).float()\n",
    "    \n",
    "    for (log_prob, value), R in zip(saved_actions, returns):\n",
    "        advantage = R - value.item()\n",
    "\n",
    "        # calculate actor (policy) loss \n",
    "        pl = (-log_prob * advantage)\n",
    "        p_loss.append(pl)\n",
    "\n",
    "        # calculate critic (value) loss using L1 smooth loss\n",
    "        rval = Variable(torch.tensor([R])).unsqueeze(-1).unsqueeze(-1)\n",
    "        vl = F.smooth_l1_loss(value, rval)\n",
    "        v_loss.append(vl)\n",
    "\n",
    "    # reset gradients\n",
    "    optimizer.zero_grad()\n",
    "\n",
    "    # sum up all the values of policy_losses and value_losses\n",
    "    ploss, vloss = torch.stack(p_loss).sum() , torch.stack(v_loss).sum()\n",
    "    loss = ploss + vloss\n",
    "    #writer.add_scalar('Loss/Policy', ploss, trial)\n",
    "    #writer.add_scalar('Loss/Value', vloss, trial)\n",
    "    \n",
    "\n",
    "    # perform backprop\n",
    "    loss.backward(retain_graph=True)\n",
    "    optimizer.step()\n",
    "    \n",
    "    #for name, param in agent.named_parameters():\n",
    "    #    writer.add_histogram(name, param.grad, trial)\n",
    "    \n",
    "    # reset rewards and action buffer\n",
    "    del agent.rewards[:]\n",
    "    del agent.saved_actions[:]\n",
    "    return ploss, vloss"
   ]
  },
  {
   "cell_type": "code",
   "execution_count": 7,
   "metadata": {},
   "outputs": [],
   "source": [
    "reload(ac)\n",
    "PL,VL = [], []\n",
    "rt = [] \n",
    "ep = expt.basic_env_params()\n",
    "\n",
    "env = gw.GridWorld(rows=20, cols=20, env_type=ep.env_type,\n",
    "                           rewards={ep.reward_location: ep.reward_mag},\n",
    "                           step_penalization=ep.penalty,\n",
    "                           rho=ep.rho,\n",
    "                           actionlist=ep.actionlist,\n",
    "                           rewarded_action=ep.rewarded_action)\n",
    "#agent = ac.linAC()\n",
    "agent = ac.convAC()\n",
    "#agent = ac.ActorCritic(expt.basic_agent_params(env).__dict__)\n",
    "optimizer = optim.Adam(agent.parameters(), lr=1e-1)\n"
   ]
  },
  {
   "cell_type": "code",
   "execution_count": 8,
   "metadata": {
    "scrolled": true
   },
   "outputs": [
    {
     "name": "stdout",
     "output_type": "stream",
     "text": [
      "trial0: R=9.07 in 94 steps\n"
     ]
    },
    {
     "name": "stderr",
     "output_type": "stream",
     "text": [
      "<ipython-input-6-2fb23805a1d7>:35: UserWarning: Using a target size (torch.Size([1, 1, 1])) that is different to the input size (torch.Size([1, 1])). This will likely lead to incorrect results due to broadcasting. Please ensure they have the same size.\n",
      "  vl = F.smooth_l1_loss(value, rval)\n"
     ]
    },
    {
     "name": "stdout",
     "output_type": "stream",
     "text": [
      "trial10: R=-2.4999999999999907 in 250 steps\n",
      "trial20: R=-2.4999999999999907 in 250 steps\n",
      "trial30: R=-2.4999999999999907 in 250 steps\n",
      "trial40: R=-2.4999999999999907 in 250 steps\n",
      "trial50: R=-2.4999999999999907 in 250 steps\n",
      "trial60: R=-2.4999999999999907 in 250 steps\n",
      "trial70: R=-2.4999999999999907 in 250 steps\n",
      "trial80: R=-2.4999999999999907 in 250 steps\n",
      "trial90: R=-2.4999999999999907 in 250 steps\n",
      "trial100: R=-2.4999999999999907 in 250 steps\n",
      "trial110: R=-2.4999999999999907 in 250 steps\n",
      "trial120: R=-2.4999999999999907 in 250 steps\n",
      "trial130: R=-2.4999999999999907 in 250 steps\n",
      "trial140: R=-2.4999999999999907 in 250 steps\n",
      "trial150: R=-2.4999999999999907 in 250 steps\n",
      "trial160: R=-2.4999999999999907 in 250 steps\n",
      "trial170: R=-2.4999999999999907 in 250 steps\n",
      "trial180: R=-2.4999999999999907 in 250 steps\n",
      "trial190: R=-2.4999999999999907 in 250 steps\n",
      "trial200: R=-2.4999999999999907 in 250 steps\n",
      "trial210: R=-2.4999999999999907 in 250 steps\n",
      "trial220: R=-2.4999999999999907 in 250 steps\n",
      "trial230: R=-2.4999999999999907 in 250 steps\n",
      "trial240: R=-2.4999999999999907 in 250 steps\n",
      "trial250: R=-2.4999999999999907 in 250 steps\n",
      "trial260: R=-2.4999999999999907 in 250 steps\n",
      "trial270: R=-2.4999999999999907 in 250 steps\n",
      "trial280: R=-2.4999999999999907 in 250 steps\n",
      "trial290: R=-2.4999999999999907 in 250 steps\n",
      "trial300: R=-2.4999999999999907 in 250 steps\n",
      "trial310: R=-2.4999999999999907 in 250 steps\n",
      "trial320: R=-2.4999999999999907 in 250 steps\n",
      "trial330: R=-2.4999999999999907 in 250 steps\n",
      "trial340: R=-2.4999999999999907 in 250 steps\n",
      "trial350: R=-2.4999999999999907 in 250 steps\n",
      "trial360: R=-2.4999999999999907 in 250 steps\n",
      "trial370: R=-2.4999999999999907 in 250 steps\n",
      "trial380: R=-2.4999999999999907 in 250 steps\n",
      "trial390: R=-2.4999999999999907 in 250 steps\n",
      "trial400: R=-2.4999999999999907 in 250 steps\n",
      "trial410: R=-2.4999999999999907 in 250 steps\n",
      "trial420: R=-2.4999999999999907 in 250 steps\n",
      "trial430: R=-2.4999999999999907 in 250 steps\n",
      "trial440: R=-2.4999999999999907 in 250 steps\n",
      "trial450: R=-2.4999999999999907 in 250 steps\n",
      "trial460: R=-2.4999999999999907 in 250 steps\n",
      "trial470: R=-2.4999999999999907 in 250 steps\n",
      "trial480: R=-2.4999999999999907 in 250 steps\n",
      "trial490: R=-2.4999999999999907 in 250 steps\n",
      "trial500: R=-2.4999999999999907 in 250 steps\n",
      "trial510: R=9.97 in 4 steps\n",
      "trial520: R=-2.4999999999999907 in 250 steps\n",
      "trial530: R=-2.4999999999999907 in 250 steps\n",
      "trial540: R=-2.4999999999999907 in 250 steps\n",
      "trial550: R=-2.4999999999999907 in 250 steps\n",
      "trial560: R=-2.4999999999999907 in 250 steps\n",
      "trial570: R=-2.4999999999999907 in 250 steps\n",
      "trial580: R=-2.4999999999999907 in 250 steps\n",
      "trial590: R=-2.4999999999999907 in 250 steps\n",
      "trial600: R=-2.4999999999999907 in 250 steps\n",
      "trial610: R=-2.4999999999999907 in 250 steps\n",
      "trial620: R=-2.4999999999999907 in 250 steps\n",
      "trial630: R=-2.4999999999999907 in 250 steps\n",
      "trial640: R=-2.4999999999999907 in 250 steps\n",
      "trial650: R=-2.4999999999999907 in 250 steps\n",
      "trial660: R=-2.4999999999999907 in 250 steps\n",
      "trial670: R=-2.4999999999999907 in 250 steps\n",
      "trial680: R=-2.4999999999999907 in 250 steps\n",
      "trial690: R=-2.4999999999999907 in 250 steps\n",
      "trial700: R=-2.4999999999999907 in 250 steps\n",
      "trial710: R=-2.4999999999999907 in 250 steps\n",
      "trial720: R=-2.4999999999999907 in 250 steps\n",
      "trial730: R=-2.4999999999999907 in 250 steps\n",
      "trial740: R=-2.4999999999999907 in 250 steps\n",
      "trial750: R=-2.4999999999999907 in 250 steps\n",
      "trial760: R=-2.4999999999999907 in 250 steps\n",
      "trial770: R=-2.4999999999999907 in 250 steps\n",
      "trial780: R=-2.4999999999999907 in 250 steps\n",
      "trial790: R=-2.4999999999999907 in 250 steps\n",
      "trial800: R=-2.4999999999999907 in 250 steps\n",
      "trial810: R=-2.4999999999999907 in 250 steps\n",
      "trial820: R=-2.4999999999999907 in 250 steps\n",
      "trial830: R=-2.4999999999999907 in 250 steps\n",
      "trial840: R=-2.4999999999999907 in 250 steps\n",
      "trial850: R=-2.4999999999999907 in 250 steps\n",
      "trial860: R=-2.4999999999999907 in 250 steps\n",
      "trial870: R=-2.4999999999999907 in 250 steps\n",
      "trial880: R=-2.4999999999999907 in 250 steps\n",
      "trial890: R=-2.4999999999999907 in 250 steps\n",
      "trial900: R=-2.4999999999999907 in 250 steps\n",
      "trial910: R=-2.4999999999999907 in 250 steps\n",
      "trial920: R=-2.4999999999999907 in 250 steps\n",
      "trial930: R=-2.4999999999999907 in 250 steps\n",
      "trial940: R=-2.4999999999999907 in 250 steps\n",
      "trial950: R=-2.4999999999999907 in 250 steps\n",
      "trial960: R=-2.4999999999999907 in 250 steps\n",
      "trial970: R=-2.4999999999999907 in 250 steps\n",
      "trial980: R=-2.4999999999999907 in 250 steps\n",
      "trial990: R=-2.4999999999999907 in 250 steps\n"
     ]
    }
   ],
   "source": [
    "\n",
    "ntrials = 1000\n",
    "nevents = 250\n",
    "\n",
    "# default `log_dir` is \"runs\" - we'll be more specific here\n",
    "#writer = SummaryWriter('runs/fml')\n",
    "for trial in range(ntrials):\n",
    "    env.resetEnvironment()\n",
    "    ep_reward = 0\n",
    "    for event in range(nevents):\n",
    "        state = env.get_observation()\n",
    "        p, v, choice = select_action(state)\n",
    "        action = env.action_list[choice][0]\n",
    "        next_state, reward, done = env.move(action)\n",
    "        \n",
    "        agent.rewards.append(reward)\n",
    "        ep_reward += reward\n",
    "        if done:\n",
    "            break\n",
    "    rt.append(ep_reward)\n",
    "    if trial%10==0:\n",
    "        print(f'trial{trial}: R={ep_reward} in {event+1} steps')\n",
    "    # finish episode\n",
    "    pl, vl = finish_ep()\n",
    "    PL.append(pl)\n",
    "    VL.append(vl)\n",
    "    "
   ]
  },
  {
   "cell_type": "code",
   "execution_count": 18,
   "metadata": {},
   "outputs": [
    {
     "name": "stdout",
     "output_type": "stream",
     "text": [
      "(3, 20, 20)\n"
     ]
    },
    {
     "data": {
      "text/plain": [
       "[<matplotlib.lines.Line2D at 0x7f859a6d9b80>]"
      ]
     },
     "execution_count": 18,
     "metadata": {},
     "output_type": "execute_result"
    },
    {
     "data": {
      "image/png": "[encoded data removed]",
      "text/plain": [
       "<Figure size 432x288 with 1 Axes>"
      ]
     },
     "metadata": {
      "needs_background": "light"
     },
     "output_type": "display_data"
    }
   ],
   "source": [
    "fig, ax = plt.subplots(2,1,sharex=True)\n",
    "ax[0].plot(PL)\n",
    "ax[0].plot(VL)\n",
    "ax[1].plot(rt)"
   ]
  },
  {
   "cell_type": "code",
   "execution_count": 14,
   "metadata": {},
   "outputs": [
    {
     "data": {
      "text/plain": [
       "[<matplotlib.lines.Line2D at 0x7f859a7589d0>]"
      ]
     },
     "execution_count": 14,
     "metadata": {},
     "output_type": "execute_result"
    },
    {
     "data": {
      "image/png": "[encoded data removed]",
      "text/plain": [
       "<Figure size 432x288 with 1 Axes>"
      ]
     },
     "metadata": {
      "needs_background": "light"
     },
     "output_type": "display_data"
    }
   ],
   "source": [
    "pols, vals = expt.get_snapshot(env.get_sample_obs(), env, agent)\n",
    "gp.plot_polmap(env, pols)\n",
    "gp.plot_valmap(env, vals, v_range=[0,10])"
   ]
  },
  {
   "cell_type": "code",
   "execution_count": null,
   "metadata": {
    "scrolled": true
   },
   "outputs": [],
   "source": [
    "reload(expt)\n",
    "print(test(observation))\n",
    "writer.add_graph(test, input_to_model=[observation])\n",
    "ex = expt.training()\n",
    "observation = torch.Tensor(np.expand_dims(ex.env.get_observation(), axis=0))\n",
    "\n",
    "#writer.close()"
   ]
  },
  {
   "cell_type": "code",
   "execution_count": null,
   "metadata": {},
   "outputs": [],
   "source": [
    "ex.run(1000,250)"
   ]
  },
  {
   "cell_type": "code",
   "execution_count": null,
   "metadata": {},
   "outputs": [],
   "source": []
  },
  {
   "cell_type": "code",
   "execution_count": null,
   "metadata": {},
   "outputs": [],
   "source": []
  },
  {
   "cell_type": "code",
   "execution_count": null,
   "metadata": {},
   "outputs": [],
   "source": []
  },
  {
   "cell_type": "code",
   "execution_count": null,
   "metadata": {},
   "outputs": [],
   "source": [
    "NUM_TRIALS = 5000\n",
    "NUM_EVENTS = 250\n",
    "\n",
    "run_id = uuid.uuid4()\n",
    "ex.run(NUM_TRIALS,NUM_EVENTS)\n"
   ]
  },
  {
   "cell_type": "code",
   "execution_count": null,
   "metadata": {},
   "outputs": [],
   "source": []
  },
  {
   "cell_type": "code",
   "execution_count": null,
   "metadata": {},
   "outputs": [],
   "source": [
    "agent = train_expt.agent\n",
    "env = train_expt.env\n",
    "\n",
    "samples, states = env.get_sample_obs()\n",
    "\n",
    "if agent.use_SR: \n",
    "    p, v, phi, psi = agent(torch.Tensor(samples))\n",
    "else: \n",
    "    p, v, psi  = agent(torch.Tensor(samples))\n",
    "    \n",
    "activias = phi"
   ]
  },
  {
   "cell_type": "code",
   "execution_count": null,
   "metadata": {},
   "outputs": [],
   "source": [
    "x = np.zeros(env.shape)\n",
    "x[:,:] = np.nan\n",
    "monstro = np.asarray([x for i in range(len(activias[0]))])\n",
    "\n",
    "for ind, state in enumerate(states):\n",
    "    row = state[0]\n",
    "    col = state[1]\n",
    "    \n",
    "    for index, item in enumerate(activias[ind]):\n",
    "        monstro[index, row, col] = item"
   ]
  },
  {
   "cell_type": "code",
   "execution_count": null,
   "metadata": {},
   "outputs": [],
   "source": [
    "from matplotlib import cm\n",
    "import matplotlib.colors as colors \n",
    "import matplotlib.colorbar as colorbar\n",
    "\n",
    "from environment import plotting as gp\n",
    "\n",
    "fig, ax = plt.subplots(14,14, sharex=True, sharey=True, figsize=(6,6))\n",
    "\n",
    "cmap = cm.viridis\n",
    "cNorm = colors.Normalize(vmin=np.nanmin(monstro), vmax=np.nanmax(monstro))\n",
    "\n",
    "for i, a in enumerate(ax.flat):\n",
    "    a.imshow(monstro[i], cmap=cmap)#, norm=cNorm)\n",
    "    a.get_xaxis().set_ticks([])\n",
    "    a.get_yaxis().set_ticks([])\n",
    "    a.annotate(xy=(5,10), text=f\"{i}\", color='white')\n",
    "    \n",
    "plt.subplots_adjust(wspace=0, hspace=0)"
   ]
  },
  {
   "cell_type": "code",
   "execution_count": null,
   "metadata": {},
   "outputs": [],
   "source": [
    "from scipy.spatial import distance as d\n",
    "\n",
    "cos_sims = np.zeros((20,20))\n",
    "cos_sims[:] = np.nan\n",
    "iind = 1\n",
    "for state, activity in zip([states[iind]],[activias[iind]]):\n",
    "    print(state)\n",
    "    for sref, ref in zip(states, activias):\n",
    "        cs = 1 - d.cosine(ref.detach().numpy(), activity.detach().numpy())\n",
    "        cos_sims[sref[0], sref[1]] = cs\n",
    "    \n",
    "    plt.figure()\n",
    "    plt.imshow(cos_sims)\n",
    "    plt.colorbar()\n",
    "    plt.show()\n",
    "    plt.close()"
   ]
  },
  {
   "cell_type": "code",
   "execution_count": null,
   "metadata": {},
   "outputs": [],
   "source": []
  },
  {
   "cell_type": "code",
   "execution_count": null,
   "metadata": {},
   "outputs": [],
   "source": []
  },
  {
   "cell_type": "code",
   "execution_count": null,
   "metadata": {},
   "outputs": [],
   "source": []
  },
  {
   "cell_type": "code",
   "execution_count": null,
   "metadata": {},
   "outputs": [],
   "source": [
    "from importlib import reload\n",
    "import sys\n",
    "import actorcritic as ac\n",
    "import environment as gw\n",
    "import memory as ec\n",
    "\n",
    "sys.modules['gw'] = gw\n",
    "sys.modules['ac'] = ac\n",
    "# TODO -- need to do this for all imported modules????\n",
    "\n",
    "import run_experiment as expt\n",
    "\n",
    "import pickle\n",
    "import pandas as pd\n",
    "import uuid\n",
    "from analysis import DataFilter"
   ]
  },
  {
   "cell_type": "code",
   "execution_count": null,
   "metadata": {},
   "outputs": [],
   "source": [
    "reload(expt)\n",
    "train_expt = expt.training()\n",
    "test"
   ]
  },
  {
   "cell_type": "code",
   "execution_count": null,
   "metadata": {
    "scrolled": true
   },
   "outputs": [],
   "source": [
    "reload(expt)\n",
    "reload(ec)\n",
    "reload(gw)\n",
    "#experiment_type = 4 ############\n",
    "env_type     = None\n",
    "rho          = 0.0\n",
    "arch         = 'B'\n",
    "rwd_mag      = 10\n",
    "\n",
    "\n",
    "use_pvals    = False\n",
    "mem_temp     = 0.5\n",
    "mem_envelope = 50\n",
    "alpha        = 1\n",
    "beta         = 100000\n",
    "\n",
    "move_reward = False\n",
    "remap_transitions = False\n",
    "\n",
    "#action_list = ['Down', 'Up', 'Right', 'Left', 'Jump', 'Poke']\n",
    "action_list = ['Down', 'Up', 'Right', 'Left']\n",
    "\n",
    "\n",
    "RECORD       = False\n",
    "\n",
    "NUM_TRIALS = 5000\n",
    "NUM_EVENTS = 250\n",
    "\n",
    "for mem_temp in [1]:\n",
    "    experiment_type = 4 ##################### \n",
    "    parent_dir = './data/'\n",
    "    log_file = 'sep2020.csv'\n",
    "\n",
    "    # set environment parameters\n",
    "    rows, columns = 20, 20\n",
    "    penalty = -0.01\n",
    "    if experiment_type == 0:\n",
    "        reward_location = (5, 5)\n",
    "    else:\n",
    "        if move_reward:\n",
    "            reward_location = (15, 15)\n",
    "        else:\n",
    "            reward_location = (5,5)\n",
    "\n",
    "\n",
    "    # generate environment object\n",
    "    env = gw.GridWorld(rows=rows, cols=columns, env_type=env_type,\n",
    "                       rewards={reward_location: rwd_mag},\n",
    "                       step_penalization=penalty,\n",
    "                       rho=rho,\n",
    "                       actionlist=action_list\n",
    "                      )\n",
    "    print(env.action_list)\n",
    "    # agent parameters\n",
    "    training = {\n",
    "        'load_model': False,\n",
    "        'load_dir': '',\n",
    "\n",
    "        'architecture': arch,\n",
    "        'input_dims': env.observation.shape,\n",
    "        'action_dims': len(env.action_list),\n",
    "        'hidden_types': ['conv', 'pool', 'conv', 'pool', 'linear', 'linear'],\n",
    "        'hidden_dims': [None, None, None, None, 100, 200],\n",
    "\n",
    "        'freeze_w': False,\n",
    "\n",
    "        'rfsize': 5,\n",
    "\n",
    "        'gamma': 0.98,\n",
    "        'eta': 5e-4,\n",
    "\n",
    "        'use_EC': False\n",
    "    }\n",
    "\n",
    "    testing_1 = training.copy()\n",
    "    testing_1.update({'load_model': True, 'freeze_w': True})\n",
    "\n",
    "    testing_2 = testing_1.copy()\n",
    "    testing_2.update({'use_EC': True})\n",
    "\n",
    "    testing_4 = testing_1.copy()\n",
    "    testing_4.update({'freeze_w': False})\n",
    "\n",
    "    testing_5 = testing_4.copy()\n",
    "    testing_5.update({'use_EC': True})\n",
    "\n",
    "    params = [training, testing_1, testing_2, testing_2, testing_4, testing_5, testing_5]\n",
    "\n",
    "    # mixing parameters for MF-EC control\n",
    "    # alpha = 0.01 # MF confidence boost for reward\n",
    "    # beta = 100 # MF confidence decay - number of steps to decay to 1%\n",
    "\n",
    "    # create an agent with parameters for a given experiment type\n",
    "    agent_params = params[experiment_type]\n",
    "    load_id = ' '\n",
    "    if experiment_type != 0:\n",
    "        # read csv file - get id tag for matching conditions\n",
    "        df = pd.read_csv(parent_dir + log_file)\n",
    "        filter = DataFilter(df,\n",
    "                            expt_type=[0],\n",
    "                            env_type=[str(env_type)],\n",
    "                            dims=[str(env.shape)],\n",
    "                            rho=[float(env.rho)],\n",
    "                            rewards=[f'{{(5, 5): {rwd_mag}}}'],\n",
    "                            action_list=[str(action_list)],\n",
    "                            arch=[arch])\n",
    "\n",
    "        load_id = list(filter.ids)[0] #np.random.choice(len(list(filter.ids)))\n",
    "        agent_params['load_dir'] = parent_dir + f'agent_weights/{load_id}.pt'\n",
    "        print(f'loading weights from {load_id}')\n",
    "        \n",
    "        env = pickle.load(open(parent_dir + f'environments/{load_id}_env.p', 'rb'))\n",
    "        rwd_ = float(filter.info.iloc[0]['rewards'].strip('{}').split(':')[1])\n",
    "        # set new reward location and update env.R accordingly \n",
    "        env.step_penalization = penalty\n",
    "        env.rewards = {reward_location: rwd_}\n",
    "        env.buildRewardFunction()\n",
    "        env.finish_after_first_reward = True\n",
    "        \n",
    "        if remap_transitions:\n",
    "            env.remapTransitionMatrix()\n",
    "\n",
    "    agent = ac.make_agent(agent_params)\n",
    "    #load_id = '4a37792b-8b25-4565-8819-4e047c8813da'\n",
    "    #env = pickle.load(open(parent_dir + f'environments/{load_id}_env.p', 'rb'))\n",
    "    if experiment_type in [2, 3, 5, 6, 12, 15]:\n",
    "        # create memory module\n",
    "        \n",
    "        mem = ec.EpisodicMemory(cache_limit=400,\n",
    "                                entry_size=agent.action_dims,\n",
    "                                mem_temp=mem_temp,\n",
    "                                mem_envelope=mem_envelope,\n",
    "                                pvals=use_pvals)\n",
    "    else:\n",
    "        mem = None\n",
    "        \n",
    "    \n",
    "    gp.plot_world(env, plotNow=True, scale=0.3)\n",
    "    # create run_id\n",
    "    run_id = uuid.uuid4()\n",
    "    # create experiment object\n",
    "    ex = expt.Experiment(agent, env, use_mem=agent_params['use_EC'], mem=mem)\n",
    "\n",
    "    # run experiment\n",
    "    ex.run(NUM_TRIALS, NUM_EVENTS, alpha=alpha, beta=beta, get_samples=True, printfreq=100)\n",
    "    \n",
    "    # log data\n",
    "    if RECORD:\n",
    "        if remap_transitions:\n",
    "            experiment_type += 10\n",
    "        expt.data_log(log_file, run_id, experiment_type, ex, load_from=load_id)"
   ]
  },
  {
   "cell_type": "code",
   "execution_count": null,
   "metadata": {},
   "outputs": [],
   "source": [
    "reload(gp)\n",
    "for index in [0]: #range(len(ex.data['total_reward'])):\n",
    "    ec_pol_map = ex.data['val_tracking'][index]\n",
    "    mf_pol_map = ex.data['pol_tracking'][index]\n",
    "    #\n",
    "    gp.plot_valmap(ex.env, ec_pol_map, v_range=[0,10])\n",
    "    gp.plot_polmap(ex.env, mf_pol_map, threshold = 0.2)\n",
    "    #gp.plot_valmap(ex.env, val_map, title=str(index), save=True, v_range=[0,10])\n",
    "    \n",
    "    #gp.plot_pref_pol(ex.env, ec_pol_map, upperbound=1.5, save=False, title=str(index))\n",
    "    gp.plot_pref_pol(ex.env, mf_pol_map, upperbound=2)"
   ]
  },
  {
   "cell_type": "code",
   "execution_count": null,
   "metadata": {
    "scrolled": true
   },
   "outputs": [],
   "source": [
    "reload(gp)\n",
    "for index in [3]: #range(len(ex.data['total_reward'])):\n",
    "    ec_pol_map = ex.data['ec_tracking'][index]\n",
    "    mf_pol_map = ex.data['pol_tracking'][index]\n",
    "    #\n",
    "    gp.plot_polmap(ex.env, ec_pol_map, threshold = 0.2)\n",
    "    gp.plot_polmap(ex.env, mf_pol_map, threshold = 0.2)\n",
    "    #gp.plot_valmap(ex.env, val_map, title=str(index), save=True, v_range=[0,10])\n",
    "    \n",
    "    gp.plot_pref_pol(ex.env, ec_pol_map, upperbound=1.5, save=False, title=str(index))\n",
    "    gp.plot_pref_pol(ex.env, mf_pol_map, upperbound=1.5)\n",
    "    "
   ]
  },
  {
   "cell_type": "code",
   "execution_count": null,
   "metadata": {},
   "outputs": [],
   "source": [
    "from fxns import running_mean\n",
    "print(ex.data.keys())\n",
    "fig, ax = plt.subplots(2,1, sharex=True)\n",
    "smoothing = 10\n",
    "ax[0].plot(running_mean(ex.data['total_reward'],smoothing),'r')\n",
    "ax[1].plot(running_mean(ex.data['loss'][0], smoothing), label='P')\n",
    "ax[1].plot(running_mean(ex.data['loss'][1], smoothing), label='V')\n",
    "ax[1].legend(bbox_to_anchor=(1.05, 0.95))\n"
   ]
  },
  {
   "cell_type": "code",
   "execution_count": null,
   "metadata": {},
   "outputs": [],
   "source": [
    "print(ex.data['confidence_selection'][0])"
   ]
  },
  {
   "cell_type": "code",
   "execution_count": null,
   "metadata": {},
   "outputs": [],
   "source": [
    "def plot_trajectory(trajectory):\n",
    "    \n",
    "    fig = plt.figure(figsize=(8,8))\n",
    "    plt.pcolor(ex.env.grid,cmap='bone', vmax=1, vmin=0)\n",
    "    ax = fig.gca()\n",
    "    ax.set_aspect('equal')\n",
    "\n",
    "    ax.add_patch(plt.Rectangle((15,15), width=0.99, height=1, linewidth=1, ec='white', fill=False))\n",
    "    rows = trajectory[:,0]\n",
    "    cols = trajectory[:,1]\n",
    "    ax.add_patch(plt.Rectangle((rows[0],cols[0]), width=0.99, height=1, linewidth=1, ec='red', fill=False))\n",
    "    dx, dy = [],[]\n",
    "    for ind in range(len(rows)-1):\n",
    "        dx.append(rows[ind+1]-rows[ind])\n",
    "        dy.append(cols[ind+1]-cols[ind])\n",
    "\n",
    "    dx = np.asarray(dx)*0.25\n",
    "    dy=np.asarray(dy)*0.25\n",
    "    for i in range(10):#len(dx)):\n",
    "        plt.arrow(rows[i]+0.5,cols[i]+0.5, dx[i], dy[i], head_width=0.2, head_length=0.2, color='white',alpha=0.5)\n",
    "\n",
    "    ax.invert_yaxis()\n",
    "    plt.show()\n"
   ]
  },
  {
   "cell_type": "code",
   "execution_count": null,
   "metadata": {},
   "outputs": [],
   "source": [
    "\n",
    "sar = ex.data['sar'][0:200]\n",
    "\n",
    "\n",
    "\n",
    "for j in range(2):#len(sar)):\n",
    "    i = j + 4\n",
    "    if sum(np.vstack(sar[i])[:,3]) <0: \n",
    "        print(np.vstack(sar[i])[0,0])\n",
    "        rpe_data = ex.data['rpe_tracking'][i]\n",
    "        expt.plot_valmap(ex.env, rpe_data.T)\n",
    "        trajectory = np.vstack(sar[i])[:,0]\n",
    "        plot_trajectory(np.vstack(trajectory))\n",
    "\n",
    "\n"
   ]
  },
  {
   "cell_type": "code",
   "execution_count": null,
   "metadata": {},
   "outputs": [],
   "source": []
  },
  {
   "cell_type": "code",
   "execution_count": null,
   "metadata": {},
   "outputs": [],
   "source": [
    "\n",
    "\n"
   ]
  },
  {
   "cell_type": "code",
   "execution_count": null,
   "metadata": {},
   "outputs": [],
   "source": [
    "policies = ex.data['pol_tracking']\n",
    "values = ex.data['val_tracking']"
   ]
  },
  {
   "cell_type": "code",
   "execution_count": null,
   "metadata": {},
   "outputs": [],
   "source": [
    "load_data = pickle.load(open(parent_dir + f'results/{run_id}_data.p', 'rb'))\n",
    "load_data['sar'] = []\n",
    "t_to_date = load_data['trials_run_to_date']\n",
    "for key in load_data.keys():\n",
    "    if key == 'trials_run_to_date':\n",
    "        load_data[key] += ex.data[key]\n",
    "    elif len(load_data[key]) == t_to_date:\n",
    "        load_data[key] += ex.data[key]\n",
    "    else:\n",
    "        for i in range(len(load_data[key])):\n",
    "            load_data[key][i] += ex.data[key][i]\n",
    "\n",
    "for i in load_data.keys():\n",
    "    print(type(load_data[i]), i )\n"
   ]
  },
  {
   "cell_type": "code",
   "execution_count": null,
   "metadata": {},
   "outputs": [],
   "source": [
    "#pickle.dump(load_data, open(f'{parent_dir}results/{run_id}_data.p', 'wb'))"
   ]
  },
  {
   "cell_type": "code",
   "execution_count": null,
   "metadata": {},
   "outputs": [],
   "source": [
    "ex.run(50000, NUM_EVENTS, alpha=alpha, beta=beta)"
   ]
  },
  {
   "cell_type": "code",
   "execution_count": null,
   "metadata": {},
   "outputs": [],
   "source": [
    "expt.data_log(log_file,run_id, experiment_type, ex, load_from=load_id)"
   ]
  },
  {
   "cell_type": "code",
   "execution_count": null,
   "metadata": {},
   "outputs": [],
   "source": [
    "import torch\n",
    "mem_location = (13,13)\n",
    "observation = torch.Tensor(np.expand_dims(ex.env.get_observation(agtlocation=mem_location), axis=0))\n",
    "policy_, value_, phi_, psi_ = ex.agent(observation)\n",
    "lin_act = tuple(np.round(psi_.data[0].numpy(), 4))\n",
    "\n",
    "ex.episodic.recall_mem(lin_act, timestep=0)"
   ]
  },
  {
   "cell_type": "code",
   "execution_count": null,
   "metadata": {},
   "outputs": [],
   "source": [
    "print(ex.data['visited_states'][0:2])\n",
    "\n"
   ]
  },
  {
   "cell_type": "code",
   "execution_count": null,
   "metadata": {},
   "outputs": [],
   "source": []
  },
  {
   "cell_type": "code",
   "execution_count": null,
   "metadata": {},
   "outputs": [],
   "source": [
    "reload(gp)\n",
    "pols, vals = expt.get_snapshot(env.get_sample_obs(), env, agent)\n",
    "gp.plot_polmap(env, pols)\n",
    "gp.plot_valmap(env, vals, v_range=[0,10])"
   ]
  },
  {
   "cell_type": "code",
   "execution_count": null,
   "metadata": {},
   "outputs": [],
   "source": [
    "ex.run(10000,250,reset_data=True)"
   ]
  },
  {
   "cell_type": "code",
   "execution_count": null,
   "metadata": {},
   "outputs": [],
   "source": [
    "from fxns import running_mean\n",
    "plt.plot(running_mean(ex.data['total_reward'],30))"
   ]
  },
  {
   "cell_type": "code",
   "execution_count": null,
   "metadata": {},
   "outputs": [],
   "source": [
    "#run_id = uuid.uuid4()\n",
    "#expt.data_log(run_id, experiment_type, ex, load_from=load_id)"
   ]
  },
  {
   "cell_type": "code",
   "execution_count": null,
   "metadata": {},
   "outputs": [],
   "source": [
    "from fxns import running_mean\n",
    "pen = env.step_penalization\n",
    "rewards = np.vstack(ex.data['sar'])[:,2]\n",
    "\n",
    "z_rewards = rewards.copy()\n",
    "for ind, i in enumerate(z_rewards):\n",
    "    if i <0:\n",
    "        z_rewards[ind] = 0.0\n",
    "\n",
    "cs = []\n",
    "ex.MF_cs = 0\n",
    "for i in z_rewards:\n",
    "    ex.policy_arbitration(i)\n",
    "    cs.append(ex.MF_cs)\n",
    "    \n",
    "plt.figure()\n",
    "plt.plot(rewards, \"r|\")\n",
    "plt.plot(ex.data['confidence_selection'][0], 'b', label='with step penalization')\n",
    "plt.plot(cs, 'g', label='without step penalization')\n",
    "\n",
    "plt.legend(bbox_to_anchor=(1.05, 0.95))\n",
    "plt.title(f'Penalization={pen}, alpha={alpha}, beta={beta}')\n",
    "#xstart = 6000\n",
    "#plt.xlim([xstart,xstart+500])\n",
    "plt.show()\n",
    "plt.close()"
   ]
  },
  {
   "cell_type": "code",
   "execution_count": null,
   "metadata": {},
   "outputs": [],
   "source": [
    "#### trying some craziness -- delete later (Jul 24)\n",
    "plt.figure()\n",
    "x = ex.data['confidence_selection'][0] # MFCS\n",
    "y = ex.data['confidence_selection'][1] # policy_choice\n",
    "viridis = cm.get_cmap('inferno', len(x)).colors\n",
    "plt.scatter(x, y, c = viridis, alpha=0.3, edgecolor='k')\n",
    "plt.yticks([0,1], ['MF', 'EC'])\n",
    "plt.ylim([-0.5, 1.5])\n",
    "plt.xlim([0,1])\n",
    "plt.show()\n",
    "plt.close()\n",
    "\n",
    "plt.figure()\n",
    "x = ex.data['confidence_selection'][0] # MFCS\n",
    "y = ex.data['confidence_selection'][1] # policy_choice\n",
    "viol = [[],[]] #mf ec\n",
    "\n",
    "for ind, i in enumerate(x):\n",
    "    viol[y[ind]].append(i)\n",
    "\n",
    "print(viol)\n",
    "plt.figure()\n",
    "plt.violinplot(viol, positions = [0,1], vert=False, showmeans=True)\n",
    "plt.xlim([0,0.1])\n",
    "plt.yticks([0,1], [f'MF (n={len(viol[0])})', f'EC (n={len(viol[1])})'])\n",
    "plt.show()\n",
    "plt.close()\n",
    "\n",
    "plt.figure()\n",
    "y = ex.data['confidence_selection'][0] # MFCS\n",
    "x = np.arange(len(y))\n",
    "cols = ['b', 'g'] #mf , ec\n",
    "z = ex.data['confidence_selection'][1] # policy_choice\n",
    "col = [cols[i] for i in z]\n",
    "\n",
    "plt.scatter(x, y, c = col, alpha=0.3)\n",
    "plt.show()\n",
    "plt.close()"
   ]
  },
  {
   "cell_type": "code",
   "execution_count": null,
   "metadata": {},
   "outputs": [],
   "source": [
    "from ipywidgets import interactive\n",
    "%matplotlib inline\n",
    "\n",
    "\n",
    "def g(x):\n",
    "    plt.plot(rewards, 'r|')\n",
    "    plt.plot(ex.data['confidence_selection'][0], 'b')\n",
    "    plt.plot(cs, 'g')\n",
    "    plt.xlim(x, x+500)\n",
    "    plt.show()\n",
    "\n",
    "interactive_plot = interactive(g, x=(0,len(rewards)-500,500))\n",
    "interactive_plot"
   ]
  },
  {
   "cell_type": "code",
   "execution_count": null,
   "metadata": {},
   "outputs": [],
   "source": [
    "mpol_array = np.zeros(env.grid.shape, dtype=[(x, 'f8') for x in env.action_list])\n",
    "\n",
    "for i in mem.cache_list.keys():\n",
    "    values = mem.cache_list[i]\n",
    "    row, col = values[2]\n",
    "    pol = mem.recall_mem(i, timestep=0)\n",
    "    mpol_array[row, col] = tuple(pol)\n",
    "    \n",
    "from environment import plotting\n",
    "reload(plotting)\n",
    "plotting.plot_pref_pol(env, mpol_array)\n",
    "\n"
   ]
  },
  {
   "cell_type": "code",
   "execution_count": null,
   "metadata": {},
   "outputs": [],
   "source": [
    "print(ex.data['confidence_selection'][0])"
   ]
  },
  {
   "cell_type": "code",
   "execution_count": null,
   "metadata": {},
   "outputs": [],
   "source": [
    "a = ['MF', 'EC']\n",
    "for x,y in zip(np.vstack(ex.data['sar']), ex.data['confidence_selection'][1]):\n",
    "    print(x, a[y])"
   ]
  },
  {
   "cell_type": "code",
   "execution_count": null,
   "metadata": {},
   "outputs": [],
   "source": [
    "plt.plot(ex.data['total_reward'])"
   ]
  },
  {
   "cell_type": "code",
   "execution_count": null,
   "metadata": {},
   "outputs": [],
   "source": []
  },
  {
   "cell_type": "code",
   "execution_count": null,
   "metadata": {},
   "outputs": [],
   "source": []
  },
  {
   "cell_type": "code",
   "execution_count": null,
   "metadata": {
    "scrolled": true
   },
   "outputs": [],
   "source": []
  },
  {
   "cell_type": "code",
   "execution_count": null,
   "metadata": {},
   "outputs": [],
   "source": [
    "\n"
   ]
  },
  {
   "cell_type": "code",
   "execution_count": null,
   "metadata": {},
   "outputs": [],
   "source": []
  },
  {
   "cell_type": "code",
   "execution_count": null,
   "metadata": {},
   "outputs": [],
   "source": [
    "## example decay curves \n",
    "alpha = 0.01\n",
    "beta = 10000\n",
    "ex = expt.Experiment(agent, env, alpha = alpha, beta = beta)\n",
    "# 100 instances \n",
    "prob = 0.15\n",
    "num = 100\n",
    "pen = -0.01\n",
    "n_rewards = np.random.choice([pen,1], num, p=[1-prob, prob])\n",
    "z_rewards = n_rewards.copy()\n",
    "z_rewards[z_rewards == pen] = 0\n",
    "\n",
    "n_cs = []\n",
    "z_cs = []\n",
    "for i in n_rewards:\n",
    "    ex.policy_arbitration(i)\n",
    "    n_cs.append(ex.MF_cs)\n",
    "\n",
    "for j in z_rewards:\n",
    "    ex.policy_arbitration(j)\n",
    "    z_cs.append(ex.MF_cs)\n",
    "\n",
    "plt.figure()\n",
    "plt.plot(n_rewards, \"r|\")\n",
    "plt.plot(z_rewards, \"b|\")\n",
    "plt.plot(n_cs, 'r', label='with penalization in MFCS')\n",
    "plt.plot(z_cs, 'b', label='no penalization in MFCS')\n",
    "plt.legend(bbox_to_anchor=(1.05, 0.95))\n",
    "plt.title(f'Penalization={pen}, alpha={alpha}, beta={beta}')\n",
    "plt.show()\n",
    "plt.close()\n",
    "\n",
    "x = np.subtract(z_cs, n_cs)\n",
    "plt.figure()\n",
    "plt.plot(n_rewards, 'k|')\n",
    "plt.plot(x)\n",
    "plt.show()\n",
    "plt.close()"
   ]
  },
  {
   "cell_type": "code",
   "execution_count": null,
   "metadata": {},
   "outputs": [],
   "source": [
    "print(n_rewards, z_rewards)"
   ]
  },
  {
   "cell_type": "code",
   "execution_count": null,
   "metadata": {},
   "outputs": [],
   "source": []
  }
 ],
 "metadata": {
  "kernelspec": {
   "display_name": "Python 3",
   "language": "python",
   "name": "python3"
  },
  "language_info": {
   "codemirror_mode": {
    "name": "ipython",
    "version": 3
   },
   "file_extension": ".py",
   "mimetype": "text/x-python",
   "name": "python",
   "nbconvert_exporter": "python",
   "pygments_lexer": "ipython3",
   "version": "3.8.5"
  }
 },
 "nbformat": 4,
 "nbformat_minor": 4
}
