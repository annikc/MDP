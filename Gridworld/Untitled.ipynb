{
 "cells": [
  {
   "cell_type": "code",
   "execution_count": 114,
   "metadata": {
    "collapsed": true
   },
   "outputs": [],
   "source": [
    "import torch\n",
    "from torch import nn, autograd, optim\n",
    "import torch.nn.functional as F\n",
    "import matplotlib.pyplot as plt"
   ]
  },
  {
   "cell_type": "code",
   "execution_count": 115,
   "metadata": {
    "collapsed": true
   },
   "outputs": [],
   "source": [
    "class Model(nn.Module):\n",
    "    def __init__(self, input_size, hidden_size, num_classes):\n",
    "        super(Model, self).__init__()\n",
    "        self.h1 = nn.Linear(input_size,hidden_size)\n",
    "        self.h2 = nn.Linear(hidden_size,num_classes)\n",
    "        \n",
    "    def forward(self, x):\n",
    "        x = self.h1(x)\n",
    "        x = F.tanh(x)\n",
    "        x = self.h2(x)\n",
    "        x = F.softmax(x)\n",
    "        return x  "
   ]
  },
  {
   "cell_type": "code",
   "execution_count": 116,
   "metadata": {
    "collapsed": false
   },
   "outputs": [
    {
     "name": "stdout",
     "output_type": "stream",
     "text": [
      "('input', Variable containing:\n",
      " 0.6965  0.7130  0.2861  0.4285\n",
      " 0.2269  0.6909  0.5513  0.7192\n",
      " 0.7195  0.4911  0.4231  0.7800\n",
      " 0.9808  0.4109  0.6848  0.5797\n",
      " 0.4809  0.1400  0.3921  0.4010\n",
      " 0.3432  0.6273  0.7290  0.3242\n",
      " 0.4386  0.2448  0.0597  0.6948\n",
      " 0.3980  0.5939  0.7380  0.6318\n",
      " 0.1825  0.4403  0.1755  0.0837\n",
      " 0.5316  0.7123  0.5318  0.4279\n",
      "[torch.FloatTensor of size 10x4]\n",
      ")\n",
      "Variable containing:\n",
      "    2     1     3     1     2     2     2     1     2     1\n",
      "[torch.LongTensor of size 1x10]\n",
      "\n",
      "torch.Size([8, 4])\n",
      "torch.Size([8])\n",
      "torch.Size([4, 8])\n",
      "torch.Size([4])\n"
     ]
    }
   ],
   "source": [
    "batch_size = 10\n",
    "input_size = 4\n",
    "hidden_size = 8\n",
    "num_classes = 4\n",
    "\n",
    "lr = 0.01 \n",
    "\n",
    "\n",
    "torch.manual_seed(123)\n",
    "input = autograd.Variable(torch.rand(batch_size, input_size))\n",
    "print('input', input)\n",
    "\n",
    "target = autograd.Variable((torch.rand(batch_size) *num_classes).long())\n",
    "print target.view(1, -1) \n",
    "\n",
    "model = Model(input_size=input_size, hidden_size=hidden_size, num_classes=num_classes)\n",
    "opt = optim.Adam(params=model.parameters(), lr=lr)\n",
    "\n",
    "a = list(model.parameters())\n",
    "for i in range(len(a)):\n",
    "    print a[i].size()\n"
   ]
  },
  {
   "cell_type": "code",
   "execution_count": 117,
   "metadata": {
    "collapsed": false
   },
   "outputs": [
    {
     "name": "stdout",
     "output_type": "stream",
     "text": [
      "-0.277599871159\n",
      "-0.669941604137\n",
      "-0.785729587078\n",
      "-0.795860648155\n",
      "-0.798380255699\n",
      "-0.888571858406\n",
      "-0.89644497633\n",
      "-0.897992014885\n",
      "-0.89865654707\n",
      "-0.899020671844\n",
      "-0.899247467518\n",
      "-0.89940059185\n",
      "-0.899510025978\n",
      "-0.899591267109\n",
      "-0.899653613567\n",
      "-0.89970266819\n",
      "-0.899742007256\n",
      "-0.899774253368\n",
      "-0.899800956249\n",
      "-0.899823367596\n",
      "-0.899842262268\n",
      "-0.899858474731\n",
      "-0.899872481823\n",
      "-0.899884581566\n",
      "-0.899895310402\n",
      "-0.899904608727\n",
      "-0.899912953377\n",
      "-0.899920284748\n",
      "-0.899926781654\n",
      "-0.899932682514\n",
      "Variable containing:\n",
      "    0     0     0     0     0     1     0     0     0     0\n",
      "[torch.LongTensor of size 1x10]\n",
      "\n"
     ]
    },
    {
     "data": {
      "image/png": "[encoded data removed]",
      "text/plain": [
       "<matplotlib.figure.Figure at 0x7f8eb655f3d0>"
      ]
     },
     "metadata": {},
     "output_type": "display_data"
    }
   ],
   "source": [
    "track_loss = []\n",
    "for epoch in range(3000):\n",
    "    out = model(input)\n",
    "    #print('out', out)\n",
    "    _, pred = out.max(1)\n",
    "    #print pred.view(1,-1)\n",
    "    loss = F.nll_loss(out, target)\n",
    "    track_loss.append(loss.data[0])\n",
    "    if epoch%100==0:\n",
    "        print loss.data[0]\n",
    "\n",
    "    model.zero_grad()\n",
    "    loss.backward()\n",
    "    opt.step()\n",
    "\n",
    "\n",
    "print target.view(1,-1) - pred.view(1,-1)\n",
    "plt.plot(track_loss)\n",
    "plt.show()"
   ]
  },
  {
   "cell_type": "code",
   "execution_count": null,
   "metadata": {
    "collapsed": false
   },
   "outputs": [],
   "source": [
    "\n",
    "\n",
    "\n"
   ]
  },
  {
   "cell_type": "code",
   "execution_count": null,
   "metadata": {
    "collapsed": false
   },
   "outputs": [],
   "source": []
  },
  {
   "cell_type": "code",
   "execution_count": null,
   "metadata": {
    "collapsed": false
   },
   "outputs": [],
   "source": []
  },
  {
   "cell_type": "code",
   "execution_count": null,
   "metadata": {
    "collapsed": false
   },
   "outputs": [],
   "source": []
  },
  {
   "cell_type": "code",
   "execution_count": null,
   "metadata": {
    "collapsed": false
   },
   "outputs": [],
   "source": []
  },
  {
   "cell_type": "code",
   "execution_count": null,
   "metadata": {
    "collapsed": false
   },
   "outputs": [],
   "source": []
  },
  {
   "cell_type": "code",
   "execution_count": null,
   "metadata": {
    "collapsed": true
   },
   "outputs": [],
   "source": []
  },
  {
   "cell_type": "code",
   "execution_count": null,
   "metadata": {
    "collapsed": true
   },
   "outputs": [],
   "source": []
  }
 ],
 "metadata": {
  "kernelspec": {
   "display_name": "Python 2",
   "language": "python",
   "name": "python2"
  },
  "language_info": {
   "codemirror_mode": {
    "name": "ipython",
    "version": 2
   },
   "file_extension": ".py",
   "mimetype": "text/x-python",
   "name": "python",
   "nbconvert_exporter": "python",
   "pygments_lexer": "ipython2",
   "version": "2.7.12"
  }
 },
 "nbformat": 4,
 "nbformat_minor": 2
}
