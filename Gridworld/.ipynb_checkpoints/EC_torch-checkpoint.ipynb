{
 "cells": [
  {
   "cell_type": "code",
   "execution_count": 1,
   "metadata": {},
   "outputs": [
    {
     "name": "stderr",
     "output_type": "stream",
     "text": [
      "/usr/lib/python2.7/dist-packages/matplotlib/font_manager.py:273: UserWarning: Matplotlib is building the font cache using fc-list. This may take a moment.\n",
      "  warnings.warn('Matplotlib is building the font cache using fc-list. This may take a moment.')\n"
     ]
    }
   ],
   "source": [
    "from __future__ import division\n",
    "import time\n",
    "from time import gmtime, strftime\n",
    "\n",
    "#import random\n",
    "\n",
    "import torch \n",
    "from torch.autograd import Variable\n",
    "from torch import autograd, optim, nn\n",
    "\n",
    "import numpy as np\n",
    "import matplotlib.pyplot as plt\n",
    "\n",
    "from sklearn.neighbors import NearestNeighbors\n",
    "\n",
    "import env_utils as eu\n",
    "import agt_utils as au\n",
    "\n",
    "%matplotlib inline "
   ]
  },
  {
   "cell_type": "code",
   "execution_count": 2,
   "metadata": {},
   "outputs": [
    {
     "data": {
      "image/png": "[encoded data removed]",
      "text/plain": [
       "<matplotlib.figure.Figure at 0x7f0d79865e50>"
      ]
     },
     "metadata": {},
     "output_type": "display_data"
    }
   ],
   "source": [
    "#========================\n",
    "# Environment Parameters\n",
    "#======================== \n",
    "height = 12\n",
    "width = 12\n",
    "\n",
    "mazetype = 'none'\n",
    "obs_rho = 0.1  #obstacle density\n",
    "\n",
    "place_cells = 700\n",
    "fwhm = 0.25 # NB: place cell full width half max must be in (0,1)\n",
    "\n",
    "\n",
    "#make environment\n",
    "maze = eu.gridworld([height, width],rho=obs_rho,num_pc=place_cells, pc_fwhm=fwhm, maze_type=mazetype)\n",
    "#show environment\n",
    "eu.make_env_plots(maze)"
   ]
  },
  {
   "cell_type": "code",
   "execution_count": 3,
   "metadata": {
    "collapsed": true
   },
   "outputs": [],
   "source": [
    "#=====================\n",
    "# Training Parameters\n",
    "#=====================\n",
    "#trial parameters\n",
    "NUM_TRIALS = 5000\n",
    "NUM_EVENTS = 300\n",
    "\n",
    "discount_factor = 0.98\n",
    "\n",
    "#agent parameters\n",
    "dims = [len(maze.net_state[0]),50,len(maze.actionlist)]\n",
    "model = au.AC_Net(dims)\n",
    "\n",
    "#learning parameters\n",
    "eta = 1e-2 #gradient descent learning rate\n",
    "opt = au.optim.SGD(model.parameters(), lr = eta)"
   ]
  },
  {
   "cell_type": "code",
   "execution_count": 4,
   "metadata": {},
   "outputs": [
    {
     "data": {
      "image/png": "[encoded data removed]",
      "text/plain": [
       "<matplotlib.figure.Figure at 0x7f0d79865a10>"
      ]
     },
     "metadata": {},
     "output_type": "display_data"
    },
    {
     "name": "stdout",
     "output_type": "stream",
     "text": [
      "[0 1 2]\n",
      "2.23606797749979\n",
      "706\n"
     ]
    }
   ],
   "source": [
    "\n",
    "X = np.array([[-1, -1], [-2, -1], [-3, -2], [1, 1], [2, 1], [3, 2]])\n",
    "\n",
    "plt.scatter(X[:,0], X[:,1])\n",
    "plt.show()\n",
    "\n",
    "\n",
    "nbrs = NearestNeighbors(n_neighbors=3, algorithm='auto').fit(X)\n",
    "distances, indices = nbrs.kneighbors([X[0]])\n",
    "\n",
    "print indices[0]\n",
    "print max(distances[0])\n",
    "\n",
    "print len(maze.net_state[0])"
   ]
  },
  {
   "cell_type": "code",
   "execution_count": 5,
   "metadata": {},
   "outputs": [
    {
     "name": "stdout",
     "output_type": "stream",
     "text": [
      "[[(-0.22494283234504103, -0.8728258056748862, -0.10274106540046195) 0.0]\n",
      " [(0.5936000042390458, -0.2102671270196813, -0.31037706173926943)\n",
      "  1.0733634449523906]\n",
      " [(0.5176492549075382, -0.6922103045097896, -1.046631080324349)\n",
      "  1.2144930331559243]\n",
      " [(-0.4724438049965009, 0.24606551010134767, 0.33457118343264375)\n",
      "  1.2265465792061705]]\n"
     ]
    }
   ],
   "source": [
    "def mem_knn(k, dictionary, entry):\n",
    "    ## find K nearest neighbours to memory \n",
    "    # used for storage and recall \n",
    "    activities = dictionary.keys()\n",
    "    nbrs = NearestNeighbors(n_neighbors=k, algorithm='auto').fit(activities)\n",
    "    distances, indices = nbrs.kneighbors([entry])\n",
    "    knn_acts = [(activities[val], distances[0][i]) for i,val in enumerate(indices[0])]\n",
    "    return knn_acts\n",
    "\n",
    "d = {}\n",
    "for i in X:\n",
    "    d[tuple(np.random.randn(3))] = i \n",
    "\n",
    "testo = mem_knn(4, d, d.keys()[0])\n",
    "print np.asarray(testo)\n"
   ]
  },
  {
   "cell_type": "code",
   "execution_count": 10,
   "metadata": {},
   "outputs": [],
   "source": [
    "class ep_mem(object):\n",
    "    def __init__(self, model, cache_limit):\n",
    "        num_inputs = model.layers[0]\n",
    "        self.num_actions = model.layers[-1]\n",
    "        self.cache_limit = cache_limit\n",
    "        self.cache_list = {}\n",
    "        \n",
    "    def make_onehot(self,action,delta):\n",
    "        onehot = np.zeros(self.num_actions)\n",
    "        onehot[action] = delta\n",
    "        return onehot\n",
    "\n",
    "    def mem_knn(self, entry, **kwargs):\n",
    "        ## find K nearest neighbours to memory \n",
    "        # used for storage and recall \n",
    "        k = kwargs.get('k', 5)\n",
    "        distance_threshold = kwargs.get('dist_thresh', 0.1)\n",
    "        \n",
    "        activities = self.cache_list.keys()\n",
    "        nbrs = NearestNeighbors(n_neighbors=k, algorithm='auto').fit(activities)\n",
    "        distances, indices = nbrs.kneighbors([entry])\n",
    "        indices = indices[0][distances[0] < distance_threshold]\n",
    "        distances = distances[0][distances[0] < distance_threshold]\n",
    "        knn_acts = [activities[i] for i in indices]\n",
    "        return knn_acts, distances\n",
    "    \n",
    "    def add_mem(self, activity,action,delta,**kwargs):\n",
    "        ## activity is pc_activites - to be a dict key must be a tuple (immutable type)\n",
    "        ## item is (delta*action_onehot, persistence) where delta = r_t - v(s_t) - v(s_t-1)\n",
    "        \n",
    "        #activity_similarity_threshold = kwargs.get('act_threshold', 0.1)\n",
    "        item = self.make_onehot(action,delta)\n",
    "        \n",
    "        if len(self.cache_list) < self.cache_limit: \n",
    "            self.cache_list[activity] = item\n",
    "        else:\n",
    "            ## determine entry to get rid of\n",
    "            # KNN to see most similar entries\n",
    "            # replace neighbour with lowest persistence\n",
    "            # no item closer than threshold, replace item in all mem with lowest persistence\n",
    "            act_keys, distances = self.mem_knn(activity)\n",
    "            \n",
    "            if len(act_keys) > 0:\n",
    "                '''\n",
    "                NEED TO HAVE activity_similarity_threshold check? \n",
    "                '''\n",
    "                #use it\n",
    "                # make new dictionary of just the k nn entries and their data\n",
    "                cache_knn = {k: self.cache_list[k] for k in act_keys}\n",
    "                # of those entries pick the one with lowest persistence\n",
    "                lp_entry_key = min(cache_knn.items(), key = lambda x: x[1][1])[0] #gives key and entry that has lowest persistence value\n",
    "\n",
    "                lp_entry_data = self.cache_list[lp_entry_key]\n",
    "                p_val = lp_entry_data[1]\n",
    "                \n",
    "                # make new entry out of convex combination of old entry and current information\n",
    "                new_entry_key = tuple(p_val*np.asarray(lp_entry_key) + (1-p_val)*np.asarray(activity))\n",
    "                new_entry_data = (p_val*lp_entry_data[0] + (1-p_val)*item[0], item[1])\n",
    "                \n",
    "                del self.cache_list[lp_entry_key]\n",
    "                self.cache_list[new_entry_key] = new_entry_data\n",
    "                \n",
    "            else:\n",
    "                lp_entry_key = min(self.cache_list.items(), key = lambda x: x[1][1])[0] #gives key and entry that has lowest persistence value\n",
    "                del self.cache_list[lp_entry_key]\n",
    "                self.cache_list[activity] = item\n",
    "            \n",
    "    def recall_mem(self, activity,item,**kwargs):\n",
    "        '''\n",
    "        TO DO: WRITE RECALL FUNCTION\n",
    "        '''\n",
    "        ## activity is pc_activites - to be a dict key must be a tuple (immutable type)\n",
    "        ## item is (delta*action_onehot, persistence) where delta = r_t - v(s_t) - v(s_t-1)\n",
    "        \n",
    "        # KNN to see most similar entries\n",
    "        act_keys, distances = self.mem_knn(activity)\n",
    "\n",
    "        if len(act_keys) > 0: \n",
    "            closest_entry_key = act_keys[0]\n",
    "            closest_entry_data = self.cache_list[closest_entry_key][0]\n",
    "            persistence = self.cache_list[closest_entry_key][1]\n",
    "        \n",
    "        recall = persistence*closest_entry_data + (1-persistence)*item\n",
    "        \n",
    "        return recall\n",
    "        \n",
    "EC__ = ep_mem(model,100)"
   ]
  },
  {
   "cell_type": "code",
   "execution_count": null,
   "metadata": {
    "collapsed": true
   },
   "outputs": [],
   "source": [
    "self.cache_array = np.zeros(n, dtype=[('pc_activities', np.float64,(num_inputs,)),\n",
    "                                      ('onehot_rpe',np.float64,(num_outputs,))])\n",
    "        "
   ]
  },
  {
   "cell_type": "code",
   "execution_count": null,
   "metadata": {
    "collapsed": true
   },
   "outputs": [],
   "source": [
    "#==================================\n",
    "# Set up Data Recording Structures\n",
    "#==================================\n",
    "\n",
    "#==================================\n",
    "# Run Trial\n",
    "#==================================\n",
    "for trial in xrange(NUM_TRIALS):\n",
    "    \n",
    "    maze.start_trial()\n",
    "    reward_sum = 0\n",
    "     \n",
    "    state = Variable(torch.FloatTensor(maze.net_state))\n",
    "    \n",
    "    for event in xrange(NUM_EVENTS):\n",
    "        choice, policy, value = au.select_action(model,state)\n",
    "        action = maze.actionlist[choice]\n",
    "        choice_prob = policy[choice]\n",
    "        \n",
    "        if event < NUM_EVENTS: \n",
    "            next_state = maze.move(action)\n",
    "            \n",
    "        model.rewards.append(maze.rwd)\n",
    "        # update state\n",
    "        state = Variable(torch.FloatTensor(next_state))\n",
    "\n",
    "        reward_sum += maze.rwd\n",
    "        \n",
    "    \n",
    "    p_loss, v_loss = au.finish_trial(model, discount_factor,opt)\n",
    "    total_loss[0].append(p_loss.data[0])\n",
    "    total_loss[1].append(v_loss.data[0])\n",
    "    total_reward.append(reward_sum)\n",
    "    val_maps.append(value_map.copy())\n",
    "    \n",
    "    # print reward measure\n",
    "    if trial%(print_freq*NUM_TRIALS)==0 or trial == NUM_TRIALS-1: \n",
    "        print (\"Trial {0} finished w total reward = {1} (Avg {2:.3f})\".format(trial, reward_sum, float(reward_sum)/float(NUM_EVENTS)), \"Block took {0:.3f}\".format(time.time()-blocktime))\n",
    "        blocktime = time.time() \n",
    "    \n",
    "print(\"Run took {0:.3f}\".format(time.time()-runtime))"
   ]
  }
 ],
 "metadata": {
  "kernelspec": {
   "display_name": "Python 2",
   "language": "python",
   "name": "python2"
  },
  "language_info": {
   "codemirror_mode": {
    "name": "ipython",
    "version": 2
   },
   "file_extension": ".py",
   "mimetype": "text/x-python",
   "name": "python",
   "nbconvert_exporter": "python",
   "pygments_lexer": "ipython2",
   "version": "2.7.12"
  }
 },
 "nbformat": 4,
 "nbformat_minor": 2
}
