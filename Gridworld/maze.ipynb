{
 "cells": [
  {
   "cell_type": "code",
   "execution_count": 1,
   "metadata": {},
   "outputs": [
    {
     "name": "stderr",
     "output_type": "stream",
     "text": [
      "/usr/lib/python2.7/dist-packages/matplotlib/font_manager.py:273: UserWarning: Matplotlib is building the font cache using fc-list. This may take a moment.\n",
      "  warnings.warn('Matplotlib is building the font cache using fc-list. This may take a moment.')\n"
     ]
    },
    {
     "ename": "ImportError",
     "evalue": "No module named mdp_fns",
     "output_type": "error",
     "traceback": [
      "\u001b[0;31m---------------------------------------------------------------------------\u001b[0m",
      "\u001b[0;31mImportError\u001b[0m                               Traceback (most recent call last)",
      "\u001b[0;32m<ipython-input-1-cbe684456641>\u001b[0m in \u001b[0;36m<module>\u001b[0;34m()\u001b[0m\n\u001b[1;32m      8\u001b[0m \u001b[0mget_ipython\u001b[0m\u001b[0;34m(\u001b[0m\u001b[0;34m)\u001b[0m\u001b[0;34m.\u001b[0m\u001b[0mmagic\u001b[0m\u001b[0;34m(\u001b[0m\u001b[0;34mu'matplotlib inline'\u001b[0m\u001b[0;34m)\u001b[0m\u001b[0;34m\u001b[0m\u001b[0m\n\u001b[1;32m      9\u001b[0m \u001b[0;34m\u001b[0m\u001b[0m\n\u001b[0;32m---> 10\u001b[0;31m \u001b[0;32mfrom\u001b[0m \u001b[0mmdp_fns\u001b[0m \u001b[0;32mimport\u001b[0m \u001b[0;34m*\u001b[0m\u001b[0;34m\u001b[0m\u001b[0m\n\u001b[0m",
      "\u001b[0;31mImportError\u001b[0m: No module named mdp_fns"
     ]
    }
   ],
   "source": [
    "import tensorflow as tf\n",
    "import numpy as np\n",
    "import time\n",
    "from time import gmtime, strftime\n",
    "import random\n",
    "import matplotlib.pyplot as plt\n",
    "import pandas as pd\n",
    "%matplotlib inline \n",
    "\n",
    "from mdp_fns import *"
   ]
  },
  {
   "cell_type": "code",
   "execution_count": 3,
   "metadata": {
    "collapsed": true
   },
   "outputs": [],
   "source": [
    "## Functions for interacting with Tmaze environment \n",
    "## Only necessary for this task -- won't use for OpenAI gym tasks\n",
    "\n",
    "def reset_env():\n",
    "    # resetting environment for new trial\n",
    "    \n",
    "    # randomly choose starting location\n",
    "    start_loc = T_maze.all_loc[np.random.choice(7)]\n",
    "    T_maze.cur_state = State(start_loc, T_maze.tex_loc[start_loc]) \n",
    "    \n",
    "    # add new trial to the set with new initial state information\n",
    "    trialset.add_trial()\n",
    "    # create state vector to be passed to the network\n",
    "    initial_state = get_state(0)\n",
    "    \n",
    "    return initial_state\n",
    "\n",
    "def get_state(j):\n",
    "    state = make_state_vector(trialset.current_trial.events[j][1].loc, trialset.current_trial.events[j][1].tex, trialset.current_trial.events[j][2])\n",
    "    #print trialset.current_trial.events[j][1].tex\n",
    "    return np.reshape(state, (1,17))\n",
    "\n",
    "def get_loc(state):\n",
    "    loc_state = state[0:8]\n",
    "    a = np.argmax(loc_state)\n",
    "    return T_maze.all_loc[a]\n",
    "\n",
    "def test_options(sess, agt, loc):\n",
    "    if (loc == 'W2') or (loc == 'W1'):\n",
    "        tex = 'A'\n",
    "    elif (loc == 'E2') or (loc == 'E1'): \n",
    "        tex = 'B'\n",
    "    elif (loc == 'S2') or (loc == 'S1'):\n",
    "        tex = 'C'\n",
    "    else:\n",
    "        tex = 'null'\n",
    "        \n",
    "    make_vec = make_state_vector(loc, tex, 'N/A').reshape(1,17)\n",
    "    pol, val = sess.run([agt.policy, agt.value], feed_dict={agt.input_layer:make_vec})\n",
    "    \n",
    "    return pol, val"
   ]
  },
  {
   "cell_type": "code",
   "execution_count": 4,
   "metadata": {
    "collapsed": true
   },
   "outputs": [],
   "source": [
    "# Functions for making tensorflow graph objects for each layer\n",
    "def add_layer(namescope, inputs, in_size, out_size, activation_function=None):\n",
    "    inputs = tf.cast(inputs, tf.float32)\n",
    "    with tf.name_scope(namescope):\n",
    "        #w = tf.random_normal([in_size, out_size], mean=0, stddev=0.000001)\n",
    "        w = tf.zeros([in_size, out_size])\n",
    "        Weights = tf.Variable(w, dtype=tf.float32, name='weights')\n",
    "        biases = tf.Variable(tf.zeros([out_size]), dtype=tf.float32, name='biases')\n",
    "        Wx_plus_b = tf.matmul(inputs , Weights)+biases\n",
    "        if activation_function is None :\n",
    "            output = Wx_plus_b\n",
    "        else:\n",
    "            output = activation_function(Wx_plus_b)\n",
    "            \n",
    "    return output"
   ]
  },
  {
   "cell_type": "code",
   "execution_count": 5,
   "metadata": {
    "collapsed": true
   },
   "outputs": [],
   "source": [
    "# Functions for computing relevant terms for weight updates after trial runs\n",
    "def discount_rwds(r, gamma = 0.99): \n",
    "    disc_rwds = np.zeros_like(r)\n",
    "    running_add = 0\n",
    "    for t in reversed(xrange(0, r.size)): \n",
    "        running_add = running_add*gamma + r[t]\n",
    "        disc_rwds[t] = running_add\n",
    "    return disc_rwds"
   ]
  },
  {
   "cell_type": "code",
   "execution_count": 6,
   "metadata": {
    "collapsed": true
   },
   "outputs": [],
   "source": [
    "def running_mean(l, N):\n",
    "    sum = 0\n",
    "    result = list( 0 for x in l)\n",
    "\n",
    "    for i in range( 0, N ):\n",
    "        sum = sum + l[i]\n",
    "        result[i] = sum / (i+1)\n",
    "\n",
    "    for i in range( N, len(l) ):\n",
    "        sum = sum - l[i-N] + l[i]\n",
    "        result[i] = sum / N\n",
    "\n",
    "    return result"
   ]
  },
  {
   "cell_type": "code",
   "execution_count": 7,
   "metadata": {
    "collapsed": true
   },
   "outputs": [],
   "source": [
    "# Define Agent \n",
    "class agent():\n",
    "    def __init__(self, lr, dims):\n",
    "        # lr is learning rate\n",
    "        # dims is a list of dimensions of each layer [dimension_of_input, dim_of_hiddenlayer1, ... dim_of_hiddenlayerN, dim_of_output]\n",
    "        in_dim = dims[0]\n",
    "        out_dim = dims[-1]\n",
    "        \n",
    "        #These lines established the feed-forward part of the network. The agent takes a state and produces an action.\n",
    "        with tf.name_scope(\"Input\"):\n",
    "            self.input_layer = tf.placeholder(dtype = tf.float32, shape=[None, in_dim], name = 'state')\n",
    "        \n",
    "        # make hidden layers only if specified in dims list\n",
    "        if len(dims)>2:\n",
    "            hidden_layers = []\n",
    "            for i in range(len(dims)-2):\n",
    "                layername = \"H_\"+str(i+1)\n",
    "                if i == 0:\n",
    "                    hiddenlayer = add_layer(layername, self.input_layer, dims[i], dims[i+1], activation_function=tf.nn.relu)\n",
    "                else:\n",
    "                    hiddenlayer = add_layer(layername, hidden_layers[-1], dims[i], dims[i+1], activation_function=tf.nn.relu)\n",
    "                hidden_layers.append(hiddenlayer)\n",
    "\n",
    "            self.policy = add_layer(\"Policy\", hidden_layers[-1], dims[-2], out_dim, activation_function = tf.nn.softmax)\n",
    "            self.value  = add_layer(\"Value\", hidden_layers[-1], dims[-2], 1, activation_function=None)\n",
    "        # if dims only has input/output dimension, connect output layer directly to input\n",
    "        # using this right now for testing\n",
    "        else:\n",
    "            self.policy = add_layer(\"Policy\", self.input_layer, in_dim, out_dim, activation_function = tf.nn.softmax)\n",
    "            self.value  = add_layer(\"Value\", self.input_layer, in_dim, 1, activation_function=None)\n",
    "        \n",
    "        \n",
    "        # make variable lists to specify to tensorflow which variables to update with which gradients\n",
    "        self.policy_vars = tf.get_collection(key=tf.GraphKeys.TRAINABLE_VARIABLES, scope=\"Layer1\")+tf.get_collection(key=tf.GraphKeys.TRAINABLE_VARIABLES, scope=\"Layer2\")+tf.get_collection(key=tf.GraphKeys.TRAINABLE_VARIABLES, scope=\"Policy\")\n",
    "        self.value_vars = tf.get_collection(key=tf.GraphKeys.TRAINABLE_VARIABLES, scope=\"Layer1\")+tf.get_collection(key=tf.GraphKeys.TRAINABLE_VARIABLES, scope=\"Layer2\")+tf.get_collection(key=tf.GraphKeys.TRAINABLE_VARIABLES, scope=\"Value\")\n",
    "        #list of all variables, not used -- may take out later\n",
    "        self.tvars = tf.trainable_variables()\n",
    "        \n",
    "        #The next six lines establish the training proceedure. We feed the return and chosen action into the network\n",
    "        #to compute the loss, and use it to update the network.\n",
    "        with tf.name_scope(\"Loss\"):\n",
    "            self.return_holder = tf.placeholder(shape=[None],dtype=tf.float32)\n",
    "            self.action_holder = tf.placeholder(shape=[None],dtype=tf.int32)\n",
    "\n",
    "            self.indexes = tf.range(0, tf.shape(self.policy)[0]) * tf.shape(self.policy)[1] + self.action_holder\n",
    "            self.responsible_outputs = tf.gather(tf.reshape(self.policy, [-1]), self.indexes)\n",
    "            # calculate reward prediction errors\n",
    "            self.rpe = self.return_holder - self.value\n",
    "            \n",
    "            self.actor_loss = -tf.reduce_mean(tf.log(self.responsible_outputs)*self.rpe)\n",
    "            self.critic_loss = 0.5 * tf.reduce_mean(tf.square(self.rpe))\n",
    "\n",
    "        with tf.name_scope(\"Training\"):\n",
    "            # make placeholders to store gradients -- maybe a clunky way to do this but will become useful later\n",
    "            # rather than feeding gradients directly to the apply gradients operation\n",
    "            self.p_gradient_holders = []\n",
    "            self.v_gradient_holders = []\n",
    "            for idx,var in enumerate(self.policy_vars):\n",
    "                placeholder = tf.placeholder(tf.float32,name=str(idx)+'_p_holder')\n",
    "                self.p_gradient_holders.append(placeholder)\n",
    "\n",
    "            for idx,var in enumerate(self.value_vars):\n",
    "                placeholder = tf.placeholder(tf.float32,name=str(idx)+'_v_holder')\n",
    "                self.v_gradient_holders.append(placeholder)\n",
    "            \n",
    "            # specifiy which training we are going to do for policy\n",
    "            pol_trainer = tf.train.GradientDescentOptimizer(learning_rate=lr)\n",
    "            \n",
    "            # calculate gradients for policy loss only on policy variables\n",
    "            self.get_pol_grads = tf.gradients(self.actor_loss, self.policy_vars)\n",
    "            # op for updating policy gradients\n",
    "            self.update_pol = pol_trainer.apply_gradients(zip(self.p_gradient_holders, self.policy_vars))\n",
    "            \n",
    "            # specifiy which training we are going to do for value\n",
    "            val_trainer = tf.train.GradientDescentOptimizer(learning_rate=0.1*lr)\n",
    "            # calulate gradients for value loss\n",
    "            self.get_val_grads = tf.gradients(self.critic_loss, self.value_vars)\n",
    "            # op for updating value gradients\n",
    "            self.update_val = val_trainer.apply_gradients(zip(self.v_gradient_holders, self.value_vars)) "
   ]
  },
  {
   "cell_type": "code",
   "execution_count": 8,
   "metadata": {},
   "outputs": [
    {
     "name": "stdout",
     "output_type": "stream",
     "text": [
      " =========== \n",
      " Number of Trials in Set is: 20000 (Events per Trial 300 )\n",
      " ===========\n"
     ]
    }
   ],
   "source": [
    "#=====================\n",
    "# Training Parameters\n",
    "#=====================\n",
    "NUM_TRIALS = 20000\n",
    "NUM_EVENTS = 300\n",
    "\n",
    "discount_factor = 0.98\n",
    "port_shift = 'none'\n",
    "\n",
    "#gradient descent learning rate\n",
    "eta = 1e-2\n",
    "\n",
    "# Create T maze environment\n",
    "T_maze = Environment(shift = port_shift)\n",
    "trialset = Trial_Set(T_maze, total_trials=NUM_TRIALS, num_events=NUM_EVENTS)"
   ]
  },
  {
   "cell_type": "code",
   "execution_count": 9,
   "metadata": {},
   "outputs": [
    {
     "name": "stderr",
     "output_type": "stream",
     "text": [
      "/usr/local/lib/python2.7/dist-packages/tensorflow/python/ops/gradients_impl.py:93: UserWarning: Converting sparse IndexedSlices to a dense Tensor of unknown shape. This may consume a large amount of memory.\n",
      "  \"Converting sparse IndexedSlices to a dense Tensor of unknown shape. \"\n"
     ]
    },
    {
     "name": "stdout",
     "output_type": "stream",
     "text": [
      "Wed, 27 Sep 2017 12:00:26 +0000\n",
      "Trial 0 finished in 0.124. Total reward = 6 (Avg 0.020) Block took 0.124\n",
      "Trial 1 finished in 0.080. Total reward = 3 (Avg 0.010) Block took 0.081\n",
      "Trial 2000 finished in 0.078. Total reward = 202 (Avg 0.673) Block took 176.397\n",
      "Trial 4000 finished in 0.081. Total reward = 254 (Avg 0.847) Block took 167.373\n",
      "Trial 6000 finished in 0.078. Total reward = 264 (Avg 0.880) Block took 165.240\n",
      "Trial 8000 finished in 0.081. Total reward = 228 (Avg 0.760) Block took 164.507\n",
      "Trial 10000 finished in 0.078. Total reward = 253 (Avg 0.843) Block took 181.481\n",
      "Trial 12000 finished in 0.100. Total reward = 225 (Avg 0.750) Block took 162.227\n",
      "Trial 14000 finished in 0.080. Total reward = 85 (Avg 0.283) Block took 170.070\n",
      "Trial 16000 finished in 0.085. Total reward = 201 (Avg 0.670) Block took 170.190\n",
      "Trial 18000 finished in 0.083. Total reward = 257 (Avg 0.857) Block took 183.235\n",
      "Trial 19999 finished in 0.084. Total reward = 267 (Avg 0.890) Block took 174.304\n"
     ]
    }
   ],
   "source": [
    "# Single run \n",
    "\n",
    "tf.reset_default_graph()\n",
    "\n",
    "dims = [17,50,6]\n",
    "myAgent = agent(lr=eta, dims=dims)\n",
    "tf.summary.FileWriter('./outputs/maze3/', graph=tf.get_default_graph())\n",
    "\n",
    "print_freq = 1./10\n",
    "init = tf.global_variables_initializer()\n",
    "\n",
    "\n",
    "\n",
    "with tf.Session() as sess:\n",
    "    sess.run(init)\n",
    "    \n",
    "    pGrad_buf = sess.run(myAgent.policy_vars)\n",
    "    vGrad_buf = sess.run(myAgent.value_vars)\n",
    "\n",
    "    total_reward = []\n",
    "    total_loss = [[],[]]\n",
    "\n",
    "    dataframe2 = []\n",
    "    blocktime = time.time()\n",
    "    \n",
    "    \n",
    "    print strftime(\"%a, %d %b %Y %H:%M:%S +0000\", time.localtime())\n",
    "    for i in xrange(NUM_TRIALS):\n",
    "        start_time = time.time()\n",
    "\n",
    "        _ep_buffer = []\n",
    "        reward_sum = 0\n",
    "\n",
    "        # reset gradient buffers\n",
    "        for ix,grad in enumerate(pGrad_buf):\n",
    "            pGrad_buf[ix] = grad * 0\n",
    "        for ix,grad in enumerate(vGrad_buf):\n",
    "            vGrad_buf[ix] = grad * 0\n",
    "\n",
    "        # get starting point of the environment\n",
    "        state = reset_env()\n",
    "        starting_point = get_loc(state)\n",
    "\n",
    "        for j in xrange(NUM_EVENTS): \n",
    "            # get policy and value estimate in order to select next action\n",
    "            tfprob_, val_ = sess.run([myAgent.policy, myAgent.value], feed_dict={myAgent.input_layer:state})\n",
    "\n",
    "            # process tensorflow lists to get right shape\n",
    "            tfprob = tfprob_[0]\n",
    "            val = val_[0][0]\n",
    "\n",
    "            # select action\n",
    "            choice = np.random.choice(np.arange(len(tfprob)), 1, p=tfprob)[0]\n",
    "\n",
    "            action = T_maze.all_actions[choice]\n",
    "            trialset.current_trial.add_event(action)\n",
    "\n",
    "            # get new state of the environment and reward from action \n",
    "            if j < NUM_EVENTS:\n",
    "                next_state = get_state(j+1)\n",
    "\n",
    "            rwd = T_maze.rwd\n",
    "\n",
    "            # store buffer of agents experiences so that later we can calulate returns/etc. backwards through time\n",
    "            _ep_buffer.append([state,choice,rwd,next_state, val])\n",
    "\n",
    "            # update state\n",
    "            state = next_state\n",
    "\n",
    "            reward_sum += rwd\n",
    "\n",
    "        # make data storage useable type \n",
    "        _ep_buffer = np.array(_ep_buffer)\n",
    "        # compute returns\n",
    "        _returns = discount_rwds(_ep_buffer[:,2], gamma=discount_factor)\n",
    "\n",
    "        feed_dict = {myAgent.return_holder:_returns, myAgent.action_holder:_ep_buffer[:,1], myAgent.input_layer:np.vstack(_ep_buffer[:,0])}\n",
    "\n",
    "        # calculate gradients using the information stored in the episode buffer\n",
    "        # computed returns (backward through time)\n",
    "        # which actions were taken gives which policy unit was responsible (so grads are computed properly)\n",
    "        # pass states agent was in at each timestep through the network again to recompute the value and policy (for gradients computation in tf)\n",
    "        a_loss, c_loss = sess.run([myAgent.actor_loss, myAgent.critic_loss], feed_dict=feed_dict)\n",
    "        p_grads, v_grads = sess.run([myAgent.get_pol_grads, myAgent.get_val_grads], feed_dict=feed_dict)\n",
    "        \n",
    "        total_loss[0].append(a_loss)\n",
    "        total_loss[1].append(c_loss)\n",
    "        \n",
    "        # store gradients in gradient buffers -- not necessary for the current formulation but will be more flexible for later\n",
    "        # sorry for the additional complication \n",
    "        for idx, grad in enumerate(p_grads):\n",
    "            pGrad_buf[idx] += grad\n",
    "\n",
    "        for idx, grad in enumerate(v_grads):\n",
    "            vGrad_buf[idx] += grad\n",
    "\n",
    "        feed_dict = dict(zip(myAgent.p_gradient_holders, pGrad_buf)+zip(myAgent.v_gradient_holders, vGrad_buf))\n",
    "\n",
    "        # run gradient update operations \n",
    "        _, __ = sess.run([myAgent.update_pol, myAgent.update_val], feed_dict = feed_dict)\n",
    "\n",
    "        total_reward.append(reward_sum)\n",
    "\n",
    "        ## this code was my own just for debugging/optimizing parameters -- not necessary for task but you can see some interesting things\n",
    "        # this runs each state through the network once as an example to see what the computed policy and value is for each state\n",
    "        # at the end of each trial \n",
    "        for k in T_maze.all_loc:\n",
    "            t_pol, t_val = test_options(sess, myAgent, k)\n",
    "            dataframe2.append([k, np.array(t_pol[0],dtype=object), np.array(t_val[0])])\n",
    "        dataframe2.append([['-----'],[0,0,0,0,0,0],[0]])\n",
    "        \n",
    "        # print reward measure\n",
    "        if i==1 or i%(print_freq*NUM_TRIALS)==0 or i == NUM_TRIALS-1: \n",
    "            print \"Trial {0} finished in {1:.3f}. Total reward = {2} (Avg {3:.3f})\".format(i, time.time()-start_time, reward_sum, float(reward_sum)/float(NUM_EVENTS)),\n",
    "            print \"Block took {0:.3f}\".format(time.time()-blocktime)\n",
    "            blocktime = time.time()\n"
   ]
  },
  {
   "cell_type": "code",
   "execution_count": 10,
   "metadata": {
    "scrolled": true
   },
   "outputs": [
    {
     "data": {
      "image/png": "[encoded data removed]",
      "text/plain": [
       "<matplotlib.figure.Figure at 0x7f59f0376bd0>"
      ]
     },
     "metadata": {},
     "output_type": "display_data"
    }
   ],
   "source": [
    "plt.plot(total_reward, 'b', label='Trial Reward')\n",
    "plt.plot(running_mean(total_reward, 100), 'r', label='Average Reward \\nper 100 trials')\n",
    "plt.ylim([0, NUM_EVENTS*1.05])\n",
    "plt.legend(loc=0)\n",
    "plt.savefig('./Verenaplots/{}reward.svg'.format(NUM_TRIALS), format='svg')\n",
    "#plt.show()"
   ]
  },
  {
   "cell_type": "code",
   "execution_count": 11,
   "metadata": {
    "collapsed": true
   },
   "outputs": [],
   "source": [
    "pd_2 = pd.DataFrame(np.array(dataframe2, dtype=object), columns=['state','policy', 'value'])\n",
    "end_index = NUM_TRIALS*8\n"
   ]
  },
  {
   "cell_type": "code",
   "execution_count": 14,
   "metadata": {},
   "outputs": [
    {
     "name": "stdout",
     "output_type": "stream",
     "text": [
      "[[ 32.81647491  32.81647491  32.81647491  32.81647491  32.81647491]\n",
      " [         nan          nan  32.81647491          nan          nan]\n",
      " [         nan          nan  32.81647491          nan          nan]]\n"
     ]
    },
    {
     "name": "stderr",
     "output_type": "stream",
     "text": [
      "/usr/lib/python2.7/dist-packages/matplotlib/colors.py:581: RuntimeWarning: invalid value encountered in less\n",
      "  cbook._putmask(xa, xa < 0.0, -1)\n"
     ]
    },
    {
     "data": {
      "image/png": "[encoded data removed]",
      "text/plain": [
       "<matplotlib.figure.Figure at 0x7f58cee29350>"
      ]
     },
     "metadata": {},
     "output_type": "display_data"
    }
   ],
   "source": [
    "final_values = np.vstack(pd_2.loc[end_index-8:end_index-2, 'value'])\n",
    "states = pd_2.loc[end_index-8:end_index-2, 'state']\n",
    "\n",
    "val_array = np.full_like(np.zeros((3,5)), np.nan, dtype=np.double)\n",
    "#val_array = np.zeros((3,5))\n",
    "val_array[0][2] = final_values[0]#/final_values.max()\n",
    "val_array[0][1] = final_values[1]#/final_values.max()\n",
    "val_array[0][0] = final_values[2]#/final_values.max()\n",
    "val_array[0][3] = final_values[3]#/final_values.max()\n",
    "val_array[0][4] = final_values[4]#/final_values.max()\n",
    "val_array[1][2] = final_values[5]#/final_values.max()\n",
    "val_array[2][2] = final_values[6]#/final_values.max()\n",
    "\n",
    "print val_array\n",
    "\n",
    "#plt.imshow(val_array, interpolation='none', cmap='bwr')\n",
    "x = np.arange(6)\n",
    "y = np.array([3,2,1,0])\n",
    "\n",
    "ax = plt.pcolor(x,y, val_array,cmap='jet', vmax=np.nanmax(val_array), vmin= np.nanmin(val_array) )\n",
    "ax.cmap.set_under('white')\n",
    "plt.axis('off')\n",
    "plt.colorbar(ax)\n",
    "\n",
    "plt.axis('equal')\n",
    "plt.axis('off')\n",
    "\n",
    "plt.savefig('./Verenaplots/{}valuemap.svg'.format(end_index/8), format='svg')\n",
    "\n",
    "#pd_2.to_csv('../outputs/maze2/expt_2.csv')"
   ]
  },
  {
   "cell_type": "code",
   "execution_count": 15,
   "metadata": {},
   "outputs": [
    {
     "name": "stdout",
     "output_type": "stream",
     "text": [
      "[  4000   8000  32000  64000 112000 160000] 160000\n"
     ]
    },
    {
     "data": {
      "image/png": "[encoded data removed]",
      "text/plain": [
       "<matplotlib.figure.Figure at 0x7f58cee6a490>"
      ]
     },
     "metadata": {},
     "output_type": "display_data"
    }
   ],
   "source": [
    "x = np.arange(6)\n",
    "y = np.array([3,2,1,0])\n",
    "\n",
    "nrows = 2\n",
    "ncols = 3\n",
    "\n",
    "fig,axes = plt.subplots(nrows=nrows, ncols=ncols)\n",
    "start_trial = 100\n",
    "start_index = start_trial*8\n",
    "\n",
    "test = np.linspace(start_trial, NUM_TRIALS, nrows*ncols, dtype = int)\n",
    "test = np.array([500, 1000, 4000, 8000, 14000, 20000])\n",
    "test = test*8\n",
    "\n",
    "print test, end_index\n",
    "\n",
    "for num, ax in enumerate(axes.flat):\n",
    "    cyc_index = test[num]\n",
    "    \n",
    "    final_values = np.vstack(pd_2.loc[cyc_index-8:cyc_index-2, 'value'])\n",
    "    states = pd_2.loc[cyc_index-8:cyc_index-2, 'state']\n",
    "\n",
    "    val_array = np.full_like(np.zeros((3,5)), np.nan, dtype=np.double)\n",
    "    #val_array = np.zeros((3,5))\n",
    "    val_array[0][2] = final_values[0]#/final_values.max()\n",
    "    val_array[0][1] = final_values[1]#/final_values.max()\n",
    "    val_array[0][0] = final_values[2]#/final_values.max()\n",
    "    val_array[0][3] = final_values[3]#/final_values.max()\n",
    "    val_array[0][4] = final_values[4]#/final_values.max()\n",
    "    val_array[1][2] = final_values[5]#/final_values.max()\n",
    "    val_array[2][2] = final_values[6]#/final_values.max()\n",
    "    \n",
    "    im = ax.pcolor(x,y, val_array,cmap='jet', vmax= 35, vmin = 0)\n",
    "    ax.set_title('{}'.format(cyc_index/8), y=0.8)\n",
    "    ax.axis('off')\n",
    "    ax.axis('equal')\n",
    "    \n",
    "fig.subplots_adjust(right=0.8)\n",
    "cbar_ax = fig.add_axes([0.85, 0.15, 0.05, 0.7])\n",
    "fig.colorbar(im, cax=cbar_ax)\n",
    "\n",
    "\n",
    "\n",
    "\n",
    "\n",
    "#plt.imshow(val_array, interpolation='none', cmap='bwr')\n",
    "\n",
    "\n",
    "\n",
    "\n",
    "\n",
    "plt.savefig('./Verenaplots/{}valuemap_set.svg'.format(end_index/8), format='svg')\n",
    "\n",
    "#pd_2.to_csv('../outputs/maze2/expt_2.csv')"
   ]
  },
  {
   "cell_type": "code",
   "execution_count": 16,
   "metadata": {},
   "outputs": [
    {
     "data": {
      "image/png": "[encoded data removed]",
      "text/plain": [
       "<matplotlib.figure.Figure at 0x7f58ce7c1950>"
      ]
     },
     "metadata": {},
     "output_type": "display_data"
    }
   ],
   "source": [
    "### plotting for debugging\n",
    "# don't judge how ridiculously kludgy this code is \n",
    "pd_home = pd_2.loc[pd_2['state']=='HOME']['policy'].reset_index(drop=True)\n",
    "pd_e1 = pd_2.loc[pd_2['state']=='E1']['policy'].reset_index(drop=True)\n",
    "pd_e2 = pd_2.loc[pd_2['state']=='E2']['policy'].reset_index(drop=True)\n",
    "pd_w1 = pd_2.loc[pd_2['state']=='W1']['policy'].reset_index(drop=True)\n",
    "pd_w2 = pd_2.loc[pd_2['state']=='W2']['policy'].reset_index(drop=True)\n",
    "pd_s1 = pd_2.loc[pd_2['state']=='S1']['policy'].reset_index(drop=True)\n",
    "pd_s2 = pd_2.loc[pd_2['state']=='S2']['policy'].reset_index(drop=True)\n",
    "\n",
    "home_ = [[],[],[],[],[],[]]\n",
    "e1_ = [[],[],[],[],[],[]]\n",
    "e2_ = [[],[],[],[],[],[]]\n",
    "s1_ = [[],[],[],[],[],[]]\n",
    "s2_ = [[],[],[],[],[],[]]\n",
    "w1_ = [[],[],[],[],[],[]]\n",
    "w2_ = [[],[],[],[],[],[]]\n",
    "\n",
    "\n",
    "for i in xrange(NUM_TRIALS):\n",
    "    for j in range(6):\n",
    "        home_[j].append(pd_home[i][j])\n",
    "        e1_[j].append(pd_e1[i][j])\n",
    "        e2_[j].append(pd_e2[i][j])\n",
    "        w1_[j].append(pd_w1[i][j])\n",
    "        w2_[j].append(pd_w2[i][j])\n",
    "        s1_[j].append(pd_s1[i][j])\n",
    "        s2_[j].append(pd_s2[i][j])\n",
    "\n",
    "\n",
    "\n",
    "fig, axarr = plt.subplots(3,5)\n",
    "for ix, tag in enumerate(T_maze.all_actions):\n",
    "    axarr[0, 0].plot(w2_[ix], label=tag)\n",
    "\n",
    "    axarr[0, 1].plot(w1_[ix], label=tag)\n",
    "\n",
    "    axarr[0, 2].plot(home_[ix], label=tag)\n",
    "\n",
    "    axarr[0, 3].plot(e1_[ix], label=tag)\n",
    "\n",
    "    axarr[0, 4].plot(e2_[ix], label=tag)\n",
    "\n",
    "    axarr[1, 2].plot(s1_[ix], label=tag)\n",
    "\n",
    "    axarr[2, 2].plot(s2_[ix], label=tag)\n",
    "\n",
    "plt.xticks([])\n",
    "plt.yticks([])\n",
    "\n",
    "axarr[1,0].axis('off')\n",
    "axarr[1,1].axis('off')\n",
    "axarr[2,0].axis('off')\n",
    "axarr[2,1].axis('off')\n",
    "axarr[-2,-2].axis('off')\n",
    "axarr[-1,-2].axis('off')\n",
    "axarr[-2,-1].axis('off')\n",
    "axarr[-1,-1].axis('off')\n",
    "\n",
    "axarr[0, 0].set_title('W2')\n",
    "axarr[0, 1].set_title('W1')\n",
    "axarr[0, 2].set_title('HOME')\n",
    "axarr[0, 3].set_title('E1')\n",
    "axarr[0, 4].set_title('E2')\n",
    "axarr[1, 2].set_title('S1')\n",
    "axarr[2, 2].set_title('S2')\n",
    "\n",
    "axarr[0,0].set_ylim([0,1])\n",
    "axarr[0,1].set_ylim([0,1])\n",
    "axarr[0,2].set_ylim([0,1])\n",
    "axarr[0,3].set_ylim([0,1])\n",
    "axarr[0,4].set_ylim([0,1])\n",
    "axarr[1,2].set_ylim([0,1])\n",
    "axarr[2,2].set_ylim([0,1])\n",
    "\n",
    "for i in range(3):\n",
    "    for j in range(5):\n",
    "        if i == 2 and j == 2:\n",
    "            axarr[i,j].set_xticklabels([0,'', \"\",\"\",\"\", NUM_TRIALS])\n",
    "            pass\n",
    "        else:\n",
    "            axarr[i,j].set_xticklabels([])\n",
    "            axarr[i,j].set_yticklabels([])\n",
    "        \n",
    "    \n",
    "\n",
    "axarr[0,0].legend(loc='center left', bbox_to_anchor=(0.55, -1.5))\n",
    "plt.savefig('./Verenaplots/{}trials.svg'.format(NUM_TRIALS), format='svg')"
   ]
  },
  {
   "cell_type": "code",
   "execution_count": 84,
   "metadata": {},
   "outputs": [
    {
     "ename": "NameError",
     "evalue": "name 'average_over_attempts' is not defined",
     "output_type": "error",
     "traceback": [
      "\u001b[0;31m---------------------------------------------------------------------------\u001b[0m",
      "\u001b[0;31mNameError\u001b[0m                                 Traceback (most recent call last)",
      "\u001b[0;32m<ipython-input-84-1fcd0c1d6104>\u001b[0m in \u001b[0;36m<module>\u001b[0;34m()\u001b[0m\n\u001b[0;32m----> 1\u001b[0;31m \u001b[0mpd_3\u001b[0m \u001b[0;34m=\u001b[0m \u001b[0mpd\u001b[0m\u001b[0;34m.\u001b[0m\u001b[0mDataFrame\u001b[0m\u001b[0;34m(\u001b[0m\u001b[0mnp\u001b[0m\u001b[0;34m.\u001b[0m\u001b[0marray\u001b[0m\u001b[0;34m(\u001b[0m\u001b[0maverage_over_attempts\u001b[0m\u001b[0;34m)\u001b[0m\u001b[0;34m.\u001b[0m\u001b[0mT\u001b[0m\u001b[0;34m,\u001b[0m \u001b[0mdtype\u001b[0m\u001b[0;34m=\u001b[0m\u001b[0mobject\u001b[0m\u001b[0;34m,\u001b[0m \u001b[0mcolumns\u001b[0m\u001b[0;34m=\u001b[0m\u001b[0;34m[\u001b[0m\u001b[0;34m'50 Events'\u001b[0m\u001b[0;34m,\u001b[0m \u001b[0;34m'150 Events'\u001b[0m\u001b[0;34m,\u001b[0m \u001b[0;34m'250 Events'\u001b[0m\u001b[0;34m,\u001b[0m \u001b[0;34m'350 Events'\u001b[0m\u001b[0;34m,\u001b[0m \u001b[0;34m'450 Events'\u001b[0m\u001b[0;34m]\u001b[0m\u001b[0;34m)\u001b[0m\u001b[0;34m\u001b[0m\u001b[0m\n\u001b[0m\u001b[1;32m      2\u001b[0m \u001b[0mpd_3\u001b[0m\u001b[0;34m.\u001b[0m\u001b[0mto_csv\u001b[0m\u001b[0;34m(\u001b[0m\u001b[0;34m'./outputs/maze3/numevents_test.csv'\u001b[0m\u001b[0;34m)\u001b[0m\u001b[0;34m\u001b[0m\u001b[0m\n",
      "\u001b[0;31mNameError\u001b[0m: name 'average_over_attempts' is not defined"
     ]
    }
   ],
   "source": [
    "pd_3 = pd.DataFrame(np.array(average_over_attempts).T, dtype=object, columns=['50 Events', '150 Events', '250 Events', '350 Events', '450 Events'])\n",
    "pd_3.to_csv('./outputs/maze3/numevents_test.csv')"
   ]
  },
  {
   "cell_type": "code",
   "execution_count": 83,
   "metadata": {},
   "outputs": [
    {
     "ename": "NameError",
     "evalue": "name 'average_over_attempts' is not defined",
     "output_type": "error",
     "traceback": [
      "\u001b[0;31m---------------------------------------------------------------------------\u001b[0m",
      "\u001b[0;31mNameError\u001b[0m                                 Traceback (most recent call last)",
      "\u001b[0;32m<ipython-input-83-286a6a44bfb5>\u001b[0m in \u001b[0;36m<module>\u001b[0;34m()\u001b[0m\n\u001b[1;32m      3\u001b[0m \u001b[0meventslist\u001b[0m \u001b[0;34m=\u001b[0m \u001b[0;34m[\u001b[0m\u001b[0;36m50\u001b[0m\u001b[0;34m,\u001b[0m \u001b[0;36m150\u001b[0m\u001b[0;34m,\u001b[0m \u001b[0;36m250\u001b[0m\u001b[0;34m,\u001b[0m \u001b[0;36m350\u001b[0m\u001b[0;34m,\u001b[0m \u001b[0;36m450\u001b[0m\u001b[0;34m]\u001b[0m\u001b[0;34m\u001b[0m\u001b[0m\n\u001b[1;32m      4\u001b[0m \u001b[0mcolorlist\u001b[0m \u001b[0;34m=\u001b[0m \u001b[0;34m[\u001b[0m\u001b[0;34m'b'\u001b[0m\u001b[0;34m,\u001b[0m\u001b[0;34m'r'\u001b[0m\u001b[0;34m,\u001b[0m\u001b[0;34m'g'\u001b[0m\u001b[0;34m,\u001b[0m\u001b[0;34m'c'\u001b[0m\u001b[0;34m,\u001b[0m\u001b[0;34m'k'\u001b[0m\u001b[0;34m]\u001b[0m\u001b[0;34m\u001b[0m\u001b[0m\n\u001b[0;32m----> 5\u001b[0;31m \u001b[0mnorm50\u001b[0m \u001b[0;34m=\u001b[0m \u001b[0;34m[\u001b[0m\u001b[0mfloat\u001b[0m\u001b[0;34m(\u001b[0m\u001b[0ma\u001b[0m\u001b[0;34m)\u001b[0m\u001b[0;34m/\u001b[0m\u001b[0;36m50\u001b[0m \u001b[0;32mfor\u001b[0m \u001b[0ma\u001b[0m \u001b[0;32min\u001b[0m \u001b[0maverage_over_attempts\u001b[0m\u001b[0;34m[\u001b[0m\u001b[0;36m0\u001b[0m\u001b[0;34m]\u001b[0m\u001b[0;34m]\u001b[0m\u001b[0;34m\u001b[0m\u001b[0m\n\u001b[0m\u001b[1;32m      6\u001b[0m \u001b[0;32mprint\u001b[0m \u001b[0mnorm50\u001b[0m\u001b[0;34m[\u001b[0m\u001b[0;36m100\u001b[0m\u001b[0;34m:\u001b[0m\u001b[0;36m150\u001b[0m\u001b[0;34m]\u001b[0m\u001b[0;34m\u001b[0m\u001b[0m\n\u001b[1;32m      7\u001b[0m \u001b[0;34m\u001b[0m\u001b[0m\n",
      "\u001b[0;31mNameError\u001b[0m: name 'average_over_attempts' is not defined"
     ]
    }
   ],
   "source": [
    "## load in data from numevents_test.csv \n",
    "\n",
    "eventslist = [50, 150, 250, 350, 450]\n",
    "colorlist = ['b','r','g','c','k']\n",
    "norm50 = [float(a)/50 for a in average_over_attempts[0]]\n",
    "print norm50[100:150]\n",
    "\n",
    "for i in xrange(3):#len(average_over_attempts)):\n",
    "    i=i+2\n",
    "    norm_list = [float(a)/eventslist[i] for a in average_over_attempts[i]]\n",
    "    calc_r_mean = running_mean(norm_list, 75)\n",
    "    plt.plot(norm_list, colorlist[i], alpha=0.1)\n",
    "    plt.plot(calc_r_mean, colorlist[i], alpha=1, label = str(eventslist[i])+\" Events\")\n",
    "plt.ylabel(\"Proportion of Available Rewards Achieved\")\n",
    "plt.xlabel(\"Trial Number\")\n",
    "plt.legend(loc=0)\n",
    "plt.show()"
   ]
  },
  {
   "cell_type": "code",
   "execution_count": 17,
   "metadata": {},
   "outputs": [
    {
     "data": {
      "image/png": "[encoded data removed]",
      "text/plain": [
       "<matplotlib.figure.Figure at 0x7f58d4788bd0>"
      ]
     },
     "metadata": {},
     "output_type": "display_data"
    }
   ],
   "source": [
    "''' ################### What the heck is going on here?? Critic loss goes up \n",
    "'''\n",
    "plt.plot(running_mean(total_loss[0], 75), 'b', label=\"Actor\")\n",
    "plt.plot(running_mean(total_loss[1], 75), 'g', label=\"Critic\") \n",
    "plt.legend(loc=0)\n",
    "plt.savefig('./Verenaplots/dif_lr_{}lossmeasures'.format(NUM_TRIALS))\n",
    "plt.show()"
   ]
  },
  {
   "cell_type": "code",
   "execution_count": null,
   "metadata": {
    "collapsed": true
   },
   "outputs": [],
   "source": []
  },
  {
   "cell_type": "code",
   "execution_count": null,
   "metadata": {
    "collapsed": true
   },
   "outputs": [],
   "source": []
  },
  {
   "cell_type": "code",
   "execution_count": null,
   "metadata": {
    "collapsed": true
   },
   "outputs": [],
   "source": []
  },
  {
   "cell_type": "code",
   "execution_count": null,
   "metadata": {
    "collapsed": true
   },
   "outputs": [],
   "source": [
    "### Multiple runs to average over \n",
    "'''\n",
    "############### DO NOT RUN UNLESS AVERAGING PERFORMANCE OVER MANY RUNS ##############################\n",
    "############################ TAKES A LOOOOOOONG TIME ################################################\n",
    "'''\n",
    "tf.reset_default_graph()\n",
    "\n",
    "dims = [17,6]\n",
    "myAgent = agent(lr=1e-2, dims=dims)\n",
    "tf.summary.FileWriter('./outputs/maze3/', graph=tf.get_default_graph())\n",
    "\n",
    "print_freq = 1./10\n",
    "init = tf.global_variables_initializer()\n",
    "\n",
    "NUM_ATTEMPTS = 5\n",
    "average_over_attempts = []\n",
    "\n",
    "with tf.Session() as sess:\n",
    "    for attempt in xrange(NUM_ATTEMPTS):\n",
    "        NUM_EVENTS = 100*attempt + 50\n",
    "        print \"attempt #{}, {} Events per trial\".format(attempt+1, NUM_EVENTS)\n",
    "        sess.run(init)\n",
    "        \n",
    "        pGrad_buf = sess.run(myAgent.policy_vars)\n",
    "        vGrad_buf = sess.run(myAgent.value_vars)\n",
    "\n",
    "        total_reward = []\n",
    "        total_loss = []\n",
    "\n",
    "        dataframe2 = []\n",
    "        blocktime = time.time()\n",
    "\n",
    "        for i in xrange(NUM_TRIALS):\n",
    "            start_time = time.time()\n",
    "\n",
    "            _ep_buffer = []\n",
    "            reward_sum = 0\n",
    "\n",
    "            # reset gradient buffers\n",
    "            for ix,grad in enumerate(pGrad_buf):\n",
    "                pGrad_buf[ix] = grad * 0\n",
    "            for ix,grad in enumerate(vGrad_buf):\n",
    "                vGrad_buf[ix] = grad * 0\n",
    "\n",
    "            # get starting point of the environment\n",
    "            state = reset_env()\n",
    "            starting_point = get_loc(state)\n",
    "\n",
    "            for j in xrange(NUM_EVENTS): \n",
    "                # get policy and value estimate in order to select next action\n",
    "                tfprob_, val_ = sess.run([myAgent.policy, myAgent.value], feed_dict={myAgent.input_layer:state})\n",
    "\n",
    "                # process tensorflow lists to get right shape\n",
    "                tfprob = tfprob_[0]\n",
    "                val = val_[0][0]\n",
    "\n",
    "                # select action\n",
    "                choice = np.random.choice(np.arange(len(tfprob)), 1, p=tfprob)[0]\n",
    "\n",
    "                action = T_maze.all_actions[choice]\n",
    "                trialset.current_trial.add_event(action)\n",
    "\n",
    "                # get new state of the environment and reward from action \n",
    "                if j < NUM_EVENTS:\n",
    "                    next_state = get_state(j+1)\n",
    "\n",
    "                rwd = T_maze.rwd\n",
    "\n",
    "                # store buffer of agents experiences so that later we can calulate returns/etc. backwards through time\n",
    "                _ep_buffer.append([state,choice,rwd,next_state, val])\n",
    "\n",
    "                # update state\n",
    "                state = next_state\n",
    "\n",
    "                reward_sum += rwd\n",
    "\n",
    "            # make data storage useable type \n",
    "            _ep_buffer = np.array(_ep_buffer)\n",
    "            # compute returns\n",
    "            _returns = discount_rwds(_ep_buffer[:,2], gamma=discount_factor)\n",
    "\n",
    "            feed_dict = {myAgent.return_holder:_returns, myAgent.action_holder:_ep_buffer[:,1], myAgent.input_layer:np.vstack(_ep_buffer[:,0])}\n",
    "\n",
    "            # calculate gradients using the information stored in the episode buffer\n",
    "            # computed returns (backward through time)\n",
    "            # which actions were taken gives which policy unit was responsible (so grads are computed properly)\n",
    "            # pass states agent was in at each timestep through the network again to recompute the value and policy (for gradients computation in tf)\n",
    "            p_grads, v_grads = sess.run([myAgent.get_pol_grads, myAgent.get_val_grads], feed_dict=feed_dict)\n",
    "\n",
    "            # store gradients in gradient buffers -- not necessary for the current formulation but will be more flexible for later\n",
    "            # sorry for the additional complication \n",
    "            for idx, grad in enumerate(p_grads):\n",
    "                pGrad_buf[idx] += grad\n",
    "\n",
    "            for idx, grad in enumerate(v_grads):\n",
    "                vGrad_buf[idx] += grad\n",
    "\n",
    "            feed_dict = dict(zip(myAgent.p_gradient_holders, pGrad_buf)+zip(myAgent.v_gradient_holders, vGrad_buf))\n",
    "\n",
    "            # run gradient update operations \n",
    "            _, __ = sess.run([myAgent.update_pol, myAgent.update_val], feed_dict = feed_dict)\n",
    "\n",
    "            total_reward.append(reward_sum)\n",
    "\n",
    "            ## this code was my own just for debugging/optimizing parameters -- not necessary for task but you can see some interesting things\n",
    "            # this runs each state through the network once as an example to see what the computed policy and value is for each state\n",
    "            # at the end of each trial \n",
    "            for k in T_maze.all_loc:\n",
    "                t_pol, t_val = test_options(sess, myAgent, k)\n",
    "                dataframe2.append([k, np.array(t_pol[0],dtype=object), np.array(t_val[0])])\n",
    "            dataframe2.append([['-----'],[0,0,0,0,0,0],[0]])\n",
    "\n",
    "            # print reward measure\n",
    "            if i==0 or i%(print_freq*NUM_TRIALS)==0 or i == NUM_TRIALS-1: \n",
    "                print \"Trial {0} finished in {1:.3f}. Total reward = {2} (Avg {3:.3f})\".format(i+1, time.time()-start_time, reward_sum, float(reward_sum)/float(NUM_EVENTS)),\n",
    "                print \"Block took {0:.3f}\".format(time.time()-blocktime)\n",
    "                blocktime = time.time()\n",
    "        average_over_attempts.append(total_reward)"
   ]
  }
 ],
 "metadata": {
  "kernelspec": {
   "display_name": "Python 2",
   "language": "python",
   "name": "python2"
  },
  "language_info": {
   "codemirror_mode": {
    "name": "ipython",
    "version": 2
   },
   "file_extension": ".py",
   "mimetype": "text/x-python",
   "name": "python",
   "nbconvert_exporter": "python",
   "pygments_lexer": "ipython2",
   "version": "2.7.12"
  }
 },
 "nbformat": 4,
 "nbformat_minor": 2
}
