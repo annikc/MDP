{
 "cells": [
  {
   "cell_type": "code",
   "execution_count": 2,
   "metadata": {},
   "outputs": [],
   "source": [
    "from __future__ import division\n",
    "\n",
    "from modules import * \n",
    "%matplotlib inline "
   ]
  },
  {
   "cell_type": "code",
   "execution_count": 3,
   "metadata": {},
   "outputs": [
    {
     "data": {
      "image/png": "[encoded data removed]",
      "text/plain": [
       "<matplotlib.figure.Figure at 0x7fe7044dc410>"
      ]
     },
     "metadata": {},
     "output_type": "display_data"
    }
   ],
   "source": [
    "#make environment\n",
    "maze = eu.gridworld([eu.height, eu.width],\n",
    "                    rho        = eu.obs_rho,\n",
    "                    num_pc     = eu.place_cells, \n",
    "                    pc_fwhm    = eu.fwhm, \n",
    "                    maze_type  = eu.mazetype, \n",
    "                    port_shift = eu.portshift)\n",
    "#show environment\n",
    "eu.make_env_plots(maze,1,0)\n",
    "\n",
    "## test out gridworld wrapper. \n",
    "env = eu.gymworld(maze)"
   ]
  },
  {
   "cell_type": "code",
   "execution_count": null,
   "metadata": {},
   "outputs": [],
   "source": [
    "# MF module parameters\n",
    "dims = [env.observation_space.shape[0],100,50,env.action_space.n]\n",
    "MF = mf.AC_Net(dims)\n",
    "discount_factor = 0.98\n",
    "\n",
    "#learning parameters\n",
    "eta = 5e-4 #gradient descent learning rate\n",
    "opt = mf.optim.Adam(MF.parameters(), lr = eta)\n",
    "\n",
    "# EC module parameters\n",
    "EC = ec.ep_mem(MF,50)\n",
    "\n",
    "#----------------\n",
    "# Run Parameters\n",
    "#----------------\n",
    "#trial parameters\n",
    "NUM_TRIALS = 1\n",
    "NUM_EVENTS = 200"
   ]
  },
  {
   "cell_type": "code",
   "execution_count": null,
   "metadata": {},
   "outputs": [],
   "source": [
    "# prime run parameters\n",
    "EC.reset_cache()\n",
    "reward = env.reward\n",
    "timestamp = 0"
   ]
  },
  {
   "cell_type": "code",
   "execution_count": null,
   "metadata": {},
   "outputs": [],
   "source": [
    "# set up runtime, blocktime, print run started\n",
    "\n",
    "#==================================\n",
    "# Run Trial\n",
    "#==================================\n",
    "for trial in xrange(NUM_TRIALS):\n",
    "    # prime trial\n",
    "    state = Variable(torch.FloatTensor(env.reset()))\n",
    "    reward_sum = 0\n",
    "    v_last = 0\n",
    "    trial_start = time.time()\n",
    "    \n",
    "    for event in xrange(NUM_EVENTS):\n",
    "        # pass state through MF module\n",
    "        policy_MF, value_ = MF(state)\n",
    "        \n",
    "        \n",
    "        # pass state through EC module\n",
    "        policy_EC = EC.recall_mem(state.data[0],reward)\n",
    "        \n",
    "        # get policy composed of MF and EC outputs\n",
    "        policy_ = EC.composite_policy(policy_MF, policy_EC)\n",
    "        \n",
    "        choice, policy, value = mf.select_action_end(MF,policy_, value_)\n",
    "        choice_prob = policy[choice]\n",
    "        \n",
    "        if event < NUM_EVENTS: \n",
    "            next_state, reward, done, info = env.step(choice)\n",
    "        \n",
    "        MF.rewards.append(reward)\n",
    "        # update state\n",
    "        state = Variable(torch.FloatTensor(next_state))\n",
    "        \n",
    "        #compute eligibility trace/rpe approximation\n",
    "        delta = reward - value - v_last\n",
    "        \n",
    "        print policy_MF.shape, policy_EC.shape\n",
    "        #add event to memory cache\n",
    "        EC.add_mem(tuple(next_state[0]), choice, delta, timestamp)\n",
    "        ### is it supposed to be current state?? \n",
    "        reward_sum += reward\n",
    "        v_last = value\n",
    "        \n",
    "        timestamp += 1\n",
    "        "
   ]
  },
  {
   "cell_type": "code",
   "execution_count": null,
   "metadata": {},
   "outputs": [],
   "source": []
  },
  {
   "cell_type": "code",
   "execution_count": null,
   "metadata": {},
   "outputs": [],
   "source": []
  }
 ],
 "metadata": {
  "kernelspec": {
   "display_name": "Python 2",
   "language": "python",
   "name": "python2"
  },
  "language_info": {
   "codemirror_mode": {
    "name": "ipython",
    "version": 2
   },
   "file_extension": ".py",
   "mimetype": "text/x-python",
   "name": "python",
   "nbconvert_exporter": "python",
   "pygments_lexer": "ipython2",
   "version": "2.7.12"
  }
 },
 "nbformat": 4,
 "nbformat_minor": 2
}
