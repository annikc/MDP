{
 "cells": [
  {
   "cell_type": "code",
   "execution_count": 1,
   "metadata": {},
   "outputs": [],
   "source": [
    "from __future__ import division\n",
    "\n",
    "from modules import * \n",
    "%matplotlib inline "
   ]
  },
  {
   "cell_type": "code",
   "execution_count": 2,
   "metadata": {},
   "outputs": [
    {
     "data": {
      "image/png": "[encoded data removed]",
      "text/plain": [
       "<matplotlib.figure.Figure at 0x7fe9d1afec90>"
      ]
     },
     "metadata": {},
     "output_type": "display_data"
    }
   ],
   "source": [
    "y_new = 7\n",
    "x_new = 7\n",
    "eu.height = y_new\n",
    "eu.width = x_new\n",
    "#make environment\n",
    "maze = eu.gridworld([eu.height, eu.width],\n",
    "                    rho        = eu.obs_rho,\n",
    "                    num_pc     = eu.place_cells, \n",
    "                    pc_fwhm    = eu.fwhm, \n",
    "                    maze_type  = 'none', \n",
    "                    port_shift = eu.portshift)\n",
    "\n",
    "#maze.rwd_loc.append((np.random.randint(x_new), np.random.randint(y_new)))\n",
    "#maze.rwd_loc.append((np.random.randint(x_new), np.random.randint(y_new)))\n",
    "#maze.rwd_loc.append((np.random.randint(x_new), np.random.randint(y_new)))\n",
    "\n",
    "for i in maze.rwd_loc: \n",
    "    maze.orig_rwd_loc.append(i)\n",
    "#show environment\n",
    "eu.make_env_plots(maze,1,0)\n",
    "\n",
    "## test out gridworld wrapper. \n",
    "env = eu.gymworld(maze)"
   ]
  },
  {
   "cell_type": "code",
   "execution_count": 3,
   "metadata": {},
   "outputs": [],
   "source": [
    "# MF module parameters\n",
    "dims = [env.observation_space.shape[0],env.action_space.n]\n",
    "#use h1 =400\n",
    "MF = mf.AC_Net(dims)\n",
    "discount_factor = 0.98\n",
    "\n",
    "#learning parameters\n",
    "eta = 5e-4 #gradient descent learning rate\n",
    "opt = mf.optim.Adam(MF.parameters(), lr = eta)\n",
    "\n",
    "# EC module parameters\n",
    "## memory limit should be ~75% of #actions x #states\n",
    "EC = ec.ep_mem(MF,int(0.75*np.prod(maze.grid.shape)*env.action_space.n))\n",
    "use_EC = False\n",
    "#----------------\n",
    "# Run Parameters\n",
    "#----------------\n",
    "#trial parameters\n",
    "NUM_TRIALS = 7000\n",
    "NUM_EVENTS = 300"
   ]
  },
  {
   "cell_type": "code",
   "execution_count": 4,
   "metadata": {},
   "outputs": [
    {
     "name": "stdout",
     "output_type": "stream",
     "text": [
      "[(2, 1)]\n",
      "False\n"
     ]
    }
   ],
   "source": [
    "print maze.rwd_loc\n",
    "print use_EC\n",
    "\n",
    "\n",
    "def make_OH(action):\n",
    "    onehot = np.zeros(6)\n",
    "    onehot[action] = 1\n",
    "    return onehot"
   ]
  },
  {
   "cell_type": "code",
   "execution_count": 18,
   "metadata": {
    "scrolled": true
   },
   "outputs": [
    {
     "name": "stdout",
     "output_type": "stream",
     "text": [
      "Run started:  Wed, 16 May 2018 15:43:55\n"
     ]
    },
    {
     "name": "stderr",
     "output_type": "stream",
     "text": [
      "/usr/local/lib/python2.7/dist-packages/ipykernel_launcher.py:100: RuntimeWarning: Mean of empty slice.\n"
     ]
    },
    {
     "name": "stdout",
     "output_type": "stream",
     "text": [
      "Trial 0 total reward = 285 (Avg 0.950) Block took 0.347\n",
      " \t Started Memory at Trial  1\n"
     ]
    },
    {
     "ename": "KeyboardInterrupt",
     "evalue": "",
     "output_type": "error",
     "traceback": [
      "\u001b[0;31m---------------------------------------------------------------------------\u001b[0m",
      "\u001b[0;31mKeyboardInterrupt\u001b[0m                         Traceback (most recent call last)",
      "\u001b[0;32m<ipython-input-18-46ec399cb4b7>\u001b[0m in \u001b[0;36m<module>\u001b[0;34m()\u001b[0m\n\u001b[1;32m     82\u001b[0m             \u001b[0madd_mem_dict\u001b[0m\u001b[0;34m[\u001b[0m\u001b[0;34m'timestamp'\u001b[0m\u001b[0;34m]\u001b[0m \u001b[0;34m=\u001b[0m \u001b[0mtimestamp\u001b[0m\u001b[0;34m\u001b[0m\u001b[0m\n\u001b[1;32m     83\u001b[0m \u001b[0;34m\u001b[0m\u001b[0m\n\u001b[0;32m---> 84\u001b[0;31m             \u001b[0mEC\u001b[0m\u001b[0;34m.\u001b[0m\u001b[0madd_mem\u001b[0m\u001b[0;34m(\u001b[0m\u001b[0madd_mem_dict\u001b[0m\u001b[0;34m,\u001b[0m\u001b[0mmixing\u001b[0m\u001b[0;34m=\u001b[0m\u001b[0mFalse\u001b[0m\u001b[0;34m)\u001b[0m\u001b[0;34m\u001b[0m\u001b[0m\n\u001b[0m\u001b[1;32m     85\u001b[0m \u001b[0;34m\u001b[0m\u001b[0m\n\u001b[1;32m     86\u001b[0m         \u001b[0;31m# update state\u001b[0m\u001b[0;34m\u001b[0m\u001b[0;34m\u001b[0m\u001b[0m\n",
      "\u001b[0;32m/home/annik/Dropbox/LINC Lab Documents/Research/MDP/Gridworld/EC.pyc\u001b[0m in \u001b[0;36madd_mem\u001b[0;34m(self, add_mem_args, **kwargs)\u001b[0m\n\u001b[1;32m    123\u001b[0m                         \u001b[0;31m# replace neighbour with lowest persistence\u001b[0m\u001b[0;34m\u001b[0m\u001b[0;34m\u001b[0m\u001b[0m\n\u001b[1;32m    124\u001b[0m                         \u001b[0;31m# no item closer than threshold, replace item in all mem with lowest persistence\u001b[0m\u001b[0;34m\u001b[0m\u001b[0;34m\u001b[0m\u001b[0m\n\u001b[0;32m--> 125\u001b[0;31m                         \u001b[0mact_keys\u001b[0m\u001b[0;34m,\u001b[0m \u001b[0mdistances\u001b[0m \u001b[0;34m=\u001b[0m \u001b[0mself\u001b[0m\u001b[0;34m.\u001b[0m\u001b[0mmem_knn\u001b[0m\u001b[0;34m(\u001b[0m\u001b[0mactivity\u001b[0m\u001b[0;34m)\u001b[0m\u001b[0;34m\u001b[0m\u001b[0m\n\u001b[0m\u001b[1;32m    126\u001b[0m \u001b[0;34m\u001b[0m\u001b[0m\n\u001b[1;32m    127\u001b[0m                         \u001b[0;32mif\u001b[0m \u001b[0mlen\u001b[0m\u001b[0;34m(\u001b[0m\u001b[0mact_keys\u001b[0m\u001b[0;34m)\u001b[0m \u001b[0;34m>\u001b[0m \u001b[0;36m0\u001b[0m\u001b[0;34m:\u001b[0m\u001b[0;34m\u001b[0m\u001b[0m\n",
      "\u001b[0;32m/home/annik/Dropbox/LINC Lab Documents/Research/MDP/Gridworld/EC.pyc\u001b[0m in \u001b[0;36mmem_knn\u001b[0;34m(self, entry, **kwargs)\u001b[0m\n\u001b[1;32m     65\u001b[0m                 \u001b[0mactivities\u001b[0m \u001b[0;34m=\u001b[0m \u001b[0mself\u001b[0m\u001b[0;34m.\u001b[0m\u001b[0mcache_list\u001b[0m\u001b[0;34m.\u001b[0m\u001b[0mkeys\u001b[0m\u001b[0;34m(\u001b[0m\u001b[0;34m)\u001b[0m\u001b[0;34m\u001b[0m\u001b[0m\n\u001b[1;32m     66\u001b[0m                 \u001b[0;32mif\u001b[0m \u001b[0mlen\u001b[0m\u001b[0;34m(\u001b[0m\u001b[0mself\u001b[0m\u001b[0;34m.\u001b[0m\u001b[0mcache_list\u001b[0m\u001b[0;34m.\u001b[0m\u001b[0mkeys\u001b[0m\u001b[0;34m(\u001b[0m\u001b[0;34m)\u001b[0m\u001b[0;34m)\u001b[0m\u001b[0;34m>\u001b[0m\u001b[0mk\u001b[0m\u001b[0;34m:\u001b[0m\u001b[0;34m\u001b[0m\u001b[0m\n\u001b[0;32m---> 67\u001b[0;31m                         \u001b[0mnbrs\u001b[0m               \u001b[0;34m=\u001b[0m \u001b[0mNearestNeighbors\u001b[0m\u001b[0;34m(\u001b[0m\u001b[0mn_neighbors\u001b[0m\u001b[0;34m=\u001b[0m\u001b[0mk\u001b[0m\u001b[0;34m,\u001b[0m \u001b[0malgorithm\u001b[0m\u001b[0;34m=\u001b[0m\u001b[0;34m'auto'\u001b[0m\u001b[0;34m)\u001b[0m\u001b[0;34m.\u001b[0m\u001b[0mfit\u001b[0m\u001b[0;34m(\u001b[0m\u001b[0mactivities\u001b[0m\u001b[0;34m)\u001b[0m\u001b[0;34m\u001b[0m\u001b[0m\n\u001b[0m\u001b[1;32m     68\u001b[0m                         \u001b[0mdistances\u001b[0m\u001b[0;34m,\u001b[0m \u001b[0mindices\u001b[0m \u001b[0;34m=\u001b[0m \u001b[0mnbrs\u001b[0m\u001b[0;34m.\u001b[0m\u001b[0mkneighbors\u001b[0m\u001b[0;34m(\u001b[0m\u001b[0;34m[\u001b[0m\u001b[0mentry\u001b[0m\u001b[0;34m]\u001b[0m\u001b[0;34m)\u001b[0m\u001b[0;34m\u001b[0m\u001b[0m\n\u001b[1;32m     69\u001b[0m                         \u001b[0mindices\u001b[0m            \u001b[0;34m=\u001b[0m \u001b[0mindices\u001b[0m\u001b[0;34m[\u001b[0m\u001b[0;36m0\u001b[0m\u001b[0;34m]\u001b[0m\u001b[0;34m[\u001b[0m\u001b[0mdistances\u001b[0m\u001b[0;34m[\u001b[0m\u001b[0;36m0\u001b[0m\u001b[0;34m]\u001b[0m \u001b[0;34m<\u001b[0m \u001b[0mdistance_threshold\u001b[0m\u001b[0;34m]\u001b[0m\u001b[0;34m\u001b[0m\u001b[0m\n",
      "\u001b[0;32m/usr/local/lib/python2.7/dist-packages/sklearn/neighbors/base.pyc\u001b[0m in \u001b[0;36mfit\u001b[0;34m(self, X, y)\u001b[0m\n\u001b[1;32m    801\u001b[0m             \u001b[0;32mor\u001b[0m \u001b[0;34m[\u001b[0m\u001b[0mn_samples\u001b[0m\u001b[0;34m,\u001b[0m \u001b[0mn_samples\u001b[0m\u001b[0;34m]\u001b[0m \u001b[0;32mif\u001b[0m \u001b[0mmetric\u001b[0m\u001b[0;34m=\u001b[0m\u001b[0;34m'precomputed'\u001b[0m\u001b[0;34m.\u001b[0m\u001b[0;34m\u001b[0m\u001b[0m\n\u001b[1;32m    802\u001b[0m         \"\"\"\n\u001b[0;32m--> 803\u001b[0;31m         \u001b[0;32mreturn\u001b[0m \u001b[0mself\u001b[0m\u001b[0;34m.\u001b[0m\u001b[0m_fit\u001b[0m\u001b[0;34m(\u001b[0m\u001b[0mX\u001b[0m\u001b[0;34m)\u001b[0m\u001b[0;34m\u001b[0m\u001b[0m\n\u001b[0m",
      "\u001b[0;32m/usr/local/lib/python2.7/dist-packages/sklearn/neighbors/base.pyc\u001b[0m in \u001b[0;36m_fit\u001b[0;34m(self, X)\u001b[0m\n\u001b[1;32m    246\u001b[0m             self._tree = KDTree(X, self.leaf_size,\n\u001b[1;32m    247\u001b[0m                                 \u001b[0mmetric\u001b[0m\u001b[0;34m=\u001b[0m\u001b[0mself\u001b[0m\u001b[0;34m.\u001b[0m\u001b[0meffective_metric_\u001b[0m\u001b[0;34m,\u001b[0m\u001b[0;34m\u001b[0m\u001b[0m\n\u001b[0;32m--> 248\u001b[0;31m                                 **self.effective_metric_params_)\n\u001b[0m\u001b[1;32m    249\u001b[0m         \u001b[0;32melif\u001b[0m \u001b[0mself\u001b[0m\u001b[0;34m.\u001b[0m\u001b[0m_fit_method\u001b[0m \u001b[0;34m==\u001b[0m \u001b[0;34m'brute'\u001b[0m\u001b[0;34m:\u001b[0m\u001b[0;34m\u001b[0m\u001b[0m\n\u001b[1;32m    250\u001b[0m             \u001b[0mself\u001b[0m\u001b[0;34m.\u001b[0m\u001b[0m_tree\u001b[0m \u001b[0;34m=\u001b[0m \u001b[0mNone\u001b[0m\u001b[0;34m\u001b[0m\u001b[0m\n",
      "\u001b[0;32msklearn/neighbors/binary_tree.pxi\u001b[0m in \u001b[0;36msklearn.neighbors.kd_tree.BinaryTree.__init__\u001b[0;34m()\u001b[0m\n",
      "\u001b[0;32m/usr/local/lib/python2.7/dist-packages/numpy/core/numeric.pyc\u001b[0m in \u001b[0;36masarray\u001b[0;34m(a, dtype, order)\u001b[0m\n\u001b[1;32m    422\u001b[0m \u001b[0;34m\u001b[0m\u001b[0m\n\u001b[1;32m    423\u001b[0m \u001b[0;34m\u001b[0m\u001b[0m\n\u001b[0;32m--> 424\u001b[0;31m \u001b[0;32mdef\u001b[0m \u001b[0masarray\u001b[0m\u001b[0;34m(\u001b[0m\u001b[0ma\u001b[0m\u001b[0;34m,\u001b[0m \u001b[0mdtype\u001b[0m\u001b[0;34m=\u001b[0m\u001b[0mNone\u001b[0m\u001b[0;34m,\u001b[0m \u001b[0morder\u001b[0m\u001b[0;34m=\u001b[0m\u001b[0mNone\u001b[0m\u001b[0;34m)\u001b[0m\u001b[0;34m:\u001b[0m\u001b[0;34m\u001b[0m\u001b[0m\n\u001b[0m\u001b[1;32m    425\u001b[0m     \"\"\"Convert the input to an array.\n\u001b[1;32m    426\u001b[0m \u001b[0;34m\u001b[0m\u001b[0m\n",
      "\u001b[0;31mKeyboardInterrupt\u001b[0m: "
     ]
    }
   ],
   "source": [
    "# prime run parameters\n",
    "EC.reset_cache()\n",
    "reward = env.reward\n",
    "timestamp = 0\n",
    "\n",
    "# set up runtime, blocktime, print run started\n",
    "# data frames for value and policy maps\n",
    "val_maps = []\n",
    "total_loss = [[],[]]\n",
    "total_reward = []\n",
    "print_freq = 1/10\n",
    "check_EC_pols = []\n",
    "rec_maps= False\n",
    "#reset agent policy/value maps\n",
    "value_map = maze.empty_map\n",
    "# record current time before beginning of trial\n",
    "print \"Run started: \", time.strftime(\"%a, %d %b %Y %H:%M:%S\", time.localtime())\n",
    "runtime = time.time()\n",
    "blocktime = time.time()\n",
    "reward_tally = {}\n",
    "for _ in maze.rwd_loc:\n",
    "    reward_tally[_] = []\n",
    "occ_list = []\n",
    "\n",
    "rwd_threshold = True\n",
    "trial_rwd_switch = 0\n",
    "add_mem_dict = {}\n",
    "\n",
    "track_policy_dict = {}\n",
    "\n",
    "record_occupancy = False\n",
    "track_confidence_score = [[],[]]\n",
    "#==================================\n",
    "# Run Trial\n",
    "#==================================\n",
    "EC.reward_unseen = True \n",
    "for trial in xrange(NUM_TRIALS):\n",
    "    \n",
    "    # prime trial\n",
    "    state = Variable(torch.FloatTensor(env.reset()))\n",
    "    reward_sum = 0\n",
    "    v_last = 0\n",
    "    reward_last = 0 \n",
    "    trial_start = time.time()\n",
    "    #if record_occupancy:\n",
    "    #    occupancy = np.zeros((eu.height, eu.width))\n",
    "    \n",
    "    for event in xrange(NUM_EVENTS):\n",
    "        #if record_occupancy:\n",
    "        #    occupancy[maze.cur_state[1], maze.cur_state[0]] += 1\n",
    "            \n",
    "        \n",
    "        # pass state through MF module\n",
    "        policy_, value_ = MF(state)\n",
    "        \n",
    "        # pass state through EC module\n",
    "        # get policy composed of MF and EC outputs\n",
    "        if use_EC:\n",
    "            add_mem_dict['state'] = maze.cur_state\n",
    "            #policy_EC = EC.recall_mem(tuple(state.data[0]))\n",
    "            #policy_ = EC.composite_policy(policy_, policy_EC,reward)\n",
    "        \n",
    "        choice, policy, value = mf.select_action_end(MF,policy_, value_)\n",
    "        \n",
    "        track_policy_dict[maze.cur_state] = policy, timestamp\n",
    "        choice_prob = policy[choice]\n",
    "        \n",
    "        if event < NUM_EVENTS: \n",
    "            next_state, reward, done, info = env.step(choice)\n",
    "        \n",
    "        MF.rewards.append(reward)\n",
    "                \n",
    "        #compute eligibility trace/rpe approximation\n",
    "        delta = reward_last + discount_factor*value - v_last\n",
    "        \n",
    "        if use_EC:\n",
    "            #add event to memory cache\n",
    "            \n",
    "            add_mem_dict['activity'] = tuple(state.data[0])\n",
    "            add_mem_dict['action'] = choice\n",
    "            add_mem_dict['delta'] = delta\n",
    "            add_mem_dict['timestamp'] = timestamp\n",
    "            \n",
    "            EC.add_mem(add_mem_dict,mixing=False)\n",
    "        \n",
    "        # update state\n",
    "        state = Variable(torch.FloatTensor(next_state))\n",
    "        \n",
    "        ### is it supposed to be current state?? \n",
    "        reward_sum += reward\n",
    "        reward_last = reward\n",
    "        track_confidence_score[0].append(reward)\n",
    "        track_confidence_score[1].append(EC.confidence_score)\n",
    "        EC.compute_confidence(reward)\n",
    "        \n",
    "        v_last = value\n",
    "        \n",
    "        timestamp += 1\n",
    "        \n",
    "    if np.array(total_reward[-50:]).mean() > 260:\n",
    "        if rwd_threshold:\n",
    "            print \" \\t Started Memory at Trial \", trial\n",
    "            maxsums = {}\n",
    "            for item in reward_tally.items():\n",
    "                maxsums[item[0]] = sum(item[1])\n",
    "            most_rewarded_location = max(maxsums.iteritems(), key=operator.itemgetter(1))[0] \n",
    "            #maze.rwd_loc.remove(most_rewarded_location)\n",
    "            #print \"removed reward at \", most_rewarded_location\n",
    "            rwd_threshold = False\n",
    "            use_EC = True\n",
    "            trial_rwd_switch = trial\n",
    "\n",
    "            \n",
    "    #if (trial_rwd_switch!=0) and (trial == trial_rwd_switch + 1000):\n",
    "        #maze.rwd_loc.append(most_rewarded_location)\n",
    "   \n",
    "    #--- AT end of trial, update weights     \n",
    "    value_map = mf.generate_values(maze,MF,None)\n",
    "    if use_EC:\n",
    "        policy_map = mf.generate_values(maze, MF, EC)\n",
    "        rec_maps = True\n",
    "        \n",
    "    p_loss, v_loss = mf.finish_trial(MF, discount_factor,opt)\n",
    "    total_loss[0].append(p_loss.data[0])\n",
    "    total_loss[1].append(v_loss.data[0])\n",
    "    total_reward.append(reward_sum)\n",
    "\n",
    "    val_maps.append(value_map.copy())\n",
    "    \n",
    "    if rec_maps:\n",
    "        check_EC_pols.append(policy_map.copy())\n",
    "    for item in maze.reward_tally.items():\n",
    "        reward_tally[item[0]].append(item[1])\n",
    "    \n",
    "    #if record_occupancy:\n",
    "    #    occ_list.append(occupancy.copy())\n",
    "    \n",
    "    # print reward measure\n",
    "    if trial%(print_freq*NUM_TRIALS)==0 or trial == NUM_TRIALS-1: \n",
    "        print \"Trial {0} total reward = {1} (Avg {2:.3f})\".format(trial, reward_sum, float(reward_sum)/float(NUM_EVENTS)), \"Block took {0:.3f}\".format(time.time()-blocktime)\n",
    "        blocktime = time.time() \n",
    "    \n",
    "print \"Run took {0:.3f}\".format(time.time()-runtime)"
   ]
  },
  {
   "cell_type": "code",
   "execution_count": 20,
   "metadata": {},
   "outputs": [
    {
     "data": {
      "image/png": "[encoded data removed]",
      "text/plain": [
       "<matplotlib.figure.Figure at 0x7fe9c7b3c950>"
      ]
     },
     "metadata": {},
     "output_type": "display_data"
    }
   ],
   "source": [
    "plt.figure()\n",
    "plt.plot(track_confidence_score[0], 'r', label='rwd')\n",
    "plt.plot(track_confidence_score[1], 'b', label='cs')\n",
    "plt.legend(loc=0)\n",
    "plt.xlim([0, 8000])\n",
    "\n",
    "plt.show()\n",
    "plt.close()"
   ]
  },
  {
   "cell_type": "code",
   "execution_count": null,
   "metadata": {},
   "outputs": [],
   "source": [
    "plt.figure(0)\n",
    "plt.plot(total_loss[0], label='ploss')\n",
    "plt.plot(total_loss[1], label='vloss')\n",
    "plt.legend(loc=0)\n",
    "\n",
    "plt.figure(1)\n",
    "plt.plot(total_reward, label='rwd')\n",
    "plt.xlabel(\"Number of Trials\")\n",
    "plt.ylabel(\"Total Reward per Trial\")\n",
    "plt.axvline(x=trial_rwd_switch, color='r')\n",
    "#plt.axvline(x=trial_rwd_switch+1000, color='r')\n",
    "\n",
    "#plt.xlim([0,14000])\n",
    "#plt.ylim([0,305])\n",
    "#plt.legend(loc=0)\n",
    "plt.show()"
   ]
  },
  {
   "cell_type": "code",
   "execution_count": null,
   "metadata": {},
   "outputs": [],
   "source": [
    "plt.figure(0)\n",
    "colours = ['b', 'g', 'r', 'c', 'm', 'y', 'k']\n",
    "for i,item in enumerate(maze.orig_rwd_loc):\n",
    "    plt.plot(reward_tally[item],colours[i], label=\"Port{}\".format(item), alpha = 0.5)\n",
    "#plt.plot(reward_tally[1],'g', label=\"Port2\", alpha = 0.5)\n",
    "#plt.plot(reward_tally[2],'r', label=\"Port3\", alpha = 0.5)\n",
    "plt.legend(loc=0)\n",
    "#plt.xlim([1700,2000])\n",
    "#plt.ylim([0,50])\n",
    "plt.show()\n",
    "plt.close()"
   ]
  },
  {
   "cell_type": "code",
   "execution_count": null,
   "metadata": {
    "scrolled": true
   },
   "outputs": [],
   "source": [
    "eu.print_value_maps(maze,val_maps)\n",
    "print maze.rwd_loc"
   ]
  },
  {
   "cell_type": "code",
   "execution_count": null,
   "metadata": {},
   "outputs": [],
   "source": []
  },
  {
   "cell_type": "code",
   "execution_count": null,
   "metadata": {},
   "outputs": [],
   "source": []
  },
  {
   "cell_type": "code",
   "execution_count": null,
   "metadata": {},
   "outputs": [],
   "source": [
    "# policy maps in memory\n",
    "import csv\n",
    "test_frame = [(v[2],v[0], v[1],eu.softmax(v[0]), maze.actionlist[np.argmax(eu.softmax(v[0]))], [x for _,x in sorted(zip(eu.softmax(v[0]),maze.actionlist), reverse=True)]) for (k,v) in EC.cache_list.items()]\n",
    "\n",
    "with open('mycsvfile.csv','wb') as f:\n",
    "    w = csv.writer(f)\n",
    "    w.writerows(test_frame)\n",
    "\n",
    "resultant_frame = {}\n",
    "for enum, i in enumerate(test_frame):\n",
    "    resultant_frame[i[0]] = test_frame[enum][1:]\n",
    "\n",
    "\n",
    "plt.figure()\n",
    "fig, ax = plt.subplots(maze.grid.shape[0], maze.grid.shape[1])\n",
    "cmap = plt.cm.Spectral_r\n",
    "cNorm  = colors.Normalize(vmin=0, vmax=1)\n",
    "scalarMap = cm.ScalarMappable(norm = cNorm, cmap=cmap)\n",
    "\n",
    "for i in test_frame:\n",
    "    state_loc = i[0]\n",
    "    av = i[1]\n",
    "    softmax = i[3] \n",
    "    \n",
    "    ax[state_loc[1], state_loc[0]].cla()\n",
    "    ax[state_loc[1], state_loc[0]].bar(np.arange(6), softmax)\n",
    "    arg_ = np.argmax(softmax)\n",
    "    if softmax[arg_] > 0.65:\n",
    "        dx1,dy1,_,__ = eu.make_arrows(arg_, softmax[arg_])\n",
    "        colorVal1 = scalarMap.to_rgba(softmax[arg_])\n",
    "        ax[state_loc[1], state_loc[0]].arrow(5,.5,dx1,dy1,head_width =0.4, head_length =0.4, color=colorVal1)\n",
    "    ax[state_loc[1], state_loc[0]].set_xticks([])\n",
    "    ax[state_loc[1], state_loc[0]].set_yticks([])\n",
    "    ax[state_loc[1], state_loc[0]].set_ylim([0,1])\n",
    "    if state_loc == maze.rwd_loc[0]:\n",
    "        ax[state_loc[1], state_loc[0]].annotate('R', xy=(0,0.5), color='r')\n",
    "\n",
    "plt.show()\n",
    "plt.close()\n",
    "    \n"
   ]
  },
  {
   "cell_type": "code",
   "execution_count": null,
   "metadata": {},
   "outputs": [],
   "source": [
    "#print len(track_policy_dict.items())\n",
    "#print track_policy_dict.keys()\n",
    "plt.figure(figsize=(50,50))\n",
    "colours = ['b', 'g', 'r', 'c', 'm', 'y', 'k']\n",
    "\n",
    "fig, ax = plt.subplots(maze.grid.shape[0],  maze.grid.shape[1])\n",
    "for i in track_policy_dict:\n",
    "    y_dim = i[0]\n",
    "    x_dim = i[1]\n",
    "    ax[i[1], i[0]].bar(np.arange(6), np.array(track_policy_dict[i][0]), label= track_policy_dict[i][1], alpha = 0.5, color='b') #what was generated by network\n",
    "    ax[i[1], i[0]].bar(np.arange(6)+0.25, resultant_frame[i][2], alpha=0.5, color='g')#comparable entry in memory\n",
    "    ax[i[1], i[0]].set_xticks([])\n",
    "    ax[i[1], i[0]].set_yticks([])\n",
    "    ax[i[1], i[0]].set_ylim([-1,1])\n",
    "    if i == maze.rwd_loc[0]:\n",
    "        ax[i[1], i[0]].annotate('R', xy=(0,0.5), color='r')\n",
    "plt.savefig('policies.svg', format='svg')\n",
    "plt.show()\n",
    "plt.close()"
   ]
  },
  {
   "cell_type": "code",
   "execution_count": null,
   "metadata": {
    "scrolled": true
   },
   "outputs": [],
   "source": [
    "plt.figure()\n",
    "fig, ax = plt.subplots(maze.grid.shape[0], maze.grid.shape[1])\n",
    "visits = np.zeros(maze.grid.shape)\n",
    "time__ = np.zeros(maze.grid.shape)\n",
    "colours = ['b', 'g', 'r', 'c', 'm', 'y', 'k']\n",
    "for i in test_frame:\n",
    "    state_loc = i[0]\n",
    "    av = i[1]\n",
    "    #time = i[2]\n",
    "    softmax = i[3]\n",
    "    \n",
    "    if i[2] > time__[state_loc[1],state_loc[0]]:\n",
    "        ax[state_loc[1], state_loc[0]].cla()\n",
    "        ax[state_loc[1], state_loc[0]].bar(np.arange(6), softmax, label=time, alpha = .8, color = colours[int(visits[state_loc[1],state_loc[0]])])\n",
    "        ax[state_loc[1], state_loc[0]].set_xticks([])\n",
    "        ax[state_loc[1], state_loc[0]].set_yticks([])\n",
    "        ax[state_loc[1], state_loc[0]].set_ylim([0,1])\n",
    "    else:\n",
    "        pass\n",
    "    \n",
    "    visits[state_loc[1],state_loc[0]] += 1\n",
    "    time__[state_loc[1],state_loc[0]] = i[2]\n",
    "    \n",
    "plt.savefig('no_h_policies.svg',format='svg')\n",
    "plt.show()\n",
    "plt.close()\n",
    "    \n"
   ]
  },
  {
   "cell_type": "code",
   "execution_count": null,
   "metadata": {},
   "outputs": [],
   "source": []
  },
  {
   "cell_type": "code",
   "execution_count": null,
   "metadata": {},
   "outputs": [],
   "source": []
  },
  {
   "cell_type": "code",
   "execution_count": null,
   "metadata": {},
   "outputs": [],
   "source": [
    "inde = 0\n",
    "plt.figure()\n",
    "plt.pcolor(occ_list[inde], cmap=\"Spectral_r\", vmin=0, vmax = 300)\n",
    "plt.gca().invert_yaxis()\n",
    "plt.axes().set_aspect('equal', 'datalim')\n",
    "plt.colorbar()\n",
    "plt.show()\n",
    "plt.close()"
   ]
  },
  {
   "cell_type": "code",
   "execution_count": null,
   "metadata": {},
   "outputs": [],
   "source": []
  },
  {
   "cell_type": "code",
   "execution_count": null,
   "metadata": {},
   "outputs": [],
   "source": [
    "plt.close()\n",
    "plt.figure()\n",
    "eu.width = 5\n",
    "eu.height = 5\n",
    "for j, iterable in enumerate(check_EC_pols):\n",
    "    if j < 25:\n",
    "        fig, ax = plt.subplots(eu.width,eu.height)\n",
    "        axes = np.ravel(ax)\n",
    "        data = np.ravel(check_EC_pols[j])\n",
    "        for i, item in enumerate(axes): \n",
    "            item.bar(np.arange(6), list(data[i]))\n",
    "            item.set_ylim([0,1])\n",
    "            item.set_yticks([])\n",
    "            item.set_xticks([])\n",
    "        plt.savefig('pol_tests/pol_test{}.svg'.format(j), format='svg')\n",
    "        plt.close()\n",
    "\n",
    "    elif j % 10 == 0: \n",
    "        fig, ax = plt.subplots(eu.height,eu.width)\n",
    "        axes = np.ravel(ax)\n",
    "        data = np.ravel(check_EC_pols[j])\n",
    "        for i, item in enumerate(axes): \n",
    "            item.bar(np.arange(6), list(data[i]))\n",
    "            item.set_ylim([0,1])\n",
    "            item.set_yticks([])\n",
    "            item.set_xticks([])\n",
    "        plt.savefig('pol_tests/pol_test{}.svg'.format(j), format='svg')\n",
    "        plt.close()\n",
    "#plt.show()"
   ]
  }
 ],
 "metadata": {
  "kernelspec": {
   "display_name": "Python 2",
   "language": "python",
   "name": "python2"
  },
  "language_info": {
   "codemirror_mode": {
    "name": "ipython",
    "version": 2
   },
   "file_extension": ".py",
   "mimetype": "text/x-python",
   "name": "python",
   "nbconvert_exporter": "python",
   "pygments_lexer": "ipython2",
   "version": "2.7.12"
  }
 },
 "nbformat": 4,
 "nbformat_minor": 2
}
