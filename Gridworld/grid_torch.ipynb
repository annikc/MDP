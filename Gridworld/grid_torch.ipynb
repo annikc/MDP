{
 "cells": [
  {
   "cell_type": "code",
   "execution_count": 1,
   "metadata": {
    "collapsed": true
   },
   "outputs": [],
   "source": [
    "from __future__ import division\n",
    "\n",
    "from modules import * \n",
    "%matplotlib inline "
   ]
  },
  {
   "cell_type": "code",
   "execution_count": 20,
   "metadata": {
    "collapsed": false
   },
   "outputs": [
    {
     "data": {
      "image/png": "[encoded data removed]",
      "text/plain": [
       "<matplotlib.figure.Figure at 0x7fdd31053d50>"
      ]
     },
     "metadata": {},
     "output_type": "display_data"
    }
   ],
   "source": [
    "y_new = 7\n",
    "x_new = 7\n",
    "eu.height = y_new\n",
    "eu.width = x_new\n",
    "#make environment\n",
    "maze = eu.gridworld([eu.height, eu.width],\n",
    "                    rho        = eu.obs_rho,\n",
    "                    num_pc     = eu.place_cells, \n",
    "                    pc_fwhm    = eu.fwhm, \n",
    "                    maze_type  = 'none', \n",
    "                    port_shift = eu.portshift)\n",
    "\n",
    "for i in maze.rwd_loc: \n",
    "    maze.orig_rwd_loc.append(i)\n",
    "#show environment\n",
    "eu.make_env_plots(maze,1,0)\n",
    "\n",
    "## test out gridworld wrapper. \n",
    "env = eu.gymworld(maze)"
   ]
  },
  {
   "cell_type": "code",
   "execution_count": 21,
   "metadata": {
    "collapsed": true
   },
   "outputs": [],
   "source": [
    "# MF module parameters\n",
    "dims = [env.observation_space.shape[0],env.action_space.n]\n",
    "MF = mf.AC_Net(dims)\n",
    "discount_factor = 0.98\n",
    "\n",
    "#learning parameters\n",
    "eta = 5e-4 #gradient descent learning rate\n",
    "opt = mf.optim.Adam(MF.parameters(), lr = eta)\n",
    "\n",
    "# EC module parameters\n",
    "## memory limit should be ~75% of #actions x #states\n",
    "EC = ec.ep_mem(MF,int(0.75*np.prod(maze.grid.shape)*env.action_space.n))\n",
    "use_EC = False\n",
    "#----------------\n",
    "# Run Parameters\n",
    "#----------------\n",
    "#trial parameters\n",
    "NUM_TRIALS = 7000\n",
    "NUM_EVENTS = 300"
   ]
  },
  {
   "cell_type": "code",
   "execution_count": 22,
   "metadata": {
    "collapsed": false,
    "scrolled": true
   },
   "outputs": [
    {
     "name": "stdout",
     "output_type": "stream",
     "text": [
      "Run started: \n",
      "[15:54:28]  Trial 0 total reward = 0 (Avg 0.000) Block took 0.171\n"
     ]
    },
    {
     "name": "stderr",
     "output_type": "stream",
     "text": [
      "/usr/lib/python2.7/dist-packages/numpy/core/_methods.py:59: RuntimeWarning: Mean of empty slice.\n",
      "  warnings.warn(\"Mean of empty slice.\", RuntimeWarning)\n",
      "/usr/lib/python2.7/dist-packages/numpy/core/_methods.py:70: RuntimeWarning: invalid value encountered in double_scalars\n",
      "  ret = ret.dtype.type(ret / rcount)\n"
     ]
    },
    {
     "name": "stdout",
     "output_type": "stream",
     "text": [
      " \t Started Memory at Trial  332\n",
      "[16:03:19]  Trial 700 total reward = 274 (Avg 0.913) Block took 530.442\n",
      "[16:18:53]  Trial 1400 total reward = 287 (Avg 0.957) Block took 934.459\n",
      "[16:34:27]  Trial 2100 total reward = 293 (Avg 0.977) Block took 934.298\n",
      "[16:50:13]  Trial 2800 total reward = 299 (Avg 0.997) Block took 945.514\n",
      "[17:05:50]  Trial 3500 total reward = 296 (Avg 0.987) Block took 937.085\n",
      "[17:20:57]  Trial 4200 total reward = 293 (Avg 0.977) Block took 906.893\n",
      "[17:36:19]  Trial 4900 total reward = 292 (Avg 0.973) Block took 922.605\n",
      "[17:51:37]  Trial 5600 total reward = 297 (Avg 0.990) Block took 917.289\n",
      "[18:06:58]  Trial 6300 total reward = 295 (Avg 0.983) Block took 921.820\n",
      "[18:22:17]  Trial 6999 total reward = 295 (Avg 0.983) Block took 918.878\n",
      "Run took 8869.457\n"
     ]
    }
   ],
   "source": [
    "# prime run parameters\n",
    "EC.reset_cache()\n",
    "EC.reward_unseen = True \n",
    "add_mem_dict = {} #dictionary of items which get put into memory cache\n",
    "timestamp = 0\n",
    "success_benchmark = NUM_EVENTS*0.85 # average success before employing EC or removing most rewarded port\n",
    "\n",
    "# data frames for value and policy maps\n",
    "total_loss    = [[],[]]           # keep track of policy loss and value loss \n",
    "total_reward  = []                # keep track of rewards achieved per trial\n",
    "val_maps      = []                # keep a list of state value arrays for each trial\n",
    "value_map     = maze.empty_map    # array of state values\n",
    "check_EC_pols = []                # keep track of policies stored by episodic cache\n",
    "\n",
    "# flags to be changed mid run\n",
    "rec_maps      = False\n",
    "rwd_threshold = True\n",
    "\n",
    "# --------------------------------\n",
    "# optional settings for recording\n",
    "# --------------------------------\n",
    "add_episodic_cache = True\n",
    "midrun_rwd_removal = False\n",
    "track_occupancy    = False\n",
    "track_MF_policies  = False\n",
    "track_CS           = False\n",
    "\n",
    "if midrun_rwd_removal: \n",
    "    reward_tally = {}\n",
    "    for _ in maze.rwd_loc: \n",
    "        reward_tally[_] = []\n",
    "    trial_rwd_switch = 0\n",
    "\n",
    "if track_occupancy: \n",
    "    occ_list = []\n",
    "if track_MF_policies:\n",
    "    track_policy_dict = {}\n",
    "if track_CS:\n",
    "    track_confidence_score = [[],[]] #[[rewards],[computed confidence score]]\n",
    "\n",
    "# record current time before beginning of trial\n",
    "print_freq = 1/10\n",
    "runtime = time.time()\n",
    "blocktime = time.time()\n",
    "print \"Run started: \"\n",
    "#==================================\n",
    "# Run Trial\n",
    "#==================================\n",
    "\n",
    "for trial in xrange(NUM_TRIALS):\n",
    "    state       = Variable(torch.FloatTensor(env.reset()))\n",
    "    reward_sum  = 0\n",
    "    v_last      = 0\n",
    "    reward_last = 0 \n",
    "    trial_start = time.time()\n",
    "    if track_occupancy:\n",
    "        occupancy = np.zeros((eu.height, eu.width))\n",
    "    \n",
    "    for event in xrange(NUM_EVENTS):\n",
    "        if track_occupancy:\n",
    "            occupancy[maze.cur_state[1], maze.cur_state[0]] += 1\n",
    "            \n",
    "        # pass state through MF module\n",
    "        policy_, value_ = MF(state)\n",
    "        \n",
    "        # pass state through EC module\n",
    "        if use_EC:\n",
    "            add_mem_dict['state'] = maze.cur_state\n",
    "            #policy_EC = EC.recall_mem(tuple(state.data[0]))\n",
    "            #policy_ = EC.composite_policy(policy_, policy_EC,reward)    # get policy composed of MF and EC outputs\n",
    "        \n",
    "        choice, policy, value = mf.select_action_end(MF,policy_, value_)\n",
    "        \n",
    "        if track_MF_policies:\n",
    "            track_policy_dict[maze.cur_state] = policy, timestamp\n",
    "        \n",
    "        if event < NUM_EVENTS: \n",
    "            next_state, reward, done, info = env.step(choice)\n",
    "        \n",
    "        MF.rewards.append(reward)\n",
    "        delta = reward_last + discount_factor*value - v_last  #compute eligibility trace/rpe approximation\n",
    "        \n",
    "        if use_EC:\n",
    "            add_mem_dict['activity']  = tuple(state.data[0])\n",
    "            add_mem_dict['action']    = choice\n",
    "            add_mem_dict['delta']     = delta\n",
    "            add_mem_dict['timestamp'] = timestamp            \n",
    "            EC.add_mem(add_mem_dict,mixing=False)             #add event to memory cache\n",
    "        \n",
    "        if track_CS:\n",
    "            track_confidence_score[0].append(reward)\n",
    "            track_confidence_score[1].append(EC.confidence_score)\n",
    "            EC.compute_confidence(reward)\n",
    "\n",
    "        state = Variable(torch.FloatTensor(next_state))       # update state\n",
    "        reward_sum += reward\n",
    "        reward_last = reward\n",
    "\n",
    "        v_last = value\n",
    "        timestamp += 1\n",
    "    \n",
    "    if add_episodic_cache:\n",
    "        if np.array(total_reward[-50:]).mean() > success_benchmark:\n",
    "            if rwd_threshold:\n",
    "                print \" \\t Started Memory at Trial \", trial\n",
    "                if midrun_rwd_removal:\n",
    "                    maxsums = {}\n",
    "                    for item in reward_tally.items():\n",
    "                        maxsums[item[0]] = sum(item[1])\n",
    "                    most_rewarded_location = max(maxsums.iteritems(), key=operator.itemgetter(1))[0] \n",
    "                    maze.rwd_loc.remove(most_rewarded_location)\n",
    "                    trial_rwd_switch = trial\n",
    "                    print \"removed reward at \", most_rewarded_location\n",
    "\n",
    "                rwd_threshold = False\n",
    "                use_EC = True\n",
    "\n",
    "    if midrun_rwd_removal:\n",
    "        if (trial_rwd_switch!=0) and (trial == trial_rwd_switch + 1000):\n",
    "            maze.rwd_loc.append(most_rewarded_location)\n",
    "   \n",
    "    #--- AT end of trial, update weights     \n",
    "    p_loss, v_loss = mf.finish_trial(MF, discount_factor,opt)\n",
    "    \n",
    "    total_loss[0].append(p_loss.data[0])\n",
    "    total_loss[1].append(v_loss.data[0])\n",
    "    total_reward.append(reward_sum)\n",
    "\n",
    "    value_map = mf.generate_values(maze,MF,None)\n",
    "    if use_EC:\n",
    "        policy_map = mf.generate_values(maze, MF, EC)\n",
    "        rec_maps = True\n",
    "    val_maps.append(value_map.copy())    \n",
    "    \n",
    "    if rec_maps:\n",
    "        check_EC_pols.append(policy_map.copy())\n",
    "    \n",
    "    if midrun_rwd_removal:\n",
    "        for item in maze.reward_tally.items():\n",
    "            reward_tally[item[0]].append(item[1])\n",
    "    if track_occupancy:\n",
    "        occ_list.append(occupancy.copy())\n",
    "    \n",
    "    # print reward measure\n",
    "    if trial%(print_freq*NUM_TRIALS)==0 or trial == NUM_TRIALS-1: \n",
    "        print \"[{0}]  Trial {1} total reward = {2} (Avg {3:.3f})\".format(time.strftime(\"%H:%M:%S\", time.localtime()), trial, reward_sum, float(reward_sum)/float(NUM_EVENTS)), \"Block took {0:.3f}\".format(time.time()-blocktime)\n",
    "        blocktime = time.time() \n",
    "    \n",
    "print \"Run took {0:.3f}\".format(time.time()-runtime)"
   ]
  },
  {
   "cell_type": "code",
   "execution_count": 7,
   "metadata": {
    "collapsed": false
   },
   "outputs": [],
   "source": [
    "if track_CS:\n",
    "    plt.figure()\n",
    "    plt.plot(track_confidence_score[0], 'r', label='rwd')\n",
    "    plt.plot(track_confidence_score[1], 'b', label='cs')\n",
    "    plt.legend(loc=0)\n",
    "    plt.xlim([0, 8000])\n",
    "\n",
    "    plt.show()\n",
    "    plt.close()"
   ]
  },
  {
   "cell_type": "code",
   "execution_count": 9,
   "metadata": {
    "collapsed": false
   },
   "outputs": [
    {
     "data": {
      "image/png": "[encoded data removed]",
      "text/plain": [
       "<matplotlib.figure.Figure at 0x7fdd39775590>"
      ]
     },
     "metadata": {},
     "output_type": "display_data"
    },
    {
     "data": {
      "image/png": "[encoded data removed]",
      "text/plain": [
       "<matplotlib.figure.Figure at 0x7fdd385621d0>"
      ]
     },
     "metadata": {},
     "output_type": "display_data"
    }
   ],
   "source": [
    "plt.figure(0)\n",
    "plt.plot(total_loss[0], label='ploss')\n",
    "plt.plot(total_loss[1], label='vloss')\n",
    "plt.legend(loc=0)\n",
    "\n",
    "plt.figure(1)\n",
    "plt.plot(total_reward, label='rwd')\n",
    "plt.xlabel(\"Number of Trials\")\n",
    "plt.ylabel(\"Total Reward per Trial\")\n",
    "if midrun_rwd_removal:\n",
    "    plt.axvline(x=trial_rwd_switch, color='r')\n",
    "    #plt.axvline(x=trial_rwd_switch+1000, color='r')\n",
    "\n",
    "#plt.xlim([0,14000])\n",
    "#plt.ylim([0,305])\n",
    "#plt.legend(loc=0)\n",
    "plt.show()"
   ]
  },
  {
   "cell_type": "code",
   "execution_count": 11,
   "metadata": {
    "collapsed": false
   },
   "outputs": [],
   "source": [
    "if midrun_rwd_removal:\n",
    "    plt.figure(0)\n",
    "    colours = ['b', 'g', 'r', 'c', 'm', 'y', 'k']\n",
    "    for i,item in enumerate(maze.orig_rwd_loc):\n",
    "        plt.plot(reward_tally[item],colours[i], label=\"Port{}\".format(item), alpha = 0.5)\n",
    "    #plt.plot(reward_tally[1],'g', label=\"Port2\", alpha = 0.5)\n",
    "    #plt.plot(reward_tally[2],'r', label=\"Port3\", alpha = 0.5)\n",
    "    plt.legend(loc=0)\n",
    "    #plt.xlim([1700,2000])\n",
    "    #plt.ylim([0,50])\n",
    "    plt.show()\n",
    "    plt.close()"
   ]
  },
  {
   "cell_type": "code",
   "execution_count": 12,
   "metadata": {
    "collapsed": false,
    "scrolled": true
   },
   "outputs": [
    {
     "data": {
      "image/png": "[encoded data removed]",
      "text/plain": [
       "<matplotlib.figure.Figure at 0x7fdd397c97d0>"
      ]
     },
     "metadata": {},
     "output_type": "display_data"
    },
    {
     "name": "stdout",
     "output_type": "stream",
     "text": [
      "[(2, 1)]\n"
     ]
    }
   ],
   "source": [
    "eu.print_value_maps(maze,val_maps)\n",
    "print maze.rwd_loc"
   ]
  },
  {
   "cell_type": "code",
   "execution_count": 59,
   "metadata": {
    "collapsed": false,
    "scrolled": true
   },
   "outputs": [
    {
     "name": "stdout",
     "output_type": "stream",
     "text": [
      "2100000\n"
     ]
    },
    {
     "data": {
      "text/plain": [
       "<matplotlib.figure.Figure at 0x7fdd312757d0>"
      ]
     },
     "metadata": {},
     "output_type": "display_data"
    },
    {
     "data": {
      "image/png": "[encoded data removed]",
      "text/plain": [
       "<matplotlib.figure.Figure at 0x7fdd2f744ed0>"
      ]
     },
     "metadata": {},
     "output_type": "display_data"
    }
   ],
   "source": [
    "# policy maps in memory\n",
    "print timestamp\n",
    "if use_EC:\n",
    "    import csv\n",
    "    test_frame = [(v[2],v[0], v[1],eu.softmax(v[0]), maze.actionlist[np.argmax(eu.softmax(v[0]))], [x for _,x in sorted(zip(eu.softmax(v[0]),maze.actionlist), reverse=True)]) for (k,v) in EC.cache_list.items()]\n",
    "\n",
    "    with open('mycsvfile.csv','wb') as f:\n",
    "        w = csv.writer(f)\n",
    "        w.writerows(test_frame)\n",
    "\n",
    "    resultant_frame = {}\n",
    "    for enum, i in enumerate(test_frame):\n",
    "        resultant_frame[i[0]] = test_frame[enum][1:]\n",
    "\n",
    "\n",
    "    plt.figure()\n",
    "    fig, ax = plt.subplots(maze.grid.shape[0], maze.grid.shape[1])\n",
    "    cmap = plt.cm.Spectral_r\n",
    "    cNorm  = colors.Normalize(vmin=0, vmax=1)\n",
    "    scalarMap = cm.ScalarMappable(norm = cNorm, cmap=cmap)\n",
    "\n",
    "    for i in test_frame:\n",
    "        state_loc = i[0]\n",
    "        av = i[1]\n",
    "        softmax = i[3]\n",
    "        time_recorded = i[2]\n",
    "\n",
    "        ax[state_loc[1], state_loc[0]].cla()\n",
    "        ax[state_loc[1], state_loc[0]].bar(np.arange(6), softmax)\n",
    "        arg_ = np.argmax(softmax)\n",
    "        if softmax[arg_] > 0.65:\n",
    "            dx1,dy1,_,__ = eu.make_arrows(arg_, softmax[arg_])\n",
    "            colorVal1 = scalarMap.to_rgba(softmax[arg_])\n",
    "            ax[state_loc[1], state_loc[0]].arrow(5,.5,dx1,dy1,head_width =0.4, head_length =0.4, color=colorVal1)\n",
    "        ax[state_loc[1], state_loc[0]].set_xticks([])\n",
    "        ax[state_loc[1], state_loc[0]].set_yticks([])\n",
    "        ax[state_loc[1], state_loc[0]].set_ylim([0,1])\n",
    "        ax[state_loc[1], state_loc[0]].annotate('{}'.format(timestamp -time_recorded), xy=(0,.6), color='g')\n",
    "        if state_loc == maze.rwd_loc[0]:\n",
    "            ax[state_loc[1], state_loc[0]].annotate('R', xy=(0,0.5), color='r')\n",
    "\n",
    "    plt.savefig('7000t_ec.svg', format='svg')\n",
    "\n",
    "    plt.show()\n",
    "    plt.close()"
   ]
  },
  {
   "cell_type": "code",
   "execution_count": 60,
   "metadata": {
    "collapsed": false
   },
   "outputs": [],
   "source": [
    "track_policy_dict = {}\n",
    "for __ in maze.useable:\n",
    "    temp_state = Variable(torch.FloatTensor(maze.mk_state(state=__)))\n",
    "    policy_, value_ = MF(temp_state)\n",
    "    track_policy_dict[__] = np.array(policy_.data[0])\n",
    "    \n",
    "np.save('7000t_MFpolicies.npy', track_policy_dict)\n",
    "np.save('7000t_ECpolicies.npy', EC.cache_list)"
   ]
  },
  {
   "cell_type": "code",
   "execution_count": 61,
   "metadata": {
    "collapsed": false
   },
   "outputs": [
    {
     "ename": "ValueError",
     "evalue": "incompatible sizes: argument 'height' must be length 6 or scalar",
     "output_type": "error",
     "traceback": [
      "\u001b[0;31m---------------------------------------------------------------------------\u001b[0m",
      "\u001b[0;31mValueError\u001b[0m                                Traceback (most recent call last)",
      "\u001b[0;32m<ipython-input-61-c2400c6e2be1>\u001b[0m in \u001b[0;36m<module>\u001b[0;34m()\u001b[0m\n\u001b[1;32m      7\u001b[0m         \u001b[0my_dim\u001b[0m \u001b[0;34m=\u001b[0m \u001b[0mi\u001b[0m\u001b[0;34m[\u001b[0m\u001b[0;36m0\u001b[0m\u001b[0;34m]\u001b[0m\u001b[0;34m\u001b[0m\u001b[0m\n\u001b[1;32m      8\u001b[0m         \u001b[0mx_dim\u001b[0m \u001b[0;34m=\u001b[0m \u001b[0mi\u001b[0m\u001b[0;34m[\u001b[0m\u001b[0;36m1\u001b[0m\u001b[0;34m]\u001b[0m\u001b[0;34m\u001b[0m\u001b[0m\n\u001b[0;32m----> 9\u001b[0;31m         \u001b[0max\u001b[0m\u001b[0;34m[\u001b[0m\u001b[0mi\u001b[0m\u001b[0;34m[\u001b[0m\u001b[0;36m1\u001b[0m\u001b[0;34m]\u001b[0m\u001b[0;34m,\u001b[0m \u001b[0mi\u001b[0m\u001b[0;34m[\u001b[0m\u001b[0;36m0\u001b[0m\u001b[0;34m]\u001b[0m\u001b[0;34m]\u001b[0m\u001b[0;34m.\u001b[0m\u001b[0mbar\u001b[0m\u001b[0;34m(\u001b[0m\u001b[0mnp\u001b[0m\u001b[0;34m.\u001b[0m\u001b[0marange\u001b[0m\u001b[0;34m(\u001b[0m\u001b[0;36m6\u001b[0m\u001b[0;34m)\u001b[0m\u001b[0;34m,\u001b[0m \u001b[0mnp\u001b[0m\u001b[0;34m.\u001b[0m\u001b[0marray\u001b[0m\u001b[0;34m(\u001b[0m\u001b[0mtrack_policy_dict\u001b[0m\u001b[0;34m[\u001b[0m\u001b[0mi\u001b[0m\u001b[0;34m]\u001b[0m\u001b[0;34m[\u001b[0m\u001b[0;36m0\u001b[0m\u001b[0;34m]\u001b[0m\u001b[0;34m)\u001b[0m\u001b[0;34m,\u001b[0m \u001b[0mlabel\u001b[0m\u001b[0;34m=\u001b[0m \u001b[0mtrack_policy_dict\u001b[0m\u001b[0;34m[\u001b[0m\u001b[0mi\u001b[0m\u001b[0;34m]\u001b[0m\u001b[0;34m[\u001b[0m\u001b[0;36m1\u001b[0m\u001b[0;34m]\u001b[0m\u001b[0;34m,\u001b[0m \u001b[0malpha\u001b[0m \u001b[0;34m=\u001b[0m \u001b[0;36m0.5\u001b[0m\u001b[0;34m,\u001b[0m \u001b[0mcolor\u001b[0m\u001b[0;34m=\u001b[0m\u001b[0;34m'b'\u001b[0m\u001b[0;34m)\u001b[0m \u001b[0;31m#what was generated by network\u001b[0m\u001b[0;34m\u001b[0m\u001b[0m\n\u001b[0m\u001b[1;32m     10\u001b[0m         \u001b[0max\u001b[0m\u001b[0;34m[\u001b[0m\u001b[0mi\u001b[0m\u001b[0;34m[\u001b[0m\u001b[0;36m1\u001b[0m\u001b[0;34m]\u001b[0m\u001b[0;34m,\u001b[0m \u001b[0mi\u001b[0m\u001b[0;34m[\u001b[0m\u001b[0;36m0\u001b[0m\u001b[0;34m]\u001b[0m\u001b[0;34m]\u001b[0m\u001b[0;34m.\u001b[0m\u001b[0mbar\u001b[0m\u001b[0;34m(\u001b[0m\u001b[0mnp\u001b[0m\u001b[0;34m.\u001b[0m\u001b[0marange\u001b[0m\u001b[0;34m(\u001b[0m\u001b[0;36m6\u001b[0m\u001b[0;34m)\u001b[0m\u001b[0;34m+\u001b[0m\u001b[0;36m0.25\u001b[0m\u001b[0;34m,\u001b[0m \u001b[0mresultant_frame\u001b[0m\u001b[0;34m[\u001b[0m\u001b[0mi\u001b[0m\u001b[0;34m]\u001b[0m\u001b[0;34m[\u001b[0m\u001b[0;36m2\u001b[0m\u001b[0;34m]\u001b[0m\u001b[0;34m,\u001b[0m \u001b[0malpha\u001b[0m\u001b[0;34m=\u001b[0m\u001b[0;36m0.5\u001b[0m\u001b[0;34m,\u001b[0m \u001b[0mcolor\u001b[0m\u001b[0;34m=\u001b[0m\u001b[0;34m'g'\u001b[0m\u001b[0;34m)\u001b[0m\u001b[0;31m#comparable entry in memory\u001b[0m\u001b[0;34m\u001b[0m\u001b[0m\n\u001b[1;32m     11\u001b[0m         \u001b[0max\u001b[0m\u001b[0;34m[\u001b[0m\u001b[0mi\u001b[0m\u001b[0;34m[\u001b[0m\u001b[0;36m1\u001b[0m\u001b[0;34m]\u001b[0m\u001b[0;34m,\u001b[0m \u001b[0mi\u001b[0m\u001b[0;34m[\u001b[0m\u001b[0;36m0\u001b[0m\u001b[0;34m]\u001b[0m\u001b[0;34m]\u001b[0m\u001b[0;34m.\u001b[0m\u001b[0mset_xticks\u001b[0m\u001b[0;34m(\u001b[0m\u001b[0;34m[\u001b[0m\u001b[0;34m]\u001b[0m\u001b[0;34m)\u001b[0m\u001b[0;34m\u001b[0m\u001b[0m\n",
      "\u001b[0;32m/usr/local/lib/python2.7/dist-packages/matplotlib/__init__.pyc\u001b[0m in \u001b[0;36minner\u001b[0;34m(ax, *args, **kwargs)\u001b[0m\n\u001b[1;32m   1896\u001b[0m                     warnings.warn(msg % (label_namer, func.__name__),\n\u001b[1;32m   1897\u001b[0m                                   RuntimeWarning, stacklevel=2)\n\u001b[0;32m-> 1898\u001b[0;31m             \u001b[0;32mreturn\u001b[0m \u001b[0mfunc\u001b[0m\u001b[0;34m(\u001b[0m\u001b[0max\u001b[0m\u001b[0;34m,\u001b[0m \u001b[0;34m*\u001b[0m\u001b[0margs\u001b[0m\u001b[0;34m,\u001b[0m \u001b[0;34m**\u001b[0m\u001b[0mkwargs\u001b[0m\u001b[0;34m)\u001b[0m\u001b[0;34m\u001b[0m\u001b[0m\n\u001b[0m\u001b[1;32m   1899\u001b[0m         \u001b[0mpre_doc\u001b[0m \u001b[0;34m=\u001b[0m \u001b[0minner\u001b[0m\u001b[0;34m.\u001b[0m\u001b[0m__doc__\u001b[0m\u001b[0;34m\u001b[0m\u001b[0m\n\u001b[1;32m   1900\u001b[0m         \u001b[0;32mif\u001b[0m \u001b[0mpre_doc\u001b[0m \u001b[0;32mis\u001b[0m \u001b[0mNone\u001b[0m\u001b[0;34m:\u001b[0m\u001b[0;34m\u001b[0m\u001b[0m\n",
      "\u001b[0;32m/usr/local/lib/python2.7/dist-packages/matplotlib/axes/_axes.pyc\u001b[0m in \u001b[0;36mbar\u001b[0;34m(self, left, height, width, bottom, **kwargs)\u001b[0m\n\u001b[1;32m   2077\u001b[0m         \u001b[0;32mif\u001b[0m \u001b[0mlen\u001b[0m\u001b[0;34m(\u001b[0m\u001b[0mheight\u001b[0m\u001b[0;34m)\u001b[0m \u001b[0;34m!=\u001b[0m \u001b[0mnbars\u001b[0m\u001b[0;34m:\u001b[0m\u001b[0;34m\u001b[0m\u001b[0m\n\u001b[1;32m   2078\u001b[0m             raise ValueError(\"incompatible sizes: argument 'height' \"\n\u001b[0;32m-> 2079\u001b[0;31m                               \"must be length %d or scalar\" % nbars)\n\u001b[0m\u001b[1;32m   2080\u001b[0m         \u001b[0;32mif\u001b[0m \u001b[0mlen\u001b[0m\u001b[0;34m(\u001b[0m\u001b[0mwidth\u001b[0m\u001b[0;34m)\u001b[0m \u001b[0;34m!=\u001b[0m \u001b[0mnbars\u001b[0m\u001b[0;34m:\u001b[0m\u001b[0;34m\u001b[0m\u001b[0m\n\u001b[1;32m   2081\u001b[0m             raise ValueError(\"incompatible sizes: argument 'width' \"\n",
      "\u001b[0;31mValueError\u001b[0m: incompatible sizes: argument 'height' must be length 6 or scalar"
     ]
    },
    {
     "data": {
      "text/plain": [
       "<matplotlib.figure.Figure at 0x7fdd2da1eb50>"
      ]
     },
     "metadata": {},
     "output_type": "display_data"
    },
    {
     "data": {
      "image/png": "[encoded data removed]",
      "text/plain": [
       "<matplotlib.figure.Figure at 0x7fdd3031c590>"
      ]
     },
     "metadata": {},
     "output_type": "display_data"
    }
   ],
   "source": [
    "if track_MF_policies:\n",
    "    plt.figure(figsize=(50,50))\n",
    "    colours = ['b', 'g', 'r', 'c', 'm', 'y', 'k']\n",
    "\n",
    "    fig, ax = plt.subplots(maze.grid.shape[0],  maze.grid.shape[1])\n",
    "    for i in track_policy_dict:\n",
    "        y_dim = i[0]\n",
    "        x_dim = i[1]\n",
    "        ax[i[1], i[0]].bar(np.arange(6), np.array(track_policy_dict[i][0]), label= track_policy_dict[i][1], alpha = 0.5, color='b') #what was generated by network\n",
    "        ax[i[1], i[0]].bar(np.arange(6)+0.25, resultant_frame[i][2], alpha=0.5, color='g')#comparable entry in memory\n",
    "        ax[i[1], i[0]].set_xticks([])\n",
    "        ax[i[1], i[0]].set_yticks([])\n",
    "        ax[i[1], i[0]].set_ylim([-1,1])\n",
    "        if i == maze.rwd_loc[0]:\n",
    "            ax[i[1], i[0]].annotate('R', xy=(0,0.5), color='r')\n",
    "    plt.savefig('policies.svg', format='svg')\n",
    "    plt.show()\n",
    "    plt.close()"
   ]
  },
  {
   "cell_type": "code",
   "execution_count": 18,
   "metadata": {
    "collapsed": false,
    "scrolled": true
   },
   "outputs": [],
   "source": [
    "if use_EC:\n",
    "    plt.figure()\n",
    "    fig, ax = plt.subplots(maze.grid.shape[0], maze.grid.shape[1])\n",
    "    visits = np.zeros(maze.grid.shape)\n",
    "    time__ = np.zeros(maze.grid.shape)\n",
    "    colours = ['b', 'g', 'r', 'c', 'm', 'y', 'k']\n",
    "    for i in test_frame:\n",
    "        state_loc = i[0]\n",
    "        av = i[1]\n",
    "        #time = i[2]\n",
    "        softmax = i[3]\n",
    "\n",
    "        if i[2] > time__[state_loc[1],state_loc[0]]:\n",
    "            ax[state_loc[1], state_loc[0]].cla()\n",
    "            ax[state_loc[1], state_loc[0]].bar(np.arange(6), softmax, label=time, alpha = .8, color = colours[int(visits[state_loc[1],state_loc[0]])])\n",
    "            ax[state_loc[1], state_loc[0]].set_xticks([])\n",
    "            ax[state_loc[1], state_loc[0]].set_yticks([])\n",
    "            ax[state_loc[1], state_loc[0]].set_ylim([0,1])\n",
    "        else:\n",
    "            pass\n",
    "\n",
    "        visits[state_loc[1],state_loc[0]] += 1\n",
    "        time__[state_loc[1],state_loc[0]] = i[2]\n",
    "\n",
    "    plt.savefig('no_h_policies.svg',format='svg')\n",
    "    plt.show()\n",
    "    plt.close()"
   ]
  },
  {
   "cell_type": "code",
   "execution_count": null,
   "metadata": {
    "collapsed": true
   },
   "outputs": [],
   "source": []
  },
  {
   "cell_type": "code",
   "execution_count": null,
   "metadata": {
    "collapsed": true
   },
   "outputs": [],
   "source": []
  },
  {
   "cell_type": "code",
   "execution_count": null,
   "metadata": {
    "collapsed": true
   },
   "outputs": [],
   "source": [
    "if track_occupancy: \n",
    "    inde = 0\n",
    "    plt.figure()\n",
    "    plt.pcolor(occ_list[inde], cmap=\"Spectral_r\", vmin=0, vmax = 300)\n",
    "    plt.gca().invert_yaxis()\n",
    "    plt.axes().set_aspect('equal', 'datalim')\n",
    "    plt.colorbar()\n",
    "    plt.show()\n",
    "    plt.close()"
   ]
  },
  {
   "cell_type": "code",
   "execution_count": null,
   "metadata": {
    "collapsed": true
   },
   "outputs": [],
   "source": []
  },
  {
   "cell_type": "code",
   "execution_count": null,
   "metadata": {
    "collapsed": true
   },
   "outputs": [],
   "source": [
    "plt.close()\n",
    "plt.figure()\n",
    "eu.width = 5\n",
    "eu.height = 5\n",
    "for j, iterable in enumerate(check_EC_pols):\n",
    "    if j < 25:\n",
    "        fig, ax = plt.subplots(eu.width,eu.height)\n",
    "        axes = np.ravel(ax)\n",
    "        data = np.ravel(check_EC_pols[j])\n",
    "        for i, item in enumerate(axes): \n",
    "            item.bar(np.arange(6), list(data[i]))\n",
    "            item.set_ylim([0,1])\n",
    "            item.set_yticks([])\n",
    "            item.set_xticks([])\n",
    "        plt.savefig('pol_tests/pol_test{}.svg'.format(j), format='svg')\n",
    "        plt.close()\n",
    "\n",
    "    elif j % 10 == 0: \n",
    "        fig, ax = plt.subplots(eu.height,eu.width)\n",
    "        axes = np.ravel(ax)\n",
    "        data = np.ravel(check_EC_pols[j])\n",
    "        for i, item in enumerate(axes): \n",
    "            item.bar(np.arange(6), list(data[i]))\n",
    "            item.set_ylim([0,1])\n",
    "            item.set_yticks([])\n",
    "            item.set_xticks([])\n",
    "        plt.savefig('pol_tests/pol_test{}.svg'.format(j), format='svg')\n",
    "        plt.close()\n",
    "#plt.show()"
   ]
  }
 ],
 "metadata": {
  "kernelspec": {
   "display_name": "Python 2",
   "language": "python",
   "name": "python2"
  },
  "language_info": {
   "codemirror_mode": {
    "name": "ipython",
    "version": 2
   },
   "file_extension": ".py",
   "mimetype": "text/x-python",
   "name": "python",
   "nbconvert_exporter": "python",
   "pygments_lexer": "ipython2",
   "version": "2.7.12"
  }
 },
 "nbformat": 4,
 "nbformat_minor": 2
}
