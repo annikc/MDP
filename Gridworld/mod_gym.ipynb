{
 "cells": [
  {
   "cell_type": "code",
   "execution_count": 2,
   "metadata": {},
   "outputs": [],
   "source": [
    "from __future__ import division\n",
    "import time\n",
    "from time import gmtime, strftime\n",
    "\n",
    "#import random\n",
    "from mpl_toolkits.mplot3d import Axes3D\n",
    "from matplotlib import cm\n",
    "from matplotlib.ticker import LinearLocator, FormatStrFormatter\n",
    "import matplotlib.colors as colors\n",
    "\n",
    "import torch \n",
    "from torch.autograd import Variable\n",
    "from torch import autograd, optim, nn\n",
    "\n",
    "from sklearn.neighbors import NearestNeighbors\n",
    "\n",
    "import numpy as np\n",
    "import matplotlib.pyplot as plt\n",
    "\n",
    "import gym\n",
    "import agt_utils as au\n",
    "\n",
    "%matplotlib inline "
   ]
  },
  {
   "cell_type": "code",
   "execution_count": 3,
   "metadata": {},
   "outputs": [],
   "source": [
    "from gym.envs.registration import register\n",
    "register(\n",
    "    id='FrozenLakeNotSlippery-v0',\n",
    "    entry_point='gym.envs.toy_text:FrozenLakeEnv',\n",
    "    kwargs={'map_name' : '4x4', 'is_slippery': False},\n",
    "    max_episode_steps=100,\n",
    "    reward_threshold=0.78, # optimum = .8196\n",
    ")\n",
    "\n",
    "gym_game = 'FrozenLakeNotSlippery-v0'\n",
    "\n",
    "env = gym.make(gym_game)\n"
   ]
  },
  {
   "cell_type": "code",
   "execution_count": null,
   "metadata": {},
   "outputs": [],
   "source": []
  },
  {
   "cell_type": "code",
   "execution_count": 5,
   "metadata": {},
   "outputs": [
    {
     "name": "stdout",
     "output_type": "stream",
     "text": [
      "16\n"
     ]
    }
   ],
   "source": [
    "#=====================\n",
    "# Training Parameters\n",
    "#=====================\n",
    "#trial parameters\n",
    "NUM_TRIALS = 30000\n",
    "NUM_EVENTS = 50\n",
    "\n",
    "discount_factor = 0.98\n",
    "\n",
    "#agent parameters\n",
    "if type(env.observation_space) == gym.spaces.box.Box:\n",
    "    print \"hello\"\n",
    "    in_dims = env.observation_space.shape[0]\n",
    "else:\n",
    "    print env.observation_space.n\n",
    "    in_dims  = env.observation_space.n\n",
    "\n",
    "dims = [in_dims,env.action_space.n]\n",
    "model = au.AC_Net(dims)\n",
    "\n",
    "#learning parameters\n",
    "eta = 6e-3 #gradient descent learning rate\n",
    "opt = au.optim.Adam(model.parameters(), lr = eta)"
   ]
  },
  {
   "cell_type": "code",
   "execution_count": 6,
   "metadata": {},
   "outputs": [],
   "source": [
    "#EC__ = eu.ep_mem(model,100)\n",
    "\n",
    "def tchecker(timez):\n",
    "    global t_check_counter\n",
    "    t_check_counter +=1 \n",
    "    print(t_check_counter,\"%.7f\" %(time.time()-timez))\n",
    "    return time.time()\n",
    "\n",
    "def make_onehot(action):\n",
    "    onehot = np.zeros(env.observation_space.n)\n",
    "    onehot[action] = 1\n",
    "    return onehot\n"
   ]
  },
  {
   "cell_type": "code",
   "execution_count": 7,
   "metadata": {
    "scrolled": true
   },
   "outputs": [
    {
     "name": "stdout",
     "output_type": "stream",
     "text": [
      "Run started:  Mon, 19 Mar 2018 12:14:48 +0000\n",
      "\n",
      "\u001b[41mS\u001b[0mFFF\n",
      "FHFH\n",
      "FFFH\n",
      "HFFG\n",
      "Trial 0 finished w total reward = 0.0 (Avg 0.000) Block took 0.005\n",
      "Trial 3000 finished w total reward = 1.0 (Avg 0.020) Block took 5.502\n",
      "Trial 6000 finished w total reward = 1.0 (Avg 0.020) Block took 4.784\n",
      "Trial 9000 finished w total reward = 1.0 (Avg 0.020) Block took 5.235\n",
      "Trial 12000 finished w total reward = 1.0 (Avg 0.020) Block took 5.120\n",
      "Trial 15000 finished w total reward = 1.0 (Avg 0.020) Block took 4.828\n",
      "Trial 18000 finished w total reward = 1.0 (Avg 0.020) Block took 4.841\n",
      "Trial 21000 finished w total reward = 1.0 (Avg 0.020) Block took 4.440\n",
      "Trial 24000 finished w total reward = 1.0 (Avg 0.020) Block took 4.478\n",
      "Trial 27000 finished w total reward = 1.0 (Avg 0.020) Block took 4.768\n",
      "Trial 29999 finished w total reward = 1.0 (Avg 0.020) Block took 4.690\n",
      "Run took 48.692\n"
     ]
    }
   ],
   "source": [
    "#==================================\n",
    "# Set up Data Recording Structures\n",
    "#==================================\n",
    "print_freq = 1./10\n",
    "total_reward = [] #track total reward achieved in trial \n",
    "total_loss = [[],[]] #[actor loss, critic loss]\n",
    "\n",
    "track_event = []\n",
    "\n",
    "# record current time before beginning of trial\n",
    "print \"Run started: \", strftime(\"%a, %d %b %Y %H:%M:%S +0000\", time.localtime())\n",
    "runtime= time.time()\n",
    "blocktime = time.time()\n",
    "\n",
    "t_check_counter = 0\n",
    "t_check = time.time()\n",
    "timestamp = 1\n",
    "\n",
    "#EC__.reset_cache()\n",
    "env._max_episode_steps = NUM_EVENTS\n",
    "#==================================\n",
    "# Run Trial\n",
    "#==================================\n",
    "for trial in xrange(NUM_TRIALS):\n",
    "    trial_start = time.time()\n",
    "    \n",
    "    init_state = env.reset()\n",
    "    state = Variable(torch.FloatTensor([make_onehot(init_state)]))\n",
    "    \n",
    "    reward_sum = 0\n",
    "    v_last = 0\n",
    "    \n",
    "    for event in xrange(NUM_EVENTS):\n",
    "        choice, policy, value = au.select_action(model,state)\n",
    "        choice_prob = policy[choice]\n",
    "        \n",
    "        if event < NUM_EVENTS: \n",
    "            next_state, reward, done, info = env.step(choice)\n",
    "        \n",
    "        model.rewards.append(reward)\n",
    "        \n",
    "        # update state\n",
    "        state = Variable(torch.FloatTensor([make_onehot(next_state)]))\n",
    "\n",
    "        delta = reward - value - v_last\n",
    "        ### is it supposed to be current state?? \n",
    "        #EC__.add_mem(tuple(next_state[0]), choice, delta, timestamp)\n",
    "        reward_sum += reward\n",
    "        v_last = value\n",
    "        timestamp += 1\n",
    "        \n",
    "        \n",
    "        if done: \n",
    "            track_event.append(event)\n",
    "            env.reset()\n",
    "            break\n",
    "    #track_event.append(event)    \n",
    "    #value_map = au.generate_values(maze, model)\n",
    "    p_loss, v_loss = au.finish_trial(model, discount_factor,opt)\n",
    "    total_loss[0].append(p_loss.data[0])\n",
    "    total_loss[1].append(v_loss.data[0])\n",
    "    total_reward.append(reward_sum)\n",
    "    #val_maps.append(value_map.copy())\n",
    "    \n",
    "    # print reward measure\n",
    "    if trial%(print_freq*NUM_TRIALS)==0 or trial == NUM_TRIALS-1: \n",
    "        print \"Trial {0} finished w total reward = {1} (Avg {2:.3f})\".format(trial, reward_sum, float(reward_sum)/float(NUM_EVENTS)), \"Block took {0:.3f}\".format(time.time()-blocktime)\n",
    "        blocktime = time.time() \n",
    "    \n",
    "print \"Run took {0:.3f}\".format(time.time()-runtime)\n"
   ]
  },
  {
   "cell_type": "code",
   "execution_count": 10,
   "metadata": {},
   "outputs": [
    {
     "data": {
      "text/plain": [
       "[<matplotlib.lines.Line2D at 0x7f45742d7fd0>]"
      ]
     },
     "execution_count": 10,
     "metadata": {},
     "output_type": "execute_result"
    },
    {
     "data": {
      "image/png": "[encoded data removed]",
      "text/plain": [
       "<matplotlib.figure.Figure at 0x7f45741fed90>"
      ]
     },
     "metadata": {},
     "output_type": "display_data"
    }
   ],
   "source": [
    "plt.figure(0)\n",
    "plt.plot(track_event)\n",
    "plt.plot(eu.running_mean(track_event,100), 'r')"
   ]
  },
  {
   "cell_type": "code",
   "execution_count": 9,
   "metadata": {
    "scrolled": true
   },
   "outputs": [
    {
     "data": {
      "image/png": "[encoded data removed]",
      "text/plain": [
       "<matplotlib.figure.Figure at 0x7f45744702d0>"
      ]
     },
     "metadata": {},
     "output_type": "display_data"
    },
    {
     "data": {
      "image/png": "[encoded data removed]",
      "text/plain": [
       "<matplotlib.figure.Figure at 0x7f4574342890>"
      ]
     },
     "metadata": {},
     "output_type": "display_data"
    }
   ],
   "source": [
    "plt.figure(0)\n",
    "plt.plot(total_loss[0], label='ploss (min = {0:.4f})'.format(min(np.abs(total_loss[0]))))\n",
    "plt.plot(total_loss[1], label='vloss (min = {0:.4f})'.format(min(np.abs(total_loss[1]))))\n",
    "plt.legend(loc=0)\n",
    "\n",
    "import env_utils as eu\n",
    "plt.figure(1)\n",
    "\n",
    "plt.plot(total_reward, label='rwd')\n",
    "plt.plot(eu.running_mean(total_reward, 100), 'r', label='avg100')\n",
    "plt.legend(loc=0)\n",
    "plt.show()"
   ]
  },
  {
   "cell_type": "code",
   "execution_count": null,
   "metadata": {
    "scrolled": true
   },
   "outputs": [],
   "source": []
  },
  {
   "cell_type": "code",
   "execution_count": null,
   "metadata": {},
   "outputs": [],
   "source": []
  },
  {
   "cell_type": "code",
   "execution_count": null,
   "metadata": {},
   "outputs": [],
   "source": []
  },
  {
   "cell_type": "code",
   "execution_count": null,
   "metadata": {},
   "outputs": [],
   "source": []
  },
  {
   "cell_type": "code",
   "execution_count": null,
   "metadata": {},
   "outputs": [],
   "source": []
  },
  {
   "cell_type": "code",
   "execution_count": null,
   "metadata": {},
   "outputs": [],
   "source": []
  },
  {
   "cell_type": "code",
   "execution_count": null,
   "metadata": {},
   "outputs": [],
   "source": []
  },
  {
   "cell_type": "code",
   "execution_count": null,
   "metadata": {},
   "outputs": [],
   "source": []
  },
  {
   "cell_type": "code",
   "execution_count": null,
   "metadata": {},
   "outputs": [],
   "source": []
  },
  {
   "cell_type": "code",
   "execution_count": null,
   "metadata": {},
   "outputs": [],
   "source": []
  },
  {
   "cell_type": "code",
   "execution_count": null,
   "metadata": {},
   "outputs": [],
   "source": []
  }
 ],
 "metadata": {
  "kernelspec": {
   "display_name": "Python 2",
   "language": "python",
   "name": "python2"
  },
  "language_info": {
   "codemirror_mode": {
    "name": "ipython",
    "version": 2
   },
   "file_extension": ".py",
   "mimetype": "text/x-python",
   "name": "python",
   "nbconvert_exporter": "python",
   "pygments_lexer": "ipython2",
   "version": "2.7.12"
  }
 },
 "nbformat": 4,
 "nbformat_minor": 2
}
