{
 "cells": [
  {
   "cell_type": "code",
   "execution_count": 1,
   "metadata": {},
   "outputs": [],
   "source": [
    "import imageio\n",
    "from os import listdir\n",
    "from os.path import isfile, join"
   ]
  },
  {
   "cell_type": "code",
   "execution_count": 3,
   "metadata": {},
   "outputs": [],
   "source": [
    "mypath = './figures/'\n",
    "filenames = [f for f in listdir(mypath) if isfile(join(mypath,f))]\n",
    "p_files = [f in filenames if ]"
   ]
  },
  {
   "cell_type": "code",
   "execution_count": 4,
   "metadata": {},
   "outputs": [
    {
     "name": "stdout",
     "output_type": "stream",
     "text": [
      "['p_41.png', 'p_18.png', 'p_6.png', 'p_42.png', 'p_16.png', 'v_40.png', 'v_34.png', 'v_19.png', 'p_24.png', 'v_29.png', 'p_36.png', 'p_48.png', 'p_14.png', 'v_37.png', 'v_31.png', 'v_43.png', 'p_23.png', 'v_28.png', 'v_7.png', 'v_11.png', 'v_18.png', 'p_20.png', 'v_0.png', 'v_8.png', 'p_19.png', 'v_2.png', 'p_28.png', 'p_31.png', 'p_49.png', 'p_22.png', 'p_17.png', 'v_48.png', 'p_40.png', 'p_30.png', 'p_0.png', 'p_12.png', 'v_20.png', 'v_24.png', 'p_43.png', 'v_1.png', 'v_5.png', 'v_4.png', 'p_26.png', 'p_32.png', 'p_8.png', 'v_12.png', 'p_1.png', 'p_33.png', 'v_10.png', 'p_10.png', 'v_38.png', 'v_23.png', 'v_21.png', 'v_44.png', 'p_47.png', 'p_25.png', 'v_16.png', 'p_5.png', 'v_46.png', 'p_44.png', 'p_11.png', 'p_15.png', 'v_13.png', 'v_14.png', 'v_42.png', 'v_30.png', 'v_22.png', 'p_7.png', 'v_3.png', 'p_13.png', 'v_47.png', 'v_9.png', 'v_17.png', 'v_41.png', 'v_26.png', 'p_37.png', 'v_6.png', 'p_9.png', 'p_27.png', 'p_21.png', 'p_4.png', 'v_35.png', 'p_3.png', 'v_27.png', 'v_15.png', 'v_25.png', 'v_36.png', 'p_2.png', 'p_45.png', 'p_38.png', 'p_35.png', 'p_46.png', 'v_33.png', 'p_34.png', 'p_29.png', 'p_39.png', 'v_39.png', 'v_45.png', 'v_49.png', 'v_32.png']\n"
     ]
    }
   ],
   "source": [
    "print(filenames)"
   ]
  },
  {
   "cell_type": "code",
   "execution_count": null,
   "metadata": {},
   "outputs": [],
   "source": [
    "images = []\n",
    "\n",
    "for filename in filenames:\n",
    "    images.append(imageio.imread(filename))\n",
    "imageio.mimsave('/path/to/movie.gif', images)"
   ]
  }
 ],
 "metadata": {
  "kernelspec": {
   "display_name": "Python 3",
   "language": "python",
   "name": "python3"
  },
  "language_info": {
   "codemirror_mode": {
    "name": "ipython",
    "version": 3
   },
   "file_extension": ".py",
   "mimetype": "text/x-python",
   "name": "python",
   "nbconvert_exporter": "python",
   "pygments_lexer": "ipython3",
   "version": "3.6.9"
  }
 },
 "nbformat": 4,
 "nbformat_minor": 2
}
