{
 "cells": [
  {
   "cell_type": "code",
   "execution_count": 1,
   "metadata": {},
   "outputs": [],
   "source": [
    "import imageio\n",
    "from os import listdir\n",
    "from os.path import isfile, join"
   ]
  },
  {
   "cell_type": "code",
   "execution_count": 2,
   "metadata": {},
   "outputs": [],
   "source": [
    "mypath = './figures/'\n",
    "filenames = [f for f in listdir(mypath) if isfile(join(mypath,f))]\n",
    "p_files = []\n",
    "v_files = []\n",
    "ec_files = []\n",
    "for f in filenames:\n",
    "    if f[0:2] == 'p_':\n",
    "        if f[2:4] == 'EC':\n",
    "            ec_files.append(f)\n",
    "        else:\n",
    "            p_files.append(f)\n",
    "    elif f[0] == 'v':\n",
    "        v_files.append(f)\n",
    "    else:\n",
    "        pass"
   ]
  },
  {
   "cell_type": "code",
   "execution_count": 3,
   "metadata": {},
   "outputs": [],
   "source": [
    "p_images = []\n",
    "v_images = []\n",
    "ec_images = []\n",
    "for i in range(len(p_files)):\n",
    "    filename = mypath+f'p_{i}.png'\n",
    "    p_images.append(imageio.imread(filename))\n",
    "imageio.mimsave('./pol_evol.gif', p_images)\n",
    "\n",
    "for i in range(len(v_files)):\n",
    "    filename = mypath+f'v_{i}.png'\n",
    "    v_images.append(imageio.imread(filename))\n",
    "imageio.mimsave('./val_evol.gif', v_images)\n",
    "\n",
    "for i in range(len(ec_files)):\n",
    "    filename = mypath+f'p_EC_{i}.png'\n",
    "    ec_images.append(imageio.imread(filename))\n",
    "imageio.mimsave('./ec_evol.gif', ec_images,duration=0.5 )"
   ]
  },
  {
   "cell_type": "code",
   "execution_count": null,
   "metadata": {},
   "outputs": [],
   "source": []
  },
  {
   "cell_type": "code",
   "execution_count": null,
   "metadata": {},
   "outputs": [],
   "source": []
  }
 ],
 "metadata": {
  "kernelspec": {
   "display_name": "Python 3",
   "language": "python",
   "name": "python3"
  },
  "language_info": {
   "codemirror_mode": {
    "name": "ipython",
    "version": 3
   },
   "file_extension": ".py",
   "mimetype": "text/x-python",
   "name": "python",
   "nbconvert_exporter": "python",
   "pygments_lexer": "ipython3",
   "version": "3.6.9"
  }
 },
 "nbformat": 4,
 "nbformat_minor": 2
}
